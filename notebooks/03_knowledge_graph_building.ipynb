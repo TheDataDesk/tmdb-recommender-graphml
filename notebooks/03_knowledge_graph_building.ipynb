{
 "cells": [
  {
   "cell_type": "markdown",
   "id": "4ac3453f",
   "metadata": {},
   "source": [
    "# 03 - Knowledge Graph Building\n",
    "\n",
    "In this notebook, we convert the TMDB movie dataset into a structured knowledge graph using NetworkX.\n"
   ]
  },
  {
   "cell_type": "code",
   "execution_count": 1,
   "id": "03b83490",
   "metadata": {},
   "outputs": [],
   "source": [
    "import pandas as pd\n",
    "import networkx as nx"
   ]
  },
  {
   "cell_type": "code",
   "execution_count": 2,
   "id": "d68b414a",
   "metadata": {},
   "outputs": [],
   "source": [
    "# Load cleaned dataset\n",
    "df = pd.read_csv('../data/cleaned_tmdb_movies.csv')\n",
    "\n",
    "# Evaluate stringified lists\n",
    "df['genre_names'] = df['genre_names'].apply(eval)\n",
    "df['top_actors'] = df['top_actors'].apply(eval)\n"
   ]
  },
  {
   "cell_type": "code",
   "execution_count": 3,
   "id": "c3452a1e",
   "metadata": {},
   "outputs": [],
   "source": [
    "# create graph\n",
    "\n",
    "G = nx.MultiDiGraph()  # Directed graph with possible parallel edges\n"
   ]
  },
  {
   "cell_type": "code",
   "execution_count": 4,
   "id": "11fb6c68",
   "metadata": {},
   "outputs": [],
   "source": [
    "# Add Nodes and Edges\n",
    "for _, row in df.iterrows():\n",
    "    movie_id = row['id']\n",
    "    title = row['title_x']\n",
    "\n",
    "    # Add movie node\n",
    "    G.add_node(movie_id, type='movie', title=title)\n",
    "\n",
    "    # Add genres\n",
    "    for genre in row['genre_names']:\n",
    "        genre_id = f\"genre_{genre}\"\n",
    "        G.add_node(genre_id, type='genre', name=genre)\n",
    "        G.add_edge(movie_id, genre_id, relation='has_genre')\n",
    "\n",
    "    # Add actors\n",
    "    for actor in row['top_actors']:\n",
    "        actor_id = f\"actor_{actor}\"\n",
    "        G.add_node(actor_id, type='actor', name=actor)\n",
    "        G.add_edge(actor_id, movie_id, relation='acted_in')\n",
    "\n",
    "    # Add director\n",
    "    director = row['director']\n",
    "        # In case director was missing\n",
    "    if director:\n",
    "        director_id = f\"director_{director}\"\n",
    "        G.add_node(director_id, type='director', name=director)\n",
    "        G.add_edge(director_id, movie_id, relation='directed')\n"
   ]
  },
  {
   "cell_type": "code",
   "execution_count": 5,
   "id": "49e769bd",
   "metadata": {},
   "outputs": [],
   "source": [
    "# Save the Graph\n",
    "\n",
    "nx.write_graphml(G, \"../data/movie_knowledge_graph.graphml\")\n"
   ]
  },
  {
   "cell_type": "markdown",
   "id": "367ae622",
   "metadata": {},
   "source": [
    "# Visualization "
   ]
  },
  {
   "cell_type": "code",
   "execution_count": 42,
   "id": "5530144e",
   "metadata": {},
   "outputs": [],
   "source": [
    "import pandas as pd\n",
    "import networkx as nx\n",
    "import plotly.graph_objects as go\n",
    "import numpy as np\n",
    "\n",
    "# --- Target Director ---\n",
    "target_director = \"Christopher Nolan\"\n",
    "director_id = f\"director_{target_director}\"\n",
    "\n",
    "# --- Build subgraph ---\n",
    "movie_nodes = list(G.neighbors(director_id))\n",
    "subgraph_nodes = [director_id] + movie_nodes\n",
    "\n",
    "for movie_id in movie_nodes:\n",
    "    neighbors = list(G.neighbors(movie_id))\n",
    "    actors = [n for n in neighbors if G.nodes[n]['type'] == 'actor']\n",
    "    genres = [n for n in neighbors if G.nodes[n]['type'] == 'genre']\n",
    "    subgraph_nodes += actors[:1]  # Only top actor\n",
    "    subgraph_nodes += genres     # All genres\n",
    "\n",
    "subgraph_nodes = list(set(subgraph_nodes))\n",
    "subG = G.subgraph(subgraph_nodes)\n"
   ]
  },
  {
   "cell_type": "code",
   "execution_count": 43,
   "id": "56703851",
   "metadata": {},
   "outputs": [],
   "source": [
    "# --- Radial layout ---\n",
    "pos = {}\n",
    "angle_step = 2 * np.pi / len(movie_nodes)\n",
    "radius = 1\n",
    "\n",
    "pos[director_id] = (0, 0)\n",
    "for i, movie_id in enumerate(movie_nodes):\n",
    "    angle = i * angle_step\n",
    "    pos[movie_id] = (radius * np.cos(angle), radius * np.sin(angle))\n",
    "\n",
    "for node in subG.nodes():\n",
    "    if node not in pos:\n",
    "        pos[node] = (np.random.uniform(-2, 2), np.random.uniform(-2, 2))\n",
    "\n",
    "# --- Node attributes ---\n",
    "node_x, node_y = [], []\n",
    "node_text = []   # for hover\n",
    "label_text = []  # for visible labels\n",
    "node_color = []\n",
    "node_sizes = []\n",
    "\n",
    "for node in subG.nodes():\n",
    "    x, y = pos[node]\n",
    "    node_x.append(x)\n",
    "    node_y.append(y)\n",
    "\n",
    "    ntype = subG.nodes[node]['type']\n",
    "    label = subG.nodes[node].get('name') or subG.nodes[node].get('title') or node\n",
    "\n",
    "    # Movies\n",
    "    if ntype == 'movie':\n",
    "        row = df[df['title_x'] == label]\n",
    "        if not row.empty:\n",
    "            year = pd.to_datetime(row['release_date'].values[0]).year\n",
    "            rating = row['vote_average'].values[0]\n",
    "            runtime = row['runtime'].values[0]\n",
    "            hover = f\"MOVIE: {label}<br>Year: {year}<br>Rating: {rating}/10<br>Runtime: {runtime} min\"\n",
    "        else:\n",
    "            hover = f\"MOVIE: {label}\"\n",
    "        label_text.append(label)\n",
    "        node_color.append('skyblue')\n",
    "        node_sizes.append(12)\n",
    "\n",
    "    # Director\n",
    "    elif ntype == 'director':\n",
    "        hover = f\"DIRECTOR: {label}<br>Directed {len(movie_nodes)} movies\"\n",
    "        label_text.append(label)\n",
    "        node_color.append('lightgreen')\n",
    "        node_sizes.append(20)\n",
    "\n",
    "    # Genre\n",
    "    elif ntype == 'genre':\n",
    "        hover = f\"GENRE: {label}\"\n",
    "        label_text.append(\"\")\n",
    "        node_color.append('violet')\n",
    "        node_sizes.append(10)\n",
    "\n",
    "    # Actor\n",
    "    elif ntype == 'actor':\n",
    "        hover = f\"ACTOR: {label}\"\n",
    "        label_text.append(\"\")\n",
    "        node_color.append('orange')\n",
    "        node_sizes.append(10)\n",
    "\n",
    "    else:\n",
    "        hover = f\"{ntype.upper()}: {label}\"\n",
    "        label_text.append(\"\")\n",
    "        node_color.append('gray')\n",
    "        node_sizes.append(8)\n",
    "\n",
    "    node_text.append(hover)\n",
    "\n",
    "# --- Edges ---\n",
    "edge_x, edge_y = [], []\n",
    "for edge in subG.edges():\n",
    "    x0, y0 = pos[edge[0]]\n",
    "    x1, y1 = pos[edge[1]]\n",
    "    edge_x += [x0, x1, None]\n",
    "    edge_y += [y0, y1, None]\n",
    "\n",
    "edge_trace = go.Scatter(\n",
    "    x=edge_x, y=edge_y,\n",
    "    line=dict(width=1, color='gray'),\n",
    "    hoverinfo='none',\n",
    "    mode='lines'\n",
    ")\n",
    "\n",
    "# --- Node trace ---\n",
    "node_trace = go.Scatter(\n",
    "    x=node_x, y=node_y,\n",
    "    mode='markers+text',\n",
    "    text=label_text,         # Only show director/movie text\n",
    "    hovertext=node_text,     # Hover details for all nodes\n",
    "    hoverinfo='text',\n",
    "    textposition=\"top center\",\n",
    "    marker=dict(\n",
    "        size=node_sizes,\n",
    "        color=node_color,\n",
    "        line_width=1\n",
    "    )\n",
    ")"
   ]
  },
  {
   "cell_type": "code",
   "execution_count": 44,
   "id": "faabebe6",
   "metadata": {},
   "outputs": [
    {
     "data": {
      "application/vnd.plotly.v1+json": {
       "config": {
        "plotlyServerURL": "https://plot.ly"
       },
       "data": [
        {
         "hoverinfo": "none",
         "line": {
          "color": "gray",
          "width": 1
         },
         "mode": "lines",
         "type": "scatter",
         "x": [
          -0.7071067811865477,
          -1.149195995648129,
          null,
          -0.7071067811865477,
          -1.8118834642046524,
          null,
          -0.7071067811865477,
          0.7391905461846573,
          null,
          0,
          1,
          null,
          0,
          0.7071067811865476,
          null,
          0,
          6.123233995736766e-17,
          null,
          0,
          -0.7071067811865475,
          null,
          0,
          -1,
          null,
          0,
          -0.7071067811865477,
          null,
          0,
          -1.8369701987210297e-16,
          null,
          0,
          0.7071067811865474,
          null,
          1,
          0.2608997110857154,
          null,
          1,
          -1.149195995648129,
          null,
          1,
          -0.10039355105793835,
          null,
          1,
          0.7391905461846573,
          null,
          -1.8369701987210297e-16,
          -0.10039355105793835,
          null,
          -1.8369701987210297e-16,
          -1.8118834642046524,
          null,
          -1.8369701987210297e-16,
          0.7391905461846573,
          null,
          -0.7071067811865475,
          0.2608997110857154,
          null,
          -0.7071067811865475,
          0.7391905461846573,
          null,
          -0.7071067811865475,
          -1.9777642393790003,
          null,
          -0.7071067811865475,
          -1.8118834642046524,
          null,
          -0.7071067811865475,
          -1.6688697537344712,
          null,
          0.7071067811865474,
          -1.8118834642046524,
          null,
          0.7071067811865474,
          0.7391905461846573,
          null,
          6.123233995736766e-17,
          -1.6688697537344712,
          null,
          6.123233995736766e-17,
          -0.10039355105793835,
          null,
          6.123233995736766e-17,
          -1.9777642393790003,
          null,
          -1,
          0.2608997110857154,
          null,
          -1,
          -1.149195995648129,
          null,
          -1,
          -0.10039355105793835,
          null,
          0.7071067811865476,
          -0.10039355105793835,
          null,
          0.7071067811865476,
          0.2608997110857154,
          null,
          0.7071067811865476,
          -1.149195995648129,
          null,
          0.7071067811865476,
          0.7391905461846573,
          null
         ],
         "y": [
          -0.7071067811865475,
          1.0240691214360846,
          null,
          -0.7071067811865475,
          0.3703530666904644,
          null,
          -0.7071067811865475,
          -1.0680613837178274,
          null,
          0,
          0,
          null,
          0,
          0.7071067811865475,
          null,
          0,
          1,
          null,
          0,
          0.7071067811865476,
          null,
          0,
          1.2246467991473532e-16,
          null,
          0,
          -0.7071067811865475,
          null,
          0,
          -1,
          null,
          0,
          -0.7071067811865477,
          null,
          0,
          1.0662053628609724,
          null,
          0,
          1.0240691214360846,
          null,
          0,
          -0.07092318645296736,
          null,
          0,
          -1.0680613837178274,
          null,
          -1,
          -0.07092318645296736,
          null,
          -1,
          0.3703530666904644,
          null,
          -1,
          -1.0680613837178274,
          null,
          0.7071067811865476,
          1.0662053628609724,
          null,
          0.7071067811865476,
          -1.0680613837178274,
          null,
          0.7071067811865476,
          -0.15394582937839552,
          null,
          0.7071067811865476,
          0.3703530666904644,
          null,
          0.7071067811865476,
          -0.8980103894251354,
          null,
          -0.7071067811865477,
          0.3703530666904644,
          null,
          -0.7071067811865477,
          -1.0680613837178274,
          null,
          1,
          -0.8980103894251354,
          null,
          1,
          -0.07092318645296736,
          null,
          1,
          -0.15394582937839552,
          null,
          1.2246467991473532e-16,
          1.0662053628609724,
          null,
          1.2246467991473532e-16,
          1.0240691214360846,
          null,
          1.2246467991473532e-16,
          -0.07092318645296736,
          null,
          0.7071067811865475,
          -0.07092318645296736,
          null,
          0.7071067811865475,
          1.0662053628609724,
          null,
          0.7071067811865475,
          1.0240691214360846,
          null,
          0.7071067811865475,
          -1.0680613837178274,
          null
         ]
        },
        {
         "hoverinfo": "text",
         "hovertext": [
          "MOVIE: Insomnia<br>Year: 2002<br>Rating: 6.8/10<br>Runtime: 118.0 min",
          "DIRECTOR: Christopher Nolan<br>Directed 8 movies",
          "MOVIE: The Dark Knight Rises<br>Year: 2012<br>Rating: 7.6/10<br>Runtime: 165.0 min",
          "GENRE: Science Fiction",
          "MOVIE: The Prestige<br>Year: 2006<br>Rating: 8.0/10<br>Runtime: 130.0 min",
          "MOVIE: Inception<br>Year: 2010<br>Rating: 8.1/10<br>Runtime: 148.0 min",
          "GENRE: Thriller",
          "MOVIE: Memento<br>Year: 2000<br>Rating: 8.1/10<br>Runtime: 113.0 min",
          "MOVIE: Interstellar<br>Year: 2014<br>Rating: 8.1/10<br>Runtime: 169.0 min",
          "MOVIE: Batman Begins<br>Year: 2005<br>Rating: 7.5/10<br>Runtime: 140.0 min",
          "GENRE: Drama",
          "GENRE: Mystery",
          "GENRE: Action",
          "GENRE: Adventure",
          "GENRE: Crime",
          "MOVIE: The Dark Knight<br>Year: 2008<br>Rating: 8.2/10<br>Runtime: 152.0 min"
         ],
         "marker": {
          "color": [
           "skyblue",
           "lightgreen",
           "skyblue",
           "violet",
           "skyblue",
           "skyblue",
           "violet",
           "skyblue",
           "skyblue",
           "skyblue",
           "violet",
           "violet",
           "violet",
           "violet",
           "violet",
           "skyblue"
          ],
          "line": {
           "width": 1
          },
          "size": [
           12,
           20,
           12,
           10,
           12,
           12,
           10,
           12,
           12,
           12,
           10,
           10,
           10,
           10,
           10,
           12
          ]
         },
         "mode": "markers+text",
         "text": [
          "Insomnia",
          "Christopher Nolan",
          "The Dark Knight Rises",
          "",
          "The Prestige",
          "Inception",
          "",
          "Memento",
          "Interstellar",
          "Batman Begins",
          "",
          "",
          "",
          "",
          "",
          "The Dark Knight"
         ],
         "textposition": "top center",
         "type": "scatter",
         "x": [
          -0.7071067811865477,
          0,
          1,
          -1.9777642393790003,
          -1.8369701987210297e-16,
          -0.7071067811865475,
          0.7391905461846573,
          0.7071067811865474,
          6.123233995736766e-17,
          -1,
          -0.10039355105793835,
          -1.8118834642046524,
          0.2608997110857154,
          -1.6688697537344712,
          -1.149195995648129,
          0.7071067811865476
         ],
         "y": [
          -0.7071067811865475,
          0,
          0,
          -0.15394582937839552,
          -1,
          0.7071067811865476,
          -1.0680613837178274,
          -0.7071067811865477,
          1,
          1.2246467991473532e-16,
          -0.07092318645296736,
          0.3703530666904644,
          1.0662053628609724,
          -0.8980103894251354,
          1.0240691214360846,
          0.7071067811865475
         ]
        }
       ],
       "layout": {
        "hovermode": "closest",
        "margin": {
         "b": 20,
         "l": 5,
         "r": 5,
         "t": 60
        },
        "plot_bgcolor": "white",
        "showlegend": false,
        "template": {
         "data": {
          "bar": [
           {
            "error_x": {
             "color": "#2a3f5f"
            },
            "error_y": {
             "color": "#2a3f5f"
            },
            "marker": {
             "line": {
              "color": "#E5ECF6",
              "width": 0.5
             },
             "pattern": {
              "fillmode": "overlay",
              "size": 10,
              "solidity": 0.2
             }
            },
            "type": "bar"
           }
          ],
          "barpolar": [
           {
            "marker": {
             "line": {
              "color": "#E5ECF6",
              "width": 0.5
             },
             "pattern": {
              "fillmode": "overlay",
              "size": 10,
              "solidity": 0.2
             }
            },
            "type": "barpolar"
           }
          ],
          "carpet": [
           {
            "aaxis": {
             "endlinecolor": "#2a3f5f",
             "gridcolor": "white",
             "linecolor": "white",
             "minorgridcolor": "white",
             "startlinecolor": "#2a3f5f"
            },
            "baxis": {
             "endlinecolor": "#2a3f5f",
             "gridcolor": "white",
             "linecolor": "white",
             "minorgridcolor": "white",
             "startlinecolor": "#2a3f5f"
            },
            "type": "carpet"
           }
          ],
          "choropleth": [
           {
            "colorbar": {
             "outlinewidth": 0,
             "ticks": ""
            },
            "type": "choropleth"
           }
          ],
          "contour": [
           {
            "colorbar": {
             "outlinewidth": 0,
             "ticks": ""
            },
            "colorscale": [
             [
              0,
              "#0d0887"
             ],
             [
              0.1111111111111111,
              "#46039f"
             ],
             [
              0.2222222222222222,
              "#7201a8"
             ],
             [
              0.3333333333333333,
              "#9c179e"
             ],
             [
              0.4444444444444444,
              "#bd3786"
             ],
             [
              0.5555555555555556,
              "#d8576b"
             ],
             [
              0.6666666666666666,
              "#ed7953"
             ],
             [
              0.7777777777777778,
              "#fb9f3a"
             ],
             [
              0.8888888888888888,
              "#fdca26"
             ],
             [
              1,
              "#f0f921"
             ]
            ],
            "type": "contour"
           }
          ],
          "contourcarpet": [
           {
            "colorbar": {
             "outlinewidth": 0,
             "ticks": ""
            },
            "type": "contourcarpet"
           }
          ],
          "heatmap": [
           {
            "colorbar": {
             "outlinewidth": 0,
             "ticks": ""
            },
            "colorscale": [
             [
              0,
              "#0d0887"
             ],
             [
              0.1111111111111111,
              "#46039f"
             ],
             [
              0.2222222222222222,
              "#7201a8"
             ],
             [
              0.3333333333333333,
              "#9c179e"
             ],
             [
              0.4444444444444444,
              "#bd3786"
             ],
             [
              0.5555555555555556,
              "#d8576b"
             ],
             [
              0.6666666666666666,
              "#ed7953"
             ],
             [
              0.7777777777777778,
              "#fb9f3a"
             ],
             [
              0.8888888888888888,
              "#fdca26"
             ],
             [
              1,
              "#f0f921"
             ]
            ],
            "type": "heatmap"
           }
          ],
          "histogram": [
           {
            "marker": {
             "pattern": {
              "fillmode": "overlay",
              "size": 10,
              "solidity": 0.2
             }
            },
            "type": "histogram"
           }
          ],
          "histogram2d": [
           {
            "colorbar": {
             "outlinewidth": 0,
             "ticks": ""
            },
            "colorscale": [
             [
              0,
              "#0d0887"
             ],
             [
              0.1111111111111111,
              "#46039f"
             ],
             [
              0.2222222222222222,
              "#7201a8"
             ],
             [
              0.3333333333333333,
              "#9c179e"
             ],
             [
              0.4444444444444444,
              "#bd3786"
             ],
             [
              0.5555555555555556,
              "#d8576b"
             ],
             [
              0.6666666666666666,
              "#ed7953"
             ],
             [
              0.7777777777777778,
              "#fb9f3a"
             ],
             [
              0.8888888888888888,
              "#fdca26"
             ],
             [
              1,
              "#f0f921"
             ]
            ],
            "type": "histogram2d"
           }
          ],
          "histogram2dcontour": [
           {
            "colorbar": {
             "outlinewidth": 0,
             "ticks": ""
            },
            "colorscale": [
             [
              0,
              "#0d0887"
             ],
             [
              0.1111111111111111,
              "#46039f"
             ],
             [
              0.2222222222222222,
              "#7201a8"
             ],
             [
              0.3333333333333333,
              "#9c179e"
             ],
             [
              0.4444444444444444,
              "#bd3786"
             ],
             [
              0.5555555555555556,
              "#d8576b"
             ],
             [
              0.6666666666666666,
              "#ed7953"
             ],
             [
              0.7777777777777778,
              "#fb9f3a"
             ],
             [
              0.8888888888888888,
              "#fdca26"
             ],
             [
              1,
              "#f0f921"
             ]
            ],
            "type": "histogram2dcontour"
           }
          ],
          "mesh3d": [
           {
            "colorbar": {
             "outlinewidth": 0,
             "ticks": ""
            },
            "type": "mesh3d"
           }
          ],
          "parcoords": [
           {
            "line": {
             "colorbar": {
              "outlinewidth": 0,
              "ticks": ""
             }
            },
            "type": "parcoords"
           }
          ],
          "pie": [
           {
            "automargin": true,
            "type": "pie"
           }
          ],
          "scatter": [
           {
            "fillpattern": {
             "fillmode": "overlay",
             "size": 10,
             "solidity": 0.2
            },
            "type": "scatter"
           }
          ],
          "scatter3d": [
           {
            "line": {
             "colorbar": {
              "outlinewidth": 0,
              "ticks": ""
             }
            },
            "marker": {
             "colorbar": {
              "outlinewidth": 0,
              "ticks": ""
             }
            },
            "type": "scatter3d"
           }
          ],
          "scattercarpet": [
           {
            "marker": {
             "colorbar": {
              "outlinewidth": 0,
              "ticks": ""
             }
            },
            "type": "scattercarpet"
           }
          ],
          "scattergeo": [
           {
            "marker": {
             "colorbar": {
              "outlinewidth": 0,
              "ticks": ""
             }
            },
            "type": "scattergeo"
           }
          ],
          "scattergl": [
           {
            "marker": {
             "colorbar": {
              "outlinewidth": 0,
              "ticks": ""
             }
            },
            "type": "scattergl"
           }
          ],
          "scattermap": [
           {
            "marker": {
             "colorbar": {
              "outlinewidth": 0,
              "ticks": ""
             }
            },
            "type": "scattermap"
           }
          ],
          "scattermapbox": [
           {
            "marker": {
             "colorbar": {
              "outlinewidth": 0,
              "ticks": ""
             }
            },
            "type": "scattermapbox"
           }
          ],
          "scatterpolar": [
           {
            "marker": {
             "colorbar": {
              "outlinewidth": 0,
              "ticks": ""
             }
            },
            "type": "scatterpolar"
           }
          ],
          "scatterpolargl": [
           {
            "marker": {
             "colorbar": {
              "outlinewidth": 0,
              "ticks": ""
             }
            },
            "type": "scatterpolargl"
           }
          ],
          "scatterternary": [
           {
            "marker": {
             "colorbar": {
              "outlinewidth": 0,
              "ticks": ""
             }
            },
            "type": "scatterternary"
           }
          ],
          "surface": [
           {
            "colorbar": {
             "outlinewidth": 0,
             "ticks": ""
            },
            "colorscale": [
             [
              0,
              "#0d0887"
             ],
             [
              0.1111111111111111,
              "#46039f"
             ],
             [
              0.2222222222222222,
              "#7201a8"
             ],
             [
              0.3333333333333333,
              "#9c179e"
             ],
             [
              0.4444444444444444,
              "#bd3786"
             ],
             [
              0.5555555555555556,
              "#d8576b"
             ],
             [
              0.6666666666666666,
              "#ed7953"
             ],
             [
              0.7777777777777778,
              "#fb9f3a"
             ],
             [
              0.8888888888888888,
              "#fdca26"
             ],
             [
              1,
              "#f0f921"
             ]
            ],
            "type": "surface"
           }
          ],
          "table": [
           {
            "cells": {
             "fill": {
              "color": "#EBF0F8"
             },
             "line": {
              "color": "white"
             }
            },
            "header": {
             "fill": {
              "color": "#C8D4E3"
             },
             "line": {
              "color": "white"
             }
            },
            "type": "table"
           }
          ]
         },
         "layout": {
          "annotationdefaults": {
           "arrowcolor": "#2a3f5f",
           "arrowhead": 0,
           "arrowwidth": 1
          },
          "autotypenumbers": "strict",
          "coloraxis": {
           "colorbar": {
            "outlinewidth": 0,
            "ticks": ""
           }
          },
          "colorscale": {
           "diverging": [
            [
             0,
             "#8e0152"
            ],
            [
             0.1,
             "#c51b7d"
            ],
            [
             0.2,
             "#de77ae"
            ],
            [
             0.3,
             "#f1b6da"
            ],
            [
             0.4,
             "#fde0ef"
            ],
            [
             0.5,
             "#f7f7f7"
            ],
            [
             0.6,
             "#e6f5d0"
            ],
            [
             0.7,
             "#b8e186"
            ],
            [
             0.8,
             "#7fbc41"
            ],
            [
             0.9,
             "#4d9221"
            ],
            [
             1,
             "#276419"
            ]
           ],
           "sequential": [
            [
             0,
             "#0d0887"
            ],
            [
             0.1111111111111111,
             "#46039f"
            ],
            [
             0.2222222222222222,
             "#7201a8"
            ],
            [
             0.3333333333333333,
             "#9c179e"
            ],
            [
             0.4444444444444444,
             "#bd3786"
            ],
            [
             0.5555555555555556,
             "#d8576b"
            ],
            [
             0.6666666666666666,
             "#ed7953"
            ],
            [
             0.7777777777777778,
             "#fb9f3a"
            ],
            [
             0.8888888888888888,
             "#fdca26"
            ],
            [
             1,
             "#f0f921"
            ]
           ],
           "sequentialminus": [
            [
             0,
             "#0d0887"
            ],
            [
             0.1111111111111111,
             "#46039f"
            ],
            [
             0.2222222222222222,
             "#7201a8"
            ],
            [
             0.3333333333333333,
             "#9c179e"
            ],
            [
             0.4444444444444444,
             "#bd3786"
            ],
            [
             0.5555555555555556,
             "#d8576b"
            ],
            [
             0.6666666666666666,
             "#ed7953"
            ],
            [
             0.7777777777777778,
             "#fb9f3a"
            ],
            [
             0.8888888888888888,
             "#fdca26"
            ],
            [
             1,
             "#f0f921"
            ]
           ]
          },
          "colorway": [
           "#636efa",
           "#EF553B",
           "#00cc96",
           "#ab63fa",
           "#FFA15A",
           "#19d3f3",
           "#FF6692",
           "#B6E880",
           "#FF97FF",
           "#FECB52"
          ],
          "font": {
           "color": "#2a3f5f"
          },
          "geo": {
           "bgcolor": "white",
           "lakecolor": "white",
           "landcolor": "#E5ECF6",
           "showlakes": true,
           "showland": true,
           "subunitcolor": "white"
          },
          "hoverlabel": {
           "align": "left"
          },
          "hovermode": "closest",
          "mapbox": {
           "style": "light"
          },
          "paper_bgcolor": "white",
          "plot_bgcolor": "#E5ECF6",
          "polar": {
           "angularaxis": {
            "gridcolor": "white",
            "linecolor": "white",
            "ticks": ""
           },
           "bgcolor": "#E5ECF6",
           "radialaxis": {
            "gridcolor": "white",
            "linecolor": "white",
            "ticks": ""
           }
          },
          "scene": {
           "xaxis": {
            "backgroundcolor": "#E5ECF6",
            "gridcolor": "white",
            "gridwidth": 2,
            "linecolor": "white",
            "showbackground": true,
            "ticks": "",
            "zerolinecolor": "white"
           },
           "yaxis": {
            "backgroundcolor": "#E5ECF6",
            "gridcolor": "white",
            "gridwidth": 2,
            "linecolor": "white",
            "showbackground": true,
            "ticks": "",
            "zerolinecolor": "white"
           },
           "zaxis": {
            "backgroundcolor": "#E5ECF6",
            "gridcolor": "white",
            "gridwidth": 2,
            "linecolor": "white",
            "showbackground": true,
            "ticks": "",
            "zerolinecolor": "white"
           }
          },
          "shapedefaults": {
           "line": {
            "color": "#2a3f5f"
           }
          },
          "ternary": {
           "aaxis": {
            "gridcolor": "white",
            "linecolor": "white",
            "ticks": ""
           },
           "baxis": {
            "gridcolor": "white",
            "linecolor": "white",
            "ticks": ""
           },
           "bgcolor": "#E5ECF6",
           "caxis": {
            "gridcolor": "white",
            "linecolor": "white",
            "ticks": ""
           }
          },
          "title": {
           "x": 0.05
          },
          "xaxis": {
           "automargin": true,
           "gridcolor": "white",
           "linecolor": "white",
           "ticks": "",
           "title": {
            "standoff": 15
           },
           "zerolinecolor": "white",
           "zerolinewidth": 2
          },
          "yaxis": {
           "automargin": true,
           "gridcolor": "white",
           "linecolor": "white",
           "ticks": "",
           "title": {
            "standoff": 15
           },
           "zerolinecolor": "white",
           "zerolinewidth": 2
          }
         }
        },
        "title": {
         "font": {
          "size": 18
         },
         "text": "Knowledge Graph: Christopher Nolan"
        },
        "xaxis": {
         "showgrid": false,
         "zeroline": false
        },
        "yaxis": {
         "showgrid": false,
         "zeroline": false
        }
       }
      }
     },
     "metadata": {},
     "output_type": "display_data"
    }
   ],
   "source": [
    "# --- Layout and Show ---\n",
    "fig = go.Figure(data=[edge_trace, node_trace],\n",
    "                layout=go.Layout(\n",
    "                    title=dict(\n",
    "                        text=f\"Knowledge Graph: {target_director}\",\n",
    "                        font=dict(size=18)\n",
    "                    ),\n",
    "                    showlegend=False,\n",
    "                    hovermode='closest',\n",
    "                    margin=dict(b=20, l=5, r=5, t=60),\n",
    "                    xaxis=dict(showgrid=False, zeroline=False),\n",
    "                    yaxis=dict(showgrid=False, zeroline=False),\n",
    "                    plot_bgcolor='white'\n",
    "                ))\n",
    "\n",
    "fig.show()"
   ]
  }
 ],
 "metadata": {
  "kernelspec": {
   "display_name": "venv",
   "language": "python",
   "name": "python3"
  },
  "language_info": {
   "codemirror_mode": {
    "name": "ipython",
    "version": 3
   },
   "file_extension": ".py",
   "mimetype": "text/x-python",
   "name": "python",
   "nbconvert_exporter": "python",
   "pygments_lexer": "ipython3",
   "version": "3.13.3"
  }
 },
 "nbformat": 4,
 "nbformat_minor": 5
}

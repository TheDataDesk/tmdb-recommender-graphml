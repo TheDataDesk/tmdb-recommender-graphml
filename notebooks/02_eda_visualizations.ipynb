{
 "cells": [
  {
   "cell_type": "markdown",
   "id": "d05bcf59",
   "metadata": {},
   "source": [
    "# 02 - Exploratory Data Analysis\n",
    "\n",
    "This notebook explores trends and patterns in the cleaned TMDB dataset.\n"
   ]
  },
  {
   "cell_type": "markdown",
   "id": "23ae2169",
   "metadata": {},
   "source": [
    "# Load Data "
   ]
  },
  {
   "cell_type": "code",
   "execution_count": 37,
   "id": "93fe0550",
   "metadata": {},
   "outputs": [],
   "source": [
    "import pandas as pd\n",
    "from collections import Counter\n",
    "import plotly.express as px\n",
    "import seaborn as sns\n",
    "import plotly.graph_objects as go\n",
    "import nbformat\n",
    "import numpy as np"
   ]
  },
  {
   "cell_type": "code",
   "execution_count": 38,
   "id": "b176d87f",
   "metadata": {},
   "outputs": [],
   "source": [
    "# Load cleaned data\n",
    "df = pd.read_csv('../data/cleaned_tmdb_movies.csv')\n",
    "\n",
    "# Set visual style\n",
    "sns.set(style=\"whitegrid\")\n"
   ]
  },
  {
   "cell_type": "markdown",
   "id": "d1499aeb",
   "metadata": {},
   "source": [
    "# Top Genres"
   ]
  },
  {
   "cell_type": "code",
   "execution_count": 47,
   "id": "90b1f10b",
   "metadata": {},
   "outputs": [
    {
     "data": {
      "application/vnd.plotly.v1+json": {
       "config": {
        "plotlyServerURL": "https://plot.ly"
       },
       "data": [
        {
         "hovertemplate": "Genre=%{x}<br>Count=%{y}<extra></extra>",
         "legendgroup": "",
         "marker": {
          "color": "#636efa",
          "pattern": {
           "shape": ""
          }
         },
         "name": "",
         "orientation": "v",
         "showlegend": false,
         "textposition": "auto",
         "type": "bar",
         "x": [
          "Drama",
          "Comedy",
          "Thriller",
          "Action",
          "Romance",
          "Adventure",
          "Crime",
          "Science Fiction",
          "Horror",
          "Family"
         ],
         "xaxis": "x",
         "y": {
          "bdata": "+Qi6BvoEggR+AxYDuAIXAgcCAQI=",
          "dtype": "i2"
         },
         "yaxis": "y"
        }
       ],
       "layout": {
        "barmode": "relative",
        "legend": {
         "tracegroupgap": 0
        },
        "template": {
         "data": {
          "bar": [
           {
            "error_x": {
             "color": "#2a3f5f"
            },
            "error_y": {
             "color": "#2a3f5f"
            },
            "marker": {
             "line": {
              "color": "#E5ECF6",
              "width": 0.5
             },
             "pattern": {
              "fillmode": "overlay",
              "size": 10,
              "solidity": 0.2
             }
            },
            "type": "bar"
           }
          ],
          "barpolar": [
           {
            "marker": {
             "line": {
              "color": "#E5ECF6",
              "width": 0.5
             },
             "pattern": {
              "fillmode": "overlay",
              "size": 10,
              "solidity": 0.2
             }
            },
            "type": "barpolar"
           }
          ],
          "carpet": [
           {
            "aaxis": {
             "endlinecolor": "#2a3f5f",
             "gridcolor": "white",
             "linecolor": "white",
             "minorgridcolor": "white",
             "startlinecolor": "#2a3f5f"
            },
            "baxis": {
             "endlinecolor": "#2a3f5f",
             "gridcolor": "white",
             "linecolor": "white",
             "minorgridcolor": "white",
             "startlinecolor": "#2a3f5f"
            },
            "type": "carpet"
           }
          ],
          "choropleth": [
           {
            "colorbar": {
             "outlinewidth": 0,
             "ticks": ""
            },
            "type": "choropleth"
           }
          ],
          "contour": [
           {
            "colorbar": {
             "outlinewidth": 0,
             "ticks": ""
            },
            "colorscale": [
             [
              0,
              "#0d0887"
             ],
             [
              0.1111111111111111,
              "#46039f"
             ],
             [
              0.2222222222222222,
              "#7201a8"
             ],
             [
              0.3333333333333333,
              "#9c179e"
             ],
             [
              0.4444444444444444,
              "#bd3786"
             ],
             [
              0.5555555555555556,
              "#d8576b"
             ],
             [
              0.6666666666666666,
              "#ed7953"
             ],
             [
              0.7777777777777778,
              "#fb9f3a"
             ],
             [
              0.8888888888888888,
              "#fdca26"
             ],
             [
              1,
              "#f0f921"
             ]
            ],
            "type": "contour"
           }
          ],
          "contourcarpet": [
           {
            "colorbar": {
             "outlinewidth": 0,
             "ticks": ""
            },
            "type": "contourcarpet"
           }
          ],
          "heatmap": [
           {
            "colorbar": {
             "outlinewidth": 0,
             "ticks": ""
            },
            "colorscale": [
             [
              0,
              "#0d0887"
             ],
             [
              0.1111111111111111,
              "#46039f"
             ],
             [
              0.2222222222222222,
              "#7201a8"
             ],
             [
              0.3333333333333333,
              "#9c179e"
             ],
             [
              0.4444444444444444,
              "#bd3786"
             ],
             [
              0.5555555555555556,
              "#d8576b"
             ],
             [
              0.6666666666666666,
              "#ed7953"
             ],
             [
              0.7777777777777778,
              "#fb9f3a"
             ],
             [
              0.8888888888888888,
              "#fdca26"
             ],
             [
              1,
              "#f0f921"
             ]
            ],
            "type": "heatmap"
           }
          ],
          "histogram": [
           {
            "marker": {
             "pattern": {
              "fillmode": "overlay",
              "size": 10,
              "solidity": 0.2
             }
            },
            "type": "histogram"
           }
          ],
          "histogram2d": [
           {
            "colorbar": {
             "outlinewidth": 0,
             "ticks": ""
            },
            "colorscale": [
             [
              0,
              "#0d0887"
             ],
             [
              0.1111111111111111,
              "#46039f"
             ],
             [
              0.2222222222222222,
              "#7201a8"
             ],
             [
              0.3333333333333333,
              "#9c179e"
             ],
             [
              0.4444444444444444,
              "#bd3786"
             ],
             [
              0.5555555555555556,
              "#d8576b"
             ],
             [
              0.6666666666666666,
              "#ed7953"
             ],
             [
              0.7777777777777778,
              "#fb9f3a"
             ],
             [
              0.8888888888888888,
              "#fdca26"
             ],
             [
              1,
              "#f0f921"
             ]
            ],
            "type": "histogram2d"
           }
          ],
          "histogram2dcontour": [
           {
            "colorbar": {
             "outlinewidth": 0,
             "ticks": ""
            },
            "colorscale": [
             [
              0,
              "#0d0887"
             ],
             [
              0.1111111111111111,
              "#46039f"
             ],
             [
              0.2222222222222222,
              "#7201a8"
             ],
             [
              0.3333333333333333,
              "#9c179e"
             ],
             [
              0.4444444444444444,
              "#bd3786"
             ],
             [
              0.5555555555555556,
              "#d8576b"
             ],
             [
              0.6666666666666666,
              "#ed7953"
             ],
             [
              0.7777777777777778,
              "#fb9f3a"
             ],
             [
              0.8888888888888888,
              "#fdca26"
             ],
             [
              1,
              "#f0f921"
             ]
            ],
            "type": "histogram2dcontour"
           }
          ],
          "mesh3d": [
           {
            "colorbar": {
             "outlinewidth": 0,
             "ticks": ""
            },
            "type": "mesh3d"
           }
          ],
          "parcoords": [
           {
            "line": {
             "colorbar": {
              "outlinewidth": 0,
              "ticks": ""
             }
            },
            "type": "parcoords"
           }
          ],
          "pie": [
           {
            "automargin": true,
            "type": "pie"
           }
          ],
          "scatter": [
           {
            "fillpattern": {
             "fillmode": "overlay",
             "size": 10,
             "solidity": 0.2
            },
            "type": "scatter"
           }
          ],
          "scatter3d": [
           {
            "line": {
             "colorbar": {
              "outlinewidth": 0,
              "ticks": ""
             }
            },
            "marker": {
             "colorbar": {
              "outlinewidth": 0,
              "ticks": ""
             }
            },
            "type": "scatter3d"
           }
          ],
          "scattercarpet": [
           {
            "marker": {
             "colorbar": {
              "outlinewidth": 0,
              "ticks": ""
             }
            },
            "type": "scattercarpet"
           }
          ],
          "scattergeo": [
           {
            "marker": {
             "colorbar": {
              "outlinewidth": 0,
              "ticks": ""
             }
            },
            "type": "scattergeo"
           }
          ],
          "scattergl": [
           {
            "marker": {
             "colorbar": {
              "outlinewidth": 0,
              "ticks": ""
             }
            },
            "type": "scattergl"
           }
          ],
          "scattermap": [
           {
            "marker": {
             "colorbar": {
              "outlinewidth": 0,
              "ticks": ""
             }
            },
            "type": "scattermap"
           }
          ],
          "scattermapbox": [
           {
            "marker": {
             "colorbar": {
              "outlinewidth": 0,
              "ticks": ""
             }
            },
            "type": "scattermapbox"
           }
          ],
          "scatterpolar": [
           {
            "marker": {
             "colorbar": {
              "outlinewidth": 0,
              "ticks": ""
             }
            },
            "type": "scatterpolar"
           }
          ],
          "scatterpolargl": [
           {
            "marker": {
             "colorbar": {
              "outlinewidth": 0,
              "ticks": ""
             }
            },
            "type": "scatterpolargl"
           }
          ],
          "scatterternary": [
           {
            "marker": {
             "colorbar": {
              "outlinewidth": 0,
              "ticks": ""
             }
            },
            "type": "scatterternary"
           }
          ],
          "surface": [
           {
            "colorbar": {
             "outlinewidth": 0,
             "ticks": ""
            },
            "colorscale": [
             [
              0,
              "#0d0887"
             ],
             [
              0.1111111111111111,
              "#46039f"
             ],
             [
              0.2222222222222222,
              "#7201a8"
             ],
             [
              0.3333333333333333,
              "#9c179e"
             ],
             [
              0.4444444444444444,
              "#bd3786"
             ],
             [
              0.5555555555555556,
              "#d8576b"
             ],
             [
              0.6666666666666666,
              "#ed7953"
             ],
             [
              0.7777777777777778,
              "#fb9f3a"
             ],
             [
              0.8888888888888888,
              "#fdca26"
             ],
             [
              1,
              "#f0f921"
             ]
            ],
            "type": "surface"
           }
          ],
          "table": [
           {
            "cells": {
             "fill": {
              "color": "#EBF0F8"
             },
             "line": {
              "color": "white"
             }
            },
            "header": {
             "fill": {
              "color": "#C8D4E3"
             },
             "line": {
              "color": "white"
             }
            },
            "type": "table"
           }
          ]
         },
         "layout": {
          "annotationdefaults": {
           "arrowcolor": "#2a3f5f",
           "arrowhead": 0,
           "arrowwidth": 1
          },
          "autotypenumbers": "strict",
          "coloraxis": {
           "colorbar": {
            "outlinewidth": 0,
            "ticks": ""
           }
          },
          "colorscale": {
           "diverging": [
            [
             0,
             "#8e0152"
            ],
            [
             0.1,
             "#c51b7d"
            ],
            [
             0.2,
             "#de77ae"
            ],
            [
             0.3,
             "#f1b6da"
            ],
            [
             0.4,
             "#fde0ef"
            ],
            [
             0.5,
             "#f7f7f7"
            ],
            [
             0.6,
             "#e6f5d0"
            ],
            [
             0.7,
             "#b8e186"
            ],
            [
             0.8,
             "#7fbc41"
            ],
            [
             0.9,
             "#4d9221"
            ],
            [
             1,
             "#276419"
            ]
           ],
           "sequential": [
            [
             0,
             "#0d0887"
            ],
            [
             0.1111111111111111,
             "#46039f"
            ],
            [
             0.2222222222222222,
             "#7201a8"
            ],
            [
             0.3333333333333333,
             "#9c179e"
            ],
            [
             0.4444444444444444,
             "#bd3786"
            ],
            [
             0.5555555555555556,
             "#d8576b"
            ],
            [
             0.6666666666666666,
             "#ed7953"
            ],
            [
             0.7777777777777778,
             "#fb9f3a"
            ],
            [
             0.8888888888888888,
             "#fdca26"
            ],
            [
             1,
             "#f0f921"
            ]
           ],
           "sequentialminus": [
            [
             0,
             "#0d0887"
            ],
            [
             0.1111111111111111,
             "#46039f"
            ],
            [
             0.2222222222222222,
             "#7201a8"
            ],
            [
             0.3333333333333333,
             "#9c179e"
            ],
            [
             0.4444444444444444,
             "#bd3786"
            ],
            [
             0.5555555555555556,
             "#d8576b"
            ],
            [
             0.6666666666666666,
             "#ed7953"
            ],
            [
             0.7777777777777778,
             "#fb9f3a"
            ],
            [
             0.8888888888888888,
             "#fdca26"
            ],
            [
             1,
             "#f0f921"
            ]
           ]
          },
          "colorway": [
           "#636efa",
           "#EF553B",
           "#00cc96",
           "#ab63fa",
           "#FFA15A",
           "#19d3f3",
           "#FF6692",
           "#B6E880",
           "#FF97FF",
           "#FECB52"
          ],
          "font": {
           "color": "#2a3f5f"
          },
          "geo": {
           "bgcolor": "white",
           "lakecolor": "white",
           "landcolor": "#E5ECF6",
           "showlakes": true,
           "showland": true,
           "subunitcolor": "white"
          },
          "hoverlabel": {
           "align": "left"
          },
          "hovermode": "closest",
          "mapbox": {
           "style": "light"
          },
          "paper_bgcolor": "white",
          "plot_bgcolor": "#E5ECF6",
          "polar": {
           "angularaxis": {
            "gridcolor": "white",
            "linecolor": "white",
            "ticks": ""
           },
           "bgcolor": "#E5ECF6",
           "radialaxis": {
            "gridcolor": "white",
            "linecolor": "white",
            "ticks": ""
           }
          },
          "scene": {
           "xaxis": {
            "backgroundcolor": "#E5ECF6",
            "gridcolor": "white",
            "gridwidth": 2,
            "linecolor": "white",
            "showbackground": true,
            "ticks": "",
            "zerolinecolor": "white"
           },
           "yaxis": {
            "backgroundcolor": "#E5ECF6",
            "gridcolor": "white",
            "gridwidth": 2,
            "linecolor": "white",
            "showbackground": true,
            "ticks": "",
            "zerolinecolor": "white"
           },
           "zaxis": {
            "backgroundcolor": "#E5ECF6",
            "gridcolor": "white",
            "gridwidth": 2,
            "linecolor": "white",
            "showbackground": true,
            "ticks": "",
            "zerolinecolor": "white"
           }
          },
          "shapedefaults": {
           "line": {
            "color": "#2a3f5f"
           }
          },
          "ternary": {
           "aaxis": {
            "gridcolor": "white",
            "linecolor": "white",
            "ticks": ""
           },
           "baxis": {
            "gridcolor": "white",
            "linecolor": "white",
            "ticks": ""
           },
           "bgcolor": "#E5ECF6",
           "caxis": {
            "gridcolor": "white",
            "linecolor": "white",
            "ticks": ""
           }
          },
          "title": {
           "x": 0.05
          },
          "xaxis": {
           "automargin": true,
           "gridcolor": "white",
           "linecolor": "white",
           "ticks": "",
           "title": {
            "standoff": 15
           },
           "zerolinecolor": "white",
           "zerolinewidth": 2
          },
          "yaxis": {
           "automargin": true,
           "gridcolor": "white",
           "linecolor": "white",
           "ticks": "",
           "title": {
            "standoff": 15
           },
           "zerolinecolor": "white",
           "zerolinewidth": 2
          }
         }
        },
        "title": {
         "text": "Top 10 Genres"
        },
        "xaxis": {
         "anchor": "y",
         "domain": [
          0,
          1
         ],
         "title": {
          "text": "Genre"
         }
        },
        "yaxis": {
         "anchor": "x",
         "domain": [
          0,
          1
         ],
         "title": {
          "text": "Count"
         }
        }
       }
      }
     },
     "metadata": {},
     "output_type": "display_data"
    }
   ],
   "source": [
    "# Flatten genres\n",
    "all_genres = [genre for sublist in df['genre_names'].apply(eval) for genre in sublist]\n",
    "genre_counts = Counter(all_genres)\n",
    "genre_df = pd.DataFrame(genre_counts.items(), columns=['Genre', 'Count']).sort_values('Count', ascending=False)\n",
    "\n",
    "# Step 2: Create figure\n",
    "fig_top_genres = px.bar(genre_df.head(10), x='Genre', y='Count', title=\"Top 10 Genres\")\n",
    "fig_top_genres.show()\n"
   ]
  },
  {
   "cell_type": "code",
   "execution_count": 42,
   "id": "c70c4d07",
   "metadata": {},
   "outputs": [],
   "source": [
    "with open(\"../img/fig_top_genres.pkl\", \"wb\") as f:\n",
    "    pickle.dump(fig_top_genres, f)"
   ]
  },
  {
   "cell_type": "markdown",
   "id": "4cb65583",
   "metadata": {},
   "source": [
    "# Top Actors"
   ]
  },
  {
   "cell_type": "code",
   "execution_count": 46,
   "id": "7425e12f",
   "metadata": {},
   "outputs": [
    {
     "data": {
      "application/vnd.plotly.v1+json": {
       "config": {
        "plotlyServerURL": "https://plot.ly"
       },
       "data": [
        {
         "hovertemplate": "Genre=%{x}<br>Count=%{y}<extra></extra>",
         "legendgroup": "",
         "marker": {
          "color": "#636efa",
          "pattern": {
           "shape": ""
          }
         },
         "name": "",
         "orientation": "v",
         "showlegend": false,
         "textposition": "auto",
         "type": "bar",
         "x": [
          "Drama",
          "Comedy",
          "Thriller",
          "Action",
          "Romance",
          "Adventure",
          "Crime",
          "Science Fiction",
          "Horror",
          "Family"
         ],
         "xaxis": "x",
         "y": {
          "bdata": "+Qi6BvoEggR+AxYDuAIXAgcCAQI=",
          "dtype": "i2"
         },
         "yaxis": "y"
        }
       ],
       "layout": {
        "barmode": "relative",
        "legend": {
         "tracegroupgap": 0
        },
        "template": {
         "data": {
          "bar": [
           {
            "error_x": {
             "color": "#2a3f5f"
            },
            "error_y": {
             "color": "#2a3f5f"
            },
            "marker": {
             "line": {
              "color": "#E5ECF6",
              "width": 0.5
             },
             "pattern": {
              "fillmode": "overlay",
              "size": 10,
              "solidity": 0.2
             }
            },
            "type": "bar"
           }
          ],
          "barpolar": [
           {
            "marker": {
             "line": {
              "color": "#E5ECF6",
              "width": 0.5
             },
             "pattern": {
              "fillmode": "overlay",
              "size": 10,
              "solidity": 0.2
             }
            },
            "type": "barpolar"
           }
          ],
          "carpet": [
           {
            "aaxis": {
             "endlinecolor": "#2a3f5f",
             "gridcolor": "white",
             "linecolor": "white",
             "minorgridcolor": "white",
             "startlinecolor": "#2a3f5f"
            },
            "baxis": {
             "endlinecolor": "#2a3f5f",
             "gridcolor": "white",
             "linecolor": "white",
             "minorgridcolor": "white",
             "startlinecolor": "#2a3f5f"
            },
            "type": "carpet"
           }
          ],
          "choropleth": [
           {
            "colorbar": {
             "outlinewidth": 0,
             "ticks": ""
            },
            "type": "choropleth"
           }
          ],
          "contour": [
           {
            "colorbar": {
             "outlinewidth": 0,
             "ticks": ""
            },
            "colorscale": [
             [
              0,
              "#0d0887"
             ],
             [
              0.1111111111111111,
              "#46039f"
             ],
             [
              0.2222222222222222,
              "#7201a8"
             ],
             [
              0.3333333333333333,
              "#9c179e"
             ],
             [
              0.4444444444444444,
              "#bd3786"
             ],
             [
              0.5555555555555556,
              "#d8576b"
             ],
             [
              0.6666666666666666,
              "#ed7953"
             ],
             [
              0.7777777777777778,
              "#fb9f3a"
             ],
             [
              0.8888888888888888,
              "#fdca26"
             ],
             [
              1,
              "#f0f921"
             ]
            ],
            "type": "contour"
           }
          ],
          "contourcarpet": [
           {
            "colorbar": {
             "outlinewidth": 0,
             "ticks": ""
            },
            "type": "contourcarpet"
           }
          ],
          "heatmap": [
           {
            "colorbar": {
             "outlinewidth": 0,
             "ticks": ""
            },
            "colorscale": [
             [
              0,
              "#0d0887"
             ],
             [
              0.1111111111111111,
              "#46039f"
             ],
             [
              0.2222222222222222,
              "#7201a8"
             ],
             [
              0.3333333333333333,
              "#9c179e"
             ],
             [
              0.4444444444444444,
              "#bd3786"
             ],
             [
              0.5555555555555556,
              "#d8576b"
             ],
             [
              0.6666666666666666,
              "#ed7953"
             ],
             [
              0.7777777777777778,
              "#fb9f3a"
             ],
             [
              0.8888888888888888,
              "#fdca26"
             ],
             [
              1,
              "#f0f921"
             ]
            ],
            "type": "heatmap"
           }
          ],
          "histogram": [
           {
            "marker": {
             "pattern": {
              "fillmode": "overlay",
              "size": 10,
              "solidity": 0.2
             }
            },
            "type": "histogram"
           }
          ],
          "histogram2d": [
           {
            "colorbar": {
             "outlinewidth": 0,
             "ticks": ""
            },
            "colorscale": [
             [
              0,
              "#0d0887"
             ],
             [
              0.1111111111111111,
              "#46039f"
             ],
             [
              0.2222222222222222,
              "#7201a8"
             ],
             [
              0.3333333333333333,
              "#9c179e"
             ],
             [
              0.4444444444444444,
              "#bd3786"
             ],
             [
              0.5555555555555556,
              "#d8576b"
             ],
             [
              0.6666666666666666,
              "#ed7953"
             ],
             [
              0.7777777777777778,
              "#fb9f3a"
             ],
             [
              0.8888888888888888,
              "#fdca26"
             ],
             [
              1,
              "#f0f921"
             ]
            ],
            "type": "histogram2d"
           }
          ],
          "histogram2dcontour": [
           {
            "colorbar": {
             "outlinewidth": 0,
             "ticks": ""
            },
            "colorscale": [
             [
              0,
              "#0d0887"
             ],
             [
              0.1111111111111111,
              "#46039f"
             ],
             [
              0.2222222222222222,
              "#7201a8"
             ],
             [
              0.3333333333333333,
              "#9c179e"
             ],
             [
              0.4444444444444444,
              "#bd3786"
             ],
             [
              0.5555555555555556,
              "#d8576b"
             ],
             [
              0.6666666666666666,
              "#ed7953"
             ],
             [
              0.7777777777777778,
              "#fb9f3a"
             ],
             [
              0.8888888888888888,
              "#fdca26"
             ],
             [
              1,
              "#f0f921"
             ]
            ],
            "type": "histogram2dcontour"
           }
          ],
          "mesh3d": [
           {
            "colorbar": {
             "outlinewidth": 0,
             "ticks": ""
            },
            "type": "mesh3d"
           }
          ],
          "parcoords": [
           {
            "line": {
             "colorbar": {
              "outlinewidth": 0,
              "ticks": ""
             }
            },
            "type": "parcoords"
           }
          ],
          "pie": [
           {
            "automargin": true,
            "type": "pie"
           }
          ],
          "scatter": [
           {
            "fillpattern": {
             "fillmode": "overlay",
             "size": 10,
             "solidity": 0.2
            },
            "type": "scatter"
           }
          ],
          "scatter3d": [
           {
            "line": {
             "colorbar": {
              "outlinewidth": 0,
              "ticks": ""
             }
            },
            "marker": {
             "colorbar": {
              "outlinewidth": 0,
              "ticks": ""
             }
            },
            "type": "scatter3d"
           }
          ],
          "scattercarpet": [
           {
            "marker": {
             "colorbar": {
              "outlinewidth": 0,
              "ticks": ""
             }
            },
            "type": "scattercarpet"
           }
          ],
          "scattergeo": [
           {
            "marker": {
             "colorbar": {
              "outlinewidth": 0,
              "ticks": ""
             }
            },
            "type": "scattergeo"
           }
          ],
          "scattergl": [
           {
            "marker": {
             "colorbar": {
              "outlinewidth": 0,
              "ticks": ""
             }
            },
            "type": "scattergl"
           }
          ],
          "scattermap": [
           {
            "marker": {
             "colorbar": {
              "outlinewidth": 0,
              "ticks": ""
             }
            },
            "type": "scattermap"
           }
          ],
          "scattermapbox": [
           {
            "marker": {
             "colorbar": {
              "outlinewidth": 0,
              "ticks": ""
             }
            },
            "type": "scattermapbox"
           }
          ],
          "scatterpolar": [
           {
            "marker": {
             "colorbar": {
              "outlinewidth": 0,
              "ticks": ""
             }
            },
            "type": "scatterpolar"
           }
          ],
          "scatterpolargl": [
           {
            "marker": {
             "colorbar": {
              "outlinewidth": 0,
              "ticks": ""
             }
            },
            "type": "scatterpolargl"
           }
          ],
          "scatterternary": [
           {
            "marker": {
             "colorbar": {
              "outlinewidth": 0,
              "ticks": ""
             }
            },
            "type": "scatterternary"
           }
          ],
          "surface": [
           {
            "colorbar": {
             "outlinewidth": 0,
             "ticks": ""
            },
            "colorscale": [
             [
              0,
              "#0d0887"
             ],
             [
              0.1111111111111111,
              "#46039f"
             ],
             [
              0.2222222222222222,
              "#7201a8"
             ],
             [
              0.3333333333333333,
              "#9c179e"
             ],
             [
              0.4444444444444444,
              "#bd3786"
             ],
             [
              0.5555555555555556,
              "#d8576b"
             ],
             [
              0.6666666666666666,
              "#ed7953"
             ],
             [
              0.7777777777777778,
              "#fb9f3a"
             ],
             [
              0.8888888888888888,
              "#fdca26"
             ],
             [
              1,
              "#f0f921"
             ]
            ],
            "type": "surface"
           }
          ],
          "table": [
           {
            "cells": {
             "fill": {
              "color": "#EBF0F8"
             },
             "line": {
              "color": "white"
             }
            },
            "header": {
             "fill": {
              "color": "#C8D4E3"
             },
             "line": {
              "color": "white"
             }
            },
            "type": "table"
           }
          ]
         },
         "layout": {
          "annotationdefaults": {
           "arrowcolor": "#2a3f5f",
           "arrowhead": 0,
           "arrowwidth": 1
          },
          "autotypenumbers": "strict",
          "coloraxis": {
           "colorbar": {
            "outlinewidth": 0,
            "ticks": ""
           }
          },
          "colorscale": {
           "diverging": [
            [
             0,
             "#8e0152"
            ],
            [
             0.1,
             "#c51b7d"
            ],
            [
             0.2,
             "#de77ae"
            ],
            [
             0.3,
             "#f1b6da"
            ],
            [
             0.4,
             "#fde0ef"
            ],
            [
             0.5,
             "#f7f7f7"
            ],
            [
             0.6,
             "#e6f5d0"
            ],
            [
             0.7,
             "#b8e186"
            ],
            [
             0.8,
             "#7fbc41"
            ],
            [
             0.9,
             "#4d9221"
            ],
            [
             1,
             "#276419"
            ]
           ],
           "sequential": [
            [
             0,
             "#0d0887"
            ],
            [
             0.1111111111111111,
             "#46039f"
            ],
            [
             0.2222222222222222,
             "#7201a8"
            ],
            [
             0.3333333333333333,
             "#9c179e"
            ],
            [
             0.4444444444444444,
             "#bd3786"
            ],
            [
             0.5555555555555556,
             "#d8576b"
            ],
            [
             0.6666666666666666,
             "#ed7953"
            ],
            [
             0.7777777777777778,
             "#fb9f3a"
            ],
            [
             0.8888888888888888,
             "#fdca26"
            ],
            [
             1,
             "#f0f921"
            ]
           ],
           "sequentialminus": [
            [
             0,
             "#0d0887"
            ],
            [
             0.1111111111111111,
             "#46039f"
            ],
            [
             0.2222222222222222,
             "#7201a8"
            ],
            [
             0.3333333333333333,
             "#9c179e"
            ],
            [
             0.4444444444444444,
             "#bd3786"
            ],
            [
             0.5555555555555556,
             "#d8576b"
            ],
            [
             0.6666666666666666,
             "#ed7953"
            ],
            [
             0.7777777777777778,
             "#fb9f3a"
            ],
            [
             0.8888888888888888,
             "#fdca26"
            ],
            [
             1,
             "#f0f921"
            ]
           ]
          },
          "colorway": [
           "#636efa",
           "#EF553B",
           "#00cc96",
           "#ab63fa",
           "#FFA15A",
           "#19d3f3",
           "#FF6692",
           "#B6E880",
           "#FF97FF",
           "#FECB52"
          ],
          "font": {
           "color": "#2a3f5f"
          },
          "geo": {
           "bgcolor": "white",
           "lakecolor": "white",
           "landcolor": "#E5ECF6",
           "showlakes": true,
           "showland": true,
           "subunitcolor": "white"
          },
          "hoverlabel": {
           "align": "left"
          },
          "hovermode": "closest",
          "mapbox": {
           "style": "light"
          },
          "paper_bgcolor": "white",
          "plot_bgcolor": "#E5ECF6",
          "polar": {
           "angularaxis": {
            "gridcolor": "white",
            "linecolor": "white",
            "ticks": ""
           },
           "bgcolor": "#E5ECF6",
           "radialaxis": {
            "gridcolor": "white",
            "linecolor": "white",
            "ticks": ""
           }
          },
          "scene": {
           "xaxis": {
            "backgroundcolor": "#E5ECF6",
            "gridcolor": "white",
            "gridwidth": 2,
            "linecolor": "white",
            "showbackground": true,
            "ticks": "",
            "zerolinecolor": "white"
           },
           "yaxis": {
            "backgroundcolor": "#E5ECF6",
            "gridcolor": "white",
            "gridwidth": 2,
            "linecolor": "white",
            "showbackground": true,
            "ticks": "",
            "zerolinecolor": "white"
           },
           "zaxis": {
            "backgroundcolor": "#E5ECF6",
            "gridcolor": "white",
            "gridwidth": 2,
            "linecolor": "white",
            "showbackground": true,
            "ticks": "",
            "zerolinecolor": "white"
           }
          },
          "shapedefaults": {
           "line": {
            "color": "#2a3f5f"
           }
          },
          "ternary": {
           "aaxis": {
            "gridcolor": "white",
            "linecolor": "white",
            "ticks": ""
           },
           "baxis": {
            "gridcolor": "white",
            "linecolor": "white",
            "ticks": ""
           },
           "bgcolor": "#E5ECF6",
           "caxis": {
            "gridcolor": "white",
            "linecolor": "white",
            "ticks": ""
           }
          },
          "title": {
           "x": 0.05
          },
          "xaxis": {
           "automargin": true,
           "gridcolor": "white",
           "linecolor": "white",
           "ticks": "",
           "title": {
            "standoff": 15
           },
           "zerolinecolor": "white",
           "zerolinewidth": 2
          },
          "yaxis": {
           "automargin": true,
           "gridcolor": "white",
           "linecolor": "white",
           "ticks": "",
           "title": {
            "standoff": 15
           },
           "zerolinecolor": "white",
           "zerolinewidth": 2
          }
         }
        },
        "title": {
         "text": "Top 10 Genres"
        },
        "xaxis": {
         "anchor": "y",
         "domain": [
          0,
          1
         ],
         "title": {
          "text": "Genre"
         }
        },
        "yaxis": {
         "anchor": "x",
         "domain": [
          0,
          1
         ],
         "title": {
          "text": "Count"
         }
        }
       }
      }
     },
     "metadata": {},
     "output_type": "display_data"
    }
   ],
   "source": [
    "# Flatten genres\n",
    "all_genres = [genre for sublist in df['genre_names'].apply(eval) for genre in sublist]\n",
    "genre_counts = Counter(all_genres)\n",
    "genre_df = pd.DataFrame(genre_counts.items(), columns=['Genre', 'Count']).sort_values('Count', ascending=False)\n",
    "\n",
    "fig_top_actors = px.bar(genre_df.head(10), x='Genre', y='Count', title=\"Top 10 Genres\")\n",
    "fig_top_actors.show()\n"
   ]
  },
  {
   "cell_type": "code",
   "execution_count": 44,
   "id": "6d20dc9b",
   "metadata": {},
   "outputs": [],
   "source": [
    "with open(\"../img/fig_top_actors.pkl\", \"wb\") as f:\n",
    "    pickle.dump(fig_top_actors, f)"
   ]
  },
  {
   "cell_type": "markdown",
   "id": "c04a57ea",
   "metadata": {},
   "source": [
    "# Top Directors"
   ]
  },
  {
   "cell_type": "code",
   "execution_count": 78,
   "id": "b9052e3b",
   "metadata": {},
   "outputs": [],
   "source": [
    "# Step 1: Clean director names\n",
    "valid_directors = df['director'].dropna()\n",
    "valid_directors = valid_directors[~valid_directors.str.strip().isin([\"\", \"Unknown\"])]\n"
   ]
  },
  {
   "cell_type": "code",
   "execution_count": 79,
   "id": "d1af7865",
   "metadata": {},
   "outputs": [
    {
     "data": {
      "application/vnd.plotly.v1+json": {
       "config": {
        "plotlyServerURL": "https://plot.ly"
       },
       "data": [
        {
         "hovertemplate": "Count=%{x}<br>Director=%{y}<extra></extra>",
         "legendgroup": "",
         "marker": {
          "color": "#636efa",
          "pattern": {
           "shape": ""
          }
         },
         "name": "",
         "orientation": "h",
         "showlegend": false,
         "textposition": "auto",
         "type": "bar",
         "x": {
          "bdata": "GxUUFBAQEA8PDg==",
          "dtype": "i1"
         },
         "xaxis": "x",
         "y": [
          "Steven Spielberg",
          "Woody Allen",
          "Martin Scorsese",
          "Clint Eastwood",
          "Ridley Scott",
          "Spike Lee",
          "Robert Rodriguez",
          "Steven Soderbergh",
          "Renny Harlin",
          "Oliver Stone"
         ],
         "yaxis": "y"
        }
       ],
       "layout": {
        "barmode": "relative",
        "legend": {
         "tracegroupgap": 0
        },
        "template": {
         "data": {
          "bar": [
           {
            "error_x": {
             "color": "#2a3f5f"
            },
            "error_y": {
             "color": "#2a3f5f"
            },
            "marker": {
             "line": {
              "color": "#E5ECF6",
              "width": 0.5
             },
             "pattern": {
              "fillmode": "overlay",
              "size": 10,
              "solidity": 0.2
             }
            },
            "type": "bar"
           }
          ],
          "barpolar": [
           {
            "marker": {
             "line": {
              "color": "#E5ECF6",
              "width": 0.5
             },
             "pattern": {
              "fillmode": "overlay",
              "size": 10,
              "solidity": 0.2
             }
            },
            "type": "barpolar"
           }
          ],
          "carpet": [
           {
            "aaxis": {
             "endlinecolor": "#2a3f5f",
             "gridcolor": "white",
             "linecolor": "white",
             "minorgridcolor": "white",
             "startlinecolor": "#2a3f5f"
            },
            "baxis": {
             "endlinecolor": "#2a3f5f",
             "gridcolor": "white",
             "linecolor": "white",
             "minorgridcolor": "white",
             "startlinecolor": "#2a3f5f"
            },
            "type": "carpet"
           }
          ],
          "choropleth": [
           {
            "colorbar": {
             "outlinewidth": 0,
             "ticks": ""
            },
            "type": "choropleth"
           }
          ],
          "contour": [
           {
            "colorbar": {
             "outlinewidth": 0,
             "ticks": ""
            },
            "colorscale": [
             [
              0,
              "#0d0887"
             ],
             [
              0.1111111111111111,
              "#46039f"
             ],
             [
              0.2222222222222222,
              "#7201a8"
             ],
             [
              0.3333333333333333,
              "#9c179e"
             ],
             [
              0.4444444444444444,
              "#bd3786"
             ],
             [
              0.5555555555555556,
              "#d8576b"
             ],
             [
              0.6666666666666666,
              "#ed7953"
             ],
             [
              0.7777777777777778,
              "#fb9f3a"
             ],
             [
              0.8888888888888888,
              "#fdca26"
             ],
             [
              1,
              "#f0f921"
             ]
            ],
            "type": "contour"
           }
          ],
          "contourcarpet": [
           {
            "colorbar": {
             "outlinewidth": 0,
             "ticks": ""
            },
            "type": "contourcarpet"
           }
          ],
          "heatmap": [
           {
            "colorbar": {
             "outlinewidth": 0,
             "ticks": ""
            },
            "colorscale": [
             [
              0,
              "#0d0887"
             ],
             [
              0.1111111111111111,
              "#46039f"
             ],
             [
              0.2222222222222222,
              "#7201a8"
             ],
             [
              0.3333333333333333,
              "#9c179e"
             ],
             [
              0.4444444444444444,
              "#bd3786"
             ],
             [
              0.5555555555555556,
              "#d8576b"
             ],
             [
              0.6666666666666666,
              "#ed7953"
             ],
             [
              0.7777777777777778,
              "#fb9f3a"
             ],
             [
              0.8888888888888888,
              "#fdca26"
             ],
             [
              1,
              "#f0f921"
             ]
            ],
            "type": "heatmap"
           }
          ],
          "histogram": [
           {
            "marker": {
             "pattern": {
              "fillmode": "overlay",
              "size": 10,
              "solidity": 0.2
             }
            },
            "type": "histogram"
           }
          ],
          "histogram2d": [
           {
            "colorbar": {
             "outlinewidth": 0,
             "ticks": ""
            },
            "colorscale": [
             [
              0,
              "#0d0887"
             ],
             [
              0.1111111111111111,
              "#46039f"
             ],
             [
              0.2222222222222222,
              "#7201a8"
             ],
             [
              0.3333333333333333,
              "#9c179e"
             ],
             [
              0.4444444444444444,
              "#bd3786"
             ],
             [
              0.5555555555555556,
              "#d8576b"
             ],
             [
              0.6666666666666666,
              "#ed7953"
             ],
             [
              0.7777777777777778,
              "#fb9f3a"
             ],
             [
              0.8888888888888888,
              "#fdca26"
             ],
             [
              1,
              "#f0f921"
             ]
            ],
            "type": "histogram2d"
           }
          ],
          "histogram2dcontour": [
           {
            "colorbar": {
             "outlinewidth": 0,
             "ticks": ""
            },
            "colorscale": [
             [
              0,
              "#0d0887"
             ],
             [
              0.1111111111111111,
              "#46039f"
             ],
             [
              0.2222222222222222,
              "#7201a8"
             ],
             [
              0.3333333333333333,
              "#9c179e"
             ],
             [
              0.4444444444444444,
              "#bd3786"
             ],
             [
              0.5555555555555556,
              "#d8576b"
             ],
             [
              0.6666666666666666,
              "#ed7953"
             ],
             [
              0.7777777777777778,
              "#fb9f3a"
             ],
             [
              0.8888888888888888,
              "#fdca26"
             ],
             [
              1,
              "#f0f921"
             ]
            ],
            "type": "histogram2dcontour"
           }
          ],
          "mesh3d": [
           {
            "colorbar": {
             "outlinewidth": 0,
             "ticks": ""
            },
            "type": "mesh3d"
           }
          ],
          "parcoords": [
           {
            "line": {
             "colorbar": {
              "outlinewidth": 0,
              "ticks": ""
             }
            },
            "type": "parcoords"
           }
          ],
          "pie": [
           {
            "automargin": true,
            "type": "pie"
           }
          ],
          "scatter": [
           {
            "fillpattern": {
             "fillmode": "overlay",
             "size": 10,
             "solidity": 0.2
            },
            "type": "scatter"
           }
          ],
          "scatter3d": [
           {
            "line": {
             "colorbar": {
              "outlinewidth": 0,
              "ticks": ""
             }
            },
            "marker": {
             "colorbar": {
              "outlinewidth": 0,
              "ticks": ""
             }
            },
            "type": "scatter3d"
           }
          ],
          "scattercarpet": [
           {
            "marker": {
             "colorbar": {
              "outlinewidth": 0,
              "ticks": ""
             }
            },
            "type": "scattercarpet"
           }
          ],
          "scattergeo": [
           {
            "marker": {
             "colorbar": {
              "outlinewidth": 0,
              "ticks": ""
             }
            },
            "type": "scattergeo"
           }
          ],
          "scattergl": [
           {
            "marker": {
             "colorbar": {
              "outlinewidth": 0,
              "ticks": ""
             }
            },
            "type": "scattergl"
           }
          ],
          "scattermap": [
           {
            "marker": {
             "colorbar": {
              "outlinewidth": 0,
              "ticks": ""
             }
            },
            "type": "scattermap"
           }
          ],
          "scattermapbox": [
           {
            "marker": {
             "colorbar": {
              "outlinewidth": 0,
              "ticks": ""
             }
            },
            "type": "scattermapbox"
           }
          ],
          "scatterpolar": [
           {
            "marker": {
             "colorbar": {
              "outlinewidth": 0,
              "ticks": ""
             }
            },
            "type": "scatterpolar"
           }
          ],
          "scatterpolargl": [
           {
            "marker": {
             "colorbar": {
              "outlinewidth": 0,
              "ticks": ""
             }
            },
            "type": "scatterpolargl"
           }
          ],
          "scatterternary": [
           {
            "marker": {
             "colorbar": {
              "outlinewidth": 0,
              "ticks": ""
             }
            },
            "type": "scatterternary"
           }
          ],
          "surface": [
           {
            "colorbar": {
             "outlinewidth": 0,
             "ticks": ""
            },
            "colorscale": [
             [
              0,
              "#0d0887"
             ],
             [
              0.1111111111111111,
              "#46039f"
             ],
             [
              0.2222222222222222,
              "#7201a8"
             ],
             [
              0.3333333333333333,
              "#9c179e"
             ],
             [
              0.4444444444444444,
              "#bd3786"
             ],
             [
              0.5555555555555556,
              "#d8576b"
             ],
             [
              0.6666666666666666,
              "#ed7953"
             ],
             [
              0.7777777777777778,
              "#fb9f3a"
             ],
             [
              0.8888888888888888,
              "#fdca26"
             ],
             [
              1,
              "#f0f921"
             ]
            ],
            "type": "surface"
           }
          ],
          "table": [
           {
            "cells": {
             "fill": {
              "color": "#EBF0F8"
             },
             "line": {
              "color": "white"
             }
            },
            "header": {
             "fill": {
              "color": "#C8D4E3"
             },
             "line": {
              "color": "white"
             }
            },
            "type": "table"
           }
          ]
         },
         "layout": {
          "annotationdefaults": {
           "arrowcolor": "#2a3f5f",
           "arrowhead": 0,
           "arrowwidth": 1
          },
          "autotypenumbers": "strict",
          "coloraxis": {
           "colorbar": {
            "outlinewidth": 0,
            "ticks": ""
           }
          },
          "colorscale": {
           "diverging": [
            [
             0,
             "#8e0152"
            ],
            [
             0.1,
             "#c51b7d"
            ],
            [
             0.2,
             "#de77ae"
            ],
            [
             0.3,
             "#f1b6da"
            ],
            [
             0.4,
             "#fde0ef"
            ],
            [
             0.5,
             "#f7f7f7"
            ],
            [
             0.6,
             "#e6f5d0"
            ],
            [
             0.7,
             "#b8e186"
            ],
            [
             0.8,
             "#7fbc41"
            ],
            [
             0.9,
             "#4d9221"
            ],
            [
             1,
             "#276419"
            ]
           ],
           "sequential": [
            [
             0,
             "#0d0887"
            ],
            [
             0.1111111111111111,
             "#46039f"
            ],
            [
             0.2222222222222222,
             "#7201a8"
            ],
            [
             0.3333333333333333,
             "#9c179e"
            ],
            [
             0.4444444444444444,
             "#bd3786"
            ],
            [
             0.5555555555555556,
             "#d8576b"
            ],
            [
             0.6666666666666666,
             "#ed7953"
            ],
            [
             0.7777777777777778,
             "#fb9f3a"
            ],
            [
             0.8888888888888888,
             "#fdca26"
            ],
            [
             1,
             "#f0f921"
            ]
           ],
           "sequentialminus": [
            [
             0,
             "#0d0887"
            ],
            [
             0.1111111111111111,
             "#46039f"
            ],
            [
             0.2222222222222222,
             "#7201a8"
            ],
            [
             0.3333333333333333,
             "#9c179e"
            ],
            [
             0.4444444444444444,
             "#bd3786"
            ],
            [
             0.5555555555555556,
             "#d8576b"
            ],
            [
             0.6666666666666666,
             "#ed7953"
            ],
            [
             0.7777777777777778,
             "#fb9f3a"
            ],
            [
             0.8888888888888888,
             "#fdca26"
            ],
            [
             1,
             "#f0f921"
            ]
           ]
          },
          "colorway": [
           "#636efa",
           "#EF553B",
           "#00cc96",
           "#ab63fa",
           "#FFA15A",
           "#19d3f3",
           "#FF6692",
           "#B6E880",
           "#FF97FF",
           "#FECB52"
          ],
          "font": {
           "color": "#2a3f5f"
          },
          "geo": {
           "bgcolor": "white",
           "lakecolor": "white",
           "landcolor": "#E5ECF6",
           "showlakes": true,
           "showland": true,
           "subunitcolor": "white"
          },
          "hoverlabel": {
           "align": "left"
          },
          "hovermode": "closest",
          "mapbox": {
           "style": "light"
          },
          "paper_bgcolor": "white",
          "plot_bgcolor": "#E5ECF6",
          "polar": {
           "angularaxis": {
            "gridcolor": "white",
            "linecolor": "white",
            "ticks": ""
           },
           "bgcolor": "#E5ECF6",
           "radialaxis": {
            "gridcolor": "white",
            "linecolor": "white",
            "ticks": ""
           }
          },
          "scene": {
           "xaxis": {
            "backgroundcolor": "#E5ECF6",
            "gridcolor": "white",
            "gridwidth": 2,
            "linecolor": "white",
            "showbackground": true,
            "ticks": "",
            "zerolinecolor": "white"
           },
           "yaxis": {
            "backgroundcolor": "#E5ECF6",
            "gridcolor": "white",
            "gridwidth": 2,
            "linecolor": "white",
            "showbackground": true,
            "ticks": "",
            "zerolinecolor": "white"
           },
           "zaxis": {
            "backgroundcolor": "#E5ECF6",
            "gridcolor": "white",
            "gridwidth": 2,
            "linecolor": "white",
            "showbackground": true,
            "ticks": "",
            "zerolinecolor": "white"
           }
          },
          "shapedefaults": {
           "line": {
            "color": "#2a3f5f"
           }
          },
          "ternary": {
           "aaxis": {
            "gridcolor": "white",
            "linecolor": "white",
            "ticks": ""
           },
           "baxis": {
            "gridcolor": "white",
            "linecolor": "white",
            "ticks": ""
           },
           "bgcolor": "#E5ECF6",
           "caxis": {
            "gridcolor": "white",
            "linecolor": "white",
            "ticks": ""
           }
          },
          "title": {
           "x": 0.05
          },
          "xaxis": {
           "automargin": true,
           "gridcolor": "white",
           "linecolor": "white",
           "ticks": "",
           "title": {
            "standoff": 15
           },
           "zerolinecolor": "white",
           "zerolinewidth": 2
          },
          "yaxis": {
           "automargin": true,
           "gridcolor": "white",
           "linecolor": "white",
           "ticks": "",
           "title": {
            "standoff": 15
           },
           "zerolinecolor": "white",
           "zerolinewidth": 2
          }
         }
        },
        "title": {
         "text": "Top 10 Directors"
        },
        "xaxis": {
         "anchor": "y",
         "domain": [
          0,
          1
         ],
         "title": {
          "text": "Count"
         }
        },
        "yaxis": {
         "anchor": "x",
         "autorange": "reversed",
         "domain": [
          0,
          1
         ],
         "title": {
          "text": "Director"
         }
        }
       }
      }
     },
     "metadata": {},
     "output_type": "display_data"
    }
   ],
   "source": [
    "# Step 2: Count top directors\n",
    "director_df = valid_directors.value_counts().reset_index()\n",
    "director_df.columns = ['Director', 'Count']\n",
    "\n",
    "\n",
    "# Step 3: Create horizontal bar chart\n",
    "fig_top_10_directors = px.bar(\n",
    "    director_df.head(10),\n",
    "    x='Count',\n",
    "    y='Director',\n",
    "    orientation='h',\n",
    "    title=\"Top 10 Directors\"\n",
    ")\n",
    "fig_top_10_directors.update_layout(yaxis=dict(autorange=\"reversed\"))\n",
    "fig_top_10_directors.show()\n"
   ]
  },
  {
   "cell_type": "code",
   "execution_count": 80,
   "id": "1d3194c5",
   "metadata": {},
   "outputs": [],
   "source": [
    "with open(\"../img/fig_top_10_directors.pkl\", \"wb\") as f:\n",
    "    pickle.dump(fig_top_10_directors, f)"
   ]
  },
  {
   "cell_type": "markdown",
   "id": "1effbb86",
   "metadata": {},
   "source": [
    "# Budget vs Revenue"
   ]
  },
  {
   "cell_type": "code",
   "execution_count": null,
   "id": "7862e910",
   "metadata": {},
   "outputs": [
    {
     "data": {
      "application/vnd.plotly.v1+json": {
       "config": {
        "plotlyServerURL": "https://plot.ly"
       },
       "data": [
        {
         "customdata": [
          [
           "Avatar"
          ],
          [
           "Pirates of the Caribbean: At World's End"
          ],
          [
           "Spectre"
          ],
          [
           "The Dark Knight Rises"
          ],
          [
           "John Carter"
          ],
          [
           "Spider-Man 3"
          ],
          [
           "Tangled"
          ],
          [
           "Avengers: Age of Ultron"
          ],
          [
           "Harry Potter and the Half-Blood Prince"
          ],
          [
           "Batman v Superman: Dawn of Justice"
          ],
          [
           "Superman Returns"
          ],
          [
           "Quantum of Solace"
          ],
          [
           "Pirates of the Caribbean: Dead Man's Chest"
          ],
          [
           "The Lone Ranger"
          ],
          [
           "Man of Steel"
          ],
          [
           "The Chronicles of Narnia: Prince Caspian"
          ],
          [
           "The Avengers"
          ],
          [
           "Pirates of the Caribbean: On Stranger Tides"
          ],
          [
           "Men in Black 3"
          ],
          [
           "The Hobbit: The Battle of the Five Armies"
          ],
          [
           "The Amazing Spider-Man"
          ],
          [
           "Robin Hood"
          ],
          [
           "The Hobbit: The Desolation of Smaug"
          ],
          [
           "The Golden Compass"
          ],
          [
           "King Kong"
          ],
          [
           "Titanic"
          ],
          [
           "Captain America: Civil War"
          ],
          [
           "Battleship"
          ],
          [
           "Jurassic World"
          ],
          [
           "Skyfall"
          ],
          [
           "Spider-Man 2"
          ],
          [
           "Iron Man 3"
          ],
          [
           "Alice in Wonderland"
          ],
          [
           "X-Men: The Last Stand"
          ],
          [
           "Monsters University"
          ],
          [
           "Transformers: Revenge of the Fallen"
          ],
          [
           "Transformers: Age of Extinction"
          ],
          [
           "Oz: The Great and Powerful"
          ],
          [
           "The Amazing Spider-Man 2"
          ],
          [
           "TRON: Legacy"
          ],
          [
           "Cars 2"
          ],
          [
           "Green Lantern"
          ],
          [
           "Toy Story 3"
          ],
          [
           "Terminator Salvation"
          ],
          [
           "Furious 7"
          ],
          [
           "World War Z"
          ],
          [
           "X-Men: Days of Future Past"
          ],
          [
           "Star Trek Into Darkness"
          ],
          [
           "Jack the Giant Slayer"
          ],
          [
           "The Great Gatsby"
          ],
          [
           "Prince of Persia: The Sands of Time"
          ],
          [
           "Pacific Rim"
          ],
          [
           "Transformers: Dark of the Moon"
          ],
          [
           "Indiana Jones and the Kingdom of the Crystal Skull"
          ],
          [
           "The Good Dinosaur"
          ],
          [
           "Brave"
          ],
          [
           "Star Trek Beyond"
          ],
          [
           "WALL·E"
          ],
          [
           "Rush Hour 3"
          ],
          [
           "2012"
          ],
          [
           "A Christmas Carol"
          ],
          [
           "Jupiter Ascending"
          ],
          [
           "The Legend of Tarzan"
          ],
          [
           "The Chronicles of Narnia: The Lion, the Witch and the Wardrobe"
          ],
          [
           "X-Men: Apocalypse"
          ],
          [
           "The Dark Knight"
          ],
          [
           "Up"
          ],
          [
           "Monsters vs Aliens"
          ],
          [
           "Iron Man"
          ],
          [
           "Hugo"
          ],
          [
           "Wild Wild West"
          ],
          [
           "The Mummy: Tomb of the Dragon Emperor"
          ],
          [
           "Suicide Squad"
          ],
          [
           "Evan Almighty"
          ],
          [
           "Edge of Tomorrow"
          ],
          [
           "Waterworld"
          ],
          [
           "G.I. Joe: The Rise of Cobra"
          ],
          [
           "Inside Out"
          ],
          [
           "The Jungle Book"
          ],
          [
           "Iron Man 2"
          ],
          [
           "Snow White and the Huntsman"
          ],
          [
           "Maleficent"
          ],
          [
           "Dawn of the Planet of the Apes"
          ],
          [
           "The Lovers"
          ],
          [
           "47 Ronin"
          ],
          [
           "Captain America: The Winter Soldier"
          ],
          [
           "Shrek Forever After"
          ],
          [
           "Tomorrowland"
          ],
          [
           "Big Hero 6"
          ],
          [
           "Wreck-It Ralph"
          ],
          [
           "The Polar Express"
          ],
          [
           "Independence Day: Resurgence"
          ],
          [
           "How to Train Your Dragon"
          ],
          [
           "Terminator 3: Rise of the Machines"
          ],
          [
           "Guardians of the Galaxy"
          ],
          [
           "Interstellar"
          ],
          [
           "Inception"
          ],
          [
           "Shin Godzilla"
          ],
          [
           "The Hobbit: An Unexpected Journey"
          ],
          [
           "The Fast and the Furious"
          ],
          [
           "The Curious Case of Benjamin Button"
          ],
          [
           "X-Men: First Class"
          ],
          [
           "The Hunger Games: Mockingjay - Part 2"
          ],
          [
           "The Sorcerer's Apprentice"
          ],
          [
           "Poseidon"
          ],
          [
           "Alice Through the Looking Glass"
          ],
          [
           "Shrek the Third"
          ],
          [
           "Warcraft"
          ],
          [
           "Terminator Genisys"
          ],
          [
           "The Chronicles of Narnia: The Voyage of the Dawn Treader"
          ],
          [
           "Pearl Harbor"
          ],
          [
           "Transformers"
          ],
          [
           "Alexander"
          ],
          [
           "Harry Potter and the Order of the Phoenix"
          ],
          [
           "Harry Potter and the Goblet of Fire"
          ],
          [
           "Hancock"
          ],
          [
           "I Am Legend"
          ],
          [
           "Charlie and the Chocolate Factory"
          ],
          [
           "Ratatouille"
          ],
          [
           "Batman Begins"
          ],
          [
           "Madagascar: Escape 2 Africa"
          ],
          [
           "Night at the Museum: Battle of the Smithsonian"
          ],
          [
           "X-Men Origins: Wolverine"
          ],
          [
           "The Matrix Revolutions"
          ],
          [
           "Frozen"
          ],
          [
           "The Matrix Reloaded"
          ],
          [
           "Thor: The Dark World"
          ],
          [
           "Mad Max: Fury Road"
          ],
          [
           "Angels & Demons"
          ],
          [
           "Thor"
          ],
          [
           "Bolt"
          ],
          [
           "G-Force"
          ],
          [
           "Wrath of the Titans"
          ],
          [
           "Dark Shadows"
          ],
          [
           "Mission: Impossible - Rogue Nation"
          ],
          [
           "The Wolfman"
          ],
          [
           "Bee Movie"
          ],
          [
           "Kung Fu Panda 2"
          ],
          [
           "The Last Airbender"
          ],
          [
           "Mission: Impossible III"
          ],
          [
           "White House Down"
          ],
          [
           "Mars Needs Moms"
          ],
          [
           "Flushed Away"
          ],
          [
           "Pan"
          ],
          [
           "Mr. Peabody & Sherman"
          ],
          [
           "Troy"
          ],
          [
           "Madagascar 3: Europe's Most Wanted"
          ],
          [
           "Die Another Day"
          ],
          [
           "Ghostbusters"
          ],
          [
           "Armageddon"
          ],
          [
           "Men in Black II"
          ],
          [
           "Beowulf"
          ],
          [
           "Kung Fu Panda 3"
          ],
          [
           "Mission: Impossible - Ghost Protocol"
          ],
          [
           "Rise of the Guardians"
          ],
          [
           "Fun with Dick and Jane"
          ],
          [
           "The Last Samurai"
          ],
          [
           "Exodus: Gods and Kings"
          ],
          [
           "Star Trek"
          ],
          [
           "Spider-Man"
          ],
          [
           "How to Train Your Dragon 2"
          ],
          [
           "Gods of Egypt"
          ],
          [
           "Stealth"
          ],
          [
           "Watchmen"
          ],
          [
           "Lethal Weapon 4"
          ],
          [
           "Hulk"
          ],
          [
           "G.I. Joe: Retaliation"
          ],
          [
           "Sahara"
          ],
          [
           "Final Fantasy: The Spirits Within"
          ],
          [
           "Captain America: The First Avenger"
          ],
          [
           "The World Is Not Enough"
          ],
          [
           "Master and Commander: The Far Side of the World"
          ],
          [
           "The Twilight Saga: Breaking Dawn - Part 2"
          ],
          [
           "Happy Feet Two"
          ],
          [
           "The Incredible Hulk"
          ],
          [
           "The BFG"
          ],
          [
           "The Revenant"
          ],
          [
           "Turbo"
          ],
          [
           "Rango"
          ],
          [
           "Penguins of Madagascar"
          ],
          [
           "The Bourne Ultimatum"
          ],
          [
           "Kung Fu Panda"
          ],
          [
           "Ant-Man"
          ],
          [
           "The Hunger Games: Catching Fire"
          ],
          [
           "Home"
          ],
          [
           "War of the Worlds"
          ],
          [
           "Bad Boys II"
          ],
          [
           "Puss in Boots"
          ],
          [
           "Salt"
          ],
          [
           "Noah"
          ],
          [
           "The Adventures of Tintin"
          ],
          [
           "Harry Potter and the Prisoner of Azkaban"
          ],
          [
           "Australia"
          ],
          [
           "After Earth"
          ],
          [
           "Dinosaur"
          ],
          [
           "Night at the Museum: Secret of the Tomb"
          ],
          [
           "Megamind"
          ],
          [
           "Harry Potter and the Philosopher's Stone"
          ],
          [
           "R.I.P.D."
          ],
          [
           "Pirates of the Caribbean: The Curse of the Black Pearl"
          ],
          [
           "The Hunger Games: Mockingjay - Part 1"
          ],
          [
           "The Da Vinci Code"
          ],
          [
           "Rio 2"
          ],
          [
           "X2"
          ],
          [
           "Fast Five"
          ],
          [
           "Sherlock Holmes: A Game of Shadows"
          ],
          [
           "Clash of the Titans"
          ],
          [
           "Total Recall"
          ],
          [
           "The 13th Warrior"
          ],
          [
           "The Bourne Legacy"
          ],
          [
           "Batman & Robin"
          ],
          [
           "How the Grinch Stole Christmas"
          ],
          [
           "The Day After Tomorrow"
          ],
          [
           "Mission: Impossible II"
          ],
          [
           "The Perfect Storm"
          ],
          [
           "Fantastic 4: Rise of the Silver Surfer"
          ],
          [
           "Life of Pi"
          ],
          [
           "Ghost Rider"
          ],
          [
           "Jason Bourne"
          ],
          [
           "Charlie's Angels: Full Throttle"
          ],
          [
           "Prometheus"
          ],
          [
           "Stuart Little 2"
          ],
          [
           "Elysium"
          ],
          [
           "The Chronicles of Riddick"
          ],
          [
           "RoboCop"
          ],
          [
           "Speed Racer"
          ],
          [
           "How Do You Know"
          ],
          [
           "Knight and Day"
          ],
          [
           "Oblivion"
          ],
          [
           "Star Wars: Episode III - Revenge of the Sith"
          ],
          [
           "Star Wars: Episode II - Attack of the Clones"
          ],
          [
           "Monsters, Inc."
          ],
          [
           "The Wolverine"
          ],
          [
           "Star Wars: Episode I - The Phantom Menace"
          ],
          [
           "The Croods"
          ],
          [
           "Asterix at the Olympic Games"
          ],
          [
           "Windtalkers"
          ],
          [
           "The Huntsman: Winter's War"
          ],
          [
           "Teenage Mutant Ninja Turtles"
          ],
          [
           "Gravity"
          ],
          [
           "Dante's Peak"
          ],
          [
           "Teenage Mutant Ninja Turtles: Out of the Shadows"
          ],
          [
           "Fantastic Four"
          ],
          [
           "Night at the Museum"
          ],
          [
           "San Andreas"
          ],
          [
           "Tomorrow Never Dies"
          ],
          [
           "The Patriot"
          ],
          [
           "Ocean's Twelve"
          ],
          [
           "Mr. & Mrs. Smith"
          ],
          [
           "Insurgent"
          ],
          [
           "The Aviator"
          ],
          [
           "Gulliver's Travels"
          ],
          [
           "The Green Hornet"
          ],
          [
           "300: Rise of an Empire"
          ],
          [
           "The Smurfs"
          ],
          [
           "Home on the Range"
          ],
          [
           "Allegiant"
          ],
          [
           "Real Steel"
          ],
          [
           "The Smurfs 2"
          ],
          [
           "Speed 2: Cruise Control"
          ],
          [
           "Ender's Game"
          ],
          [
           "Live Free or Die Hard"
          ],
          [
           "The Lord of the Rings: The Fellowship of the Ring"
          ],
          [
           "Around the World in 80 Days"
          ],
          [
           "Ali"
          ],
          [
           "The Cat in the Hat"
          ],
          [
           "I, Robot"
          ],
          [
           "Kingdom of Heaven"
          ],
          [
           "Stuart Little"
          ],
          [
           "The Princess and the Frog"
          ],
          [
           "The Martian"
          ],
          [
           "The Island"
          ],
          [
           "Town & Country"
          ],
          [
           "Gone in Sixty Seconds"
          ],
          [
           "Gladiator"
          ],
          [
           "Minority Report"
          ],
          [
           "Harry Potter and the Chamber of Secrets"
          ],
          [
           "Casino Royale"
          ],
          [
           "Planet of the Apes"
          ],
          [
           "Terminator 2: Judgment Day"
          ],
          [
           "Public Enemies"
          ],
          [
           "American Gangster"
          ],
          [
           "True Lies"
          ],
          [
           "The Taking of Pelham 1 2 3"
          ],
          [
           "Little Fockers"
          ],
          [
           "The Other Guys"
          ],
          [
           "Eraser"
          ],
          [
           "Django Unchained"
          ],
          [
           "The Hunchback of Notre Dame"
          ],
          [
           "The Emperor's New Groove"
          ],
          [
           "The Expendables 2"
          ],
          [
           "National Treasure"
          ],
          [
           "Eragon"
          ],
          [
           "Where the Wild Things Are"
          ],
          [
           "Epic"
          ],
          [
           "The Tourist"
          ],
          [
           "End of Days"
          ],
          [
           "Blood Diamond"
          ],
          [
           "The Wolf of Wall Street"
          ],
          [
           "Batman Forever"
          ],
          [
           "Starship Troopers"
          ],
          [
           "Cloud Atlas"
          ],
          [
           "Legend of the Guardians: The Owls of Ga'Hoole"
          ],
          [
           "Catwoman"
          ],
          [
           "Hercules"
          ],
          [
           "Treasure Planet"
          ],
          [
           "Land of the Lost"
          ],
          [
           "The Expendables 3"
          ],
          [
           "Point Break"
          ],
          [
           "Son of the Mask"
          ],
          [
           "In the Heart of the Sea"
          ],
          [
           "The Adventures of Pluto Nash"
          ],
          [
           "Green Zone"
          ],
          [
           "The Peanuts Movie"
          ],
          [
           "The Spanish Prisoner"
          ],
          [
           "The Mummy Returns"
          ],
          [
           "Gangs of New York"
          ],
          [
           "The Flowers of War"
          ],
          [
           "Surf's Up"
          ],
          [
           "The Stepford Wives"
          ],
          [
           "Black Hawk Down"
          ],
          [
           "The Campaign"
          ],
          [
           "The Fifth Element"
          ],
          [
           "Sex and the City 2"
          ],
          [
           "The Road to El Dorado"
          ],
          [
           "Ice Age: Continental Drift"
          ],
          [
           "Cinderella"
          ],
          [
           "The Lovely Bones"
          ],
          [
           "Finding Nemo"
          ],
          [
           "The Lord of the Rings: The Return of the King"
          ],
          [
           "The Lord of the Rings: The Two Towers"
          ],
          [
           "Seventh Son"
          ],
          [
           "Lara Croft: Tomb Raider"
          ],
          [
           "Transcendence"
          ],
          [
           "Jurassic Park III"
          ],
          [
           "Rise of the Planet of the Apes"
          ],
          [
           "The Spiderwick Chronicles"
          ],
          [
           "A Good Day to Die Hard"
          ],
          [
           "The Alamo"
          ],
          [
           "The Incredibles"
          ],
          [
           "Cutthroat Island"
          ],
          [
           "Percy Jackson & the Olympians: The Lightning Thief"
          ],
          [
           "Men in Black"
          ],
          [
           "Toy Story 2"
          ],
          [
           "Unstoppable"
          ],
          [
           "Rush Hour 2"
          ],
          [
           "What Lies Beneath"
          ],
          [
           "Cloudy with a Chance of Meatballs"
          ],
          [
           "Ice Age: Dawn of the Dinosaurs"
          ],
          [
           "The Secret Life of Walter Mitty"
          ],
          [
           "Charlie's Angels"
          ],
          [
           "The Departed"
          ],
          [
           "Mulan"
          ],
          [
           "Tropic Thunder"
          ],
          [
           "The Girl with the Dragon Tattoo"
          ],
          [
           "Die Hard: With a Vengeance"
          ],
          [
           "Sherlock Holmes"
          ],
          [
           "Ben-Hur"
          ],
          [
           "Atlantis: The Lost Empire"
          ],
          [
           "Alvin and the Chipmunks: The Road Chip"
          ],
          [
           "Valkyrie"
          ],
          [
           "You Don't Mess with the Zohan"
          ],
          [
           "Pixels"
          ],
          [
           "A.I. Artificial Intelligence"
          ],
          [
           "The Haunted Mansion"
          ],
          [
           "Contact"
          ],
          [
           "Hollow Man"
          ],
          [
           "The Interpreter"
          ],
          [
           "Percy Jackson: Sea of Monsters"
          ],
          [
           "Lara Croft Tomb Raider: The Cradle of Life"
          ],
          [
           "Now You See Me 2"
          ],
          [
           "The Saint"
          ],
          [
           "Spy Game"
          ],
          [
           "Mission to Mars"
          ],
          [
           "Rio"
          ],
          [
           "Bicentennial Man"
          ],
          [
           "Volcano"
          ],
          [
           "The Devil's Own"
          ],
          [
           "K-19: The Widowmaker"
          ],
          [
           "Conan the Barbarian"
          ],
          [
           "Cinderella Man"
          ],
          [
           "The Nutcracker: The Untold Story"
          ],
          [
           "Seabiscuit"
          ],
          [
           "Twister"
          ],
          [
           "Cast Away"
          ],
          [
           "Happy Feet"
          ],
          [
           "The Bourne Supremacy"
          ],
          [
           "Air Force One"
          ],
          [
           "Ocean's Eleven"
          ],
          [
           "The Three Musketeers"
          ],
          [
           "Hotel Transylvania"
          ],
          [
           "Enchanted"
          ],
          [
           "Safe House"
          ],
          [
           "102 Dalmatians"
          ],
          [
           "Tower Heist"
          ],
          [
           "The Holiday"
          ],
          [
           "Enemy of the State"
          ],
          [
           "It's Complicated"
          ],
          [
           "Ocean's Thirteen"
          ],
          [
           "Open Season"
          ],
          [
           "Divergent"
          ],
          [
           "Enemy at the Gates"
          ],
          [
           "The Rundown"
          ],
          [
           "Last Action Hero"
          ],
          [
           "Memoirs of a Geisha"
          ],
          [
           "The Fast and the Furious: Tokyo Drift"
          ],
          [
           "Arthur Christmas"
          ],
          [
           "Meet Joe Black"
          ],
          [
           "Collateral Damage"
          ],
          [
           "All That Jazz"
          ],
          [
           "Mirror Mirror"
          ],
          [
           "Scott Pilgrim vs. the World"
          ],
          [
           "The Core"
          ],
          [
           "Nutty Professor II: The Klumps"
          ],
          [
           "Scooby-Doo"
          ],
          [
           "Dredd"
          ],
          [
           "Click"
          ],
          [
           "Creepshow"
          ],
          [
           "Cats & Dogs 2 : The Revenge of Kitty Galore"
          ],
          [
           "Jumper"
          ],
          [
           "Hellboy II: The Golden Army"
          ],
          [
           "Zodiac"
          ],
          [
           "The 6th Day"
          ],
          [
           "Bruce Almighty"
          ],
          [
           "The Expendables"
          ],
          [
           "Mission: Impossible"
          ],
          [
           "The Hunger Games"
          ],
          [
           "The Hangover Part II"
          ],
          [
           "Batman Returns"
          ],
          [
           "Over the Hedge"
          ],
          [
           "Lilo & Stitch"
          ],
          [
           "Charlotte's Web"
          ],
          [
           "Deep Impact"
          ],
          [
           "RED 2"
          ],
          [
           "The Longest Yard"
          ],
          [
           "Alvin and the Chipmunks: Chipwrecked"
          ],
          [
           "Grown Ups 2"
          ],
          [
           "Get Smart"
          ],
          [
           "Something's Gotta Give"
          ],
          [
           "Shutter Island"
          ],
          [
           "Four Christmases"
          ],
          [
           "Robots"
          ],
          [
           "Face/Off"
          ],
          [
           "Bedtime Stories"
          ],
          [
           "Road to Perdition"
          ],
          [
           "Just Go with It"
          ],
          [
           "Con Air"
          ],
          [
           "Eagle Eye"
          ],
          [
           "Cold Mountain"
          ],
          [
           "The Book of Eli"
          ],
          [
           "Flubber"
          ],
          [
           "The Haunting"
          ],
          [
           "Space Jam"
          ],
          [
           "The Pink Panther"
          ],
          [
           "The Day the Earth Stood Still"
          ],
          [
           "Conspiracy Theory"
          ],
          [
           "Fury"
          ],
          [
           "Six Days Seven Nights"
          ],
          [
           "Yogi Bear"
          ],
          [
           "Spirit: Stallion of the Cimarron"
          ],
          [
           "Zookeeper"
          ],
          [
           "Lost in Space"
          ],
          [
           "The Manchurian Candidate"
          ],
          [
           "Déjà Vu"
          ],
          [
           "Hotel Transylvania 2"
          ],
          [
           "Fantasia 2000"
          ],
          [
           "The Time Machine"
          ],
          [
           "Mighty Joe Young"
          ],
          [
           "Swordfish"
          ],
          [
           "The Legend of Zorro"
          ],
          [
           "What Dreams May Come"
          ],
          [
           "Little Nicky"
          ],
          [
           "The Brothers Grimm"
          ],
          [
           "Mars Attacks!"
          ],
          [
           "Evolution"
          ],
          [
           "The Edge"
          ],
          [
           "Surrogates"
          ],
          [
           "Thirteen Days"
          ],
          [
           "Daylight"
          ],
          [
           "Walking With Dinosaurs"
          ],
          [
           "Battlefield Earth"
          ],
          [
           "Looney Tunes: Back in Action"
          ],
          [
           "Nine"
          ],
          [
           "Timeline"
          ],
          [
           "The Postman"
          ],
          [
           "Babe: Pig in the City"
          ],
          [
           "The Last Witch Hunter"
          ],
          [
           "Red Planet"
          ],
          [
           "Arthur and the Invisibles"
          ],
          [
           "Oceans"
          ],
          [
           "A Sound of Thunder"
          ],
          [
           "Pompeii"
          ],
          [
           "Top Cat Begins"
          ],
          [
           "A Beautiful Mind"
          ],
          [
           "The Lion King"
          ],
          [
           "Journey 2: The Mysterious Island"
          ],
          [
           "Cloudy with a Chance of Meatballs 2"
          ],
          [
           "Red Dragon"
          ],
          [
           "Hidalgo"
          ],
          [
           "Jack and Jill"
          ],
          [
           "2 Fast 2 Furious"
          ],
          [
           "The Little Prince"
          ],
          [
           "The Invasion"
          ],
          [
           "The Adventures of Rocky & Bullwinkle"
          ],
          [
           "The Secret Life of Pets"
          ],
          [
           "The League of Extraordinary Gentlemen"
          ],
          [
           "Despicable Me 2"
          ],
          [
           "Independence Day"
          ],
          [
           "The Lost World: Jurassic Park"
          ],
          [
           "Madagascar"
          ],
          [
           "Children of Men"
          ],
          [
           "X-Men"
          ],
          [
           "Wanted"
          ],
          [
           "The Rock"
          ],
          [
           "Ice Age: The Meltdown"
          ],
          [
           "50 First Dates"
          ],
          [
           "Hairspray"
          ],
          [
           "Exorcist: The Beginning"
          ],
          [
           "Inspector Gadget"
          ],
          [
           "Now You See Me"
          ],
          [
           "Grown Ups"
          ],
          [
           "The Terminal"
          ],
          [
           "Hotel for Dogs"
          ],
          [
           "Vertical Limit"
          ],
          [
           "Charlie Wilson's War"
          ],
          [
           "Shark Tale"
          ],
          [
           "Dreamgirls"
          ],
          [
           "Be Cool"
          ],
          [
           "Munich"
          ],
          [
           "Tears of the Sun"
          ],
          [
           "Killers"
          ],
          [
           "The Man from U.N.C.L.E."
          ],
          [
           "Spanglish"
          ],
          [
           "Monster House"
          ],
          [
           "Bandits"
          ],
          [
           "First Knight"
          ],
          [
           "Anna and the King"
          ],
          [
           "Immortals"
          ],
          [
           "Hostage"
          ],
          [
           "Titan A.E."
          ],
          [
           "Hollywood Homicide"
          ],
          [
           "Soldier"
          ],
          [
           "Carriers"
          ],
          [
           "Monkeybone"
          ],
          [
           "Flight of the Phoenix"
          ],
          [
           "Unbreakable"
          ],
          [
           "Minions"
          ],
          [
           "Sucker Punch"
          ],
          [
           "Snake Eyes"
          ],
          [
           "Sphere"
          ],
          [
           "The Angry Birds Movie"
          ],
          [
           "Fool's Gold"
          ],
          [
           "Funny People"
          ],
          [
           "The Kingdom"
          ],
          [
           "Talladega Nights: The Ballad of Ricky Bobby"
          ],
          [
           "Dr. Dolittle 2"
          ],
          [
           "Braveheart"
          ],
          [
           "Jarhead"
          ],
          [
           "The Simpsons Movie"
          ],
          [
           "The Majestic"
          ],
          [
           "Driven"
          ],
          [
           "Two Brothers"
          ],
          [
           "The Village"
          ],
          [
           "Doctor Dolittle"
          ],
          [
           "Signs"
          ],
          [
           "Shrek 2"
          ],
          [
           "Cars"
          ],
          [
           "Runaway Bride"
          ],
          [
           "xXx"
          ],
          [
           "The SpongeBob Movie: Sponge Out of Water"
          ],
          [
           "Ransom"
          ],
          [
           "Inglourious Basterds"
          ],
          [
           "Hook"
          ],
          [
           "Die Hard 2"
          ],
          [
           "S.W.A.T."
          ],
          [
           "Vanilla Sky"
          ],
          [
           "Lady in the Water"
          ],
          [
           "AVP: Alien vs. Predator"
          ],
          [
           "Alvin and the Chipmunks: The Squeakquel"
          ],
          [
           "We Were Soldiers"
          ],
          [
           "Olympus Has Fallen"
          ],
          [
           "Star Trek: Insurrection"
          ],
          [
           "Battle: Los Angeles"
          ],
          [
           "Big Fish"
          ],
          [
           "Wolf"
          ],
          [
           "War Horse"
          ],
          [
           "The Monuments Men"
          ],
          [
           "The Abyss"
          ],
          [
           "Wall Street: Money Never Sleeps"
          ],
          [
           "Dracula Untold"
          ],
          [
           "The Siege"
          ],
          [
           "Stardust"
          ],
          [
           "Seven Years in Tibet"
          ],
          [
           "The Dilemma"
          ],
          [
           "Bad Company"
          ],
          [
           "Doom"
          ],
          [
           "I Spy"
          ],
          [
           "Underworld: Awakening"
          ],
          [
           "Rock of Ages"
          ],
          [
           "Hart's War"
          ],
          [
           "Killer Elite"
          ],
          [
           "Rollerball"
          ],
          [
           "Ballistic: Ecks vs. Sever"
          ],
          [
           "Hard Rain"
          ],
          [
           "Osmosis Jones"
          ],
          [
           "Legends of Oz: Dorothy's Return"
          ],
          [
           "Blackhat"
          ],
          [
           "Sky Captain and the World of Tomorrow"
          ],
          [
           "Basic Instinct 2"
          ],
          [
           "Escape Plan"
          ],
          [
           "The Legend of Hercules"
          ],
          [
           "The Sum of All Fears"
          ],
          [
           "The Twilight Saga: Eclipse"
          ],
          [
           "The Score"
          ],
          [
           "Despicable Me"
          ],
          [
           "Money Train"
          ],
          [
           "Ted 2"
          ],
          [
           "Agora"
          ],
          [
           "Mystery Men"
          ],
          [
           "Hall Pass"
          ],
          [
           "The Insider"
          ],
          [
           "The Finest Hours"
          ],
          [
           "Body of Lies"
          ],
          [
           "Dinner for Schmucks"
          ],
          [
           "Abraham Lincoln: Vampire Hunter"
          ],
          [
           "Entrapment"
          ],
          [
           "The X Files"
          ],
          [
           "The Last Legion"
          ],
          [
           "Saving Private Ryan"
          ],
          [
           "Need for Speed"
          ],
          [
           "What Women Want"
          ],
          [
           "Ice Age"
          ],
          [
           "Dreamcatcher"
          ],
          [
           "Lincoln"
          ],
          [
           "The Matrix"
          ],
          [
           "Apollo 13"
          ],
          [
           "The Santa Clause 2"
          ],
          [
           "Les Misérables"
          ],
          [
           "You've Got Mail"
          ],
          [
           "Step Brothers"
          ],
          [
           "The Mask of Zorro"
          ],
          [
           "Due Date"
          ],
          [
           "Unbroken"
          ],
          [
           "Space Cowboys"
          ],
          [
           "Cliffhanger"
          ],
          [
           "Broken Arrow"
          ],
          [
           "The Kid"
          ],
          [
           "World Trade Center"
          ],
          [
           "Mona Lisa Smile"
          ],
          [
           "The Dictator"
          ],
          [
           "Eyes Wide Shut"
          ],
          [
           "Annie"
          ],
          [
           "Focus"
          ],
          [
           "This Means War"
          ],
          [
           "Blade: Trinity"
          ],
          [
           "Red Dawn"
          ],
          [
           "Primary Colors"
          ],
          [
           "Resident Evil: Retribution"
          ],
          [
           "Death Race"
          ],
          [
           "The Long Kiss Goodnight"
          ],
          [
           "Proof of Life"
          ],
          [
           "Zathura: A Space Adventure"
          ],
          [
           "Fight Club"
          ],
          [
           "We Are Marshall"
          ],
          [
           "Hudson Hawk"
          ],
          [
           "Lucky Numbers"
          ],
          [
           "I, Frankenstein"
          ],
          [
           "Oliver Twist"
          ],
          [
           "Elektra"
          ],
          [
           "Sin City: A Dame to Kill For"
          ],
          [
           "Random Hearts"
          ],
          [
           "Everest"
          ],
          [
           "Perfume: The Story of a Murderer"
          ],
          [
           "Austin Powers in Goldmember"
          ],
          [
           "Astro Boy"
          ],
          [
           "Jurassic Park"
          ],
          [
           "Wyatt Earp"
          ],
          [
           "Clear and Present Danger"
          ],
          [
           "Dragon Blade"
          ],
          [
           "Little Man"
          ],
          [
           "U-571"
          ],
          [
           "The American President"
          ],
          [
           "The Love Guru"
          ],
          [
           "3000 Miles to Graceland"
          ],
          [
           "The Hateful Eight"
          ],
          [
           "Blades of Glory"
          ],
          [
           "Hop"
          ],
          [
           "300"
          ],
          [
           "Meet the Fockers"
          ],
          [
           "Marley & Me"
          ],
          [
           "The Green Mile"
          ],
          [
           "Wild Hogs"
          ],
          [
           "Chicken Little"
          ],
          [
           "Gone Girl"
          ],
          [
           "The Bourne Identity"
          ],
          [
           "GoldenEye"
          ],
          [
           "The General's Daughter"
          ],
          [
           "The Truman Show"
          ],
          [
           "The Prince of Egypt"
          ],
          [
           "Daddy Day Care"
          ],
          [
           "2 Guns"
          ],
          [
           "Cats & Dogs"
          ],
          [
           "The Italian Job"
          ],
          [
           "Two Weeks Notice"
          ],
          [
           "Antz"
          ],
          [
           "Couples Retreat"
          ],
          [
           "Days of Thunder"
          ],
          [
           "Cheaper by the Dozen 2"
          ],
          [
           "Maze Runner: The Scorch Trials"
          ],
          [
           "Eat Pray Love"
          ],
          [
           "The Family Man"
          ],
          [
           "RED"
          ],
          [
           "Any Given Sunday"
          ],
          [
           "The Horse Whisperer"
          ],
          [
           "Collateral"
          ],
          [
           "The Scorpion King"
          ],
          [
           "Ladder 49"
          ],
          [
           "Jack Reacher"
          ],
          [
           "Deep Blue Sea"
          ],
          [
           "This Is It"
          ],
          [
           "Contagion"
          ],
          [
           "Kangaroo Jack"
          ],
          [
           "Coraline"
          ],
          [
           "The Happening"
          ],
          [
           "Man on Fire"
          ],
          [
           "The Shaggy Dog"
          ],
          [
           "Starsky & Hutch"
          ],
          [
           "Jingle All the Way"
          ],
          [
           "Hellboy"
          ],
          [
           "A Civil Action"
          ],
          [
           "ParaNorman"
          ],
          [
           "The Jackal"
          ],
          [
           "Paycheck"
          ],
          [
           "Up Close & Personal"
          ],
          [
           "The Tale of Despereaux"
          ],
          [
           "The Tuxedo"
          ],
          [
           "Under Siege 2: Dark Territory"
          ],
          [
           "Jack Ryan: Shadow Recruit"
          ],
          [
           "Joy"
          ],
          [
           "London Has Fallen"
          ],
          [
           "Alien: Resurrection"
          ],
          [
           "Shooter"
          ],
          [
           "The Boxtrolls"
          ],
          [
           "Practical Magic"
          ],
          [
           "The Lego Movie"
          ],
          [
           "Miss Congeniality 2: Armed and Fabulous"
          ],
          [
           "Reign of Fire"
          ],
          [
           "Gangster Squad"
          ],
          [
           "Year One"
          ],
          [
           "Invictus"
          ],
          [
           "State of Play"
          ],
          [
           "Duplicity"
          ],
          [
           "My Favorite Martian"
          ],
          [
           "The Sentinel"
          ],
          [
           "Planet 51"
          ],
          [
           "Star Trek: Nemesis"
          ],
          [
           "Intolerable Cruelty"
          ],
          [
           "Trouble with the Curve"
          ],
          [
           "Edge of Darkness"
          ],
          [
           "The Relic"
          ],
          [
           "Analyze That"
          ],
          [
           "Righteous Kill"
          ],
          [
           "Mercury Rising"
          ],
          [
           "The Soloist"
          ],
          [
           "The Legend of Bagger Vance"
          ],
          [
           "Almost Famous"
          ],
          [
           "Garfield: A Tail of Two Kitties"
          ],
          [
           "xXx: State of the Union"
          ],
          [
           "Priest"
          ],
          [
           "Sinbad: Legend of the Seven Seas"
          ],
          [
           "Event Horizon"
          ],
          [
           "Dragonfly"
          ],
          [
           "The Black Dahlia"
          ],
          [
           "Flyboys"
          ],
          [
           "The Last Castle"
          ],
          [
           "Supernova"
          ],
          [
           "Winter's Tale"
          ],
          [
           "The Mortal Instruments: City of Bones"
          ],
          [
           "Meet Dave"
          ],
          [
           "Dark Water"
          ],
          [
           "Edtv"
          ],
          [
           "Inkheart"
          ],
          [
           "The Spirit"
          ],
          [
           "Mortdecai"
          ],
          [
           "In the Name of the King: A Dungeon Siege Tale"
          ],
          [
           "Beyond Borders"
          ],
          [
           "The Monkey King 2"
          ],
          [
           "The Great Raid"
          ],
          [
           "Deadpool"
          ],
          [
           "Holy Man"
          ],
          [
           "American Sniper"
          ],
          [
           "Goosebumps"
          ],
          [
           "Just Like Heaven"
          ],
          [
           "The Flintstones in Viva Rock Vegas"
          ],
          [
           "Rambo III"
          ],
          [
           "Leatherheads"
          ],
          [
           "The Ridiculous 6"
          ],
          [
           "Did You Hear About the Morgans?"
          ],
          [
           "The Internship"
          ],
          [
           "Resident Evil: Afterlife"
          ],
          [
           "Red Tails"
          ],
          [
           "The Devil's Advocate"
          ],
          [
           "That's My Boy"
          ],
          [
           "DragonHeart"
          ],
          [
           "After the Sunset"
          ],
          [
           "Ghost Rider: Spirit of Vengeance"
          ],
          [
           "Captain Corelli's Mandolin"
          ],
          [
           "The Pacifier"
          ],
          [
           "Walking Tall"
          ],
          [
           "Forrest Gump"
          ],
          [
           "Alvin and the Chipmunks"
          ],
          [
           "Meet the Parents"
          ],
          [
           "Pocahontas"
          ],
          [
           "Superman"
          ],
          [
           "The Nutty Professor"
          ],
          [
           "Hitch"
          ],
          [
           "George of the Jungle"
          ],
          [
           "American Wedding"
          ],
          [
           "Captain Phillips"
          ],
          [
           "Date Night"
          ],
          [
           "Casper"
          ],
          [
           "The Equalizer"
          ],
          [
           "Maid in Manhattan"
          ],
          [
           "Crimson Tide"
          ],
          [
           "The Pursuit of Happyness"
          ],
          [
           "Flightplan"
          ],
          [
           "Disclosure"
          ],
          [
           "City of Angels"
          ],
          [
           "Kill Bill: Vol. 1"
          ],
          [
           "Bowfinger"
          ],
          [
           "Kill Bill: Vol. 2"
          ],
          [
           "Tango & Cash"
          ],
          [
           "Death Becomes Her"
          ],
          [
           "Shanghai Noon"
          ],
          [
           "Executive Decision"
          ],
          [
           "Mr. Popper's Penguins"
          ],
          [
           "The Forbidden Kingdom"
          ],
          [
           "Free Birds"
          ],
          [
           "Alien³"
          ],
          [
           "Evita"
          ],
          [
           "Ronin"
          ],
          [
           "The Ghost and the Darkness"
          ],
          [
           "Paddington"
          ],
          [
           "The Watch"
          ],
          [
           "The Hunted"
          ],
          [
           "Instinct"
          ],
          [
           "Stuck on You"
          ],
          [
           "Semi-Pro"
          ],
          [
           "The Pirates! In an Adventure with Scientists!"
          ],
          [
           "Changeling"
          ],
          [
           "Chain Reaction"
          ],
          [
           "The Fan"
          ],
          [
           "The Phantom of the Opera"
          ],
          [
           "Elizabeth: The Golden Age"
          ],
          [
           "Æon Flux"
          ],
          [
           "Gods and Generals"
          ],
          [
           "Turbulence"
          ],
          [
           "Imagine That"
          ],
          [
           "Muppets Most Wanted"
          ],
          [
           "Thunderbirds"
          ],
          [
           "Burlesque"
          ],
          [
           "A Very Long Engagement"
          ],
          [
           "Lolita"
          ],
          [
           "D-Tox"
          ],
          [
           "Blade II"
          ],
          [
           "Seven Pounds"
          ],
          [
           "Bullet to the Head"
          ],
          [
           "The Godfather: Part III"
          ],
          [
           "Elizabethtown"
          ],
          [
           "You, Me and Dupree"
          ],
          [
           "Superman II"
          ],
          [
           "Gigli"
          ],
          [
           "All the King's Men"
          ],
          [
           "Shaft"
          ],
          [
           "Anastasia"
          ],
          [
           "Moulin Rouge!"
          ],
          [
           "Domestic Disturbance"
          ],
          [
           "Black Mass"
          ],
          [
           "Flags of Our Fathers"
          ],
          [
           "Law Abiding Citizen"
          ],
          [
           "Grindhouse"
          ],
          [
           "Beloved"
          ],
          [
           "Lucky You"
          ],
          [
           "Catch Me If You Can"
          ],
          [
           "Zero Dark Thirty"
          ],
          [
           "The Break-Up"
          ],
          [
           "Mamma Mia!"
          ],
          [
           "Valentine's Day"
          ],
          [
           "The Dukes of Hazzard"
          ],
          [
           "The Thin Red Line"
          ],
          [
           "The Change-Up"
          ],
          [
           "Man on the Moon"
          ],
          [
           "Casino"
          ],
          [
           "From Paris with Love"
          ],
          [
           "Bulletproof Monk"
          ],
          [
           "Me, Myself & Irene"
          ],
          [
           "Barnyard"
          ],
          [
           "Deck the Halls"
          ],
          [
           "The Twilight Saga: New Moon"
          ],
          [
           "Shrek"
          ],
          [
           "The Adjustment Bureau"
          ],
          [
           "Robin Hood: Prince of Thieves"
          ],
          [
           "Jerry Maguire"
          ],
          [
           "Ted"
          ],
          [
           "As Good as It Gets"
          ],
          [
           "Patch Adams"
          ],
          [
           "Anchorman 2: The Legend Continues"
          ],
          [
           "Mr. Deeds"
          ],
          [
           "Super 8"
          ],
          [
           "Erin Brockovich"
          ],
          [
           "How to Lose a Guy in 10 Days"
          ],
          [
           "22 Jump Street"
          ],
          [
           "Interview with the Vampire"
          ],
          [
           "Yes Man"
          ],
          [
           "Central Intelligence"
          ],
          [
           "Stepmom"
          ],
          [
           "Daddy's Home"
          ],
          [
           "Into the Woods"
          ],
          [
           "Inside Man"
          ],
          [
           "Payback"
          ],
          [
           "Congo"
          ],
          [
           "We Bought a Zoo"
          ],
          [
           "Knowing"
          ],
          [
           "Failure to Launch"
          ],
          [
           "The Ring Two"
          ],
          [
           "Crazy, Stupid, Love."
          ],
          [
           "Garfield"
          ],
          [
           "Christmas with the Kranks"
          ],
          [
           "Moneyball"
          ],
          [
           "Outbreak"
          ],
          [
           "Non-Stop"
          ],
          [
           "Race to Witch Mountain"
          ],
          [
           "V for Vendetta"
          ],
          [
           "Shanghai Knights"
          ],
          [
           "Curious George"
          ],
          [
           "Herbie Fully Loaded"
          ],
          [
           "Don't Say a Word"
          ],
          [
           "Hansel & Gretel: Witch Hunters"
          ],
          [
           "Unfaithful"
          ],
          [
           "I Am Number Four"
          ],
          [
           "Syriana"
          ],
          [
           "13 Hours: The Secret Soldiers of Benghazi"
          ],
          [
           "The Book of Life"
          ],
          [
           "Firewall"
          ],
          [
           "Absolute Power"
          ],
          [
           "G.I. Jane"
          ],
          [
           "The Game"
          ],
          [
           "Silent Hill"
          ],
          [
           "The Replacements"
          ],
          [
           "American Reunion"
          ],
          [
           "The Negotiator"
          ],
          [
           "Into the Storm"
          ],
          [
           "Beverly Hills Cop III"
          ],
          [
           "Gremlins 2: The New Batch"
          ],
          [
           "The Judge"
          ],
          [
           "The Peacemaker"
          ],
          [
           "Resident Evil: Apocalypse"
          ],
          [
           "Bridget Jones: The Edge of Reason"
          ],
          [
           "Out of Time"
          ],
          [
           "On Deadly Ground"
          ],
          [
           "The Adventures of Sharkboy and Lavagirl"
          ],
          [
           "The Beach"
          ],
          [
           "Raising Helen"
          ],
          [
           "Ninja Assassin"
          ],
          [
           "For Love of the Game"
          ],
          [
           "Striptease"
          ],
          [
           "Marmaduke"
          ],
          [
           "Hereafter"
          ],
          [
           "Murder by Numbers"
          ],
          [
           "Assassins"
          ],
          [
           "Hannibal Rising"
          ],
          [
           "The Story of Us"
          ],
          [
           "The Host"
          ],
          [
           "Basic"
          ],
          [
           "Blood Work"
          ],
          [
           "The International"
          ],
          [
           "Escape from L.A."
          ],
          [
           "The Iron Giant"
          ],
          [
           "The Life Aquatic with Steve Zissou"
          ],
          [
           "Free State of Jones"
          ],
          [
           "The Life of David Gale"
          ],
          [
           "Man of the House"
          ],
          [
           "Run All Night"
          ],
          [
           "Eastern Promises"
          ],
          [
           "Into the Blue"
          ],
          [
           "The Messenger: The Story of Joan of Arc"
          ],
          [
           "Your Highness"
          ],
          [
           "Dream House"
          ],
          [
           "Mad City"
          ],
          [
           "Baby's Day Out"
          ],
          [
           "The Scarlet Letter"
          ],
          [
           "Fair Game"
          ],
          [
           "Domino"
          ],
          [
           "Jade"
          ],
          [
           "Gamer"
          ],
          [
           "Beautiful Creatures"
          ],
          [
           "Death to Smoochy"
          ],
          [
           "Zoolander 2"
          ],
          [
           "The Big Bounce"
          ],
          [
           "What Planet Are You From?"
          ],
          [
           "Drive Angry"
          ],
          [
           "Street Fighter: The Legend of Chun-Li"
          ],
          [
           "The One"
          ],
          [
           "The Adventures of Ford Fairlane"
          ],
          [
           "The Boat That Rocked"
          ],
          [
           "Traffic"
          ],
          [
           "Indiana Jones and the Last Crusade"
          ],
          [
           "Anna Karenina"
          ],
          [
           "Chappie"
          ],
          [
           "The Bone Collector"
          ],
          [
           "Panic Room"
          ],
          [
           "The Tooth Fairy"
          ],
          [
           "Three Kings"
          ],
          [
           "Child 44"
          ],
          [
           "Rat Race"
          ],
          [
           "K-PAX"
          ],
          [
           "Kate & Leopold"
          ],
          [
           "Bedazzled"
          ],
          [
           "The Cotton Club"
          ],
          [
           "3:10 to Yuma"
          ],
          [
           "Taken 3"
          ],
          [
           "Out of Sight"
          ],
          [
           "The Cable Guy"
          ],
          [
           "Earth"
          ],
          [
           "Dick Tracy"
          ],
          [
           "The Thomas Crown Affair"
          ],
          [
           "Riding in Cars with Boys"
          ],
          [
           "First Blood"
          ],
          [
           "Solaris"
          ],
          [
           "Happily N'Ever After"
          ],
          [
           "Mary Reilly"
          ],
          [
           "My Best Friend's Wedding"
          ],
          [
           "America's Sweethearts"
          ],
          [
           "Insomnia"
          ],
          [
           "Star Trek: First Contact"
          ],
          [
           "Jonah Hex"
          ],
          [
           "Courage Under Fire"
          ],
          [
           "Liar Liar"
          ],
          [
           "The Infiltrator"
          ],
          [
           "Inchon"
          ],
          [
           "The Flintstones"
          ],
          [
           "Taken 2"
          ],
          [
           "Scary Movie 3"
          ],
          [
           "Miss Congeniality"
          ],
          [
           "Journey to the Center of the Earth"
          ],
          [
           "The Princess Diaries 2: Royal Engagement"
          ],
          [
           "The Pelican Brief"
          ],
          [
           "The Client"
          ],
          [
           "The Bucket List"
          ],
          [
           "Patriot Games"
          ],
          [
           "Monster-in-Law"
          ],
          [
           "Prisoners"
          ],
          [
           "Training Day"
          ],
          [
           "Galaxy Quest"
          ],
          [
           "Scary Movie 2"
          ],
          [
           "The Muppets"
          ],
          [
           "Blade"
          ],
          [
           "Coach Carter"
          ],
          [
           "Changing Lanes"
          ],
          [
           "Anaconda"
          ],
          [
           "Coyote Ugly"
          ],
          [
           "Love Actually"
          ],
          [
           "A Bug's Life"
          ],
          [
           "From Hell"
          ],
          [
           "The Specialist"
          ],
          [
           "Tin Cup"
          ],
          [
           "Yours, Mine and Ours"
          ],
          [
           "Kicking & Screaming"
          ],
          [
           "The Hitchhiker's Guide to the Galaxy"
          ],
          [
           "Fat Albert"
          ],
          [
           "Resident Evil: Extinction"
          ],
          [
           "Blended"
          ],
          [
           "Last Holiday"
          ],
          [
           "The River Wild"
          ],
          [
           "The Indian in the Cupboard"
          ],
          [
           "Savages"
          ],
          [
           "Cellular"
          ],
          [
           "Johnny English"
          ],
          [
           "The Ant Bully"
          ],
          [
           "Dune"
          ],
          [
           "Across the Universe"
          ],
          [
           "Revolutionary Road"
          ],
          [
           "16 Blocks"
          ],
          [
           "Babylon A.D."
          ],
          [
           "The Glimmer Man"
          ],
          [
           "Multiplicity"
          ],
          [
           "Aliens in the Attic"
          ],
          [
           "The Pledge"
          ],
          [
           "The Producers"
          ],
          [
           "The Phantom"
          ],
          [
           "All the Pretty Horses"
          ],
          [
           "Nixon"
          ],
          [
           "The Ghost Writer"
          ],
          [
           "Deep Rising"
          ],
          [
           "Miracle at St. Anna"
          ],
          [
           "Curse of the Golden Flower"
          ],
          [
           "Bangkok Dangerous"
          ],
          [
           "Big Trouble"
          ],
          [
           "Love in the Time of Cholera"
          ],
          [
           "Shadow Conspiracy"
          ],
          [
           "Johnny English Reborn"
          ],
          [
           "Foodfight!"
          ],
          [
           "Argo"
          ],
          [
           "The Fugitive"
          ],
          [
           "The Bounty Hunter"
          ],
          [
           "Sleepers"
          ],
          [
           "Rambo: First Blood Part II"
          ],
          [
           "The Juror"
          ],
          [
           "Pinocchio"
          ],
          [
           "Heaven's Gate"
          ],
          [
           "Underworld: Evolution"
          ],
          [
           "Victor Frankenstein"
          ],
          [
           "Finding Forrester"
          ],
          [
           "28 Days"
          ],
          [
           "Unleashed"
          ],
          [
           "The Sweetest Thing"
          ],
          [
           "The Firm"
          ],
          [
           "Charlie St. Cloud"
          ],
          [
           "The Mechanic"
          ],
          [
           "21 Jump Street"
          ],
          [
           "Notting Hill"
          ],
          [
           "Chicken Run"
          ],
          [
           "Along Came Polly"
          ],
          [
           "Boomerang"
          ],
          [
           "The Heat"
          ],
          [
           "Cleopatra"
          ],
          [
           "Here Comes the Boom"
          ],
          [
           "High Crimes"
          ],
          [
           "The Mirror Has Two Faces"
          ],
          [
           "The Mothman Prophecies"
          ],
          [
           "Brüno"
          ],
          [
           "Licence to Kill"
          ],
          [
           "Red Riding Hood"
          ],
          [
           "15 Minutes"
          ],
          [
           "Super Mario Bros."
          ],
          [
           "Lord of War"
          ],
          [
           "Hero"
          ],
          [
           "One for the Money"
          ],
          [
           "The Interview"
          ],
          [
           "The Warrior's Way"
          ],
          [
           "Micmacs"
          ],
          [
           "8 Mile"
          ],
          [
           "Why I Did (Not) Eat My Father"
          ],
          [
           "A Knight's Tale"
          ],
          [
           "The Medallion"
          ],
          [
           "The Sixth Sense"
          ],
          [
           "Man on a Ledge"
          ],
          [
           "The Big Year"
          ],
          [
           "The Karate Kid"
          ],
          [
           "American Hustle"
          ],
          [
           "The Proposal"
          ],
          [
           "Double Jeopardy"
          ],
          [
           "Back to the Future Part II"
          ],
          [
           "Lucy"
          ],
          [
           "Fifty Shades of Grey"
          ],
          [
           "Spy Kids 3-D: Game Over"
          ],
          [
           "A Time to Kill"
          ],
          [
           "Cheaper by the Dozen"
          ],
          [
           "Lone Survivor"
          ],
          [
           "A League of Their Own"
          ],
          [
           "The Conjuring 2"
          ],
          [
           "The Social Network"
          ],
          [
           "He's Just Not That Into You"
          ],
          [
           "Scary Movie 4"
          ],
          [
           "Scream 3"
          ],
          [
           "Back to the Future Part III"
          ],
          [
           "Get Hard"
          ],
          [
           "Dracula"
          ],
          [
           "Julie & Julia"
          ],
          [
           "42"
          ],
          [
           "The Talented Mr. Ripley"
          ],
          [
           "Dumb and Dumber To"
          ],
          [
           "Eight Below"
          ],
          [
           "The Intern"
          ],
          [
           "Ride Along 2"
          ],
          [
           "The Last of the Mohicans"
          ],
          [
           "Ray"
          ],
          [
           "Sin City"
          ],
          [
           "Vantage Point"
          ],
          [
           "I Love You, Man"
          ],
          [
           "Shallow Hal"
          ],
          [
           "JFK"
          ],
          [
           "Big Momma's House 2"
          ],
          [
           "The Mexican"
          ],
          [
           "17 Again"
          ],
          [
           "The Other Woman"
          ],
          [
           "The Final Destination"
          ],
          [
           "Bridge of Spies"
          ],
          [
           "Behind Enemy Lines"
          ],
          [
           "Get Him to the Greek"
          ],
          [
           "Shall We Dance?"
          ],
          [
           "Small Soldiers"
          ],
          [
           "Spawn"
          ],
          [
           "The Count of Monte Cristo"
          ],
          [
           "The Lincoln Lawyer"
          ],
          [
           "Unknown"
          ],
          [
           "The Prestige"
          ],
          [
           "Horrible Bosses 2"
          ],
          [
           "Escape from Planet Earth"
          ],
          [
           "Apocalypto"
          ],
          [
           "The Living Daylights"
          ],
          [
           "Predators"
          ],
          [
           "Legal Eagles"
          ],
          [
           "Secret Window"
          ],
          [
           "The Lake House"
          ],
          [
           "The Skeleton Key"
          ],
          [
           "The Odd Life of Timothy Green"
          ],
          [
           "Made of Honor"
          ],
          [
           "Jersey Boys"
          ],
          [
           "The Rainmaker"
          ],
          [
           "Gothika"
          ],
          [
           "Amistad"
          ],
          [
           "Medicine Man"
          ],
          [
           "Aliens vs Predator: Requiem"
          ],
          [
           "Ri¢hie Ri¢h"
          ],
          [
           "Autumn in New York"
          ],
          [
           "Music and Lyrics"
          ],
          [
           "Paul"
          ],
          [
           "The Guilt Trip"
          ],
          [
           "Scream 4"
          ],
          [
           "8MM"
          ],
          [
           "The Doors"
          ],
          [
           "Sex Tape"
          ],
          [
           "Hanging Up"
          ],
          [
           "Final Destination 5"
          ],
          [
           "Mickey Blue Eyes"
          ],
          [
           "Pay It Forward"
          ],
          [
           "Fever Pitch"
          ],
          [
           "Drillbit Taylor"
          ],
          [
           "A Million Ways to Die in the West"
          ],
          [
           "The Shadow"
          ],
          [
           "Extremely Loud & Incredibly Close"
          ],
          [
           "Morning Glory"
          ],
          [
           "Get Rich or Die Tryin'"
          ],
          [
           "The Art of War"
          ],
          [
           "Rent"
          ],
          [
           "Bless the Child"
          ],
          [
           "The Out-of-Towners"
          ],
          [
           "The Island of Dr. Moreau"
          ],
          [
           "The Musketeer"
          ],
          [
           "The Other Boleyn Girl"
          ],
          [
           "Sweet November"
          ],
          [
           "The Reaping"
          ],
          [
           "Mean Streets"
          ],
          [
           "Renaissance Man"
          ],
          [
           "Colombiana"
          ],
          [
           "Quest for Camelot"
          ],
          [
           "City By The Sea"
          ],
          [
           "At First Sight"
          ],
          [
           "Torque"
          ],
          [
           "City Hall"
          ],
          [
           "Showgirls"
          ],
          [
           "Marie Antoinette"
          ],
          [
           "Kiss of Death"
          ],
          [
           "Get Carter"
          ],
          [
           "The Impossible"
          ],
          [
           "Ishtar"
          ],
          [
           "Fantastic Mr. Fox"
          ],
          [
           "Life or Something Like It"
          ],
          [
           "Memoirs of an Invisible Man"
          ],
          [
           "Amélie"
          ],
          [
           "New York Minute"
          ],
          [
           "Alfie"
          ],
          [
           "Big Miracle"
          ],
          [
           "The Deep End of the Ocean"
          ],
          [
           "FearDotCom"
          ],
          [
           "Cirque du Freak: The Vampire's Assistant"
          ],
          [
           "Duplex"
          ],
          [
           "Soul Men"
          ],
          [
           "Raise the Titanic"
          ],
          [
           "Universal Soldier: The Return"
          ],
          [
           "Pandorum"
          ],
          [
           "Impostor"
          ],
          [
           "Extreme Ops"
          ],
          [
           "Just Visiting"
          ],
          [
           "Sunshine"
          ],
          [
           "A Thousand Words"
          ],
          [
           "Delgo"
          ],
          [
           "The Gunman"
          ],
          [
           "Stormbreaker"
          ],
          [
           "Disturbia"
          ],
          [
           "Hackers"
          ],
          [
           "The Hunting Party"
          ],
          [
           "The Hudsucker Proxy"
          ],
          [
           "The Warlords"
          ],
          [
           "Nomad: The Warrior"
          ],
          [
           "Snowpiercer"
          ],
          [
           "A Monster in Paris"
          ],
          [
           "The Last Shot"
          ],
          [
           "The Crow"
          ],
          [
           "Baahubali: The Beginning"
          ],
          [
           "The Time Traveler's Wife"
          ],
          [
           "Because I Said So"
          ],
          [
           "Frankenweenie"
          ],
          [
           "Serenity"
          ],
          [
           "Against the Ropes"
          ],
          [
           "Superman III"
          ],
          [
           "Grudge Match"
          ],
          [
           "Red Cliff"
          ],
          [
           "Sweet Home Alabama"
          ],
          [
           "The Ugly Truth"
          ],
          [
           "Sgt. Bilko"
          ],
          [
           "Spy Kids 2: The Island of Lost Dreams"
          ],
          [
           "Star Trek: Generations"
          ],
          [
           "The Grandmaster"
          ],
          [
           "Water for Elephants"
          ],
          [
           "Dragon Nest: Warriors' Dawn"
          ],
          [
           "The Hurricane"
          ],
          [
           "Enough"
          ],
          [
           "Heartbreakers"
          ],
          [
           "Paul Blart: Mall Cop 2"
          ],
          [
           "Angel Eyes"
          ],
          [
           "Joe Somebody"
          ],
          [
           "The Ninth Gate"
          ],
          [
           "Extreme Measures"
          ],
          [
           "Rock Star"
          ],
          [
           "Precious"
          ],
          [
           "White Squall"
          ],
          [
           "The Thing"
          ],
          [
           "Riddick"
          ],
          [
           "Switchback"
          ],
          [
           "Texas Rangers"
          ],
          [
           "City of Ember"
          ],
          [
           "The Master"
          ],
          [
           "Virgin Territory"
          ],
          [
           "The Express"
          ],
          [
           "The 5th Wave"
          ],
          [
           "Creed"
          ],
          [
           "The Town"
          ],
          [
           "What to Expect When You're Expecting"
          ],
          [
           "Burn After Reading"
          ],
          [
           "Nim's Island"
          ],
          [
           "Rush"
          ],
          [
           "Magnolia"
          ],
          [
           "Cop Out"
          ],
          [
           "How to Be Single"
          ],
          [
           "Dolphin Tale"
          ],
          [
           "Twilight"
          ],
          [
           "John Q"
          ],
          [
           "Blue Streak"
          ],
          [
           "We're the Millers"
          ],
          [
           "The Inhabited Island"
          ],
          [
           "Breakdown"
          ],
          [
           "Never Say Never Again"
          ],
          [
           "Hot Tub Time Machine"
          ],
          [
           "Dolphin Tale 2"
          ],
          [
           "Reindeer Games"
          ],
          [
           "A Man Apart"
          ],
          [
           "Aloha"
          ],
          [
           "Ghosts of Mississippi"
          ],
          [
           "Snow Falling on Cedars"
          ],
          [
           "The Rite"
          ],
          [
           "Gattaca"
          ],
          [
           "Isn't She Great"
          ],
          [
           "Space Chimps"
          ],
          [
           "Head of State"
          ],
          [
           "The Hangover"
          ],
          [
           "Ip Man 3"
          ],
          [
           "Austin Powers: The Spy Who Shagged Me"
          ],
          [
           "Batman"
          ],
          [
           "There Be Dragons"
          ],
          [
           "Lethal Weapon 3"
          ],
          [
           "The Blind Side"
          ],
          [
           "Spy Kids"
          ],
          [
           "Horrible Bosses"
          ],
          [
           "True Grit"
          ],
          [
           "The Devil Wears Prada"
          ],
          [
           "Star Trek: The Motion Picture"
          ],
          [
           "Identity Thief"
          ],
          [
           "Cape Fear"
          ],
          [
           "21"
          ],
          [
           "Trainwreck"
          ],
          [
           "Guess Who"
          ],
          [
           "The English Patient"
          ],
          [
           "L.A. Confidential"
          ],
          [
           "Sky High"
          ],
          [
           "In & Out"
          ],
          [
           "Species"
          ],
          [
           "A Nightmare on Elm Street"
          ],
          [
           "The Cell"
          ],
          [
           "The Man in the Iron Mask"
          ],
          [
           "Secretariat"
          ],
          [
           "TMNT"
          ],
          [
           "Radio"
          ],
          [
           "Friends with Benefits"
          ],
          [
           "Neighbors 2: Sorority Rising"
          ],
          [
           "Saving Mr. Banks"
          ],
          [
           "Malcolm X"
          ],
          [
           "This Is 40"
          ],
          [
           "Old Dogs"
          ],
          [
           "Underworld: Rise of the Lycans"
          ],
          [
           "License to Wed"
          ],
          [
           "The Benchwarmers"
          ],
          [
           "Must Love Dogs"
          ],
          [
           "Donnie Brasco"
          ],
          [
           "Resident Evil"
          ],
          [
           "Poltergeist"
          ],
          [
           "The Ladykillers"
          ],
          [
           "Max Payne"
          ],
          [
           "In Time"
          ],
          [
           "The Back-Up Plan"
          ],
          [
           "Something Borrowed"
          ],
          [
           "Black Knight"
          ],
          [
           "The Bad News Bears"
          ],
          [
           "Street Fighter"
          ],
          [
           "The Pianist"
          ],
          [
           "The Nativity Story"
          ],
          [
           "House of Wax"
          ],
          [
           "Closer"
          ],
          [
           "J. Edgar"
          ],
          [
           "Mirrors"
          ],
          [
           "Queen of the Damned"
          ],
          [
           "Predator 2"
          ],
          [
           "Untraceable"
          ],
          [
           "Blast from the Past"
          ],
          [
           "Flash Gordon"
          ],
          [
           "Jersey Girl"
          ],
          [
           "Alex Cross"
          ],
          [
           "Midnight in the Garden of Good and Evil"
          ],
          [
           "Heist"
          ],
          [
           "Nanny McPhee and the Big Bang"
          ],
          [
           "Hoffa"
          ],
          [
           "The X Files: I Want to Believe"
          ],
          [
           "Ella Enchanted"
          ],
          [
           "Concussion"
          ],
          [
           "Abduction"
          ],
          [
           "Valiant"
          ],
          [
           "Wonder Boys"
          ],
          [
           "Superhero Movie"
          ],
          [
           "Broken City"
          ],
          [
           "Cursed"
          ],
          [
           "Premium Rush"
          ],
          [
           "Hot Pursuit"
          ],
          [
           "The Four Feathers"
          ],
          [
           "Parker"
          ],
          [
           "Wimbledon"
          ],
          [
           "Furry Vengeance"
          ],
          [
           "Bait"
          ],
          [
           "Krull"
          ],
          [
           "Lions for Lambs"
          ],
          [
           "Flight of the Intruder"
          ],
          [
           "Walk Hard: The Dewey Cox Story"
          ],
          [
           "The Shipping News"
          ],
          [
           "American Outlaws"
          ],
          [
           "The Young Victoria"
          ],
          [
           "Whiteout"
          ],
          [
           "The Tree of Life"
          ],
          [
           "Knock Off"
          ],
          [
           "Sabotage"
          ],
          [
           "The Order"
          ],
          [
           "Punisher: War Zone"
          ],
          [
           "Zoom"
          ],
          [
           "The Walk"
          ],
          [
           "Warriors of Virtue"
          ],
          [
           "A Good Year"
          ],
          [
           "Radio Flyer"
          ],
          [
           "Bound by Honor"
          ],
          [
           "Smilla's Sense of Snow"
          ],
          [
           "Femme Fatale"
          ],
          [
           "Lion of the Desert"
          ],
          [
           "The Horseman on the Roof"
          ],
          [
           "Ride with the Devil"
          ],
          [
           "Biutiful"
          ],
          [
           "Bandidas"
          ],
          [
           "Black Water Transit"
          ],
          [
           "The Maze Runner"
          ],
          [
           "Unfinished Business"
          ],
          [
           "The Age of Innocence"
          ],
          [
           "The Fountain"
          ],
          [
           "Chill Factor"
          ],
          [
           "Stolen"
          ],
          [
           "Ponyo"
          ],
          [
           "The Longest Ride"
          ],
          [
           "The Astronaut's Wife"
          ],
          [
           "I Dreamed of Africa"
          ],
          [
           "Playing for Keeps"
          ],
          [
           "Mandela: Long Walk to Freedom"
          ],
          [
           "Reds"
          ],
          [
           "A Few Good Men"
          ],
          [
           "Exit Wounds"
          ],
          [
           "Big Momma's House"
          ],
          [
           "Thunder and the House of Magic"
          ],
          [
           "The Darkest Hour"
          ],
          [
           "Step Up Revolution"
          ],
          [
           "Snakes on a Plane"
          ],
          [
           "The Watcher"
          ],
          [
           "The Punisher"
          ],
          [
           "Goal!: The Dream Begins"
          ],
          [
           "Safe"
          ],
          [
           "Pushing Tin"
          ],
          [
           "Return of the Jedi"
          ],
          [
           "Doomsday"
          ],
          [
           "The Reader"
          ],
          [
           "Wanderlust"
          ],
          [
           "Elf"
          ],
          [
           "Phenomenon"
          ],
          [
           "Snow Dogs"
          ],
          [
           "Scrooged"
          ],
          [
           "Nacho Libre"
          ],
          [
           "Bridesmaids"
          ],
          [
           "This Is the End"
          ],
          [
           "Stigmata"
          ],
          [
           "Men of Honor"
          ],
          [
           "Takers"
          ],
          [
           "The Big Wedding"
          ],
          [
           "Big Mommas: Like Father, Like Son"
          ],
          [
           "Source Code"
          ],
          [
           "Alive"
          ],
          [
           "The Number 23"
          ],
          [
           "The Young and Prodigious T.S. Spivet"
          ],
          [
           "1941"
          ],
          [
           "Dreamer: Inspired By a True Story"
          ],
          [
           "A History of Violence"
          ],
          [
           "Transporter 2"
          ],
          [
           "The Quick and the Dead"
          ],
          [
           "Laws of Attraction"
          ],
          [
           "Bringing Out the Dead"
          ],
          [
           "Repo Men"
          ],
          [
           "Dragon Wars: D-War"
          ],
          [
           "Bogus"
          ],
          [
           "The Incredible Burt Wonderstone"
          ],
          [
           "Cats Don't Dance"
          ],
          [
           "Cradle Will Rock"
          ],
          [
           "The Good German"
          ],
          [
           "George and the Dragon"
          ],
          [
           "Apocalypse Now"
          ],
          [
           "Going the Distance"
          ],
          [
           "Mr. Holland's Opus"
          ],
          [
           "Criminal"
          ],
          [
           "Out of Africa"
          ],
          [
           "Flight"
          ],
          [
           "Moonraker"
          ],
          [
           "The Grand Budapest Hotel"
          ],
          [
           "Hearts in Atlantis"
          ],
          [
           "Arachnophobia"
          ],
          [
           "Frequency"
          ],
          [
           "Vacation"
          ],
          [
           "Get Shorty"
          ],
          [
           "Chicago"
          ],
          [
           "Big Daddy"
          ],
          [
           "American Pie 2"
          ],
          [
           "Toy Story"
          ],
          [
           "Speed"
          ],
          [
           "The Vow"
          ],
          [
           "Extraordinary Measures"
          ],
          [
           "Remember the Titans"
          ],
          [
           "The Hunt for Red October"
          ],
          [
           "The Butler"
          ],
          [
           "DodgeBall: A True Underdog Story"
          ],
          [
           "The Addams Family"
          ],
          [
           "Ace Ventura: When Nature Calls"
          ],
          [
           "The Princess Diaries"
          ],
          [
           "The First Wives Club"
          ],
          [
           "Se7en"
          ],
          [
           "District 9"
          ],
          [
           "The SpongeBob SquarePants Movie"
          ],
          [
           "Mystic River"
          ],
          [
           "Million Dollar Baby"
          ],
          [
           "Analyze This"
          ],
          [
           "The Notebook"
          ],
          [
           "27 Dresses"
          ],
          [
           "Hannah Montana: The Movie"
          ],
          [
           "Rugrats in Paris: The Movie"
          ],
          [
           "The Prince of Tides"
          ],
          [
           "Legends of the Fall"
          ],
          [
           "Up in the Air"
          ],
          [
           "About Schmidt"
          ],
          [
           "Warm Bodies"
          ],
          [
           "Looper"
          ],
          [
           "Down to Earth"
          ],
          [
           "Babe"
          ],
          [
           "Hope Springs"
          ],
          [
           "Forgetting Sarah Marshall"
          ],
          [
           "Four Brothers"
          ],
          [
           "Baby Mama"
          ],
          [
           "Hope Floats"
          ],
          [
           "Bride Wars"
          ],
          [
           "Without a Paddle"
          ],
          [
           "13 Going on 30"
          ],
          [
           "Midnight in Paris"
          ],
          [
           "The Nut Job"
          ],
          [
           "Blow"
          ],
          [
           "Message in a Bottle"
          ],
          [
           "Star Trek V: The Final Frontier"
          ],
          [
           "Like Mike"
          ],
          [
           "The Naked Gun 33⅓: The Final Insult"
          ],
          [
           "A View to a Kill"
          ],
          [
           "The Curse of the Were-Rabbit"
          ],
          [
           "P.S. I Love You"
          ],
          [
           "Racing Stripes"
          ],
          [
           "Atonement"
          ],
          [
           "Letters to Juliet"
          ],
          [
           "Black Rain"
          ],
          [
           "The Three Stooges"
          ],
          [
           "Corpse Bride"
          ],
          [
           "Glory Road"
          ],
          [
           "Sicario"
          ],
          [
           "Southpaw"
          ],
          [
           "Drag Me to Hell"
          ],
          [
           "The Age of Adaline"
          ],
          [
           "Secondhand Lions"
          ],
          [
           "Step Up 3D"
          ],
          [
           "Blue Crush"
          ],
          [
           "Stranger Than Fiction"
          ],
          [
           "30 Days of Night"
          ],
          [
           "The Cabin in the Woods"
          ],
          [
           "Meet the Spartans"
          ],
          [
           "Midnight Run"
          ],
          [
           "The Running Man"
          ],
          [
           "Little Shop of Horrors"
          ],
          [
           "Hanna"
          ],
          [
           "Mortal Kombat: Annihilation"
          ],
          [
           "Larry Crowne"
          ],
          [
           "Carrie"
          ],
          [
           "Take the Lead"
          ],
          [
           "Gridiron Gang"
          ],
          [
           "What's the Worst That Could Happen?"
          ],
          [
           "9"
          ],
          [
           "Side Effects"
          ],
          [
           "The Prince & Me"
          ],
          [
           "Winnie the Pooh"
          ],
          [
           "Dumb and Dumberer: When Harry Met Lloyd"
          ],
          [
           "Bulworth"
          ],
          [
           "Get on Up"
          ],
          [
           "One True Thing"
          ],
          [
           "Virtuosity"
          ],
          [
           "My Super Ex-Girlfriend"
          ],
          [
           "Deliver Us from Evil"
          ],
          [
           "Sanctum"
          ],
          [
           "Little Black Book"
          ],
          [
           "The Five-Year Engagement"
          ],
          [
           "Mr. 3000"
          ],
          [
           "The Next Three Days"
          ],
          [
           "Ultraviolet"
          ],
          [
           "Assault on Precinct 13"
          ],
          [
           "The Replacement Killers"
          ],
          [
           "Fled"
          ],
          [
           "Eight Legged Freaks"
          ],
          [
           "Love & Other Drugs"
          ],
          [
           "88 Minutes"
          ],
          [
           "North Country"
          ],
          [
           "The Whole Ten Yards"
          ],
          [
           "Splice"
          ],
          [
           "Howard the Duck"
          ],
          [
           "Pride and Glory"
          ],
          [
           "The Cave"
          ],
          [
           "Alex & Emma"
          ],
          [
           "Wicker Park"
          ],
          [
           "Fright Night"
          ],
          [
           "The New World"
          ],
          [
           "Wing Commander"
          ],
          [
           "In Dreams"
          ],
          [
           "Dragonball Evolution"
          ],
          [
           "The Last Stand"
          ],
          [
           "Godsend"
          ],
          [
           "Chasing Liberty"
          ],
          [
           "Hoodwinked Too! Hood VS. Evil"
          ],
          [
           "An Unfinished Life"
          ],
          [
           "The Imaginarium of Doctor Parnassus"
          ],
          [
           "Barney's Version"
          ],
          [
           "Runner Runner"
          ],
          [
           "Antitrust"
          ],
          [
           "Glory"
          ],
          [
           "Once Upon a Time in America"
          ],
          [
           "Dead Man Down"
          ],
          [
           "The Merchant of Venice"
          ],
          [
           "The Good Thief"
          ],
          [
           "Supercross"
          ],
          [
           "Miss Potter"
          ],
          [
           "The Promise"
          ],
          [
           "DOA: Dead or Alive"
          ],
          [
           "The Assassination of Jesse James by the Coward Robert Ford"
          ],
          [
           "1911"
          ],
          [
           "Little Nicholas"
          ],
          [
           "Wild Card"
          ],
          [
           "Machine Gun Preacher"
          ],
          [
           "Animals United"
          ],
          [
           "Goodbye Bafana"
          ],
          [
           "United Passions"
          ],
          [
           "Grace of Monaco"
          ],
          [
           "Savva. Heart of the Warrior"
          ],
          [
           "Ripley's Game"
          ],
          [
           "Sausage Party"
          ],
          [
           "Pitch Perfect 2"
          ],
          [
           "Walk the Line"
          ],
          [
           "Keeping the Faith"
          ],
          [
           "The Borrowers"
          ],
          [
           "Frost/Nixon"
          ],
          [
           "Confessions of a Dangerous Mind"
          ],
          [
           "Serving Sara"
          ],
          [
           "The Boss"
          ],
          [
           "Cry Freedom"
          ],
          [
           "Mumford"
          ],
          [
           "Seed of Chucky"
          ],
          [
           "The Jacket"
          ],
          [
           "Aladdin"
          ],
          [
           "Straight Outta Compton"
          ],
          [
           "Indiana Jones and the Temple of Doom"
          ],
          [
           "The Rugrats Movie"
          ],
          [
           "Along Came a Spider"
          ],
          [
           "Florence Foster Jenkins"
          ],
          [
           "Once Upon a Time in Mexico"
          ],
          [
           "Die Hard"
          ],
          [
           "Role Models"
          ],
          [
           "The Big Short"
          ],
          [
           "Taking Woodstock"
          ],
          [
           "Miracle"
          ],
          [
           "Dawn of the Dead"
          ],
          [
           "The Wedding Planner"
          ],
          [
           "Space Pirate Captain Harlock"
          ],
          [
           "The Royal Tenenbaums"
          ],
          [
           "Identity"
          ],
          [
           "Last Vegas"
          ],
          [
           "For Your Eyes Only"
          ],
          [
           "Serendipity"
          ],
          [
           "Timecop"
          ],
          [
           "Zoolander"
          ],
          [
           "Safe Haven"
          ],
          [
           "Hocus Pocus"
          ],
          [
           "No Reservations"
          ],
          [
           "Kick-Ass"
          ],
          [
           "30 Minutes or Less"
          ],
          [
           "Dracula 2000"
          ],
          [
           "Alexander and the Terrible, Horrible, No Good, Very Bad Day"
          ],
          [
           "Pride & Prejudice"
          ],
          [
           "Blade Runner"
          ],
          [
           "Rob Roy"
          ],
          [
           "3 Days to Kill"
          ],
          [
           "We Own the Night"
          ],
          [
           "Lost Souls"
          ],
          [
           "Winged Migration"
          ],
          [
           "Just My Luck"
          ],
          [
           "Mystery, Alaska"
          ],
          [
           "The Spy Next Door"
          ],
          [
           "A Simple Wish"
          ],
          [
           "Ghosts of Mars"
          ],
          [
           "Our Brand Is Crisis"
          ],
          [
           "Pride and Prejudice and Zombies"
          ],
          [
           "Kundun"
          ],
          [
           "How to Lose Friends & Alienate People"
          ],
          [
           "Kick-Ass 2"
          ],
          [
           "Alatriste"
          ],
          [
           "Brick Mansions"
          ],
          [
           "Octopussy"
          ],
          [
           "Knocked Up"
          ],
          [
           "My Sister's Keeper"
          ],
          [
           "Welcome Home Roscoe Jenkins"
          ],
          [
           "A Passage to India"
          ],
          [
           "Notes on a Scandal"
          ],
          [
           "Rendition"
          ],
          [
           "Star Trek VI: The Undiscovered Country"
          ],
          [
           "Divine Secrets of the Ya-Ya Sisterhood"
          ],
          [
           "Kiss the Girls"
          ],
          [
           "The Blues Brothers"
          ],
          [
           "The Sisterhood of the Traveling Pants 2"
          ],
          [
           "Joyful Noise"
          ],
          [
           "About a Boy"
          ],
          [
           "Lake Placid"
          ],
          [
           "Lucky Number Slevin"
          ],
          [
           "The Right Stuff"
          ],
          [
           "Anonymous"
          ],
          [
           "The NeverEnding Story"
          ],
          [
           "Dark City"
          ],
          [
           "The Duchess"
          ],
          [
           "Return to Oz"
          ],
          [
           "The Newton Boys"
          ],
          [
           "Case 39"
          ],
          [
           "Suspect Zero"
          ],
          [
           "Martian Child"
          ],
          [
           "Spy Kids: All the Time in the World"
          ],
          [
           "Money Monster"
          ],
          [
           "The 51st State"
          ],
          [
           "Flawless"
          ],
          [
           "Mindhunters"
          ],
          [
           "What Just Happened"
          ],
          [
           "The Statement"
          ],
          [
           "The Magic Flute"
          ],
          [
           "Paul Blart: Mall Cop"
          ],
          [
           "Freaky Friday"
          ],
          [
           "The 40 Year Old Virgin"
          ],
          [
           "Shakespeare in Love"
          ],
          [
           "A Walk Among the Tombstones"
          ],
          [
           "Kindergarten Cop"
          ],
          [
           "Pineapple Express"
          ],
          [
           "Ever After: A Cinderella Story"
          ],
          [
           "Open Range"
          ],
          [
           "Flatliners"
          ],
          [
           "A Bridge Too Far"
          ],
          [
           "Red Eye"
          ],
          [
           "Final Destination 2"
          ],
          [
           "O Brother, Where Art Thou?"
          ],
          [
           "Legion"
          ],
          [
           "Pain & Gain"
          ],
          [
           "In Good Company"
          ],
          [
           "Clockstoppers"
          ],
          [
           "Silverado"
          ],
          [
           "Brothers"
          ],
          [
           "Agent Cody Banks 2: Destination London"
          ],
          [
           "New Year's Eve"
          ],
          [
           "Original Sin"
          ],
          [
           "The Raven"
          ],
          [
           "Welcome to Mooseport"
          ],
          [
           "Highlander: The Final Dimension"
          ],
          [
           "Blood and Wine"
          ],
          [
           "Snow White: A Tale of Terror"
          ],
          [
           "The Curse of the Jade Scorpion"
          ],
          [
           "Accidental Love"
          ],
          [
           "Flipper"
          ],
          [
           "Self/less"
          ],
          [
           "The Constant Gardener"
          ],
          [
           "The Passion of the Christ"
          ],
          [
           "Mrs. Doubtfire"
          ],
          [
           "Rain Man"
          ],
          [
           "Gran Torino"
          ],
          [
           "W."
          ],
          [
           "Taken"
          ],
          [
           "The Best of Me"
          ],
          [
           "The Bodyguard"
          ],
          [
           "Schindler's List"
          ],
          [
           "The Help"
          ],
          [
           "The Fifth Estate"
          ],
          [
           "Scooby-Doo 2: Monsters Unleashed"
          ],
          [
           "Forbidden Kingdom"
          ],
          [
           "Freddy vs. Jason"
          ],
          [
           "The Face of an Angel"
          ],
          [
           "Jimmy Neutron: Boy Genius"
          ],
          [
           "Cloverfield"
          ],
          [
           "Teenage Mutant Ninja Turtles II: The Secret of the Ooze"
          ],
          [
           "The Untouchables"
          ],
          [
           "No Country for Old Men"
          ],
          [
           "Ride Along"
          ],
          [
           "Bridget Jones's Diary"
          ],
          [
           "Chocolat"
          ],
          [
           "Legally Blonde 2: Red, White & Blonde"
          ],
          [
           "Parental Guidance"
          ],
          [
           "No Strings Attached"
          ],
          [
           "Tombstone"
          ],
          [
           "Romeo Must Die"
          ],
          [
           "The Omen"
          ],
          [
           "Final Destination 3"
          ],
          [
           "The Lucky One"
          ],
          [
           "Bridge to Terabithia"
          ],
          [
           "Finding Neverland"
          ],
          [
           "A Madea Christmas"
          ],
          [
           "The Grey"
          ],
          [
           "Hide and Seek"
          ],
          [
           "Anchorman: The Legend of Ron Burgundy"
          ],
          [
           "GoodFellas"
          ],
          [
           "Agent Cody Banks"
          ],
          [
           "Nanny McPhee"
          ],
          [
           "Scarface"
          ],
          [
           "Nothing to Lose"
          ],
          [
           "The Last Emperor"
          ],
          [
           "Contraband"
          ],
          [
           "Money Talks"
          ],
          [
           "There Will Be Blood"
          ],
          [
           "The Wild Thornberrys Movie"
          ],
          [
           "Rugrats Go Wild"
          ],
          [
           "Undercover Brother"
          ],
          [
           "The Sisterhood of the Traveling Pants"
          ],
          [
           "Kiss of the Dragon"
          ],
          [
           "The House Bunny"
          ],
          [
           "Beauty Shop"
          ],
          [
           "Million Dollar Arm"
          ],
          [
           "The Giver"
          ],
          [
           "What a Girl Wants"
          ],
          [
           "Jeepers Creepers 2"
          ],
          [
           "Good Luck Chuck"
          ],
          [
           "Cradle 2 the Grave"
          ],
          [
           "The Hours"
          ],
          [
           "She's the Man"
          ],
          [
           "Mr. Bean's Holiday"
          ],
          [
           "Anacondas: The Hunt for the Blood Orchid"
          ],
          [
           "Blood Ties"
          ],
          [
           "August Rush"
          ],
          [
           "Elizabeth"
          ],
          [
           "Bride of Chucky"
          ],
          [
           "Tora! Tora! Tora!"
          ],
          [
           "Spice World"
          ],
          [
           "The Sitter"
          ],
          [
           "Dance Flick"
          ],
          [
           "The Shawshank Redemption"
          ],
          [
           "Crocodile Dundee in Los Angeles"
          ],
          [
           "Kingpin"
          ],
          [
           "The Gambler"
          ],
          [
           "August: Osage County"
          ],
          [
           "Ice Princess"
          ],
          [
           "A Lot Like Love"
          ],
          [
           "Eddie the Eagle"
          ],
          [
           "He Got Game"
          ],
          [
           "Don Juan DeMarco"
          ],
          [
           "Dear John"
          ],
          [
           "The Losers"
          ],
          [
           "Don't Be Afraid of the Dark"
          ],
          [
           "War"
          ],
          [
           "Punch-Drunk Love"
          ],
          [
           "EuroTrip"
          ],
          [
           "Half Past Dead"
          ],
          [
           "Unaccompanied Minors"
          ],
          [
           "Bright Lights, Big City"
          ],
          [
           "The Adventures of Pinocchio"
          ],
          [
           "The Greatest Game Ever Played"
          ],
          [
           "The Box"
          ],
          [
           "The Ruins"
          ],
          [
           "The Next Best Thing"
          ],
          [
           "My Soul to Take"
          ],
          [
           "The Girl Next Door"
          ],
          [
           "Maximum Risk"
          ],
          [
           "Stealing Harvard"
          ],
          [
           "Legend"
          ],
          [
           "Hot Rod"
          ],
          [
           "Shark Night"
          ],
          [
           "Angela's Ashes"
          ],
          [
           "Draft Day"
          ],
          [
           "Lifeforce"
          ],
          [
           "The Conspirator"
          ],
          [
           "Lords of Dogtown"
          ],
          [
           "The 33"
          ],
          [
           "Big Trouble in Little China"
          ],
          [
           "Fly Me to the Moon"
          ],
          [
           "Warrior"
          ],
          [
           "Michael Collins"
          ],
          [
           "Gettysburg"
          ],
          [
           "Stop-Loss"
          ],
          [
           "Abandon"
          ],
          [
           "Brokedown Palace"
          ],
          [
           "The Possession"
          ],
          [
           "Mrs. Winterbourne"
          ],
          [
           "Straw Dogs"
          ],
          [
           "The Hoax"
          ],
          [
           "Stone Cold"
          ],
          [
           "The Road"
          ],
          [
           "Sheena"
          ],
          [
           "Underclassman"
          ],
          [
           "Say It Isn't So"
          ],
          [
           "The World's Fastest Indian"
          ],
          [
           "Tank Girl"
          ],
          [
           "King's Ransom"
          ],
          [
           "Blindness"
          ],
          [
           "BloodRayne"
          ],
          [
           "Carnage"
          ],
          [
           "Where the Truth Lies"
          ],
          [
           "Cirque du Soleil: Worlds Away"
          ],
          [
           "Without Limits"
          ],
          [
           "Me and Orson Welles"
          ],
          [
           "The Best Offer"
          ],
          [
           "The Bad Lieutenant: Port of Call - New Orleans"
          ],
          [
           "A Turtle's Tale: Sammy's Adventures"
          ],
          [
           "Little White Lies"
          ],
          [
           "Love Ranch"
          ],
          [
           "The True Story of Puss 'n Boots"
          ],
          [
           "Space Dogs"
          ],
          [
           "The Counselor"
          ],
          [
           "Ironclad"
          ],
          [
           "Waterloo"
          ],
          [
           "Kung Fu Jungle"
          ],
          [
           "Red Sky"
          ],
          [
           "Dangerous Liaisons"
          ],
          [
           "On the Road"
          ],
          [
           "Star Trek IV: The Voyage Home"
          ],
          [
           "Rocky Balboa"
          ],
          [
           "Scream 2"
          ],
          [
           "Jane Got a Gun"
          ],
          [
           "Think Like a Man Too"
          ],
          [
           "The Whole Nine Yards"
          ],
          [
           "Footloose"
          ],
          [
           "Old School"
          ],
          [
           "The Fisher King"
          ],
          [
           "I Still Know What You Did Last Summer"
          ],
          [
           "Return to Me"
          ],
          [
           "Zack and Miri Make a Porno"
          ],
          [
           "Nurse Betty"
          ],
          [
           "The Men Who Stare at Goats"
          ],
          [
           "Double Take"
          ],
          [
           "Girl, Interrupted"
          ],
          [
           "Win a Date with Tad Hamilton!"
          ],
          [
           "Muppets from Space"
          ],
          [
           "The Wiz"
          ],
          [
           "Ready to Rumble"
          ],
          [
           "Play It to the Bone"
          ],
          [
           "I Don't Know How She Does It"
          ],
          [
           "Piranha 3D"
          ],
          [
           "Beyond the Sea"
          ],
          [
           "Meet the Deedles"
          ],
          [
           "The Thief and the Cobbler"
          ],
          [
           "The Bridge of San Luis Rey"
          ],
          [
           "Faster"
          ],
          [
           "Howl's Moving Castle"
          ],
          [
           "Zombieland"
          ],
          [
           "The Waterboy"
          ],
          [
           "The Empire Strikes Back"
          ],
          [
           "Bad Boys"
          ],
          [
           "The Naked Gun 2½: The Smell of Fear"
          ],
          [
           "Final Destination"
          ],
          [
           "The Ides of March"
          ],
          [
           "Pitch Black"
          ],
          [
           "Someone Like You..."
          ],
          [
           "Her"
          ],
          [
           "Joy Ride"
          ],
          [
           "The Adventurer: The Curse of the Midas Box"
          ],
          [
           "Anywhere But Here"
          ],
          [
           "The Crew"
          ],
          [
           "Haywire"
          ],
          [
           "Jaws: The Revenge"
          ],
          [
           "Marvin's Room"
          ],
          [
           "The Longshots"
          ],
          [
           "The End of the Affair"
          ],
          [
           "Harley Davidson and the Marlboro Man"
          ],
          [
           "In the Valley of Elah"
          ],
          [
           "Coco Before Chanel"
          ],
          [
           "Forsaken"
          ],
          [
           "Cheri"
          ],
          [
           "Vanity Fair"
          ],
          [
           "Bodyguards and Assassins"
          ],
          [
           "1408"
          ],
          [
           "Spaceballs"
          ],
          [
           "The Water Diviner"
          ],
          [
           "Ghost"
          ],
          [
           "There's Something About Mary"
          ],
          [
           "The Santa Clause"
          ],
          [
           "The Rookie"
          ],
          [
           "The Game Plan"
          ],
          [
           "The Bridges of Madison County"
          ],
          [
           "The Animal"
          ],
          [
           "Gandhi"
          ],
          [
           "The Hundred-Foot Journey"
          ],
          [
           "The Net"
          ],
          [
           "I Am Sam"
          ],
          [
           "Son of God"
          ],
          [
           "Underworld"
          ],
          [
           "Derailed"
          ],
          [
           "The Informant!"
          ],
          [
           "Shadowlands"
          ],
          [
           "Deuce Bigalow: European Gigolo"
          ],
          [
           "Delivery Man"
          ],
          [
           "Our Kind of Traitor"
          ],
          [
           "Saving Silverman"
          ],
          [
           "Diary of a Wimpy Kid: Dog Days"
          ],
          [
           "Summer of Sam"
          ],
          [
           "Jay and Silent Bob Strike Back"
          ],
          [
           "The Glass House"
          ],
          [
           "Hail, Caesar!"
          ],
          [
           "Josie and the Pussycats"
          ],
          [
           "Homefront"
          ],
          [
           "The Little Vampire"
          ],
          [
           "I Heart Huckabees"
          ],
          [
           "RoboCop 3"
          ],
          [
           "Megiddo: The Omega Code 2"
          ],
          [
           "Darling Lili"
          ],
          [
           "Dudley Do-Right"
          ],
          [
           "The Transporter Refueled"
          ],
          [
           "The Libertine"
          ],
          [
           "Black Book"
          ],
          [
           "Joyeux Noël"
          ],
          [
           "Hit & Run"
          ],
          [
           "Mad Money"
          ],
          [
           "Before I Go to Sleep"
          ],
          [
           "Sorcerer"
          ],
          [
           "Stone"
          ],
          [
           "Moliere"
          ],
          [
           "Out of the Furnace"
          ],
          [
           "Michael Clayton"
          ],
          [
           "My Fellow Americans"
          ],
          [
           "Arlington Road"
          ],
          [
           "Underdogs"
          ],
          [
           "To Rome with Love"
          ],
          [
           "Firefox"
          ],
          [
           "South Park: Bigger, Longer & Uncut"
          ],
          [
           "Death at a Funeral"
          ],
          [
           "Teenage Mutant Ninja Turtles III"
          ],
          [
           "Hardball"
          ],
          [
           "Silver Linings Playbook"
          ],
          [
           "Freedom Writers"
          ],
          [
           "For Colored Girls"
          ],
          [
           "The Transporter"
          ],
          [
           "Never Back Down"
          ],
          [
           "The Rage: Carrie 2"
          ],
          [
           "Away We Go"
          ],
          [
           "Swing Vote"
          ],
          [
           "Moonlight Mile"
          ],
          [
           "Tinker Tailor Soldier Spy"
          ],
          [
           "Molly"
          ],
          [
           "The Beaver"
          ],
          [
           "The Best Little Whorehouse in Texas"
          ],
          [
           "eXistenZ"
          ],
          [
           "Raiders of the Lost Ark"
          ],
          [
           "Home Alone 2: Lost in New York"
          ],
          [
           "Close Encounters of the Third Kind"
          ],
          [
           "Pulse"
          ],
          [
           "Beverly Hills Cop II"
          ],
          [
           "Bringing Down the House"
          ],
          [
           "The Silence of the Lambs"
          ],
          [
           "Wayne's World"
          ],
          [
           "Jackass 3D"
          ],
          [
           "Jaws 2"
          ],
          [
           "Beverly Hills Chihuahua"
          ],
          [
           "The Conjuring"
          ],
          [
           "Are We There Yet?"
          ],
          [
           "Tammy"
          ],
          [
           "School of Rock"
          ],
          [
           "Mortal Kombat"
          ],
          [
           "White Chicks"
          ],
          [
           "The Descendants"
          ],
          [
           "Holes"
          ],
          [
           "The Last Song"
          ],
          [
           "12 Years a Slave"
          ],
          [
           "Drumline"
          ],
          [
           "Why Did I Get Married Too?"
          ],
          [
           "Edward Scissorhands"
          ],
          [
           "Me Before You"
          ],
          [
           "Madea's Witness Protection"
          ],
          [
           "The French Connection"
          ],
          [
           "Bad Moms"
          ],
          [
           "Date Movie"
          ],
          [
           "Return to Never Land"
          ],
          [
           "Selma"
          ],
          [
           "The Jungle Book 2"
          ],
          [
           "Boogeyman"
          ],
          [
           "Premonition"
          ],
          [
           "The Tigger Movie"
          ],
          [
           "Orphan"
          ],
          [
           "Max"
          ],
          [
           "Epic Movie"
          ],
          [
           "Spotlight"
          ],
          [
           "Lakeview Terrace"
          ],
          [
           "The Grudge 2"
          ],
          [
           "How Stella Got Her Groove Back"
          ],
          [
           "Bill & Ted's Bogus Journey"
          ],
          [
           "Man of the Year"
          ],
          [
           "The Black Hole"
          ],
          [
           "The American"
          ],
          [
           "Selena"
          ],
          [
           "Vampires Suck"
          ],
          [
           "Babel"
          ],
          [
           "This Is Where I Leave You"
          ],
          [
           "Doubt"
          ],
          [
           "Team America: World Police"
          ],
          [
           "Texas Chainsaw 3D"
          ],
          [
           "Copycat"
          ],
          [
           "Scary Movie 5"
          ],
          [
           "Paint Your Wagon"
          ],
          [
           "Milk"
          ],
          [
           "Risen"
          ],
          [
           "Ghost Ship"
          ],
          [
           "A Very Harold & Kumar Christmas"
          ],
          [
           "Wild Things"
          ],
          [
           "The Stepfather"
          ],
          [
           "The Debt"
          ],
          [
           "High Fidelity"
          ],
          [
           "One Missed Call"
          ],
          [
           "Eye for an Eye"
          ],
          [
           "The Bank Job"
          ],
          [
           "Eternal Sunshine of the Spotless Mind"
          ],
          [
           "You Again"
          ],
          [
           "Street Kings"
          ],
          [
           "The World's End"
          ],
          [
           "Nancy Drew"
          ],
          [
           "Daybreakers"
          ],
          [
           "She's Out of My League"
          ],
          [
           "Monte Carlo"
          ],
          [
           "Stay Alive"
          ],
          [
           "Quigley Down Under"
          ],
          [
           "Alpha and Omega"
          ],
          [
           "The Covenant"
          ],
          [
           "Stick It"
          ],
          [
           "Shorts"
          ],
          [
           "To Die For"
          ],
          [
           "Nerve"
          ],
          [
           "Appaloosa"
          ],
          [
           "Vampires"
          ],
          [
           "Psycho"
          ],
          [
           "My Best Friend's Girl"
          ],
          [
           "Endless Love"
          ],
          [
           "Georgia Rule"
          ],
          [
           "Under the Rainbow"
          ],
          [
           "Ladyhawke"
          ],
          [
           "Simon Birch"
          ],
          [
           "Reign Over Me"
          ],
          [
           "Into the Wild"
          ],
          [
           "School for Scoundrels"
          ],
          [
           "Silent Hill: Revelation 3D"
          ],
          [
           "From Dusk Till Dawn"
          ],
          [
           "Pooh's Heffalump Movie"
          ],
          [
           "Home for the Holidays"
          ],
          [
           "Kung Fu Hustle"
          ],
          [
           "The Country Bears"
          ],
          [
           "The Kite Runner"
          ],
          [
           "21 Grams"
          ],
          [
           "Paparazzi"
          ],
          [
           "A Guy Thing"
          ],
          [
           "Loser"
          ],
          [
           "Capitalism: A Love Story"
          ],
          [
           "The Greatest Story Ever Told"
          ],
          [
           "Secret in Their Eyes"
          ],
          [
           "Disaster Movie"
          ],
          [
           "Armored"
          ],
          [
           "The Man Who Knew Too Little"
          ],
          [
           "What's Your Number?"
          ],
          [
           "Lockout"
          ],
          [
           "Envy"
          ],
          [
           "Crank: High Voltage"
          ],
          [
           "Bullets Over Broadway"
          ],
          [
           "One Night with the King"
          ],
          [
           "The Quiet American"
          ],
          [
           "The Weather Man"
          ],
          [
           "Undisputed"
          ],
          [
           "Ghost Town"
          ],
          [
           "12 Rounds"
          ],
          [
           "Let Me In"
          ],
          [
           "3 Ninjas Kick Back"
          ],
          [
           "Be Kind Rewind"
          ],
          [
           "Mrs Henderson Presents"
          ],
          [
           "Triple 9"
          ],
          [
           "Deconstructing Harry"
          ],
          [
           "Three to Tango"
          ],
          [
           "Burnt"
          ],
          [
           "We're No Angels"
          ],
          [
           "Everyone Says I Love You"
          ],
          [
           "Death Sentence"
          ],
          [
           "Everybody's Fine"
          ],
          [
           "Superbabies: Baby Geniuses 2"
          ],
          [
           "The Man"
          ],
          [
           "Code Name: The Cleaner"
          ],
          [
           "Connie and Carla"
          ],
          [
           "Sweet Charity"
          ],
          [
           "Inherent Vice"
          ],
          [
           "Doogal"
          ],
          [
           "Battle of the Year"
          ],
          [
           "An American Carol"
          ],
          [
           "Machete Kills"
          ],
          [
           "Willard"
          ],
          [
           "Strange Wilderness"
          ],
          [
           "Topsy-Turvy"
          ],
          [
           "Little Boy"
          ],
          [
           "A Dangerous Method"
          ],
          [
           "A Scanner Darkly"
          ],
          [
           "Chasing Mavericks"
          ],
          [
           "Alone in the Dark"
          ],
          [
           "Bandslam"
          ],
          [
           "Birth"
          ],
          [
           "A Most Violent Year"
          ],
          [
           "Passchendaele"
          ],
          [
           "Flash of Genius"
          ],
          [
           "I'm Not There."
          ],
          [
           "The Cold Light of Day"
          ],
          [
           "The Brothers Bloom"
          ],
          [
           "Synecdoche, New York"
          ],
          [
           "Princess Mononoke"
          ],
          [
           "Bon voyage"
          ],
          [
           "Can't Stop the Music"
          ],
          [
           "The Proposition"
          ],
          [
           "My All American"
          ],
          [
           "Marci X"
          ],
          [
           "Equilibrium"
          ],
          [
           "The Children of Huang Shi"
          ],
          [
           "The Yards"
          ],
          [
           "The Oogieloves in the Big Balloon Adventure"
          ],
          [
           "By the Sea"
          ],
          [
           "Steamboy"
          ],
          [
           "The Game of Their Lives"
          ],
          [
           "All Good Things"
          ],
          [
           "Rapa Nui"
          ],
          [
           "CJ7"
          ],
          [
           "The Visitors II: The Corridors of Time"
          ],
          [
           "Dylan Dog: Dead of Night"
          ],
          [
           "People I Know"
          ],
          [
           "The Tempest"
          ],
          [
           "Regression"
          ],
          [
           "Three Kingdoms: Resurrection of the Dragon"
          ],
          [
           "Butterfly on a Wheel"
          ],
          [
           "Zambezia"
          ],
          [
           "Ramanujan"
          ],
          [
           "Dwegons"
          ],
          [
           "Hands of Stone"
          ],
          [
           "Survivor"
          ],
          [
           "The Frozen Ground"
          ],
          [
           "The Painted Veil"
          ],
          [
           "The Baader Meinhof Complex"
          ],
          [
           "Dances with Wolves"
          ],
          [
           "Bad Teacher"
          ],
          [
           "Sea of Love"
          ],
          [
           "A Cinderella Story"
          ],
          [
           "Scream"
          ],
          [
           "Thir13en Ghosts"
          ],
          [
           "The Shining"
          ],
          [
           "Back to the Future"
          ],
          [
           "House on Haunted Hill"
          ],
          [
           "I Can Do Bad All By Myself"
          ],
          [
           "Fight Valley"
          ],
          [
           "The Switch"
          ],
          [
           "Just Married"
          ],
          [
           "The Devil's Double"
          ],
          [
           "Thomas and the Magic Railroad"
          ],
          [
           "The Crazies"
          ],
          [
           "Spirited Away"
          ],
          [
           "Firestorm"
          ],
          [
           "The Bounty"
          ],
          [
           "The Book Thief"
          ],
          [
           "Sex Drive"
          ],
          [
           "Leap Year"
          ],
          [
           "The Fall of the Roman Empire"
          ],
          [
           "Take Me Home Tonight"
          ],
          [
           "Won't Back Down"
          ],
          [
           "The Nutcracker"
          ],
          [
           "Kansas City"
          ],
          [
           "Indignation"
          ],
          [
           "The Amityville Horror"
          ],
          [
           "Adaptation."
          ],
          [
           "Land of the Dead"
          ],
          [
           "Out of Inferno"
          ],
          [
           "Fear and Loathing in Las Vegas"
          ],
          [
           "The Invention of Lying"
          ],
          [
           "Neighbors"
          ],
          [
           "The Mask"
          ],
          [
           "Big"
          ],
          [
           "Borat: Cultural Learnings of America for Make Benefit Glorious Nation of Kazakhstan"
          ],
          [
           "Legally Blonde"
          ],
          [
           "Star Trek III: The Search for Spock"
          ],
          [
           "The Exorcism of Emily Rose"
          ],
          [
           "Deuce Bigalow: Male Gigolo"
          ],
          [
           "Left Behind"
          ],
          [
           "The Family Stone"
          ],
          [
           "Barbershop 2:  Back in Business"
          ],
          [
           "Bad Santa"
          ],
          [
           "Austin Powers: International Man of Mystery"
          ],
          [
           "My Big Fat Greek Wedding 2"
          ],
          [
           "Diary of a Wimpy Kid: Rodrick Rules"
          ],
          [
           "Predator"
          ],
          [
           "Amadeus"
          ],
          [
           "Prom Night"
          ],
          [
           "Mean Girls"
          ],
          [
           "Under the Tuscan Sun"
          ],
          [
           "Gosford Park"
          ],
          [
           "Peggy Sue Got Married"
          ],
          [
           "Birdman"
          ],
          [
           "Blue Jasmine"
          ],
          [
           "United 93"
          ],
          [
           "Honey"
          ],
          [
           "Spy Hard"
          ],
          [
           "The Fog"
          ],
          [
           "Soul Surfer"
          ],
          [
           "Catch-22"
          ],
          [
           "Observe and Report"
          ],
          [
           "Conan the Destroyer"
          ],
          [
           "Raging Bull"
          ],
          [
           "Love Happens"
          ],
          [
           "Young Sherlock Holmes"
          ],
          [
           "Fame"
          ],
          [
           "127 Hours"
          ],
          [
           "Small Time Crooks"
          ],
          [
           "Center Stage"
          ],
          [
           "Love the Coopers"
          ],
          [
           "Catch That Kid"
          ],
          [
           "Life as a House"
          ],
          [
           "Steve Jobs"
          ],
          [
           "I Love You, Beth Cooper"
          ],
          [
           "Youth in Revolt"
          ],
          [
           "The Legend of the Lone Ranger"
          ],
          [
           "The Tailor of Panama"
          ],
          [
           "Blow Out"
          ],
          [
           "Getaway"
          ],
          [
           "The Ice Storm"
          ],
          [
           "And So It Goes"
          ],
          [
           "Troop Beverly Hills"
          ],
          [
           "Being Julia"
          ],
          [
           "Nine 1/2 Weeks"
          ],
          [
           "Dragonslayer"
          ],
          [
           "The Last Station"
          ],
          [
           "Ed Wood"
          ],
          [
           "Labor Day"
          ],
          [
           "Mongol: The Rise of Genghis Khan"
          ],
          [
           "RockNRolla"
          ],
          [
           "Megaforce"
          ],
          [
           "Hamlet"
          ],
          [
           "Mao's Last Dancer"
          ],
          [
           "Midnight Special"
          ],
          [
           "Anything Else"
          ],
          [
           "The Railway Man"
          ],
          [
           "The White Ribbon"
          ],
          [
           "Restoration"
          ],
          [
           "The Wraith"
          ],
          [
           "Salton Sea"
          ],
          [
           "Metallica: Through the Never"
          ],
          [
           "The Informers"
          ],
          [
           "Carlos"
          ],
          [
           "I Come with the Rain"
          ],
          [
           "One Man's Hero"
          ],
          [
           "Day of the Dead"
          ],
          [
           "I Am Wrath"
          ],
          [
           "Renaissance"
          ],
          [
           "Red Sonja"
          ],
          [
           "Red Lights"
          ],
          [
           "Superbad"
          ],
          [
           "Madea Goes to Jail"
          ],
          [
           "Wolves"
          ],
          [
           "Step Up 2: The Streets"
          ],
          [
           "Hoodwinked!"
          ],
          [
           "Hotel Rwanda"
          ],
          [
           "Hitman"
          ],
          [
           "Black Nativity"
          ],
          [
           "The Prince"
          ],
          [
           "City of Ghosts"
          ],
          [
           "The Others"
          ],
          [
           "Aliens"
          ],
          [
           "My Fair Lady"
          ],
          [
           "I Know What You Did Last Summer"
          ],
          [
           "Let's Be Cops"
          ],
          [
           "Sideways"
          ],
          [
           "Beerfest"
          ],
          [
           "Halloween"
          ],
          [
           "Good Boy!"
          ],
          [
           "The Best Man Holiday"
          ],
          [
           "Smokin' Aces"
          ],
          [
           "Saw: The Final Chapter"
          ],
          [
           "40 Days and 40 Nights"
          ],
          [
           "A Night at the Roxbury"
          ],
          [
           "Beastly"
          ],
          [
           "The Hills Have Eyes"
          ],
          [
           "Dickie Roberts: Former Child Star"
          ],
          [
           "McFarland, USA"
          ],
          [
           "Lottery Ticket"
          ],
          [
           "ATL"
          ],
          [
           "Pitch Perfect"
          ],
          [
           "Summer Catch"
          ],
          [
           "A Simple Plan"
          ],
          [
           "They"
          ],
          [
           "Larry the Cable Guy: Health Inspector"
          ],
          [
           "The Adventures of Elmo in Grouchland"
          ],
          [
           "Brooklyn's Finest"
          ],
          [
           "55 Days at Peking"
          ],
          [
           "Evil Dead"
          ],
          [
           "My Life in Ruins"
          ],
          [
           "American Dreamz"
          ],
          [
           "Superman IV: The Quest for Peace"
          ],
          [
           "How She Move"
          ],
          [
           "Running Scared"
          ],
          [
           "Bobby Jones: Stroke of Genius"
          ],
          [
           "Shanghai Surprise"
          ],
          [
           "The Illusionist"
          ],
          [
           "Roar"
          ],
          [
           "Veronica Guerin"
          ],
          [
           "Escobar: Paradise Lost"
          ],
          [
           "Southland Tales"
          ],
          [
           "Dragon Hunters"
          ],
          [
           "Damnation Alley"
          ],
          [
           "The Apparition"
          ],
          [
           "My Girl"
          ],
          [
           "Fur: An Imaginary Portrait of Diane Arbus"
          ],
          [
           "Wall Street"
          ],
          [
           "Sense and Sensibility"
          ],
          [
           "Becoming Jane"
          ],
          [
           "Sydney White"
          ],
          [
           "House of Sand and Fog"
          ],
          [
           "Dead Poets Society"
          ],
          [
           "Dumb and Dumber"
          ],
          [
           "When Harry Met Sally..."
          ],
          [
           "The Verdict"
          ],
          [
           "Road Trip"
          ],
          [
           "Varsity Blues"
          ],
          [
           "The Artist"
          ],
          [
           "The Unborn"
          ],
          [
           "Moonrise Kingdom"
          ],
          [
           "The Texas Chainsaw Massacre: The Beginning"
          ],
          [
           "The Young Messiah"
          ],
          [
           "The Master of Disguise"
          ],
          [
           "Pan's Labyrinth"
          ],
          [
           "See Spot Run"
          ],
          [
           "Baby Boy"
          ],
          [
           "The Roommate"
          ],
          [
           "Joe Dirt"
          ],
          [
           "Double Impact"
          ],
          [
           "Hot Fuzz"
          ],
          [
           "The Women"
          ],
          [
           "Vicky Cristina Barcelona"
          ],
          [
           "Arn: The Knight Templar"
          ],
          [
           "Boys and Girls"
          ],
          [
           "White Oleander"
          ],
          [
           "Jennifer's Body"
          ],
          [
           "Drowning Mona"
          ],
          [
           "Radio Days"
          ],
          [
           "Remember Me"
          ],
          [
           "How to Deal"
          ],
          [
           "My Stepmother is an Alien"
          ],
          [
           "Philadelphia"
          ],
          [
           "The Thirteenth Floor"
          ],
          [
           "The Cookout"
          ],
          [
           "Meteor"
          ],
          [
           "Duets"
          ],
          [
           "Hollywood Ending"
          ],
          [
           "Detroit Rock City"
          ],
          [
           "Highlander"
          ],
          [
           "Things We Lost in the Fire"
          ],
          [
           "Steel"
          ],
          [
           "The Immigrant"
          ],
          [
           "The White Countess"
          ],
          [
           "Trance"
          ],
          [
           "Soul Plane"
          ],
          [
           "Welcome to the Sticks"
          ],
          [
           "Good"
          ],
          [
           "Enter the Void"
          ],
          [
           "Vamps"
          ],
          [
           "Hachi: A Dog's Tale"
          ],
          [
           "Zulu"
          ],
          [
           "The Homesman"
          ],
          [
           "Juwanna Mann"
          ],
          [
           "Ararat"
          ],
          [
           "Madison"
          ],
          [
           "Slow Burn"
          ],
          [
           "Wasabi"
          ],
          [
           "Slither"
          ],
          [
           "Beverly Hills Cop"
          ],
          [
           "Home Alone"
          ],
          [
           "Three Men and a Baby"
          ],
          [
           "Tootsie"
          ],
          [
           "Top Gun"
          ],
          [
           "Crouching Tiger, Hidden Dragon"
          ],
          [
           "American Beauty"
          ],
          [
           "The King's Speech"
          ],
          [
           "Twins"
          ],
          [
           "The Yellow Handkerchief"
          ],
          [
           "The Color Purple"
          ],
          [
           "Tidal Wave"
          ],
          [
           "The Imitation Game"
          ],
          [
           "Private Benjamin"
          ],
          [
           "Coal Miner's Daughter"
          ],
          [
           "Diary of a Wimpy Kid"
          ],
          [
           "Mama"
          ],
          [
           "National Lampoon's Vacation"
          ],
          [
           "Bad Grandpa"
          ],
          [
           "The Queen"
          ],
          [
           "Beetlejuice"
          ],
          [
           "Why Did I Get Married?"
          ],
          [
           "Little Women"
          ],
          [
           "The Woman in Black"
          ],
          [
           "When a Stranger Calls"
          ],
          [
           "Big Fat Liar"
          ],
          [
           "The Deer Hunter"
          ],
          [
           "Wag the Dog"
          ],
          [
           "The Lizzie McGuire Movie"
          ],
          [
           "Snitch"
          ],
          [
           "Krampus"
          ],
          [
           "The Faculty"
          ],
          [
           "What's Love Got to Do with It"
          ],
          [
           "Cop Land"
          ],
          [
           "Not Another Teen Movie"
          ],
          [
           "End of Watch"
          ],
          [
           "The Skulls"
          ],
          [
           "The Theory of Everything"
          ],
          [
           "Malibu's Most Wanted"
          ],
          [
           "Where the Heart Is"
          ],
          [
           "Lawrence of Arabia"
          ],
          [
           "Halloween II"
          ],
          [
           "Wild"
          ],
          [
           "The Last House on the Left"
          ],
          [
           "The Wedding Date"
          ],
          [
           "Halloween: Resurrection"
          ],
          [
           "The Princess Bride"
          ],
          [
           "The Great Debaters"
          ],
          [
           "Drive"
          ],
          [
           "Confessions of a Teenage Drama Queen"
          ],
          [
           "The Object of My Affection"
          ],
          [
           "28 Weeks Later"
          ],
          [
           "When the Game Stands Tall"
          ],
          [
           "Because of Winn-Dixie"
          ],
          [
           "Love & Basketball"
          ],
          [
           "Grosse Pointe Blank"
          ],
          [
           "All About Steve"
          ],
          [
           "Book of Shadows: Blair Witch 2"
          ],
          [
           "The Craft"
          ],
          [
           "Match Point"
          ],
          [
           "Ramona and Beezus"
          ],
          [
           "The Remains of the Day"
          ],
          [
           "Boogie Nights"
          ],
          [
           "Nowhere to Run"
          ],
          [
           "Flicka"
          ],
          [
           "The Hills Have Eyes 2"
          ],
          [
           "Urban Legends: Final Cut"
          ],
          [
           "Tuck Everlasting"
          ],
          [
           "The Marine"
          ],
          [
           "Keanu"
          ],
          [
           "Country Strong"
          ],
          [
           "Disturbing Behavior"
          ],
          [
           "The Place Beyond the Pines"
          ],
          [
           "The November Man"
          ],
          [
           "Eye of the Beholder"
          ],
          [
           "The Hurt Locker"
          ],
          [
           "Firestarter"
          ],
          [
           "Killing Them Softly"
          ],
          [
           "A Most Wanted Man"
          ],
          [
           "Freddy Got Fingered"
          ],
          [
           "VeggieTales: The Pirates Who Don't Do Anything"
          ],
          [
           "U2 3D"
          ],
          [
           "Highlander: Endgame"
          ],
          [
           "Idlewild"
          ],
          [
           "One Day"
          ],
          [
           "Whip It"
          ],
          [
           "Knockaround Guys"
          ],
          [
           "Confidence"
          ],
          [
           "The Muse"
          ],
          [
           "De-Lovely"
          ],
          [
           "New York Stories"
          ],
          [
           "Barney's Great Adventure"
          ],
          [
           "The Man with the Iron Fists"
          ],
          [
           "Home Fries"
          ],
          [
           "Here On Earth"
          ],
          [
           "Brazil"
          ],
          [
           "Raise Your Voice"
          ],
          [
           "The Big Lebowski"
          ],
          [
           "Black Snake Moan"
          ],
          [
           "Dark Blue"
          ],
          [
           "A Mighty Heart"
          ],
          [
           "Whatever It Takes"
          ],
          [
           "Boat Trip"
          ],
          [
           "The Importance of Being Earnest"
          ],
          [
           "The Love Letter"
          ],
          [
           "Hoot"
          ],
          [
           "In Bruges"
          ],
          [
           "Peeples"
          ],
          [
           "The Rocker"
          ],
          [
           "Post Grad"
          ],
          [
           "Promised Land"
          ],
          [
           "Whatever Works"
          ],
          [
           "The In Crowd"
          ],
          [
           "The Three Burials of Melquiades Estrada"
          ],
          [
           "Jakob the Liar"
          ],
          [
           "Kiss Kiss Bang Bang"
          ],
          [
           "Idle Hands"
          ],
          [
           "Mulholland Drive"
          ],
          [
           "Blood and Chocolate"
          ],
          [
           "You Will Meet a Tall Dark Stranger"
          ],
          [
           "Never Let Me Go"
          ],
          [
           "The Company"
          ],
          [
           "Transsiberian"
          ],
          [
           "The Clan of the Cave Bear"
          ],
          [
           "Crazy in Alabama"
          ],
          [
           "Funny Games"
          ],
          [
           "Listening"
          ],
          [
           "Felicia's Journey"
          ],
          [
           "Metropolis"
          ],
          [
           "District B13"
          ],
          [
           "Things to Do in Denver When You're Dead"
          ],
          [
           "The Assassin"
          ],
          [
           "Buffalo Soldiers"
          ],
          [
           "The Return"
          ],
          [
           "Ong Bak 2"
          ],
          [
           "Centurion"
          ],
          [
           "Silent Trigger"
          ],
          [
           "The Midnight Meat Train"
          ],
          [
           "Winnie Mandela"
          ],
          [
           "The Son of No One"
          ],
          [
           "All The Queen's Men"
          ],
          [
           "The Good Night"
          ],
          [
           "Bathory: Countess of Blood"
          ],
          [
           "Khumba"
          ],
          [
           "Automata"
          ],
          [
           "Dungeons & Dragons: Wrath of the Dragon God"
          ],
          [
           "Chiamatemi Francesco - Il Papa della gente"
          ],
          [
           "Shinjuku Incident"
          ],
          [
           "Pandaemonium"
          ],
          [
           "Groundhog Day"
          ],
          [
           "Magic Mike XXL"
          ],
          [
           "Romeo + Juliet"
          ],
          [
           "Sarah's Key"
          ],
          [
           "Freedom"
          ],
          [
           "Unforgiven"
          ],
          [
           "Manderlay"
          ],
          [
           "Slumdog Millionaire"
          ],
          [
           "Fatal Attraction"
          ],
          [
           "Pretty Woman"
          ],
          [
           "Crocodile Dundee II"
          ],
          [
           "Broken Horses"
          ],
          [
           "Born on the Fourth of July"
          ],
          [
           "Cool Runnings"
          ],
          [
           "My Bloody Valentine"
          ],
          [
           "Stomp the Yard"
          ],
          [
           "The Spy Who Loved Me"
          ],
          [
           "Urban Legend"
          ],
          [
           "Good Deeds"
          ],
          [
           "White Fang"
          ],
          [
           "Superstar"
          ],
          [
           "The Iron Lady"
          ],
          [
           "Jonah: A VeggieTales Movie"
          ],
          [
           "Poetic Justice"
          ],
          [
           "All About the Benjamins"
          ],
          [
           "Vampire in Brooklyn"
          ],
          [
           "Exorcist II: The Heretic"
          ],
          [
           "An American Haunting"
          ],
          [
           "My Boss's Daughter"
          ],
          [
           "A Perfect Getaway"
          ],
          [
           "Our Family Wedding"
          ],
          [
           "Dead Man on Campus"
          ],
          [
           "Tea with Mussolini"
          ],
          [
           "Thinner"
          ],
          [
           "New York, New York"
          ],
          [
           "Crooklyn"
          ],
          [
           "I Think I Love My Wife"
          ],
          [
           "Jason X"
          ],
          [
           "Bobby"
          ],
          [
           "Head Over Heels"
          ],
          [
           "Fun Size"
          ],
          [
           "The Diving Bell and the Butterfly"
          ],
          [
           "Little Children"
          ],
          [
           "Gossip"
          ],
          [
           "A Walk on the Moon"
          ],
          [
           "Catch a Fire"
          ],
          [
           "Soul Survivors"
          ],
          [
           "Jefferson in Paris"
          ],
          [
           "Easy Virtue"
          ],
          [
           "Caravans"
          ],
          [
           "Mr. Turner"
          ],
          [
           "Wild Grass"
          ],
          [
           "Amen."
          ],
          [
           "Reign of Assassins"
          ],
          [
           "The Lucky Ones"
          ],
          [
           "Margaret"
          ],
          [
           "Stan Helsing"
          ],
          [
           "Flipped"
          ],
          [
           "Brokeback Mountain"
          ],
          [
           "Clueless"
          ],
          [
           "Far from Heaven"
          ],
          [
           "Hot Tub Time Machine 2"
          ],
          [
           "Quills"
          ],
          [
           "Seven Psychopaths"
          ],
          [
           "The Caveman's Valentine"
          ],
          [
           "Downfall"
          ],
          [
           "The Sea Inside"
          ],
          [
           "Under the Skin"
          ],
          [
           "Good Morning, Vietnam"
          ],
          [
           "The Last Godfather"
          ],
          [
           "Justin Bieber: Never Say Never"
          ],
          [
           "Black Swan"
          ],
          [
           "The Godfather: Part II"
          ],
          [
           "Save the Last Dance"
          ],
          [
           "A Nightmare on Elm Street 4: The Dream Master"
          ],
          [
           "Miracles from Heaven"
          ],
          [
           "Dude, Where’s My Car?"
          ],
          [
           "Young Guns"
          ],
          [
           "St. Vincent"
          ],
          [
           "About Last Night"
          ],
          [
           "10 Things I Hate About You"
          ],
          [
           "The New Guy"
          ],
          [
           "National Lampoon's Loaded Weapon 1"
          ],
          [
           "The Shallows"
          ],
          [
           "The Butterfly Effect"
          ],
          [
           "Snow Day"
          ],
          [
           "This Christmas"
          ],
          [
           "Baby Geniuses"
          ],
          [
           "The Big Hit"
          ],
          [
           "Harriet the Spy"
          ],
          [
           "Child's Play 2"
          ],
          [
           "No Good Deed"
          ],
          [
           "The Mist"
          ],
          [
           "Ex Machina"
          ],
          [
           "Being John Malkovich"
          ],
          [
           "Two Can Play That Game"
          ],
          [
           "Earth to Echo"
          ],
          [
           "Crazy/Beautiful"
          ],
          [
           "Letters from Iwo Jima"
          ],
          [
           "The Astronaut Farmer"
          ],
          [
           "Woo"
          ],
          [
           "Room"
          ],
          [
           "Dirty Work"
          ],
          [
           "Serial Mom"
          ],
          [
           "Dick"
          ],
          [
           "Light It Up"
          ],
          [
           "54"
          ],
          [
           "Bubble Boy"
          ],
          [
           "Birthday Girl"
          ],
          [
           "21 & Over"
          ],
          [
           "Paris, je t'aime"
          ],
          [
           "Resurrecting the Champ"
          ],
          [
           "Admission"
          ],
          [
           "The Widow of Saint-Pierre"
          ],
          [
           "Chloe"
          ],
          [
           "Faithful"
          ],
          [
           "Find Me Guilty"
          ],
          [
           "The Perks of Being a Wallflower"
          ],
          [
           "Excessive Force"
          ],
          [
           "Infamous"
          ],
          [
           "The Claim"
          ],
          [
           "The Vatican Tapes"
          ],
          [
           "Attack the Block"
          ],
          [
           "In the Land of Blood and Honey"
          ],
          [
           "The Call"
          ],
          [
           "Operation Chromite"
          ],
          [
           "The Crocodile Hunter: Collision Course"
          ],
          [
           "I Love You Phillip Morris"
          ],
          [
           "Quest for Fire"
          ],
          [
           "Antwone Fisher"
          ],
          [
           "The Emperor's Club"
          ],
          [
           "True Romance"
          ],
          [
           "Womb"
          ],
          [
           "Glengarry Glen Ross"
          ],
          [
           "The Killer Inside Me"
          ],
          [
           "Cat People"
          ],
          [
           "Sorority Row"
          ],
          [
           "The Prisoner of Zenda"
          ],
          [
           "Lars and the Real Girl"
          ],
          [
           "The Boy in the Striped Pyjamas"
          ],
          [
           "Dancer in the Dark"
          ],
          [
           "Oscar and Lucinda"
          ],
          [
           "The Funeral"
          ],
          [
           "Solitary Man"
          ],
          [
           "Machete"
          ],
          [
           "Casino Jack"
          ],
          [
           "The Land Before Time"
          ],
          [
           "Tae Guk Gi: The Brotherhood of War"
          ],
          [
           "The Perfect Game"
          ],
          [
           "The Exorcist"
          ],
          [
           "Jaws"
          ],
          [
           "American Pie"
          ],
          [
           "Ernest & Celestine"
          ],
          [
           "The Golden Child"
          ],
          [
           "Think Like a Man"
          ],
          [
           "Barbershop"
          ],
          [
           "Star Trek II: The Wrath of Khan"
          ],
          [
           "Ace Ventura: Pet Detective"
          ],
          [
           "WarGames"
          ],
          [
           "Witness"
          ],
          [
           "Act of Valor"
          ],
          [
           "Step Up"
          ],
          [
           "Beavis and Butt-Head Do America"
          ],
          [
           "Jackie Brown"
          ],
          [
           "Harold & Kumar Escape from Guantanamo Bay"
          ],
          [
           "Chronicle"
          ],
          [
           "Yentl"
          ],
          [
           "Time Bandits"
          ],
          [
           "Crossroads"
          ],
          [
           "Project X"
          ],
          [
           "Patton"
          ],
          [
           "One Hour Photo"
          ],
          [
           "Quarantine"
          ],
          [
           "The Eye"
          ],
          [
           "Johnson Family Vacation"
          ],
          [
           "How High"
          ],
          [
           "The Muppet Christmas Carol"
          ],
          [
           "Frida"
          ],
          [
           "Katy Perry: Part of Me"
          ],
          [
           "The Fault in Our Stars"
          ],
          [
           "Rounders"
          ],
          [
           "Top Five"
          ],
          [
           "Prophecy"
          ],
          [
           "Stir of Echoes"
          ],
          [
           "Philomena"
          ],
          [
           "The Upside of Anger"
          ],
          [
           "The Boys from Brazil"
          ],
          [
           "Aquamarine"
          ],
          [
           "Paper Towns"
          ],
          [
           "My Baby's Daddy"
          ],
          [
           "Nebraska"
          ],
          [
           "Tales from the Crypt: Demon Knight"
          ],
          [
           "Max Keeble's Big Move"
          ],
          [
           "Young Adult"
          ],
          [
           "Crank"
          ],
          [
           "Def Jam's How to Be a Player"
          ],
          [
           "Living Out Loud"
          ],
          [
           "Just Wright"
          ],
          [
           "Rachel Getting Married"
          ],
          [
           "The Postman Always Rings Twice"
          ],
          [
           "Girl with a Pearl Earring"
          ],
          [
           "Das Boot"
          ],
          [
           "Sorority Boys"
          ],
          [
           "About Time"
          ],
          [
           "House of Flying Daggers"
          ],
          [
           "Arbitrage"
          ],
          [
           "Project Almanac"
          ],
          [
           "Cadillac Records"
          ],
          [
           "Screwed"
          ],
          [
           "Fortress"
          ],
          [
           "For Your Consideration"
          ],
          [
           "Celebrity"
          ],
          [
           "Running with Scissors"
          ],
          [
           "From Justin to Kelly"
          ],
          [
           "Girl 6"
          ],
          [
           "In the Cut"
          ],
          [
           "Two Lovers"
          ],
          [
           "Last Orders"
          ],
          [
           "The Host"
          ],
          [
           "The Pursuit of D.B. Cooper"
          ],
          [
           "Ravenous"
          ],
          [
           "Charlie Bartlett"
          ],
          [
           "The Great Beauty"
          ],
          [
           "The Dangerous Lives of Altar Boys"
          ],
          [
           "Stoker"
          ],
          [
           "2046"
          ],
          [
           "Married Life"
          ],
          [
           "Duma"
          ],
          [
           "Ondine"
          ],
          [
           "Brother"
          ],
          [
           "Welcome to Collinwood"
          ],
          [
           "Critical Care"
          ],
          [
           "The Life Before Her Eyes"
          ],
          [
           "Darling Companion"
          ],
          [
           "Trade"
          ],
          [
           "Fateless"
          ],
          [
           "Breakfast of Champions"
          ],
          [
           "A Woman, a Gun and a Noodle Shop"
          ],
          [
           "Cypher"
          ],
          [
           "City of Life and Death"
          ],
          [
           "Legend of a Rabbit"
          ],
          [
           "Space Battleship Yamato"
          ],
          [
           "5 Days of War"
          ],
          [
           "Triangle"
          ],
          [
           "10 Days in a Madhouse"
          ],
          [
           "Heaven is for Real"
          ],
          [
           "Snatch"
          ],
          [
           "Dancin' It's On"
          ],
          [
           "Pet Sematary"
          ],
          [
           "Madadayo"
          ],
          [
           "The Cry of the Owl"
          ],
          [
           "A Tale of Three Cities"
          ],
          [
           "Gremlins"
          ],
          [
           "Star Wars"
          ],
          [
           "Dirty Grandpa"
          ],
          [
           "Doctor Zhivago"
          ],
          [
           "Trash"
          ],
          [
           "High School Musical 3: Senior Year"
          ],
          [
           "The Fighter"
          ],
          [
           "Jackass Number Two"
          ],
          [
           "My Cousin Vinny"
          ],
          [
           "If I Stay"
          ],
          [
           "Drive Hard"
          ],
          [
           "Major League"
          ],
          [
           "St. Trinian's"
          ],
          [
           "Phone Booth"
          ],
          [
           "A Walk to Remember"
          ],
          [
           "Dead Man Walking"
          ],
          [
           "Cruel Intentions"
          ],
          [
           "Saw VI"
          ],
          [
           "History of the World: Part I"
          ],
          [
           "The Secret Life of Bees"
          ],
          [
           "Corky Romano"
          ],
          [
           "Raising Cain"
          ],
          [
           "F.I.S.T."
          ],
          [
           "Invaders from Mars"
          ],
          [
           "Brooklyn"
          ],
          [
           "Barry Lyndon"
          ],
          [
           "Out Cold"
          ],
          [
           "The Ladies Man"
          ],
          [
           "Quartet"
          ],
          [
           "Tomcats"
          ],
          [
           "Frailty"
          ],
          [
           "Woman in Gold"
          ],
          [
           "Kinsey"
          ],
          [
           "Army of Darkness"
          ],
          [
           "Slackers"
          ],
          [
           "What's Eating Gilbert Grape"
          ],
          [
           "The Visual Bible: The Gospel of John"
          ],
          [
           "Vera Drake"
          ],
          [
           "The Guru"
          ],
          [
           "The Perez Family"
          ],
          [
           "Inside Llewyn Davis"
          ],
          [
           "O"
          ],
          [
           "Return to the Blue Lagoon"
          ],
          [
           "The Molly Maguires"
          ],
          [
           "Romance & Cigarettes"
          ],
          [
           "Copying Beethoven"
          ],
          [
           "Brighton Rock"
          ],
          [
           "Saw V"
          ],
          [
           "Machine Gun McCain"
          ],
          [
           "LOL"
          ],
          [
           "Jindabyne"
          ],
          [
           "Kabhi Alvida Naa Kehna"
          ],
          [
           "An Ideal Husband"
          ],
          [
           "The Last Days on Mars"
          ],
          [
           "Darkness"
          ],
          [
           "2001: A Space Odyssey"
          ],
          [
           "E.T. the Extra-Terrestrial"
          ],
          [
           "In the Land of Women"
          ],
          [
           "The Blue Butterfly"
          ],
          [
           "There Goes My Baby"
          ],
          [
           "Housefull"
          ],
          [
           "September Dawn"
          ],
          [
           "For Greater Glory - The True Story of Cristiada"
          ],
          [
           "The Bélier Family"
          ],
          [
           "Good Will Hunting"
          ],
          [
           "Misconduct"
          ],
          [
           "Saw III"
          ],
          [
           "Stripes"
          ],
          [
           "Bring It On"
          ],
          [
           "The Purge: Election Year"
          ],
          [
           "She's All That"
          ],
          [
           "Saw IV"
          ],
          [
           "White Noise"
          ],
          [
           "Madea's Family Reunion"
          ],
          [
           "The Color of Money"
          ],
          [
           "The Longest Day"
          ],
          [
           "The Mighty Ducks"
          ],
          [
           "The Grudge"
          ],
          [
           "Happy Gilmore"
          ],
          [
           "Jeepers Creepers"
          ],
          [
           "Bill & Ted's Excellent Adventure"
          ],
          [
           "Oliver!"
          ],
          [
           "The Best Exotic Marigold Hotel"
          ],
          [
           "Recess: School's Out"
          ],
          [
           "Mad Max Beyond Thunderdome"
          ],
          [
           "Commando"
          ],
          [
           "The Boy"
          ],
          [
           "Devil"
          ],
          [
           "Friday After Next"
          ],
          [
           "Insidious: Chapter 3"
          ],
          [
           "The Last Dragon"
          ],
          [
           "The Lawnmower Man"
          ],
          [
           "Nick and Norah's Infinite Playlist"
          ],
          [
           "Dogma"
          ],
          [
           "The Banger Sisters"
          ],
          [
           "Twilight Zone: The Movie"
          ],
          [
           "Road House"
          ],
          [
           "A Low Down Dirty Shame"
          ],
          [
           "Swimfan"
          ],
          [
           "Employee of the Month"
          ],
          [
           "Can't Hardly Wait"
          ],
          [
           "The Outsiders"
          ],
          [
           "Pete's Dragon"
          ],
          [
           "The Dead Zone"
          ],
          [
           "Sinister 2"
          ],
          [
           "Sparkle"
          ],
          [
           "Valentine"
          ],
          [
           "The Fourth Kind"
          ],
          [
           "A Prairie Home Companion"
          ],
          [
           "Sugar Hill"
          ],
          [
           "Invasion U.S.A."
          ],
          [
           "Roll Bounce"
          ],
          [
           "Rushmore"
          ],
          [
           "Skyline"
          ],
          [
           "The Second Best Exotic Marigold Hotel"
          ],
          [
           "Kit Kittredge: An American Girl"
          ],
          [
           "The Perfect Man"
          ],
          [
           "Mo' Better Blues"
          ],
          [
           "Kung Pow: Enter the Fist"
          ],
          [
           "Tremors"
          ],
          [
           "Wrong Turn"
          ],
          [
           "The Long Riders"
          ],
          [
           "The Corruptor"
          ],
          [
           "Mud"
          ],
          [
           "Reno 911!: Miami"
          ],
          [
           "One Direction: This Is Us"
          ],
          [
           "The Goods: Live Hard, Sell Hard"
          ],
          [
           "Hey Arnold! The Movie"
          ],
          [
           "My Week with Marilyn"
          ],
          [
           "The Matador"
          ],
          [
           "Love Jones"
          ],
          [
           "The Gift"
          ],
          [
           "End of the Spear"
          ],
          [
           "Get Over It"
          ],
          [
           "Office Space"
          ],
          [
           "Drop Dead Gorgeous"
          ],
          [
           "Big Eyes"
          ],
          [
           "Very Bad Things"
          ],
          [
           "Sleepover"
          ],
          [
           "Body Double"
          ],
          [
           "MacGruber"
          ],
          [
           "Dirty Pretty Things"
          ],
          [
           "Movie 43"
          ],
          [
           "Over Her Dead Body"
          ],
          [
           "Seeking a Friend for the End of the World"
          ],
          [
           "Cedar Rapids"
          ],
          [
           "American History X"
          ],
          [
           "The Collection"
          ],
          [
           "Teacher's Pet"
          ],
          [
           "The Red Violin"
          ],
          [
           "The Straight Story"
          ],
          [
           "Deuces Wild"
          ],
          [
           "Bad Words"
          ],
          [
           "Run, Fatboy, Run"
          ],
          [
           "Heartbeeps"
          ],
          [
           "Black or White"
          ],
          [
           "On the Line"
          ],
          [
           "Rescue Dawn"
          ],
          [
           "Danny Collins"
          ],
          [
           "Jeff, Who Lives at Home"
          ],
          [
           "I Am Love"
          ],
          [
           "Atlas Shrugged Part II"
          ],
          [
           "Romeo Is Bleeding"
          ],
          [
           "The Limey"
          ],
          [
           "Crash"
          ],
          [
           "The House of Mirth"
          ],
          [
           "Malone"
          ],
          [
           "Peaceful Warrior"
          ],
          [
           "Bucky Larson: Born to Be a Star"
          ],
          [
           "Bamboozled"
          ],
          [
           "The Forest"
          ],
          [
           "Sphinx"
          ],
          [
           "While We're Young"
          ],
          [
           "A Better Life"
          ],
          [
           "Spider"
          ],
          [
           "Gun Shy"
          ],
          [
           "Nicholas Nickleby"
          ],
          [
           "The Iceman"
          ],
          [
           "Krrish"
          ],
          [
           "Cecil B. Demented"
          ],
          [
           "Killer Joe"
          ],
          [
           "The Joneses"
          ],
          [
           "Owning Mahowny"
          ],
          [
           "The Brothers Solomon"
          ],
          [
           "My Blueberry Nights"
          ],
          [
           "Illuminata"
          ],
          [
           "Swept Away"
          ],
          [
           "War, Inc."
          ],
          [
           "Shaolin Soccer"
          ],
          [
           "The Brown Bunny"
          ],
          [
           "The Swindle"
          ],
          [
           "Rosewater"
          ],
          [
           "The Chambermaid on the Titanic"
          ],
          [
           "Coriolanus"
          ],
          [
           "Imaginary Heroes"
          ],
          [
           "High Heels and Low Lifes"
          ],
          [
           "World's Greatest Dad"
          ],
          [
           "Severance"
          ],
          [
           "Edmond"
          ],
          [
           "Welcome to the Rileys"
          ],
          [
           "Police Academy: Mission to Moscow"
          ],
          [
           "Blood Done Sign My Name"
          ],
          [
           "Cinco de Mayo: La Batalla"
          ],
          [
           "Elsa & Fred"
          ],
          [
           "An Alan Smithee Film: Burn, Hollywood, Burn"
          ],
          [
           "The Open Road"
          ],
          [
           "The Good Guy"
          ],
          [
           "Motherhood"
          ],
          [
           "Free Style"
          ],
          [
           "Strangerland"
          ],
          [
           "Janky Promoters"
          ],
          [
           "Blonde Ambition"
          ],
          [
           "The Oxford Murders"
          ],
          [
           "The Reef"
          ],
          [
           "Eulogy"
          ],
          [
           "White Noise 2: The Light"
          ],
          [
           "Beat the World"
          ],
          [
           "Fifty Dead Men Walking"
          ],
          [
           "Jungle Shuffle"
          ],
          [
           "Adam Resurrected"
          ],
          [
           "Of Horses and Men"
          ],
          [
           "It's a Wonderful Afterlife"
          ],
          [
           "The Devil's Tomb"
          ],
          [
           "Partition"
          ],
          [
           "Good Intentions"
          ],
          [
           "The Good, The Bad, The Weird"
          ],
          [
           "Nurse 3-D"
          ],
          [
           "Gunless"
          ],
          [
           "Adventureland"
          ],
          [
           "The Lost City"
          ],
          [
           "Next Friday"
          ],
          [
           "American Heist"
          ],
          [
           "You Only Live Twice"
          ],
          [
           "Plastic"
          ],
          [
           "Amour"
          ],
          [
           "Poltergeist III"
          ],
          [
           "Re-Kill"
          ],
          [
           "It's a Mad, Mad, Mad, Mad World"
          ],
          [
           "Volver"
          ],
          [
           "Heavy Metal"
          ],
          [
           "Gentlemen Broncos"
          ],
          [
           "Richard III"
          ],
          [
           "Into the Grizzly Maze"
          ],
          [
           "Kites"
          ],
          [
           "Melancholia"
          ],
          [
           "Red Dog"
          ],
          [
           "Jab Tak Hai Jaan"
          ],
          [
           "Alien"
          ],
          [
           "The Texas Chain Saw Massacre"
          ],
          [
           "The Runaways"
          ],
          [
           "Fiddler on the Roof"
          ],
          [
           "Thunderball"
          ],
          [
           "Detention"
          ],
          [
           "Loose Cannons"
          ],
          [
           "Set It Off"
          ],
          [
           "The Best Man"
          ],
          [
           "Child's Play"
          ],
          [
           "Sicko"
          ],
          [
           "The Purge: Anarchy"
          ],
          [
           "Down to You"
          ],
          [
           "Harold & Kumar Go to White Castle"
          ],
          [
           "The Contender"
          ],
          [
           "Boiler Room"
          ],
          [
           "Trading Places"
          ],
          [
           "Black Christmas"
          ],
          [
           "Breakin' All the Rules"
          ],
          [
           "Henry V"
          ],
          [
           "The Savages"
          ],
          [
           "Chasing Papi"
          ],
          [
           "The Way of the Gun"
          ],
          [
           "Igby Goes Down"
          ],
          [
           "PCU"
          ],
          [
           "The Ultimate Gift"
          ],
          [
           "The Ice Pirates"
          ],
          [
           "Gracie"
          ],
          [
           "Trust the Man"
          ],
          [
           "Hamlet 2"
          ],
          [
           "Velvet Goldmine"
          ],
          [
           "The Wailing"
          ],
          [
           "Glee: The Concert Movie"
          ],
          [
           "The Legend of Suriyothai"
          ],
          [
           "Two Evil Eyes"
          ],
          [
           "Barbecue"
          ],
          [
           "All or Nothing"
          ],
          [
           "Princess Kaiulani"
          ],
          [
           "Opal Dream"
          ],
          [
           "Flame & Citron"
          ],
          [
           "Undiscovered"
          ],
          [
           "Red Riding: In the Year of Our Lord 1974"
          ],
          [
           "The Girl on the Train"
          ],
          [
           "Veronika Decides to Die"
          ],
          [
           "Crocodile Dundee"
          ],
          [
           "Ultramarines: A Warhammer 40,000 Movie"
          ],
          [
           "The I Inside"
          ],
          [
           "Beneath Hill 60"
          ],
          [
           "Polisse"
          ],
          [
           "Awake"
          ],
          [
           "Star Wars: Clone Wars: Volume 1"
          ],
          [
           "Skin Trade"
          ],
          [
           "The Lost Boys"
          ],
          [
           "Crazy Heart"
          ],
          [
           "The Rose"
          ],
          [
           "Baggage Claim"
          ],
          [
           "Barbarella"
          ],
          [
           "Shipwrecked"
          ],
          [
           "Election"
          ],
          [
           "The Namesake"
          ],
          [
           "The DUFF"
          ],
          [
           "Glitter"
          ],
          [
           "The Haunting in Connecticut 2: Ghosts of Georgia"
          ],
          [
           "Silmido"
          ],
          [
           "Bright Star"
          ],
          [
           "My Name Is Khan"
          ],
          [
           "All Is Lost"
          ],
          [
           "Limbo"
          ],
          [
           "Namastey London"
          ],
          [
           "The Wind That Shakes the Barley"
          ],
          [
           "Yeh Jawaani Hai Deewani"
          ],
          [
           "Quo Vadis"
          ],
          [
           "Repo! The Genetic Opera"
          ],
          [
           "Valley of the Wolves: Iraq"
          ],
          [
           "Pulp Fiction"
          ],
          [
           "The Muppet Movie"
          ],
          [
           "Nightcrawler"
          ],
          [
           "Club Dread"
          ],
          [
           "The Sound of Music"
          ],
          [
           "Splash"
          ],
          [
           "Little Miss Sunshine"
          ],
          [
           "Stand by Me"
          ],
          [
           "28 Days Later"
          ],
          [
           "You Got Served"
          ],
          [
           "Escape from Alcatraz"
          ],
          [
           "Brown Sugar"
          ],
          [
           "A Thin Line Between Love and Hate"
          ],
          [
           "50/50"
          ],
          [
           "Shutter"
          ],
          [
           "That Awkward Moment"
          ],
          [
           "Modern Problems"
          ],
          [
           "Kicks"
          ],
          [
           "Much Ado About Nothing"
          ],
          [
           "On Her Majesty's Secret Service"
          ],
          [
           "New Nightmare"
          ],
          [
           "Drive Me Crazy"
          ],
          [
           "Akeelah and the Bee"
          ],
          [
           "Half Baked"
          ],
          [
           "New in Town"
          ],
          [
           "American Psycho"
          ],
          [
           "The Good Girl"
          ],
          [
           "Bon Cop Bad Cop"
          ],
          [
           "The Boondock Saints II: All Saints Day"
          ],
          [
           "The City of Your Final Destination"
          ],
          [
           "Enough Said"
          ],
          [
           "Easy A"
          ],
          [
           "The Inkwell"
          ],
          [
           "Shadow of the Vampire"
          ],
          [
           "Prom"
          ],
          [
           "The Pallbearer"
          ],
          [
           "Held Up"
          ],
          [
           "Woman on Top"
          ],
          [
           "Howards End"
          ],
          [
           "Anomalisa"
          ],
          [
           "Another Year"
          ],
          [
           "8 Women"
          ],
          [
           "Showdown in Little Tokyo"
          ],
          [
           "Clay Pigeons"
          ],
          [
           "It's Kind of a Funny Story"
          ],
          [
           "Made in Dagenham"
          ],
          [
           "When Did You Last See Your Father?"
          ],
          [
           "Prefontaine"
          ],
          [
           "The Wicked Lady"
          ],
          [
           "The Secret of Kells"
          ],
          [
           "Begin Again"
          ],
          [
           "Down in the Valley"
          ],
          [
           "Brooklyn Rules"
          ],
          [
           "Restless"
          ],
          [
           "The Singing Detective"
          ],
          [
           "The Land Girls"
          ],
          [
           "Fido"
          ],
          [
           "The Wendell Baker Story"
          ],
          [
           "Wild Target"
          ],
          [
           "Pathology"
          ],
          [
           "Wuthering Heights"
          ],
          [
           "10th & Wolf"
          ],
          [
           "Dear Wendy"
          ],
          [
           "Aloft"
          ],
          [
           "Akira"
          ],
          [
           "The Death and Life of Bobby Z"
          ],
          [
           "The Rocket: The Legend of Rocket Richard"
          ],
          [
           "Swelter"
          ],
          [
           "My Lucky Star"
          ],
          [
           "Imagine Me & You"
          ],
          [
           "Mr. Church"
          ],
          [
           "Swimming Pool"
          ],
          [
           "Green Street Hooligans: Underground"
          ],
          [
           "The Blood of Heroes"
          ],
          [
           "Code of Honor"
          ],
          [
           "Driving Miss Daisy"
          ],
          [
           "Soul Food"
          ],
          [
           "Rumble in the Bronx"
          ],
          [
           "Far from Men"
          ],
          [
           "Thank You for Smoking"
          ],
          [
           "Hostel: Part II"
          ],
          [
           "An Education"
          ],
          [
           "Shopgirl"
          ],
          [
           "The Hotel New Hampshire"
          ],
          [
           "Narc"
          ],
          [
           "Men with Brooms"
          ],
          [
           "Witless Protection"
          ],
          [
           "The Work and the Glory"
          ],
          [
           "Extract"
          ],
          [
           "Masked and Anonymous"
          ],
          [
           "Betty Fisher and Other Stories"
          ],
          [
           "Code 46"
          ],
          [
           "Outside Bet"
          ],
          [
           "Albert Nobbs"
          ],
          [
           "Black November"
          ],
          [
           "Ta Ra Rum Pum"
          ],
          [
           "Persepolis"
          ],
          [
           "The Hole"
          ],
          [
           "The Wave"
          ],
          [
           "The Neon Demon"
          ],
          [
           "Harry Brown"
          ],
          [
           "The Omega Code"
          ],
          [
           "Juno"
          ],
          [
           "Pound of Flesh"
          ],
          [
           "Diamonds Are Forever"
          ],
          [
           "The Godfather"
          ],
          [
           "Flashdance"
          ],
          [
           "(500) Days of Summer"
          ],
          [
           "The Piano"
          ],
          [
           "Magic Mike"
          ],
          [
           "Darkness Falls"
          ],
          [
           "Live and Let Die"
          ],
          [
           "My Dog Skip"
          ],
          [
           "Definitely, Maybe"
          ],
          [
           "Jumping the Broom"
          ],
          [
           "Good Night, and Good Luck."
          ],
          [
           "Capote"
          ],
          [
           "Desperado"
          ],
          [
           "Logan's Run"
          ],
          [
           "The Man with the Golden Gun"
          ],
          [
           "Action Jackson"
          ],
          [
           "The Descent"
          ],
          [
           "Michael Jordan to the Max"
          ],
          [
           "Devil's Due"
          ],
          [
           "Flirting with Disaster"
          ],
          [
           "The Devil's Rejects"
          ],
          [
           "Dope"
          ],
          [
           "In Too Deep"
          ],
          [
           "House of 1000 Corpses"
          ],
          [
           "Alien Zone"
          ],
          [
           "A Serious Man"
          ],
          [
           "Get Low"
          ],
          [
           "Warlock"
          ],
          [
           "Beyond the Lights"
          ],
          [
           "A Single Man"
          ],
          [
           "The Last Temptation of Christ"
          ],
          [
           "Outside Providence"
          ],
          [
           "Bride & Prejudice"
          ],
          [
           "Rabbit-Proof Fence"
          ],
          [
           "Who's Your Caddy?"
          ],
          [
           "Split Second"
          ],
          [
           "The Other Side of Heaven"
          ],
          [
           "Veer-Zaara"
          ],
          [
           "Redbelt"
          ],
          [
           "Cyrus"
          ],
          [
           "A Dog Of Flanders"
          ],
          [
           "Auto Focus"
          ],
          [
           "Factory Girl"
          ],
          [
           "We Need to Talk About Kevin"
          ],
          [
           "The Christmas Candle"
          ],
          [
           "The Mighty Macs"
          ],
          [
           "Losin' It"
          ],
          [
           "Mother and Child"
          ],
          [
           "March or Die"
          ],
          [
           "The Visitors"
          ],
          [
           "Somewhere"
          ],
          [
           "I Hope They Serve Beer in Hell"
          ],
          [
           "Chairman of the Board"
          ],
          [
           "Hesher"
          ],
          [
           "Dom Hemingway"
          ],
          [
           "Gerry"
          ],
          [
           "The Heart of Me"
          ],
          [
           "Freeheld"
          ],
          [
           "The Extra Man"
          ],
          [
           "Hard to Be a God"
          ],
          [
           "Ca$h"
          ],
          [
           "Wah-Wah"
          ],
          [
           "The Boondock Saints"
          ],
          [
           "Z Storm"
          ],
          [
           "Twixt"
          ],
          [
           "The Snow Queen"
          ],
          [
           "Alpha and Omega: The Legend of the Saw Tooth Cave"
          ],
          [
           "Pale Rider"
          ],
          [
           "Stargate: The Ark of Truth"
          ],
          [
           "Dazed and Confused"
          ],
          [
           "High School Musical 2"
          ],
          [
           "Two Lovers and a Bear"
          ],
          [
           "Criminal Activities"
          ],
          [
           "Aimee & Jaguar"
          ],
          [
           "The Chumscrubber"
          ],
          [
           "Shade"
          ],
          [
           "House at the End of the Street"
          ],
          [
           "Incendies"
          ],
          [
           "Remember Me, My Love"
          ],
          [
           "Perrier’s Bounty"
          ],
          [
           "Elite Squad"
          ],
          [
           "Annabelle"
          ],
          [
           "Bran Nue Dae"
          ],
          [
           "Boyz n the Hood"
          ],
          [
           "La Bamba"
          ],
          [
           "The Four Seasons"
          ],
          [
           "Dressed to Kill"
          ],
          [
           "The Adventures of Huck Finn"
          ],
          [
           "Go"
          ],
          [
           "Friends with Money"
          ],
          [
           "The Andromeda Strain"
          ],
          [
           "Bats"
          ],
          [
           "Nowhere in Africa"
          ],
          [
           "Shame"
          ],
          [
           "Layer Cake"
          ],
          [
           "The Work and the Glory II: American Zion"
          ],
          [
           "The East"
          ],
          [
           "A Home at the End of the World"
          ],
          [
           "Aberdeen"
          ],
          [
           "The Messenger"
          ],
          [
           "Tracker"
          ],
          [
           "Control"
          ],
          [
           "The Terminator"
          ],
          [
           "Good bye, Lenin!"
          ],
          [
           "The Damned United"
          ],
          [
           "The Return of the Living Dead"
          ],
          [
           "Mallrats"
          ],
          [
           "Grease"
          ],
          [
           "Platoon"
          ],
          [
           "Fahrenheit 9/11"
          ],
          [
           "Butch Cassidy and the Sundance Kid"
          ],
          [
           "Mary Poppins"
          ],
          [
           "Ordinary People"
          ],
          [
           "West Side Story"
          ],
          [
           "Caddyshack"
          ],
          [
           "The Brothers"
          ],
          [
           "The Wood"
          ],
          [
           "The Usual Suspects"
          ],
          [
           "A Nightmare on Elm Street 5: The Dream Child"
          ],
          [
           "National Lampoon’s Van Wilder"
          ],
          [
           "The Wrestler"
          ],
          [
           "Duel in the Sun"
          ],
          [
           "Best in Show"
          ],
          [
           "Escape from New York"
          ],
          [
           "School Daze"
          ],
          [
           "Daddy Day Camp"
          ],
          [
           "Mr. Nice Guy"
          ],
          [
           "A Mighty Wind"
          ],
          [
           "Mystic Pizza"
          ],
          [
           "Sliding Doors"
          ],
          [
           "Tales from the Hood"
          ],
          [
           "The Last King of Scotland"
          ],
          [
           "Halloween 5: The Revenge of Michael Myers"
          ],
          [
           "Bernie"
          ],
          [
           "Dolphins and Whales: Tribes of the Ocean"
          ],
          [
           "Pollock"
          ],
          [
           "200 Cigarettes"
          ],
          [
           "The Words"
          ],
          [
           "Casa De Mi Padre"
          ],
          [
           "City Island"
          ],
          [
           "The Guard"
          ],
          [
           "College"
          ],
          [
           "The Virgin Suicides"
          ],
          [
           "Little Voice"
          ],
          [
           "Miss March"
          ],
          [
           "Wish I Was Here"
          ],
          [
           "Simply Irresistible"
          ],
          [
           "Hedwig and the Angry Inch"
          ],
          [
           "Only the Strong"
          ],
          [
           "Goddess of Love"
          ],
          [
           "Shattered Glass"
          ],
          [
           "Novocaine"
          ],
          [
           "The Business of Strangers"
          ],
          [
           "The Wild Bunch"
          ],
          [
           "The Wackness"
          ],
          [
           "The First Great Train Robbery"
          ],
          [
           "Morvern Callar"
          ],
          [
           "Beastmaster 2: Through the Portal of Time"
          ],
          [
           "The 5th Quarter"
          ],
          [
           "The Flower of Evil"
          ],
          [
           "The Greatest"
          ],
          [
           "Snow Flower and the Secret Fan"
          ],
          [
           "Come Early Morning"
          ],
          [
           "Lucky Break"
          ],
          [
           "Julia"
          ],
          [
           "Surfer, Dude"
          ],
          [
           "Lake of Fire"
          ],
          [
           "11:14"
          ],
          [
           "Men of War"
          ],
          [
           "Don McKay"
          ],
          [
           "Deadfall"
          ],
          [
           "A Shine of Rainbows"
          ],
          [
           "The Hit List"
          ],
          [
           "Emma"
          ],
          [
           "Videodrome"
          ],
          [
           "The Spanish Apartment"
          ],
          [
           "Song One"
          ],
          [
           "Winter in Wartime"
          ],
          [
           "Freaky Deaky"
          ],
          [
           "The Train"
          ],
          [
           "Trade Of Innocents"
          ],
          [
           "The Protector"
          ],
          [
           "Stiff Upper Lips"
          ],
          [
           "Bend It Like Beckham"
          ],
          [
           "Sunshine State"
          ],
          [
           "Crossover"
          ],
          [
           "Khiladi 786"
          ],
          [
           "[REC]²"
          ],
          [
           "Standing Ovation"
          ],
          [
           "The Sting"
          ],
          [
           "Chariots of Fire"
          ],
          [
           "Diary of a Mad Black Woman"
          ],
          [
           "Shine"
          ],
          [
           "Don Jon"
          ],
          [
           "High Plains Drifter"
          ],
          [
           "Ghost World"
          ],
          [
           "Iris"
          ],
          [
           "Galaxina"
          ],
          [
           "The Chorus"
          ],
          [
           "Mambo Italiano"
          ],
          [
           "Wonderland"
          ],
          [
           "Do the Right Thing"
          ],
          [
           "Harvard Man"
          ],
          [
           "Le Havre"
          ],
          [
           "Irreversible"
          ],
          [
           "R100"
          ],
          [
           "Rang De Basanti"
          ],
          [
           "Animals"
          ],
          [
           "Salvation Boulevard"
          ],
          [
           "The Ten"
          ],
          [
           "A Room for Romeo Brass"
          ],
          [
           "Headhunters"
          ],
          [
           "Grabbers"
          ],
          [
           "Saint Ralph"
          ],
          [
           "Miss Julie"
          ],
          [
           "Somewhere in Time"
          ],
          [
           "Dum Maaro Dum"
          ],
          [
           "Insidious: Chapter 2"
          ],
          [
           "Saw II"
          ],
          [
           "10 Cloverfield Lane"
          ],
          [
           "Jackass: The Movie"
          ],
          [
           "Lights Out"
          ],
          [
           "Paranormal Activity 3"
          ],
          [
           "Ouija"
          ],
          [
           "A Nightmare on Elm Street 3: Dream Warriors"
          ],
          [
           "Instructions Not Included"
          ],
          [
           "Paranormal Activity 4"
          ],
          [
           "The Robe"
          ],
          [
           "The Return of the Pink Panther"
          ],
          [
           "Freddy's Dead: The Final Nightmare"
          ],
          [
           "Monster"
          ],
          [
           "20,000 Leagues Under the Sea"
          ],
          [
           "Paranormal Activity: The Marked Ones"
          ],
          [
           "The Elephant Man"
          ],
          [
           "Dallas Buyers Club"
          ],
          [
           "The Lazarus Effect"
          ],
          [
           "Memento"
          ],
          [
           "Oculus"
          ],
          [
           "Clerks II"
          ],
          [
           "Billy Elliot"
          ],
          [
           "The Way Way Back"
          ],
          [
           "House Party 2"
          ],
          [
           "The Man from Snowy River"
          ],
          [
           "Doug's 1st Movie"
          ],
          [
           "The Apostle"
          ],
          [
           "Mommie Dearest"
          ],
          [
           "Our Idiot Brother"
          ],
          [
           "Race"
          ],
          [
           "The Players Club"
          ],
          [
           "As Above, So Below"
          ],
          [
           "Addicted"
          ],
          [
           "Eve's Bayou"
          ],
          [
           "Still Alice"
          ],
          [
           "The Egyptian"
          ],
          [
           "Nighthawks"
          ],
          [
           "Friday the 13th Part VIII: Jason Takes Manhattan"
          ],
          [
           "My Big Fat Greek Wedding"
          ],
          [
           "Spring Breakers"
          ],
          [
           "Halloween: The Curse of Michael Myers"
          ],
          [
           "Y Tu Mamá También"
          ],
          [
           "Shaun of the Dead"
          ],
          [
           "The Haunting of Molly Hartley"
          ],
          [
           "Lone Star"
          ],
          [
           "Halloween 4: The Return of Michael Myers"
          ],
          [
           "April Fool's Day"
          ],
          [
           "Diner"
          ],
          [
           "Lone Wolf McQuade"
          ],
          [
           "Apollo 18"
          ],
          [
           "Sunshine Cleaning"
          ],
          [
           "No Escape"
          ],
          [
           "The Beastmaster"
          ],
          [
           "Solomon and Sheba"
          ],
          [
           "Fifty Shades of Black"
          ],
          [
           "Not Easily Broken"
          ],
          [
           "A Farewell to Arms"
          ],
          [
           "The Perfect Match"
          ],
          [
           "Digimon: The Movie"
          ],
          [
           "Saved!"
          ],
          [
           "The Barbarian Invasions"
          ],
          [
           "Robin and Marian"
          ],
          [
           "The Forsaken"
          ],
          [
           "Force 10 from Navarone"
          ],
          [
           "UHF"
          ],
          [
           "Grandma's Boy"
          ],
          [
           "Slums of Beverly Hills"
          ],
          [
           "Once Upon a Time in the West"
          ],
          [
           "Made"
          ],
          [
           "Moon"
          ],
          [
           "Keeping Up with the Steins"
          ],
          [
           "Sea Rex 3D: Journey to a Prehistoric World"
          ],
          [
           "The Sweet Hereafter"
          ],
          [
           "Of Gods and Men"
          ],
          [
           "Bottle Shock"
          ],
          [
           "Jekyll and Hyde ... Together Again"
          ],
          [
           "Heavenly Creatures"
          ],
          [
           "90 Minutes in Heaven"
          ],
          [
           "Everything Must Go"
          ],
          [
           "Zero Effect"
          ],
          [
           "The Machinist"
          ],
          [
           "Light Sleeper"
          ],
          [
           "Kill the Messenger"
          ],
          [
           "Rabbit Hole"
          ],
          [
           "Party Monster"
          ],
          [
           "Green Room"
          ],
          [
           "The Oh in Ohio"
          ],
          [
           "Atlas Shrugged Part III: Who is John Galt?"
          ],
          [
           "Bottle Rocket"
          ],
          [
           "Albino Alligator"
          ],
          [
           "Gandhi, My Father"
          ],
          [
           "Standard Operating Procedure"
          ],
          [
           "Out of the Blue"
          ],
          [
           "Tucker and Dale vs Evil"
          ],
          [
           "Lovely, Still"
          ],
          [
           "Tycoon"
          ],
          [
           "Desert Blue"
          ],
          [
           "Decoys"
          ],
          [
           "The Visit"
          ],
          [
           "Redacted"
          ],
          [
           "Fascination"
          ],
          [
           "Area 51"
          ],
          [
           "Sleep Tight"
          ],
          [
           "The Cottage"
          ],
          [
           "Dead Like Me: Life After Death"
          ],
          [
           "Farce of the Penguins"
          ],
          [
           "Flying By"
          ],
          [
           "Rudderless"
          ],
          [
           "Henry & Me"
          ],
          [
           "Christmas Eve"
          ],
          [
           "We Have Your Husband"
          ],
          [
           "Dying of the Light"
          ],
          [
           "Born Of War"
          ],
          [
           "Capricorn One"
          ],
          [
           "Should've Been Romeo"
          ],
          [
           "Running Forever"
          ],
          [
           "Yoga Hosers"
          ],
          [
           "Navy Seals vs. Zombies"
          ],
          [
           "I Served the King of England"
          ],
          [
           "Soul Kitchen"
          ],
          [
           "Sling Blade"
          ],
          [
           "The Awakening"
          ],
          [
           "Hostel"
          ],
          [
           "A Cock and Bull Story"
          ],
          [
           "Take Shelter"
          ],
          [
           "Lady in White"
          ],
          [
           "Driving Lessons"
          ],
          [
           "Let's Kill Ward's Wife"
          ],
          [
           "The Texas Chainsaw Massacre 2"
          ],
          [
           "Pat Garrett & Billy the Kid"
          ],
          [
           "Only God Forgives"
          ],
          [
           "Camping Sauvage"
          ],
          [
           "Without Men"
          ],
          [
           "Dear Frankie"
          ],
          [
           "All Hat"
          ],
          [
           "The Names of Love"
          ],
          [
           "Treading Water"
          ],
          [
           "Savage Grace"
          ],
          [
           "Out of the Blue"
          ],
          [
           "Police Academy"
          ],
          [
           "The Blue Lagoon"
          ],
          [
           "Four Weddings and a Funeral"
          ],
          [
           "Fast Times at Ridgemont High"
          ],
          [
           "Moby Dick"
          ],
          [
           "25th Hour"
          ],
          [
           "Bound"
          ],
          [
           "Requiem for a Dream"
          ],
          [
           "State Fair"
          ],
          [
           "Tango"
          ],
          [
           "Salvador"
          ],
          [
           "Moms' Night Out"
          ],
          [
           "Donnie Darko"
          ],
          [
           "Saving Private Perez"
          ],
          [
           "Character"
          ],
          [
           "Spun"
          ],
          [
           "Life During Wartime"
          ],
          [
           "Sympathy for Lady Vengeance"
          ],
          [
           "Mozart's Sister"
          ],
          [
           "Mean Machine"
          ],
          [
           "Exiled"
          ],
          [
           "Blackthorn"
          ],
          [
           "Lilya 4-ever"
          ],
          [
           "After.Life"
          ],
          [
           "Fugly"
          ],
          [
           "One Flew Over the Cuckoo's Nest"
          ],
          [
           "R.L. Stine's Monsterville: The Cabinet of Souls"
          ],
          [
           "Silent Movie"
          ],
          [
           "Airlift"
          ],
          [
           "Anne of Green Gables"
          ],
          [
           "Falcon Rising"
          ],
          [
           "The Sweeney"
          ],
          [
           "Sexy Beast"
          ],
          [
           "Easy Money"
          ],
          [
           "Whale Rider"
          ],
          [
           "Paa"
          ],
          [
           "Cargo"
          ],
          [
           "High School Musical"
          ],
          [
           "Love and Death on Long Island"
          ],
          [
           "Night Watch"
          ],
          [
           "The Crying Game"
          ],
          [
           "Porky's"
          ],
          [
           "Survival of the Dead"
          ],
          [
           "Night of the Living Dead"
          ],
          [
           "Lost in Translation"
          ],
          [
           "Annie Hall"
          ],
          [
           "The Greatest Show on Earth"
          ],
          [
           "Monster's Ball"
          ],
          [
           "Maggie"
          ],
          [
           "Leaving Las Vegas"
          ],
          [
           "Hansel and Gretel Get Baked"
          ],
          [
           "The Front Page"
          ],
          [
           "The Boy Next Door"
          ],
          [
           "Trapeze"
          ],
          [
           "The Kids Are All Right"
          ],
          [
           "They Live"
          ],
          [
           "The Great Escape"
          ],
          [
           "What the #$*! Do We (K)now!?"
          ],
          [
           "The Last Exorcism Part II"
          ],
          [
           "Boyhood"
          ],
          [
           "Scoop"
          ],
          [
           "The Wash"
          ],
          [
           "3 Strikes"
          ],
          [
           "The Cooler"
          ],
          [
           "The Misfits"
          ],
          [
           "The Night Listener"
          ],
          [
           "The Jerky Boys"
          ],
          [
           "The Orphanage"
          ],
          [
           "A Haunted House 2"
          ],
          [
           "The Rules of Attraction"
          ],
          [
           "Topaz"
          ],
          [
           "Let's Go to Prison"
          ],
          [
           "Four Rooms"
          ],
          [
           "Secretary"
          ],
          [
           "The Real Cancun"
          ],
          [
           "Talk Radio"
          ],
          [
           "Waiting for Guffman"
          ],
          [
           "Love Stinks"
          ],
          [
           "You Kill Me"
          ],
          [
           "Thumbsucker"
          ],
          [
           "Red State"
          ],
          [
           "Mirrormask"
          ],
          [
           "Samsara"
          ],
          [
           "The Barbarians"
          ],
          [
           "The Art of Getting By"
          ],
          [
           "Zipper"
          ],
          [
           "Poolhall Junkies"
          ],
          [
           "The Loss of Sexual Innocence"
          ],
          [
           "Holy Motors"
          ],
          [
           "Joe"
          ],
          [
           "Shooting Fish"
          ],
          [
           "Prison"
          ],
          [
           "Psycho Beach Party"
          ],
          [
           "The Big Tease"
          ],
          [
           "Guten Tag, Ramón"
          ],
          [
           "Trust"
          ],
          [
           "An Everlasting Piece"
          ],
          [
           "Among Giants"
          ],
          [
           "Adore"
          ],
          [
           "The Velocity of Gary"
          ],
          [
           "Mondays in the Sun"
          ],
          [
           "Stake Land"
          ],
          [
           "The Last Time I Committed Suicide"
          ],
          [
           "Futuro Beach"
          ],
          [
           "Another Happy Day"
          ],
          [
           "A Lonely Place to Die"
          ],
          [
           "Nothing"
          ],
          [
           "The Geographer Drank His Globe Away"
          ],
          [
           "1776"
          ],
          [
           "Inescapable"
          ],
          [
           "Hell's Angels"
          ],
          [
           "Purple Violets"
          ],
          [
           "The Veil"
          ],
          [
           "The Loved Ones"
          ],
          [
           "The Helpers"
          ],
          [
           "How to Fall in Love"
          ],
          [
           "The Perfect Wave"
          ],
          [
           "A Man for All Seasons"
          ],
          [
           "Network"
          ],
          [
           "Gone with the Wind"
          ],
          [
           "Desert Dancer"
          ],
          [
           "Major Dundee"
          ],
          [
           "Annie Get Your Gun"
          ],
          [
           "Four Lions"
          ],
          [
           "The House of Sand"
          ],
          [
           "Defendor"
          ],
          [
           "The Pirate"
          ],
          [
           "The Good Heart"
          ],
          [
           "The History Boys"
          ],
          [
           "Midnight Cowboy"
          ],
          [
           "The Full Monty"
          ],
          [
           "Airplane!"
          ],
          [
           "Chain of Command"
          ],
          [
           "Friday"
          ],
          [
           "Menace II Society"
          ],
          [
           "Creepshow 2"
          ],
          [
           "The Ballad of Cable Hogue"
          ],
          [
           "In Cold Blood"
          ],
          [
           "The Nun's Story"
          ],
          [
           "Harper"
          ],
          [
           "Frenzy"
          ],
          [
           "The Witch"
          ],
          [
           "I Got the Hook Up"
          ],
          [
           "She's the One"
          ],
          [
           "Gods and Monsters"
          ],
          [
           "The Secret in Their Eyes"
          ],
          [
           "Train"
          ],
          [
           "Evil Dead II"
          ],
          [
           "Pootie Tang"
          ],
          [
           "Sharknado"
          ],
          [
           "The Other Conquest"
          ],
          [
           "Troll Hunter"
          ],
          [
           "Ira & Abby"
          ],
          [
           "Winter Passing"
          ],
          [
           "D.E.B.S."
          ],
          [
           "The Masked Saint"
          ],
          [
           "The Betrayed"
          ],
          [
           "Taxman"
          ],
          [
           "The Secret"
          ],
          [
           "2:13"
          ],
          [
           "Batman: The Dark Knight Returns, Part 2"
          ],
          [
           "Time to Choose"
          ],
          [
           "In the Name of the King III"
          ],
          [
           "Wicked Blood"
          ],
          [
           "Stranded"
          ],
          [
           "Lords of London"
          ],
          [
           "High Anxiety"
          ],
          [
           "March of the Penguins"
          ],
          [
           "Margin Call"
          ],
          [
           "August"
          ],
          [
           "Choke"
          ],
          [
           "Whiplash"
          ],
          [
           "City of God"
          ],
          [
           "Human Traffic"
          ],
          [
           "To Write Love on Her Arms"
          ],
          [
           "The Dead Girl"
          ],
          [
           "The Hunt"
          ],
          [
           "A Christmas Story"
          ],
          [
           "Bella"
          ],
          [
           "Class of 1984"
          ],
          [
           "The Opposite Sex"
          ],
          [
           "Dreaming of Joseph Lees"
          ],
          [
           "The Class"
          ],
          [
           "Rosemary's Baby"
          ],
          [
           "The Man Who Shot Liberty Valance"
          ],
          [
           "Adam"
          ],
          [
           "Maria Full of Grace"
          ],
          [
           "Beginners"
          ],
          [
           "Feast"
          ],
          [
           "Animal House"
          ],
          [
           "Goldfinger"
          ],
          [
           "Antiviral"
          ],
          [
           "It's a Wonderful Life"
          ],
          [
           "Trainspotting"
          ],
          [
           "The Original Kings of Comedy"
          ],
          [
           "Paranormal Activity 2"
          ],
          [
           "Waking Ned"
          ],
          [
           "Bowling for Columbine"
          ],
          [
           "Coming Home"
          ],
          [
           "A Nightmare on Elm Street Part 2: Freddy's Revenge"
          ],
          [
           "A Room with a View"
          ],
          [
           "The Purge"
          ],
          [
           "Sinister"
          ],
          [
           "Martin Lawrence Live: Runteldat"
          ],
          [
           "Cat on a Hot Tin Roof"
          ],
          [
           "Beneath the Planet of the Apes"
          ],
          [
           "Air Bud"
          ],
          [
           "Pokémon: Spell of the Unknown"
          ],
          [
           "Friday the 13th Part VI: Jason Lives"
          ],
          [
           "The Bridge on the River Kwai"
          ],
          [
           "Spaced Invaders"
          ],
          [
           "Family Plot"
          ],
          [
           "The Apartment"
          ],
          [
           "Jason Goes to Hell: The Final Friday"
          ],
          [
           "Torn Curtain"
          ],
          [
           "Dave Chappelle's Block Party"
          ],
          [
           "Slow West"
          ],
          [
           "Krush Groove"
          ],
          [
           "Next Day Air"
          ],
          [
           "Elmer Gantry"
          ],
          [
           "Judgment at Nuremberg"
          ],
          [
           "Trippin'"
          ],
          [
           "Red River"
          ],
          [
           "Phat Girlz"
          ],
          [
           "Before Midnight"
          ],
          [
           "Teen Wolf Too"
          ],
          [
           "Phantasm II"
          ],
          [
           "Woman Thou Art Loosed"
          ],
          [
           "Real Women Have Curves"
          ],
          [
           "Water"
          ],
          [
           "East Is East"
          ],
          [
           "Whipped"
          ],
          [
           "Kama Sutra - A Tale of Love"
          ],
          [
           "Please Give"
          ],
          [
           "Willy Wonka & the Chocolate Factory"
          ],
          [
           "Warlock: The Armageddon"
          ],
          [
           "8 Heads in a Duffel Bag"
          ],
          [
           "Days of Heaven"
          ],
          [
           "Thirteen Conversations About One Thing"
          ],
          [
           "Jawbreaker"
          ],
          [
           "Basquiat"
          ],
          [
           "Frances Ha"
          ],
          [
           "Tsotsi"
          ],
          [
           "Happiness"
          ],
          [
           "DysFunktional Family"
          ],
          [
           "Tusk"
          ],
          [
           "Oldboy"
          ],
          [
           "Letters to God"
          ],
          [
           "Hobo with a Shotgun"
          ],
          [
           "Compadres"
          ],
          [
           "Freeway"
          ],
          [
           "Love's Abiding Joy"
          ],
          [
           "Fish Tank"
          ],
          [
           "Damsels in Distress"
          ],
          [
           "Creature"
          ],
          [
           "Bachelorette"
          ],
          [
           "Brave New Girl"
          ],
          [
           "Tim and Eric's Billion Dollar Movie"
          ],
          [
           "Summer Storm"
          ],
          [
           "Fort McCoy"
          ],
          [
           "Chain Letter"
          ],
          [
           "Just Looking"
          ],
          [
           "The Divide"
          ],
          [
           "The Eclipse"
          ],
          [
           "Demonic"
          ],
          [
           "My Big Fat Independent Movie"
          ],
          [
           "The Deported"
          ],
          [
           "Tanner Hall"
          ],
          [
           "Open Road"
          ],
          [
           "They Came Together"
          ],
          [
           "30 Nights of Paranormal Activity With the Devil Inside the Girl With the Dragon Tattoo"
          ],
          [
           "Never Back Down 2: The Beatdown"
          ],
          [
           "Point Blank"
          ],
          [
           "Four Single Fathers"
          ],
          [
           "Enter the Dangerous Mind"
          ],
          [
           "Something Wicked"
          ],
          [
           "AWOL-72"
          ],
          [
           "Iguana"
          ],
          [
           "Chicago Overcoat"
          ],
          [
           "Barry Munday"
          ],
          [
           "Central Station"
          ],
          [
           "Pocketful of Miracles"
          ],
          [
           "Close Range"
          ],
          [
           "Boynton Beach Club"
          ],
          [
           "Amnesiac"
          ],
          [
           "Freakonomics"
          ],
          [
           "High Tension"
          ],
          [
           "Griff the Invisible"
          ],
          [
           "Unnatural"
          ],
          [
           "Hustle & Flow"
          ],
          [
           "Some Like It Hot"
          ],
          [
           "Friday the 13th Part VII: The New Blood"
          ],
          [
           "The Wizard of Oz"
          ],
          [
           "Young Frankenstein"
          ],
          [
           "Diary of the Dead"
          ],
          [
           "Lage Raho Munna Bhai"
          ],
          [
           "Ulee's Gold"
          ],
          [
           "The Black Stallion"
          ],
          [
           "Sardaarji"
          ],
          [
           "Journey to Saturn"
          ],
          [
           "Donovan's Reef"
          ],
          [
           "The Dress"
          ],
          [
           "A Guy Named Joe"
          ],
          [
           "Blazing Saddles"
          ],
          [
           "Friday the 13th: The Final Chapter"
          ],
          [
           "Ida"
          ],
          [
           "Maurice"
          ],
          [
           "Beer League"
          ],
          [
           "Riding Giants"
          ],
          [
           "Timecrimes"
          ],
          [
           "Silver Medalist"
          ],
          [
           "Timber Falls"
          ],
          [
           "Singin' in the Rain"
          ],
          [
           "Fat, Sick & Nearly Dead"
          ],
          [
           "A Haunted House"
          ],
          [
           "2016: Obama's America"
          ],
          [
           "That Thing You Do!"
          ],
          [
           "Halloween III: Season of the Witch"
          ],
          [
           "Escape from the Planet of the Apes"
          ],
          [
           "Hud"
          ],
          [
           "Kevin Hart: Let Me Explain"
          ],
          [
           "My Own Private Idaho"
          ],
          [
           "Garden State"
          ],
          [
           "Before Sunrise"
          ],
          [
           "Evil Words"
          ],
          [
           "Jesus' Son"
          ],
          [
           "Saving Face"
          ],
          [
           "Brick Lane"
          ],
          [
           "Robot & Frank"
          ],
          [
           "My Life Without Me"
          ],
          [
           "The Spectacular Now"
          ],
          [
           "Religulous"
          ],
          [
           "Fuel"
          ],
          [
           "Valley of the Heart's Delight"
          ],
          [
           "Eye of the Dolphin"
          ],
          [
           "8: The Mormon Proposition"
          ],
          [
           "The Other End of the Line"
          ],
          [
           "Anatomy"
          ],
          [
           "Sleep Dealer"
          ],
          [
           "Super"
          ],
          [
           "Christmas Mail"
          ],
          [
           "Stung"
          ],
          [
           "Antibirth"
          ],
          [
           "Get on the Bus"
          ],
          [
           "Thr3e"
          ],
          [
           "Idiocracy"
          ],
          [
           "The Rise of the Krays"
          ],
          [
           "This Is England"
          ],
          [
           "U.F.O."
          ],
          [
           "Bathing Beauty"
          ],
          [
           "Go for It!"
          ],
          [
           "Dancer, Texas Pop. 81"
          ],
          [
           "Show Boat"
          ],
          [
           "Redemption Road"
          ],
          [
           "The Calling"
          ],
          [
           "The Brave Little Toaster"
          ],
          [
           "Fantasia"
          ],
          [
           "8 Days"
          ],
          [
           "Friday the 13th Part III"
          ],
          [
           "Friday the 13th: A New Beginning"
          ],
          [
           "The Last Sin Eater"
          ],
          [
           "Do You Believe?"
          ],
          [
           "Impact Point"
          ],
          [
           "The Valley of Decision"
          ],
          [
           "Eden"
          ],
          [
           "Chicken Tikka Masala"
          ],
          [
           "There's Always Woodstock"
          ],
          [
           "Jack Brooks: Monster Slayer"
          ],
          [
           "The Best Years of Our Lives"
          ],
          [
           "Bully"
          ],
          [
           "Elling"
          ],
          [
           "Mi America"
          ],
          [
           "[REC]"
          ],
          [
           "Lies in Plain Sight"
          ],
          [
           "Sharkskin"
          ],
          [
           "Containment"
          ],
          [
           "The Timber"
          ],
          [
           "From Russia with Love"
          ],
          [
           "The Toxic Avenger Part II"
          ],
          [
           "Sleeper"
          ],
          [
           "It Follows"
          ],
          [
           "Everything You Always Wanted to Know About Sex *But Were Afraid to Ask"
          ],
          [
           "To Kill a Mockingbird"
          ],
          [
           "Mad Max 2: The Road Warrior"
          ],
          [
           "The Legend of Drunken Master"
          ],
          [
           "Boys Don't Cry"
          ],
          [
           "Silent House"
          ],
          [
           "The Lives of Others"
          ],
          [
           "Courageous"
          ],
          [
           "The Hustler"
          ],
          [
           "Boom Town"
          ],
          [
           "The Triplets of Belleville"
          ],
          [
           "Smoke Signals"
          ],
          [
           "American Splendor"
          ],
          [
           "Before Sunset"
          ],
          [
           "Amores perros"
          ],
          [
           "Thirteen"
          ],
          [
           "Gentleman's Agreement"
          ],
          [
           "Winter's Bone"
          ],
          [
           "Touching the Void"
          ],
          [
           "Alexander's Ragtime Band"
          ],
          [
           "Me and You and Everyone We Know"
          ],
          [
           "Inside Job"
          ],
          [
           "We Are Your Friends"
          ],
          [
           "Ghost Dog: The Way of the Samurai"
          ],
          [
           "Harsh Times"
          ],
          [
           "Captive"
          ],
          [
           "Full Frontal"
          ],
          [
           "Witchboard"
          ],
          [
           "Shortbus"
          ],
          [
           "Waltz with Bashir"
          ],
          [
           "The Book of Mormon Movie, Volume 1: The Journey"
          ],
          [
           "No End in Sight"
          ],
          [
           "The Diary of a Teenage Girl"
          ],
          [
           "In the Shadow of the Moon"
          ],
          [
           "Meek's Cutoff"
          ],
          [
           "Inside Deep Throat"
          ],
          [
           "Dinner Rush"
          ],
          [
           "Clockwatchers"
          ],
          [
           "The Virginity Hit"
          ],
          [
           "Subway"
          ],
          [
           "House of D"
          ],
          [
           "Teeth"
          ],
          [
           "Six-String Samurai"
          ],
          [
           "Hum To Mohabbat Karega"
          ],
          [
           "It's All Gone Pete Tong"
          ],
          [
           "Saint John of Las Vegas"
          ],
          [
           "24 7: Twenty Four Seven"
          ],
          [
           "Stonewall"
          ],
          [
           "Roadside Romeo"
          ],
          [
           "This Thing of Ours"
          ],
          [
           "The Lost Medallion: The Adventures of Billy Stone"
          ],
          [
           "The Last Five Years"
          ],
          [
           "The Missing Person"
          ],
          [
           "Return of the Living Dead 3"
          ],
          [
           "London"
          ],
          [
           "Sherrybaby"
          ],
          [
           "Circle"
          ],
          [
           "Eden Lake"
          ],
          [
           "Plush"
          ],
          [
           "Lesbian Vampire Killers"
          ],
          [
           "Gangster's Paradise: Jerusalema"
          ],
          [
           "Freeze Frame"
          ],
          [
           "Grave Encounters"
          ],
          [
           "Stitches"
          ],
          [
           "Nine Dead"
          ],
          [
           "To Be Frank, Sinatra at 100"
          ],
          [
           "Bananas"
          ],
          [
           "Supercapitalist"
          ],
          [
           "Rockaway"
          ],
          [
           "The Lady from Shanghai"
          ],
          [
           "No Man's Land: The Rise of Reeker"
          ],
          [
           "Highway"
          ],
          [
           "Small Apartments"
          ],
          [
           "Coffee Town"
          ],
          [
           "The Ghastly Love of Johnny X"
          ],
          [
           "All Is Bright"
          ],
          [
           "The Torture Chamber of Dr. Sadism"
          ],
          [
           "Straight A's"
          ],
          [
           "A Funny Thing Happened on the Way to the Forum"
          ],
          [
           "Slacker Uprising"
          ],
          [
           "The Legend of Hell's Gate: An American Conspiracy"
          ],
          [
           "The Walking Deceased"
          ],
          [
           "The Curse of Downers Grove"
          ],
          [
           "Shark Lake"
          ],
          [
           "River's Edge"
          ],
          [
           "Northfork"
          ],
          [
           "The Marine 4: Moving Target"
          ],
          [
           "Buried"
          ],
          [
           "Submarine"
          ],
          [
           "The Square"
          ],
          [
           "One to Another"
          ],
          [
           "ABCD (Any Body Can Dance)"
          ],
          [
           "Man on Wire"
          ],
          [
           "Abandoned"
          ],
          [
           "Brotherly Love"
          ],
          [
           "The Last Exorcism"
          ],
          [
           "Nowhere Boy"
          ],
          [
           "A Streetcar Named Desire"
          ],
          [
           "Dr. Strangelove or: How I Learned to Stop Worrying and Love the Bomb"
          ],
          [
           "The Crime of Padre Amaro"
          ],
          [
           "Beasts of the Southern Wild"
          ],
          [
           "Battle for the Planet of the Apes"
          ],
          [
           "Songcatcher"
          ],
          [
           "Higher Ground"
          ],
          [
           "Vaalu"
          ],
          [
           "The Greatest Movie Ever Sold"
          ],
          [
           "Ed and His Dead Mother"
          ],
          [
           "Travellers and Magicians"
          ],
          [
           "Hang 'em High"
          ],
          [
           "Deadline - U.S.A."
          ],
          [
           "Sublime"
          ],
          [
           "A Beginner's Guide to Snuff"
          ],
          [
           "Independence Daysaster"
          ],
          [
           "Dysfunctional Friends"
          ],
          [
           "Run Lola Run"
          ],
          [
           "May"
          ],
          [
           "Against the Wild"
          ],
          [
           "Under the Same Moon"
          ],
          [
           "Conquest of the Planet of the Apes"
          ],
          [
           "In the Bedroom"
          ],
          [
           "I Spit on Your Grave"
          ],
          [
           "Happy, Texas"
          ],
          [
           "My Summer of Love"
          ],
          [
           "The Lunchbox"
          ],
          [
           "Yes"
          ],
          [
           "You Can't Take It With You"
          ],
          [
           "From Here to Eternity"
          ],
          [
           "She Wore a Yellow Ribbon"
          ],
          [
           "Grace Unplugged"
          ],
          [
           "Foolish"
          ],
          [
           "N-Secure"
          ],
          [
           "Caramel"
          ],
          [
           "Out of the Dark"
          ],
          [
           "The Bubble"
          ],
          [
           "The Conversation"
          ],
          [
           "Dil Jo Bhi Kahey..."
          ],
          [
           "Mississippi Mermaid"
          ],
          [
           "I Love Your Work"
          ],
          [
           "Cabin Fever"
          ],
          [
           "Waitress"
          ],
          [
           "Bloodsport"
          ],
          [
           "Mr. Smith Goes to Washington"
          ],
          [
           "Kids"
          ],
          [
           "The Squid and the Whale"
          ],
          [
           "Kissing Jessica Stein"
          ],
          [
           "Kickboxer: Vengeance"
          ],
          [
           "Spellbound"
          ],
          [
           "Exotica"
          ],
          [
           "Buffalo '66"
          ],
          [
           "Insidious"
          ],
          [
           "Repo Man"
          ],
          [
           "Nine Queens"
          ],
          [
           "The Gatekeepers"
          ],
          [
           "The Ballad of Jack and Rose"
          ],
          [
           "The To Do List"
          ],
          [
           "Killing Zoe"
          ],
          [
           "The Believer"
          ],
          [
           "Snow Angels"
          ],
          [
           "Unsullied"
          ],
          [
           "Session 9"
          ],
          [
           "I Want Someone to Eat Cheese With"
          ],
          [
           "Mooz-lum"
          ],
          [
           "Hatchet"
          ],
          [
           "Modern Times"
          ],
          [
           "Stolen Summer"
          ],
          [
           "My Name Is Bruce"
          ],
          [
           "The Salon"
          ],
          [
           "Road Hard"
          ],
          [
           "Forty Shades of Blue"
          ],
          [
           "Amigo"
          ],
          [
           "Pontypool"
          ],
          [
           "Trucker"
          ],
          [
           "Me You and Five Bucks"
          ],
          [
           "The Lords of Salem"
          ],
          [
           "Housebound"
          ],
          [
           "Wal-Mart: The High Cost of Low Price"
          ],
          [
           "Fetching Cody"
          ],
          [
           "Last I Heard"
          ],
          [
           "Closer to the Moon"
          ],
          [
           "Mutant World"
          ],
          [
           "Growing Up Smith"
          ],
          [
           "Checkmate"
          ],
          [
           "#Horror"
          ],
          [
           "Wind Walkers"
          ],
          [
           "Snow White and the Seven Dwarfs"
          ],
          [
           "The Holy Girl"
          ],
          [
           "Shalako"
          ],
          [
           "Incident at Loch Ness"
          ],
          [
           "The Dog Lover"
          ],
          [
           "GirlHouse"
          ],
          [
           "The Blue Room"
          ],
          [
           "House at the End of the Drive"
          ],
          [
           "Batman"
          ],
          [
           "Lock, Stock and Two Smoking Barrels"
          ],
          [
           "The Ballad of Gregorio Cortez"
          ],
          [
           "The Celebration"
          ],
          [
           "Trees Lounge"
          ],
          [
           "Journey from the Fall"
          ],
          [
           "The Basket"
          ],
          [
           "Eddie: The Sleepwalking Cannibal"
          ],
          [
           "Queen of the Mountains"
          ],
          [
           "Def-Con 4"
          ],
          [
           "The Hebrew Hammer"
          ],
          [
           "Neal 'n' Nikki"
          ],
          [
           "The 41–Year–Old Virgin Who Knocked Up Sarah Marshall and Felt Superbad About It"
          ],
          [
           "Forget Me Not"
          ],
          [
           "Rebecca"
          ],
          [
           "Friday the 13th Part 2"
          ],
          [
           "The Lost Weekend"
          ],
          [
           "C.H.U.D."
          ],
          [
           "Filly Brown"
          ],
          [
           "The Lion of Judah"
          ],
          [
           "Niagara"
          ],
          [
           "How Green Was My Valley"
          ],
          [
           "Da Sweet Blood of Jesus"
          ],
          [
           "Sex, Lies, and Videotape"
          ],
          [
           "Saw"
          ],
          [
           "Super Troopers"
          ],
          [
           "The Algerian"
          ],
          [
           "The Amazing Catfish"
          ],
          [
           "Monsoon Wedding"
          ],
          [
           "You Can Count on Me"
          ],
          [
           "The Trouble with Harry"
          ],
          [
           "But I'm a Cheerleader"
          ],
          [
           "Home Run"
          ],
          [
           "Reservoir Dogs"
          ],
          [
           "The Blue Bird"
          ],
          [
           "The Good, the Bad and the Ugly"
          ],
          [
           "The Second Mother"
          ],
          [
           "Blue Like Jazz"
          ],
          [
           "Down & Out With The Dolls"
          ],
          [
           "Pink Ribbons, Inc."
          ],
          [
           "Certifiably Jonathan"
          ],
          [
           "Desire"
          ],
          [
           "The Blade of Don Juan"
          ],
          [
           "Grand Theft Parsons"
          ],
          [
           "Extreme Movie"
          ],
          [
           "The Charge of the Light Brigade"
          ],
          [
           "Below Zero"
          ],
          [
           "Crowsnest"
          ],
          [
           "Airborne"
          ],
          [
           "Cotton Comes to Harlem"
          ],
          [
           "The Wicked Within"
          ],
          [
           "Bleeding Hearts"
          ],
          [
           "Waiting..."
          ],
          [
           "Dead Man's Shoes"
          ],
          [
           "From a Whisper to a Scream"
          ],
          [
           "Sex With Strangers"
          ],
          [
           "Dracula: Pages from a Virgin's Diary"
          ],
          [
           "Faith Like Potatoes"
          ],
          [
           "Beyond the Black Rainbow"
          ],
          [
           "The Raid"
          ],
          [
           "The Dead Undead"
          ],
          [
           "The Vatican Exorcisms"
          ],
          [
           "Casablanca"
          ],
          [
           "Lake Mungo"
          ],
          [
           "Rocket Singh: Salesman of the Year"
          ],
          [
           "Silent Running"
          ],
          [
           "Rocky"
          ],
          [
           "The Sleepwalker"
          ],
          [
           "Tom Jones"
          ],
          [
           "Unfriended"
          ],
          [
           "Taxi Driver"
          ],
          [
           "The Howling"
          ],
          [
           "Dr. No"
          ],
          [
           "Chernobyl Diaries"
          ],
          [
           "Hellraiser"
          ],
          [
           "God's Not Dead 2"
          ],
          [
           "Cry_Wolf"
          ],
          [
           "Godzilla 2000"
          ],
          [
           "Blue Valentine"
          ],
          [
           "Transamerica"
          ],
          [
           "The Devil Inside"
          ],
          [
           "Beyond the Valley of the Dolls"
          ],
          [
           "Love Me Tender"
          ],
          [
           "An Inconvenient Truth"
          ],
          [
           "Sands of Iwo Jima"
          ],
          [
           "Shine a Light"
          ],
          [
           "The Green Inferno"
          ],
          [
           "Departure"
          ],
          [
           "The Sessions"
          ],
          [
           "Food, Inc."
          ],
          [
           "October Baby"
          ],
          [
           "Next Stop Wonderland"
          ],
          [
           "The Skeleton Twins"
          ],
          [
           "Martha Marcy May Marlene"
          ],
          [
           "Obvious Child"
          ],
          [
           "Frozen River"
          ],
          [
           "20 Feet from Stardom"
          ],
          [
           "Two Girls and a Guy"
          ],
          [
           "Walking and Talking"
          ],
          [
           "Who Killed the Electric Car?"
          ],
          [
           "The Broken Hearts Club: A Romantic Comedy"
          ],
          [
           "Bubba Ho-tep"
          ],
          [
           "Slam"
          ],
          [
           "Brigham City"
          ],
          [
           "Fiza"
          ],
          [
           "Orgazmo"
          ],
          [
           "All the Real Girls"
          ],
          [
           "Dream with the Fishes"
          ],
          [
           "Blue Car"
          ],
          [
           "Palo Alto"
          ],
          [
           "Ajami"
          ],
          [
           "Wristcutters: A Love Story"
          ],
          [
           "I Origins"
          ],
          [
           "The Battle of Shaker Heights"
          ],
          [
           "The Act of Killing"
          ],
          [
           "Taxi to the Dark Side"
          ],
          [
           "Once in a Lifetime: The Extraordinary Story of the New York Cosmos"
          ],
          [
           "Guiana 1838"
          ],
          [
           "Lisa Picard Is Famous"
          ],
          [
           "Antarctica: A Year on Ice"
          ],
          [
           "A LEGO Brickumentary"
          ],
          [
           "Hardflip"
          ],
          [
           "Chocolate: Deep Dark Secrets"
          ],
          [
           "The House of the Devil"
          ],
          [
           "The Perfect Host"
          ],
          [
           "Safe Men"
          ],
          [
           "Speedway Junky"
          ],
          [
           "The Last Big Thing"
          ],
          [
           "The Specials"
          ],
          [
           "16 to Life"
          ],
          [
           "Alone With Her"
          ],
          [
           "Creative Control"
          ],
          [
           "Special"
          ],
          [
           "Sparkler"
          ],
          [
           "The Helix... Loaded"
          ],
          [
           "In Her Line of Fire"
          ],
          [
           "The Jimmy Show"
          ],
          [
           "Heli"
          ],
          [
           "Karachi se Lahore"
          ],
          [
           "Loving Annabelle"
          ],
          [
           "Hits"
          ],
          [
           "Jimmy and Judy"
          ],
          [
           "Frat Party"
          ],
          [
           "The Party's Over"
          ],
          [
           "Proud"
          ],
          [
           "The Poker House"
          ],
          [
           "Childless"
          ],
          [
           "ZMD: Zombies of Mass Destruction"
          ],
          [
           "Snow White: A Deadly Summer"
          ],
          [
           "Hidden Away"
          ],
          [
           "My Last Day Without You"
          ],
          [
           "Steppin: The Movie"
          ],
          [
           "Doc Holliday's Revenge"
          ],
          [
           "Black Rock"
          ],
          [
           "Truth or Dare"
          ],
          [
           "The Pet"
          ],
          [
           "Bang Bang Baby"
          ],
          [
           "Fear Clinic"
          ],
          [
           "Zombie Hunter"
          ],
          [
           "A Fine Step"
          ],
          [
           "Charly"
          ],
          [
           "Banshee Chapter"
          ],
          [
           "Ask Me Anything"
          ],
          [
           "And Then Came Love"
          ],
          [
           "Food Chains"
          ],
          [
           "On the Waterfront"
          ],
          [
           "L!fe Happens"
          ],
          [
           "4 Months, 3 Weeks and 2 Days"
          ],
          [
           "The Horror Network Vol. 1"
          ],
          [
           "Hard Candy"
          ],
          [
           "The Quiet"
          ],
          [
           "Circumstance"
          ],
          [
           "Fruitvale Station"
          ],
          [
           "The Brass Teapot"
          ],
          [
           "Bambi"
          ],
          [
           "The Hammer"
          ],
          [
           "Latter Days"
          ],
          [
           "Elza"
          ],
          [
           "1982"
          ],
          [
           "For a Good Time, Call..."
          ],
          [
           "Celeste & Jesse Forever"
          ],
          [
           "Time Changer"
          ],
          [
           "London to Brighton"
          ],
          [
           "American Hero"
          ],
          [
           "Windsor Drive"
          ],
          [
           "A Separation"
          ],
          [
           "Crying with Laughter"
          ],
          [
           "Welcome to the Dollhouse"
          ],
          [
           "Ruby in Paradise"
          ],
          [
           "Raising Victor Vargas"
          ],
          [
           "Pandora's Box"
          ],
          [
           "Harrison Montgomery"
          ],
          [
           "Live-In Maid"
          ],
          [
           "Deterrence"
          ],
          [
           "The Mudge Boy"
          ],
          [
           "The Young Unknowns"
          ],
          [
           "Not Cool"
          ],
          [
           "Dead Snow"
          ],
          [
           "Saints and Soldiers"
          ],
          [
           "Vessel"
          ],
          [
           "American Graffiti"
          ],
          [
           "Iraq for Sale: The War Profiteers"
          ],
          [
           "Aqua Teen Hunger Force Colon Movie Film for Theaters"
          ],
          [
           "Safety Not Guaranteed"
          ],
          [
           "Kevin Hart: Laugh at My Pain"
          ],
          [
           "Kill List"
          ],
          [
           "The Innkeepers"
          ],
          [
           "The Conformist"
          ],
          [
           "Interview with the Assassin"
          ],
          [
           "Donkey Punch"
          ],
          [
           "All the Boys Love Mandy Lane"
          ],
          [
           "Bled"
          ],
          [
           "High Noon"
          ],
          [
           "Hoop Dreams"
          ],
          [
           "Rize"
          ],
          [
           "L.I.E."
          ],
          [
           "The Sisterhood of Night"
          ],
          [
           "B-Girl"
          ],
          [
           "Half Nelson"
          ],
          [
           "Naturally Native"
          ],
          [
           "Hav Plenty"
          ],
          [
           "Adulterers"
          ],
          [
           "Escape from Tomorrow"
          ],
          [
           "Starsuckers"
          ],
          [
           "The Hadza:  Last of the First"
          ],
          [
           "After"
          ],
          [
           "Treachery"
          ],
          [
           "Walter"
          ],
          [
           "Top Hat"
          ],
          [
           "The Blair Witch Project"
          ],
          [
           "Woodstock"
          ],
          [
           "The Kentucky Fried Movie"
          ],
          [
           "Mercy Streets"
          ],
          [
           "Carousel of Revenge"
          ],
          [
           "Broken Vessels"
          ],
          [
           "Water & Power"
          ],
          [
           "They Will Have to Kill Us First"
          ],
          [
           "Light from the Darkroom"
          ],
          [
           "The Country Doctor"
          ],
          [
           "The Maid's Room"
          ],
          [
           "A Hard Day's Night"
          ],
          [
           "The Harvest (La Cosecha)"
          ],
          [
           "Love Letters"
          ],
          [
           "Juliet and Alfa Romeo"
          ],
          [
           "Fireproof"
          ],
          [
           "Faith Connections"
          ],
          [
           "Benji"
          ],
          [
           "Open Water"
          ],
          [
           "High Road"
          ],
          [
           "Kingdom of the Spiders"
          ],
          [
           "Mad Hot Ballroom"
          ],
          [
           "The Station Agent"
          ],
          [
           "To Save A Life"
          ],
          [
           "Wordplay"
          ],
          [
           "Beyond the Mat"
          ],
          [
           "The Singles Ward"
          ],
          [
           "Osama"
          ],
          [
           "Sholem Aleichem: Laughing In The Darkness"
          ],
          [
           "Groove"
          ],
          [
           "The R.M."
          ],
          [
           "Twin Falls Idaho"
          ],
          [
           "Mean Creek"
          ],
          [
           "Hurricane Streets"
          ],
          [
           "Never Again"
          ],
          [
           "Civil Brand"
          ],
          [
           "Lonesome Jim"
          ],
          [
           "Drinking Buddies"
          ],
          [
           "Deceptive Practice: The Mysteries and Mentors of Ricky Jay"
          ],
          [
           "Seven Samurai"
          ],
          [
           "The Other Dream Team"
          ],
          [
           "Johnny Suede"
          ],
          [
           "Finishing The Game"
          ],
          [
           "Rubber"
          ],
          [
           "Kiss the Bride"
          ],
          [
           "The Slaughter Rule"
          ],
          [
           "Monsters"
          ],
          [
           "The Californians"
          ],
          [
           "The Living Wake"
          ],
          [
           "Detention of the Dead"
          ],
          [
           "Crazy Stone"
          ],
          [
           "Scott Walker: 30 Century Man"
          ],
          [
           "Everything Put Together"
          ],
          [
           "Good Kill"
          ],
          [
           "The Outrageous Sophie Tucker"
          ],
          [
           "Now Is Good"
          ],
          [
           "Girls Gone Dead"
          ],
          [
           "Subconscious"
          ],
          [
           "Enter Nowhere"
          ],
          [
           "El Rey de Najayo"
          ],
          [
           "Fight to the Finish"
          ],
          [
           "Alleluia! The Devil's Carnival"
          ],
          [
           "The Sound and the Shadow"
          ],
          [
           "Rodeo Girl"
          ],
          [
           "Born to Fly: Elizabeth Streb vs. Gravity"
          ],
          [
           "The Little Ponderosa Zoo"
          ],
          [
           "The Toxic Avenger"
          ],
          [
           "Straight Out of Brooklyn"
          ],
          [
           "Bloody Sunday"
          ],
          [
           "Diamond Ruff"
          ],
          [
           "Conversations with Other Women"
          ],
          [
           "Poultrygeist: Night of the Chicken Dead"
          ],
          [
           "Mutual Friends"
          ],
          [
           "42nd Street"
          ],
          [
           "Rise of the Entrepreneur: The Search for a Better Way"
          ],
          [
           "Metropolitan"
          ],
          [
           "As It Is in Heaven"
          ],
          [
           "Roadside"
          ],
          [
           "Napoleon Dynamite"
          ],
          [
           "Blue Ruin"
          ],
          [
           "Paranormal Activity"
          ],
          [
           "Dogtown and Z-Boys"
          ],
          [
           "Monty Python and the Holy Grail"
          ],
          [
           "Quinceañera"
          ],
          [
           "Gory Gory Hallelujah"
          ],
          [
           "Tarnation"
          ],
          [
           "I Want Your Money"
          ],
          [
           "Love in the Time of Monsters"
          ],
          [
           "The Beyond"
          ],
          [
           "What Happens in Vegas"
          ],
          [
           "The Dark Hours"
          ],
          [
           "My Beautiful Laundrette"
          ],
          [
           "Fabled"
          ],
          [
           "Show Me"
          ],
          [
           "Cries and Whispers"
          ],
          [
           "Intolerance"
          ],
          [
           "Trekkies"
          ],
          [
           "The Broadway Melody"
          ],
          [
           "The Evil Dead"
          ],
          [
           "Maniac"
          ],
          [
           "Censored Voices"
          ],
          [
           "Murderball"
          ],
          [
           "American Ninja 2: The Confrontation"
          ],
          [
           "51 Birch Street"
          ],
          [
           "Rotor DR1"
          ],
          [
           "12 Angry Men"
          ],
          [
           "My Dog Tulip"
          ],
          [
           "It Happened One Night"
          ],
          [
           "Dogtooth"
          ],
          [
           "Tupac: Resurrection"
          ],
          [
           "Tumbleweeds"
          ],
          [
           "The Prophecy"
          ],
          [
           "When the Cat's Away"
          ],
          [
           "Pieces of April"
          ],
          [
           "The Big Swap"
          ],
          [
           "Old Joy"
          ],
          [
           "Wendy and Lucy"
          ],
          [
           "3 Backyards"
          ],
          [
           "Pierrot le Fou"
          ],
          [
           "Sisters in Law"
          ],
          [
           "Ayurveda: Art of Being"
          ],
          [
           "Nothing But a Man"
          ],
          [
           "First Love, Last Rites"
          ],
          [
           "Fighting Tommy Riley"
          ],
          [
           "Royal Kill"
          ],
          [
           "The Looking Glass"
          ],
          [
           "Death Race 2000"
          ],
          [
           "Locker 13"
          ],
          [
           "Midnight Cabaret"
          ],
          [
           "Anderson's Cross"
          ],
          [
           "Bizarre"
          ],
          [
           "Graduation Day"
          ],
          [
           "Some Guy Who Kills People"
          ],
          [
           "Compliance"
          ],
          [
           "Chasing Amy"
          ],
          [
           "Lovely & Amazing"
          ],
          [
           "Death Calls"
          ],
          [
           "Better Luck Tomorrow"
          ],
          [
           "The Incredibly True Adventure of Two Girls In Love"
          ],
          [
           "Chuck & Buck"
          ],
          [
           "American Desi"
          ],
          [
           "Amidst the Devil's Wings"
          ],
          [
           "Cube"
          ],
          [
           "Love and Other Catastrophes"
          ],
          [
           "I Married a Strange Person!"
          ],
          [
           "November"
          ],
          [
           "Like Crazy"
          ],
          [
           "Teeth and Blood"
          ],
          [
           "Sugar Town"
          ],
          [
           "The Motel"
          ],
          [
           "The Canyons"
          ],
          [
           "On the Outs"
          ],
          [
           "Shotgun Stories"
          ],
          [
           "Exam"
          ],
          [
           "The Sticky Fingers of Time"
          ],
          [
           "Sunday School Musical"
          ],
          [
           "Rust"
          ],
          [
           "Ink"
          ],
          [
           "The Christmas Bunny"
          ],
          [
           "Butterfly"
          ],
          [
           "UnDivided"
          ],
          [
           "The Frozen"
          ],
          [
           "Horse Camp"
          ],
          [
           "Give Me Shelter"
          ],
          [
           "The Big Parade"
          ],
          [
           "Little Big Top"
          ],
          [
           "Along the Roadside"
          ],
          [
           "Bronson"
          ],
          [
           "Western Religion"
          ],
          [
           "Burn"
          ],
          [
           "Urbania"
          ],
          [
           "The Stewardesses"
          ],
          [
           "The Beast from 20,000 Fathoms"
          ],
          [
           "Mad Max"
          ],
          [
           "Swingers"
          ],
          [
           "A Fistful of Dollars"
          ],
          [
           "She Done Him Wrong"
          ],
          [
           "Short Cut to Nirvana: Kumbh Mela"
          ],
          [
           "The Grace Card"
          ],
          [
           "Middle of Nowhere"
          ],
          [
           "Three"
          ],
          [
           "The Business of Fancydancing"
          ],
          [
           "Call + Response"
          ],
          [
           "Malevolence"
          ],
          [
           "Reality Show"
          ],
          [
           "Super Hybrid"
          ],
          [
           "Baghead"
          ],
          [
           "American Beast"
          ],
          [
           "The Case of the Grinning Cat"
          ],
          [
           "Ordet"
          ],
          [
           "Good Dick"
          ],
          [
           "The Man from Earth"
          ],
          [
           "The Trials Of Darryl Hunt"
          ],
          [
           "Samantha: An American Girl Holiday"
          ],
          [
           "Yesterday Was a Lie"
          ],
          [
           "Theresa Is a Mother"
          ],
          [
           "H."
          ],
          [
           "Archaeology of a Woman"
          ],
          [
           "Children of Heaven"
          ],
          [
           "Weekend"
          ],
          [
           "She's Gotta Have It"
          ],
          [
           "Butterfly Girl"
          ],
          [
           "The World Is Mine"
          ],
          [
           "Another Earth"
          ],
          [
           "Sweet Sweetback's Baadasssss Song"
          ],
          [
           "Perfect Cowboy"
          ],
          [
           "Tadpole"
          ],
          [
           "Once"
          ],
          [
           "The Woman Chaser"
          ],
          [
           "The Horse Boy"
          ],
          [
           "When the Lights Went Out"
          ],
          [
           "Heroes of Dirt"
          ],
          [
           "A Charlie Brown Christmas"
          ],
          [
           "Antarctic Edge: 70° South"
          ],
          [
           "Aroused"
          ],
          [
           "Top Spin"
          ],
          [
           "Roger & Me"
          ],
          [
           "An American in Hollywood"
          ],
          [
           "Sound of My Voice"
          ],
          [
           "The Blood of My Brother: A Story of Death in Iraq"
          ],
          [
           "Your Sister's Sister"
          ],
          [
           "A Dog's Breakfast"
          ],
          [
           "The Married Woman"
          ],
          [
           "The Birth of a Nation"
          ],
          [
           "The Work and The Story"
          ],
          [
           "Facing the Giants"
          ],
          [
           "The Gallows"
          ],
          [
           "Eraserhead"
          ],
          [
           "Hollywood Shuffle"
          ],
          [
           "The Mighty"
          ],
          [
           "Penitentiary"
          ],
          [
           "The Lost Skeleton of Cadavra"
          ],
          [
           "Dude Where's My Dog?"
          ],
          [
           "Cheap Thrills"
          ],
          [
           "Indie Game: The Movie"
          ],
          [
           "Straightheads"
          ],
          [
           "Open Secret"
          ],
          [
           "Echo Dr."
          ],
          [
           "The Night Visitor"
          ],
          [
           "The Past Is a Grotesque Animal"
          ],
          [
           "Peace, Propaganda & the Promised Land"
          ],
          [
           "Pi"
          ],
          [
           "I Love You, Don't Touch Me!"
          ],
          [
           "20 Dates"
          ],
          [
           "Queen Crab"
          ],
          [
           "Super Size Me"
          ],
          [
           "The FP"
          ],
          [
           "Happy Christmas"
          ],
          [
           "The Brain That Wouldn't Die"
          ],
          [
           "Tiger Orange"
          ],
          [
           "Supporting Characters"
          ],
          [
           "Absentia"
          ],
          [
           "The Brothers McMullen"
          ],
          [
           "The Dirties"
          ],
          [
           "Gabriela"
          ],
          [
           "Tiny Furniture"
          ],
          [
           "Hayride"
          ],
          [
           "The Naked Ape"
          ],
          [
           "Counting"
          ],
          [
           "The Call of Cthulhu"
          ],
          [
           "Bending Steel"
          ],
          [
           "The Signal"
          ],
          [
           "The Image Revolution"
          ],
          [
           "This Is Martin Bonner"
          ],
          [
           "A True Story"
          ],
          [
           "George Washington"
          ],
          [
           "Smiling Fish & Goat On Fire"
          ],
          [
           "Dawn of the Crescent Moon"
          ],
          [
           "Raymond Did It"
          ],
          [
           "The Last Waltz"
          ],
          [
           "Run, Hide, Die"
          ],
          [
           "The Exploding Girl"
          ],
          [
           "The Legend of God's Gun"
          ],
          [
           "Mutual Appreciation"
          ],
          [
           "Her Cry: La Llorona Investigation"
          ],
          [
           "Down Terrace"
          ],
          [
           "Clerks"
          ],
          [
           "Pink Narcissus"
          ],
          [
           "Funny Ha Ha"
          ],
          [
           "In the Company of Men"
          ],
          [
           "Manito"
          ],
          [
           "Rampage"
          ],
          [
           "Slacker"
          ],
          [
           "Dutch Kills"
          ],
          [
           "Dry Spell"
          ],
          [
           "Flywheel"
          ],
          [
           "Backmask"
          ],
          [
           "The Puffy Chair"
          ],
          [
           "Stories of Our Lives"
          ],
          [
           "Breaking Upwards"
          ],
          [
           "All Superheroes Must Die"
          ],
          [
           "Pink Flamingos"
          ],
          [
           "Clean"
          ],
          [
           "The Circle"
          ],
          [
           "Tin Can Man"
          ],
          [
           "Cure"
          ],
          [
           "On The Downlow"
          ],
          [
           "Sanctuary: Quite a Conundrum"
          ],
          [
           "Bang"
          ],
          [
           "Primer"
          ],
          [
           "Cavite"
          ],
          [
           "El Mariachi"
          ],
          [
           "Newlyweds"
          ],
          [
           "Signed, Sealed, Delivered"
          ],
          [
           "Shanghai Calling"
          ],
          [
           "My Date with Drew"
          ]
         ],
         "hovertemplate": "budget=%{x}<br>revenue=%{y}<br>Title=%{customdata[0]}<extra></extra>",
         "legendgroup": "",
         "marker": {
          "color": "#636efa",
          "symbol": "circle"
         },
         "mode": "markers",
         "name": "",
         "showlegend": false,
         "type": "scattergl",
         "x": {
          "bdata": "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",
          "dtype": "i4"
         },
         "xaxis": "x",
         "y": [
          2787965087,
          961000000,
          880674609,
          1084939099,
          284139100,
          890871626,
          591794936,
          1405403694,
          933959197,
          873260194,
          391081192,
          586090727,
          1065659812,
          89289910,
          662845518,
          419651413,
          1519557910,
          1045713802,
          624026776,
          956019788,
          752215857,
          310669540,
          958400000,
          372234864,
          550000000,
          1845034188,
          1153304495,
          303025485,
          1513528810,
          1108561013,
          783766341,
          1215439994,
          1025491110,
          459359555,
          743559607,
          836297228,
          1091405097,
          491868548,
          705717432,
          400062763,
          559852396,
          219851172,
          1066969703,
          371353001,
          1506249360,
          531865000,
          747862775,
          467365246,
          197687603,
          351040419,
          335154643,
          407602906,
          1123746996,
          786636033,
          331926147,
          538983207,
          343471816,
          521311860,
          258022233,
          769653595,
          325233863,
          183987723,
          356743061,
          748806957,
          543934787,
          1004558444,
          735099082,
          381509870,
          585174222,
          185770160,
          222104681,
          401128639,
          745000000,
          173000000,
          370541256,
          264218220,
          302469017,
          857611174,
          966550600,
          623933331,
          396600000,
          758539785,
          710644566,
          0,
          150962475,
          714766572,
          752600867,
          209154322,
          652105443,
          471222889,
          305875730,
          389681935,
          494878759,
          435000000,
          773328629,
          675120017,
          825532764,
          77000000,
          1021103568,
          207283925,
          333932083,
          353624124,
          653428261,
          215283742,
          181674817,
          299370084,
          798958165,
          433677183,
          440603537,
          415686217,
          449220945,
          709709780,
          167298192,
          938212738,
          895921036,
          624029371,
          585349010,
          474968763,
          623722818,
          374218673,
          603900354,
          413106170,
          373062864,
          424988211,
          1274219009,
          738599701,
          644571402,
          378858340,
          356613439,
          449326618,
          309979994,
          292817841,
          301000000,
          245527149,
          682330139,
          0,
          287594577,
          665692281,
          318502923,
          397850012,
          205366737,
          38992758,
          64459316,
          128388320,
          272912430,
          497409852,
          746921274,
          431971116,
          229147509,
          553799566,
          441818803,
          195735876,
          521170825,
          694713380,
          306941670,
          202026112,
          456758981,
          268031828,
          385680446,
          821708551,
          609123048,
          150680864,
          76932943,
          185258983,
          285444603,
          245360480,
          371876278,
          119269486,
          85131830,
          370569774,
          361832400,
          212011111,
          829000000,
          150406466,
          163712074,
          183345589,
          532950503,
          282570682,
          245724603,
          373552094,
          442824138,
          631744560,
          519311965,
          847423452,
          368871007,
          591739379,
          273339556,
          554987477,
          293329073,
          362637473,
          371940071,
          789804554,
          49554002,
          243843127,
          354248063,
          349424282,
          321887208,
          976475550,
          61648500,
          655011224,
          752100229,
          767820459,
          500188435,
          407711549,
          626137675,
          334615000,
          232713139,
          261317921,
          61698899,
          276572938,
          238207122,
          345141403,
          544272402,
          546388105,
          325756637,
          289047763,
          609016565,
          228738393,
          415484914,
          259175788,
          403170142,
          169956806,
          286140700,
          115772733,
          242688965,
          93945766,
          48668907,
          261930431,
          286168572,
          850000000,
          649398328,
          562816256,
          415440673,
          924317558,
          585178928,
          132900000,
          77628265,
          164602163,
          477200000,
          716392705,
          178127760,
          245623848,
          167977596,
          574480841,
          470490832,
          333011068,
          215294342,
          362744280,
          478207520,
          295238201,
          102000000,
          237382724,
          227817248,
          337580051,
          563749323,
          103951461,
          179246868,
          299268508,
          347434178,
          164508066,
          125537191,
          383531464,
          871368364,
          72178895,
          87713825,
          0,
          347234916,
          211643158,
          300135367,
          267045765,
          630161890,
          162949164,
          10372291,
          237202299,
          457640427,
          358372926,
          876688482,
          599045960,
          362211740,
          520000000,
          214104620,
          266465037,
          378882411,
          150166126,
          310650585,
          170432927,
          242295562,
          425368238,
          100138851,
          169327687,
          312573423,
          347451894,
          249288105,
          100086793,
          268426634,
          278731369,
          211989043,
          170877916,
          392000694,
          336529144,
          121214377,
          130482868,
          140073390,
          82102379,
          243400000,
          109578115,
          68688831,
          206172544,
          133718711,
          0,
          93820758,
          7103973,
          94882889,
          246233113,
          13835130,
          433013274,
          193772504,
          95311434,
          149044513,
          102000000,
          172989651,
          104907746,
          263920180,
          288347692,
          76432727,
          877244782,
          543514353,
          93525586,
          940335536,
          1118888979,
          926287400,
          114178613,
          274703340,
          103039258,
          368780809,
          482860185,
          162839667,
          304654182,
          25819961,
          631442092,
          10017322,
          226497209,
          589390539,
          497366869,
          167805466,
          347325802,
          155464351,
          242988466,
          886686817,
          188133322,
          264105545,
          289847354,
          304320254,
          188072649,
          232617430,
          366101666,
          524028679,
          94061311,
          186053725,
          233755553,
          200276000,
          201596308,
          243637091,
          235926552,
          182290266,
          171120329,
          190213455,
          162944923,
          174578751,
          156505388,
          334901337,
          118063304,
          143049560,
          60874615,
          484635760,
          93700000,
          0,
          140807547,
          35168966,
          79114085,
          108539911,
          16178959,
          148336445,
          494471524,
          429632142,
          384335608,
          288500217,
          315156409,
          450717150,
          132274484,
          358375603,
          340487652,
          208076205,
          183611771,
          152930623,
          194168700,
          250649836,
          219103655,
          311312624,
          197309027,
          288747895,
          96976270,
          80916492,
          137298489,
          162242962,
          158468292,
          0,
          142940100,
          78382433,
          37823676,
          183018522,
          47664559,
          74208267,
          123307945,
          275650703,
          41037742,
          237681299,
          21028755,
          112483764,
          222231186,
          160388063,
          84785914,
          96085477,
          484572835,
          274470394,
          457696359,
          691210692,
          254455986,
          280000000,
          343397247,
          145771527,
          144000000,
          140464664,
          0,
          190320568,
          342695435,
          246984278,
          230685453,
          266728738,
          294804195,
          163733697,
          260696994,
          245676146,
          212874442,
          181001478,
          214918407,
          224012234,
          178066569,
          173013509,
          157107755,
          177977226,
          91188905,
          250200000,
          0,
          233093859,
          136982834,
          211817906,
          164000000,
          201584141,
          122563539,
          169852759,
          136159423,
          96105964,
          0,
          473226958,
          90874570,
          123729176,
          0,
          147080413,
          142400065,
          71485043,
          0,
          105316267,
          101371017,
          0,
          43312294,
          122444772,
          34566746,
          159212469,
          126546518,
          21400000,
          68514844,
          53825515,
          19480739,
          17626234,
          69131860,
          146936910,
          33463969,
          107944236,
          19406406,
          5989640,
          117831631,
          0,
          313542341,
          788241776,
          355692760,
          248384621,
          209196298,
          108103450,
          149673788,
          236350661,
          97571250,
          15071514,
          35134820,
          875958308,
          179265204,
          970761885,
          816969268,
          229074524,
          532680671,
          69959751,
          296339527,
          258270008,
          335062621,
          660940780,
          196482882,
          90450008,
          78000586,
          0,
          117698894,
          271430189,
          219417255,
          73034460,
          215663859,
          119000410,
          367275019,
          154937680,
          95226116,
          130358911,
          85632458,
          98159963,
          108145109,
          55041367,
          140175006,
          67631903,
          127600435,
          0,
          226904017,
          77944725,
          36754634,
          51142659,
          14567883,
          5802422,
          5409517,
          21009180,
          248118121,
          1156730962,
          89792502,
          103891409,
          13100000,
          349779543,
          111231041,
          61458982,
          86658558,
          162966177,
          176104344,
          210000000,
          96889998,
          527068851,
          37317558,
          54744738,
          62172050,
          256697520,
          294456605,
          408247917,
          919838758,
          461983149,
          309457509,
          277448382,
          311594032,
          309492681,
          319131050,
          300854823,
          240031094,
          116643346,
          203388341,
          42285169,
          171183863,
          443140005,
          114660784,
          161025640,
          118000000,
          202466756,
          122919055,
          0,
          177584879,
          154984035,
          90000098,
          134748021,
          215529201,
          116672912,
          135560026,
          131457682,
          67112664,
          65977295,
          55987321,
          33561137,
          160112671,
          59418613,
          32287044,
          57777106,
          0,
          19924033,
          19870567,
          13596911,
          18662027,
          17752940,
          57958696,
          38629478,
          122915111,
          61279452,
          193000000,
          698491347,
          71069884,
          543513985,
          35431113,
          217022588,
          39041505,
          29762011,
          83160734,
          60289912,
          52099090,
          113280098,
          86387857,
          112265139,
          212404396,
          189198313,
          25303038,
          481840909,
          203277636,
          374111707,
          383257136,
          75715436,
          275293450,
          463517383,
          355237933,
          172855065,
          441809770,
          250821495,
          128107642,
          250288523,
          211780824,
          163442937,
          128884132,
          255000211,
          150270147,
          69700000,
          162945894,
          0,
          179379533,
          162091208,
          133821816,
          153962963,
          156974557,
          128905366,
          38376497,
          0,
          240159255,
          73762516,
          89456761,
          0,
          64321501,
          100853753,
          43545364,
          17218080,
          0,
          71154592,
          42093706,
          56681566,
          39407616,
          74608570,
          203427584,
          132180323,
          296655431,
          44091067,
          920100000,
          25052000,
          215887717,
          121545703,
          101595121,
          127666415,
          107879496,
          41819064,
          18720175,
          155760117,
          0,
          183953723,
          422610419,
          516642939,
          244082376,
          284600000,
          253625427,
          314432665,
          369330363,
          214034224,
          352194034,
          149705852,
          264118201,
          218613188,
          164433867,
          131940411,
          93375151,
          176070171,
          93354918,
          171757863,
          171844840,
          157920733,
          129181830,
          311256926,
          204594016,
          0,
          71664962,
          100230832,
          186883563,
          217764291,
          165333180,
          74541707,
          218340595,
          73648228,
          0,
          137551594,
          0,
          124596398,
          163403799,
          130293714,
          61112916,
          170268750,
          129832389,
          99318987,
          56702901,
          107139399,
          159330280,
          96269812,
          0,
          50877145,
          0,
          104324083,
          50549107,
          101134059,
          205754447,
          162000000,
          95696996,
          108255770,
          46683377,
          469160692,
          0,
          43061982,
          105200903,
          62357900,
          122233971,
          87784194,
          60000000,
          36850101,
          77920346,
          104945765,
          67312826,
          119940815,
          0,
          74901339,
          33956608,
          55003135,
          73174566,
          0,
          31720158,
          39459427,
          47383689,
          141702264,
          71073932,
          78309131,
          26288320,
          26673242,
          52322400,
          49111202,
          17800000,
          27642707,
          14828081,
          30800231,
          90565421,
          50650079,
          25473093,
          0,
          57490374,
          39031337,
          30418560,
          0,
          0,
          193677158,
          10166502,
          783112979,
          0,
          542307423,
          158162788,
          102854431,
          59468275,
          189015611,
          41299492,
          0,
          85280250,
          44000000,
          300228084,
          50365377,
          152944660,
          58058367,
          115267375,
          61347797,
          149217355,
          62112895,
          113006880,
          57223890,
          677945399,
          361366633,
          330444045,
          346079773,
          300218018,
          128769345,
          368100420,
          0,
          231449203,
          95000000,
          152263880,
          287928194,
          192330738,
          154906693,
          157387195,
          307077295,
          223387299,
          214015089,
          198685114,
          180949000,
          0,
          152159461,
          63408614,
          149022650,
          56932305,
          121969216,
          187361754,
          127906624,
          110000000,
          159773545,
          141047179,
          41610884,
          75000000,
          259207227,
          68267862,
          34234008,
          0,
          33828318,
          33472850,
          118338361,
          113020255,
          60209334,
          18626419,
          154648887,
          74237563,
          52304001,
          12923936,
          11466088,
          0,
          80383290,
          28283637,
          89519773,
          0,
          9250000,
          6416302,
          155010032,
          168167691,
          9489829,
          136766062,
          52034889,
          130431368,
          190458706,
          7266209,
          9450897,
          107196498,
          139804348,
          179213434,
          54249294,
          98837872,
          65900249,
          126690726,
          25037897,
          0,
          5761917,
          352114312,
          132820716,
          204999686,
          609841637,
          216485654,
          110803676,
          98126565,
          75450437,
          47434430,
          116112375,
          52826594,
          0,
          149270999,
          72779000,
          47231070,
          709827462,
          484409218,
          127869379,
          390493908,
          273552592,
          549368315,
          314178011,
          202292902,
          173649015,
          171269535,
          260095987,
          256271286,
          177371441,
          188441614,
          223664608,
          225990978,
          216972543,
          0,
          242786137,
          212902372,
          184376254,
          161626121,
          152022101,
          120081841,
          155446362,
          88715192,
          161451538,
          142851197,
          200804534,
          0,
          110206216,
          189859560,
          222809600,
          106303988,
          132511035,
          88323487,
          69834815,
          66002004,
          100020092,
          224803475,
          119137784,
          144492830,
          94000000,
          69411370,
          97437106,
          82800000,
          50068310,
          48169156,
          109423648,
          97607453,
          0,
          234989584,
          44547681,
          160602194,
          119208989,
          41482207,
          83719388,
          0,
          129394835,
          40203020,
          55495563,
          49000000,
          69425966,
          144056873,
          49718611,
          60462347,
          0,
          113309743,
          83761844,
          105197635,
          56714147,
          30303072,
          82169884,
          58900031,
          63327201,
          42792561,
          26199517,
          60161391,
          42277365,
          23159305,
          34808403,
          25035950,
          38955598,
          0,
          71561644,
          55112356,
          44434439,
          66976317,
          26121638,
          38502340,
          10541523,
          16671505,
          10382407,
          24188922,
          22944502,
          9851610,
          40828540,
          60052138,
          0,
          55969000,
          6808550,
          0,
          28931401,
          12764201,
          72700000,
          20423389,
          36348784,
          207515725,
          474171806,
          68929150,
          104399548,
          151493655,
          196397415,
          0,
          108000000,
          3324330,
          85498534,
          50315140,
          0,
          90383208,
          25928721,
          70016220,
          325771424,
          77745568,
          102825796,
          528972,
          103738726,
          124305181,
          35743308,
          125212904,
          0,
          38085778,
          12379402,
          299288605,
          0,
          113714830,
          150000000,
          10539000,
          100860818,
          181000000,
          15436808,
          5200000,
          341631208,
          376141306,
          220673217,
          212000000,
          101702060,
          95149435,
          195268056,
          117615211,
          175372502,
          178051587,
          154749918,
          122126687,
          104876233,
          90683916,
          141220678,
          165184237,
          131183530,
          76669806,
          94935764,
          136885767,
          113916474,
          244931766,
          363258859,
          74558115,
          170362582,
          53854588,
          0,
          56070433,
          104478416,
          0,
          148412065,
          123494610,
          38399961,
          0,
          0,
          82966152,
          56422687,
          160583018,
          55181129,
          30925690,
          0,
          75225693,
          65664721,
          72108608,
          0,
          0,
          57881056,
          29400000,
          38058335,
          17300889,
          0,
          13681765,
          60222298,
          11203026,
          9323833,
          0,
          42487390,
          8493890,
          4607608,
          2154540,
          160078586,
          73706,
          232324128,
          368875760,
          136000000,
          165615285,
          300400432,
          0,
          84300000,
          3484331,
          111340801,
          34227298,
          80049764,
          0,
          50871113,
          68696770,
          270248367,
          48190704,
          51070807,
          201585328,
          363889678,
          224834564,
          171963386,
          70100000,
          158674180,
          71000000,
          73100172,
          63781810,
          0,
          55157539,
          0,
          156167015,
          89162162,
          56359980,
          20915465,
          24127895,
          177394432,
          36893721,
          12342632,
          11087569,
          14000000,
          215000000,
          0,
          117487473,
          0,
          672806292,
          46221189,
          7448385,
          90815558,
          251171807,
          317375031,
          177841558,
          332000000,
          126546825,
          571006128,
          197011982,
          152266007,
          190212113,
          149295601,
          107458785,
          320170008,
          224920315,
          177259441,
          178262620,
          161834276,
          244527583,
          111811453,
          215862692,
          129540499,
          95020213,
          128798265,
          169837010,
          120455994,
          194564672,
          124827316,
          75505856,
          124731534,
          158733820,
          151161491,
          91636986,
          141069860,
          205405498,
          138259062,
          147845033,
          136267476,
          196781193,
          186167139,
          165478348,
          91753202,
          90029656,
          170128460,
          54682547,
          87840042,
          75395048,
          85412898,
          130786397,
          109676311,
          107670357,
          74597643,
          120175290,
          191185897,
          126248813,
          0,
          92913171,
          114830111,
          91974818,
          51854875,
          84601681,
          67347013,
          45916769,
          141591324,
          74000000,
          0,
          41797066,
          0,
          0,
          145896422,
          97552050,
          41863726,
          97138686,
          96618699,
          34416893,
          126069509,
          36037909,
          157887643,
          0,
          55707411,
          50451307,
          0,
          0,
          48063435,
          55247881,
          58785180,
          46442528,
          30199105,
          31670620,
          0,
          29000000,
          49627779,
          27053815,
          0,
          65754228,
          62771059,
          3000000,
          24332324,
          60965854,
          38172500,
          22433915,
          0,
          46546197,
          0,
          20350754,
          60474340,
          0,
          19412993,
          180274123,
          14375181,
          46471023,
          16872671,
          14358033,
          173921954,
          0,
          13395939,
          24719215,
          28121100,
          18902015,
          28169671,
          19322135,
          0,
          0,
          10667893,
          20645327,
          0,
          10959475,
          0,
          32017803,
          22044277,
          0,
          13644292,
          23937870,
          117760134,
          7563728,
          0,
          0,
          0,
          0,
          86758912,
          0,
          0,
          94000000,
          100000000,
          101229792,
          69485490,
          35287788,
          38869464,
          6614280,
          75850624,
          44907260,
          127814609,
          180622424,
          205298907,
          0,
          119723358,
          120000000,
          64076736,
          114156230,
          0,
          73956241,
          51801187,
          0,
          107597242,
          29700000,
          0,
          58401898,
          17380126,
          16991902,
          47536959,
          10300000,
          19629760,
          98337295,
          6482195,
          0,
          17869048,
          28258060,
          5410749,
          9793496,
          109906372,
          173567581,
          154026136,
          79700000,
          163720069,
          100076342,
          90247624,
          48451803,
          55583804,
          112343513,
          95404397,
          392616625,
          102244770,
          117758500,
          269994119,
          21834845,
          50159144,
          160000000,
          64572262,
          52424533,
          32168970,
          44350926,
          26250020,
          0,
          0,
          96047633,
          12532777,
          3003296,
          63800345,
          0,
          459270619,
          156844753,
          310940086,
          411348924,
          0,
          321731527,
          309208309,
          147934180,
          117000000,
          252276927,
          326551094,
          139000000,
          173965010,
          182300000,
          69823199,
          140795793,
          68915888,
          231976425,
          126216940,
          86369815,
          0,
          113374103,
          25504513,
          104155843,
          0,
          60251371,
          95608995,
          52277485,
          150483765,
          108758521,
          112544580,
          48169908,
          88058786,
          92219310,
          91353501,
          69307224,
          0,
          58405313,
          41954997,
          102984862,
          122200000,
          0,
          85416905,
          173930596,
          77477008,
          59901913,
          0,
          35323292,
          99423521,
          120072577,
          0,
          68766121,
          115505027,
          84606030,
          72436439,
          45479110,
          57120318,
          32483410,
          40263020,
          27107960,
          36098382,
          30353232,
          25105255,
          4100000,
          93246388,
          0,
          68369434,
          27388767,
          50363790,
          82087155,
          19478106,
          0,
          25871834,
          19701164,
          19294901,
          31083599,
          51680201,
          29882645,
          46216641,
          41512007,
          39340177,
          0,
          16519460,
          63215872,
          0,
          18317151,
          0,
          13678913,
          27409889,
          12206028,
          54674226,
          0,
          17508518,
          11560806,
          10089373,
          12506188,
          61181942,
          0,
          42064105,
          4651977,
          0,
          0,
          16838910,
          0,
          15000000,
          635096,
          25147786,
          10496317,
          0,
          348319861,
          14431253,
          32255440,
          15304890,
          11263966,
          2106557,
          187479518,
          63013281,
          19598588,
          0,
          0,
          27330000,
          40382659,
          243240178,
          79958599,
          173959438,
          0,
          64626786,
          140470746,
          62022014,
          0,
          54700105,
          27610873,
          40346186,
          0,
          572700000,
          22211426,
          113019290,
          24159934,
          173398518,
          152036382,
          0,
          60328000,
          80197993,
          288383523,
          126041322,
          50041732,
          48814909,
          69055695,
          21819348,
          83615414,
          147332697,
          36733909,
          77566815,
          9494789,
          31755742,
          0,
          60740827,
          85167639,
          18552460,
          30016165,
          0,
          18409891,
          53587404,
          0,
          27437881,
          3566637,
          0,
          5914908,
          0,
          89460381,
          42045846,
          106269971,
          14708696,
          128499205,
          161772375,
          210308099,
          174600318,
          24185781,
          53208180,
          68106245,
          104384188,
          115101622,
          306776732,
          234801895,
          287553595,
          373554033,
          350448145,
          196114570,
          15134293,
          136706683,
          199200000,
          115922175,
          167722310,
          191502426,
          212385533,
          165335153,
          116400000,
          327311859,
          210819611,
          140161792,
          156822020,
          216763646,
          176885658,
          115603229,
          160259319,
          155545279,
          103,
          74787599,
          160638883,
          163670000,
          105834556,
          116980662,
          47042000,
          0,
          254134910,
          114281051,
          105173115,
          92374674,
          63833449,
          0,
          114663461,
          69631118,
          96455697,
          151119219,
          0,
          83282296,
          118880016,
          70200000,
          0,
          51132598,
          152427960,
          192452832,
          156835339,
          93772522,
          129266061,
          0,
          45892212,
          54819301,
          117195061,
          42647449,
          84025816,
          91709827,
          90810892,
          65663276,
          0,
          159291809,
          51842679,
          53653224,
          75505973,
          66486080,
          84646831,
          38413606,
          38122105,
          38748395,
          63782078,
          51376861,
          36160375,
          82394288,
          34742066,
          41480851,
          0,
          48428063,
          63372757,
          0,
          14460000,
          39267515,
          29202884,
          31911598,
          0,
          24048000,
          60896147,
          0,
          108609310,
          22034832,
          53909751,
          21800302,
          51148651,
          31070211,
          35294470,
          19204929,
          17193231,
          0,
          102820008,
          16930884,
          25224242,
          26155781,
          0,
          37962774,
          31148328,
          15007991,
          15368897,
          13001257,
          24922237,
          30536013,
          0,
          0,
          0,
          0,
          30114487,
          12,
          13521829,
          18618284,
          64352607,
          8454301,
          62616646,
          18195610,
          26828365,
          0,
          18074539,
          0,
          0,
          3102550,
          35078241,
          0,
          480314,
          14711793,
          108348,
          0,
          0,
          2527904,
          0,
          0,
          0,
          0,
          0,
          0,
          140752617,
          287506194,
          186438883,
          37036004,
          0,
          0,
          33013805,
          16930185,
          78636257,
          0,
          0,
          24829644,
          21126225,
          504050219,
          201634991,
          333000000,
          100491683,
          105178561,
          48902953,
          98185582,
          140767956,
          92380927,
          133346506,
          0,
          64445708,
          102356381,
          94728529,
          17137302,
          71441250,
          90259536,
          134402450,
          195312802,
          77516304,
          101646581,
          60780981,
          97594140,
          39514713,
          92601050,
          96188903,
          40547440,
          33000337,
          100654149,
          121147947,
          33139618,
          31596911,
          52597999,
          54926886,
          0,
          20217080,
          38159905,
          8888143,
          45236543,
          8345056,
          14010832,
          7002261,
          16374328,
          5684789,
          17286299,
          60700000,
          23321954,
          68896829,
          187500000,
          219076518,
          95714875,
          43650785,
          27187653,
          49469904,
          24748670,
          96900000,
          0,
          60527873,
          115229890,
          44352417,
          0,
          129000000,
          56870414,
          56308881,
          21500000,
          15395087,
          20158808,
          27200316,
          0,
          11137801,
          76000000,
          29000000,
          13000000,
          0,
          85564310,
          93282604,
          14,
          4488529,
          21148829,
          6673422,
          0,
          0,
          183293131,
          110230332,
          109449237,
          289317794,
          53181600,
          201957688,
          101624843,
          65705772,
          68296293,
          61489265,
          50750000,
          57891803,
          90426405,
          71868327,
          67918658,
          86175291,
          0,
          38793283,
          0,
          43318349,
          28818995,
          142044638,
          35402320,
          29657751,
          14000000,
          36800000,
          0,
          0,
          0,
          0,
          20080020,
          30523226,
          82466670,
          611899420,
          441286195,
          412800000,
          269958228,
          29506464,
          226830568,
          35926213,
          411006740,
          321365567,
          124272124,
          8555008,
          181466833,
          0,
          114908830,
          0,
          80936232,
          170764026,
          78000000,
          76270454,
          171600000,
          153997819,
          281929795,
          152500343,
          124914842,
          119772232,
          147780440,
          56505065,
          91036760,
          60922980,
          117719158,
          99357138,
          137587063,
          116766556,
          0,
          77278331,
          122644820,
          90574188,
          46836394,
          58795814,
          122489822,
          65884703,
          0,
          43984230,
          63100000,
          0,
          77208711,
          0,
          0,
          41604473,
          39053061,
          64437847,
          70442940,
          36351350,
          38307627,
          66980456,
          0,
          63102666,
          59192128,
          56489558,
          41597830,
          33889159,
          229736344,
          70992898,
          2415472,
          66122026,
          82150642,
          50671850,
          29548291,
          100000000,
          34942188,
          0,
          28341469,
          39438674,
          25023434,
          39171130,
          74188937,
          27645491,
          42886719,
          46152800,
          21567853,
          22200000,
          114977104,
          23580000,
          36993168,
          40452643,
          17000000,
          20796847,
          0,
          0,
          0,
          0,
          15431177,
          33333531,
          0,
          24362772,
          19829957,
          30411183,
          51702483,
          0,
          42972994,
          14334401,
          10126458,
          13,
          28831145,
          0,
          15478800,
          13411957,
          24902723,
          11000000,
          0,
          23057115,
          16900000,
          25000000,
          11207130,
          10719357,
          13000000,
          85446075,
          10070000,
          10324441,
          11772461,
          0,
          27635305,
          5778353,
          0,
          0,
          0,
          4064495,
          0,
          19844979,
          2405420,
          27603069,
          0,
          34153101,
          777423,
          2336172,
          19255873,
          10589102,
          0,
          48531470,
          0,
          0,
          6500000,
          71009334,
          0,
          3052000,
          0,
          0,
          34670720,
          8784318,
          133000000,
          155721132,
          172363301,
          1397284,
          70181428,
          106371651,
          80035402,
          87055349,
          41895491,
          40002112,
          36609995,
          42105111,
          0,
          68729358,
          0,
          0,
          16980098,
          16290976,
          21049053,
          12372410,
          8434146,
          30551495,
          83188165,
          0,
          4562146,
          669276,
          0,
          23081726,
          234710455,
          102391382,
          185991646,
          538400000,
          141407024,
          86930411,
          53302314,
          75993061,
          53187659,
          0,
          47351251,
          36642838,
          6399,
          18653615,
          0,
          33372606,
          51881013,
          0,
          0,
          10827816,
          7434726,
          29541790,
          0,
          0,
          9366227,
          16123851,
          5837674,
          94679598,
          38119483,
          15520023,
          505000000,
          369884651,
          189833357,
          75597042,
          147880543,
          182016617,
          84772742,
          77737889,
          88880821,
          110627965,
          92542418,
          67800064,
          95708457,
          57479076,
          35424826,
          0,
          22400154,
          51164106,
          9930095,
          19351569,
          77112176,
          0,
          33788161,
          23619609,
          63647656,
          0,
          43058898,
          13555988,
          0,
          10696210,
          0,
          0,
          0,
          72629670,
          0,
          26193068,
          17709155,
          14400000,
          0,
          15447154,
          12000000,
          9479718,
          0,
          15400000,
          92991835,
          0,
          0,
          24000000,
          73244881,
          70687344,
          0,
          46,
          42000000,
          40222729,
          205738714,
          41170784,
          37000000,
          43928932,
          41627431,
          17762705,
          14899417,
          17600000,
          10011050,
          0,
          0,
          970816,
          69701637,
          2856712,
          389925971,
          358991681,
          303788635,
          29907685,
          299965036,
          132675402,
          272742922,
          121697323,
          117224271,
          187884007,
          149281606,
          318000141,
          97918663,
          100525432,
          131282949,
          122195920,
          113086475,
          177243185,
          0,
          0,
          187000000,
          57588485,
          60072596,
          53000000,
          207945075,
          0,
          41158757,
          183936074,
          48548426,
          109862682,
          66787908,
          135680000,
          67192859,
          84146832,
          45554533,
          41596251,
          43967255,
          86865564,
          88346473,
          27640028,
          39143839,
          37672350,
          0,
          41237648,
          35841901,
          65464324,
          60000000,
          80547866,
          135330182,
          41296320,
          50907234,
          50907422,
          47241945,
          0,
          78378744,
          31678778,
          54586584,
          46069568,
          68349884,
          35387212,
          67200000,
          0,
          45636368,
          47126295,
          0,
          0,
          64822796,
          72258126,
          32005248,
          65569869,
          46089287,
          0,
          51416464,
          49779728,
          17425000,
          27105095,
          0,
          39300000,
          37597471,
          0,
          28972508,
          21284514,
          83707310,
          20211394,
          0,
          32000000,
          36620508,
          34077920,
          0,
          2297493,
          18432000,
          18253415,
          22222308,
          56255142,
          17807569,
          52302796,
          25836616,
          0,
          17519169,
          100914445,
          0,
          73276047,
          60427839,
          16605763,
          17432163,
          0,
          17436509,
          15473333,
          34854990,
          14109284,
          22942221,
          13801755,
          30426096,
          32204030,
          0,
          34560577,
          0,
          13391174,
          27674124,
          12482775,
          12398628,
          0,
          17280326,
          24145613,
          0,
          0,
          0,
          12639297,
          10686841,
          0,
          36606743,
          0,
          0,
          16974459,
          0,
          9109322,
          12382362,
          10337477,
          11341016,
          20000000,
          11110975,
          0,
          16549477,
          7000000,
          15008161,
          0,
          6575282,
          0,
          6420319,
          27462041,
          7659918,
          0,
          10442808,
          5210988,
          0,
          12007070,
          0,
          0,
          4001121,
          16863583,
          5530764,
          0,
          159375308,
          0,
          0,
          5048693,
          0,
          1675706,
          5359645,
          7400000,
          0,
          0,
          3727746,
          0,
          0,
          0,
          305070,
          47301471,
          0,
          4634062,
          0,
          346594,
          17671101,
          0,
          0,
          0,
          0,
          0,
          0,
          0,
          5496951,
          0,
          0,
          424208848,
          216197492,
          110879513,
          70067909,
          173046663,
          0,
          44017374,
          381109762,
          40846082,
          0,
          0,
          49830607,
          101564935,
          5728213,
          0,
          54956140,
          274925095,
          0,
          8613462,
          76586316,
          18755936,
          29922472,
          4750000,
          6928068,
          5310554,
          2119994,
          0,
          0,
          108047131,
          32801173,
          46770602,
          0,
          10680275,
          31912793,
          268157400,
          351583407,
          151668774,
          261572744,
          141774679,
          87000000,
          144216468,
          65535067,
          19682924,
          0,
          65070412,
          76488889,
          67683989,
          88923251,
          72417394,
          98235548,
          51973029,
          14796236,
          129042871,
          0,
          87754044,
          41382841,
          103215094,
          99206215,
          76286096,
          62646763,
          0,
          21378361,
          47088990,
          24911670,
          24007324,
          100000000,
          23000000,
          36133014,
          0,
          0,
          35692920,
          0,
          17200925,
          24000000,
          16702864,
          0,
          34441873,
          0,
          0,
          2945600,
          28008462,
          12000000,
          10501938,
          8038061,
          25312387,
          0,
          0,
          6735922,
          14110013,
          0,
          5887457,
          20275812,
          26527510,
          25739015,
          0,
          0,
          20719451,
          6212282,
          0,
          22309223,
          0,
          0,
          3500000,
          676698,
          7972967,
          382174,
          871279,
          0,
          0,
          34000000,
          0,
          1831348,
          6948633,
          13551174,
          121463226,
          90508336,
          0,
          150816700,
          51053787,
          38000000,
          99965753,
          7018189,
          266586800,
          0,
          0,
          183316455,
          72070731,
          125586134,
          136621271,
          109502303,
          19179969,
          70000000,
          0,
          71625195,
          57103895,
          136150434,
          0,
          30331165,
          43165571,
          69623713,
          0,
          45710059,
          0,
          21170563,
          115350426,
          19693891,
          0,
          0,
          0,
          0,
          29536299,
          10000000,
          97542952,
          20455276,
          7314027,
          19300000,
          0,
          9500000,
          0,
          0,
          86915017,
          2000000,
          1569918,
          3758328,
          374743,
          0,
          8720000,
          9627492,
          0,
          2281089,
          43848069,
          135000000,
          37311672,
          13620075,
          16942795,
          235860116,
          247275374,
          92823546,
          53977250,
          119754278,
          0,
          133432856,
          76514050,
          68263166,
          0,
          6490401,
          0,
          83258226,
          0,
          29381649,
          40492759,
          30987695,
          30102717,
          80573774,
          50007546,
          96408652,
          0,
          20627372,
          0,
          31556061,
          15427192,
          0,
          0,
          0,
          13854000,
          206678440,
          18564088,
          12,
          0,
          0,
          0,
          4217115,
          5900000,
          2849142,
          1686429,
          5867686,
          0,
          24261569,
          14822346,
          53191886,
          0,
          754249,
          0,
          47801389,
          0,
          3442853,
          0,
          0,
          0,
          1237615,
          0,
          0,
          316360478,
          476684675,
          0,
          177200000,
          356830601,
          213525736,
          356296601,
          414211549,
          216614388,
          317000,
          146292009,
          11301649,
          233555708,
          0,
          67182787,
          75700498,
          146497771,
          61399552,
          151831537,
          123384128,
          73326666,
          55184721,
          0,
          127730736,
          66966987,
          52970014,
          50000000,
          64256513,
          55534455,
          42930462,
          61548707,
          40283321,
          0,
          44862187,
          66468332,
          48126384,
          35007180,
          123726688,
          0,
          33771174,
          69995385,
          39421467,
          52501541,
          32721635,
          47175038,
          37664855,
          30857814,
          30226144,
          78054825,
          29331068,
          46905889,
          64238440,
          30127963,
          32645546,
          27728118,
          28084357,
          40105542,
          0,
          24769466,
          85306374,
          0,
          23237911,
          43101594,
          0,
          21000000,
          0,
          38574362,
          0,
          22165608,
          20566327,
          20529194,
          17507368,
          35485608,
          32556119,
          0,
          42000000,
          17080167,
          37930465,
          31554855,
          0,
          0,
          22730842,
          15843608,
          0,
          59389433,
          16633035,
          12000000,
          0,
          0,
          0,
          0,
          0,
          15608545,
          10443316,
          0,
          0,
          14867514,
          46189568,
          10903846,
          9237470,
          18928871,
          9902115,
          8586376,
          0,
          0,
          0,
          34533783,
          0,
          8762890,
          6405245,
          8138788,
          35097815,
          5217498,
          12036149,
          0,
          15785148,
          4152230,
          20117339,
          0,
          0,
          9455232,
          0,
          5926410,
          0,
          0,
          7938872,
          0,
          0,
          650422,
          9584131,
          529766,
          632542,
          0,
          0,
          8936663,
          6814789,
          76382,
          3533227,
          0,
          0,
          23000,
          20380,
          0,
          27187375,
          0,
          0,
          0,
          0,
          0,
          70906973,
          122513057,
          147298761,
          17511906,
          0,
          159157447,
          674918,
          377910544,
          320145693,
          463000000,
          239606210,
          0,
          161001698,
          154864401,
          100734718,
          75511123,
          185438673,
          72527595,
          0,
          34793160,
          0,
          114956699,
          0,
          27515786,
          25482931,
          19800000,
          30749142,
          0,
          0,
          22852638,
          21409028,
          0,
          21001563,
          0,
          0,
          0,
          13196245,
          16951798,
          0,
          10424470,
          11417362,
          19777647,
          14821658,
          5108820,
          0,
          4291965,
          0,
          2474000,
          0,
          0,
          5405500,
          0,
          0,
          0,
          0,
          46495,
          0,
          1755212,
          178043761,
          0,
          29027914,
          12314651,
          7060876,
          19422261,
          0,
          92180910,
          38535221,
          5380251,
          123922370,
          16700000,
          98441954,
          327803731,
          47542841,
          91038276,
          72500000,
          77000000,
          73180723,
          44726644,
          54837234,
          49002684,
          53478166,
          0,
          0,
          119100758,
          96060858,
          0,
          0,
          36450736,
          27007143,
          0,
          35763605,
          53830415,
          57096190,
          36869414,
          22863596,
          0,
          45300000,
          16929123,
          68673228,
          11130889,
          8026971,
          35401758,
          0,
          7820688,
          27500000,
          0,
          16757163,
          0,
          0,
          48065672,
          4857367,
          0,
          18000000,
          0,
          8459458,
          9789900,
          2636637,
          33400000,
          1200000,
          1151330,
          0,
          1784763,
          3964682,
          303877,
          68572378,
          0,
          33082548,
          10652035,
          55260558,
          23367586,
          0,
          12281551,
          0,
          10725228,
          0,
          0,
          27206120,
          0,
          11293663,
          20416563,
          40031879,
          0,
          1227324,
          5024782,
          31327899,
          1083683,
          84460846,
          15,
          3878993,
          441306145,
          470654000,
          235483004,
          8109160,
          79817939,
          96070507,
          75781642,
          96800000,
          107217396,
          79567667,
          68706993,
          81272766,
          114194847,
          0,
          39673162,
          43493123,
          145000000,
          30400000,
          42365581,
          61141030,
          100000000,
          89800000,
          52223306,
          40855419,
          56309766,
          31179516,
          31155435,
          27281507,
          56298474,
          32726956,
          307166834,
          22921898,
          25434291,
          54000000,
          21133087,
          100129872,
          0,
          0,
          23006849,
          85512300,
          51,
          17654912,
          0,
          17292381,
          22939027,
          42931041,
          13960203,
          12902790,
          21520719,
          0,
          0,
          31466789,
          85000000,
          0,
          87100449,
          92863945,
          35485056,
          32248241,
          0,
          0,
          6739141,
          5542025,
          0,
          6754898,
          4922166,
          4939939,
          23,
          3148182,
          0,
          88489643,
          0,
          0,
          0,
          8371085,
          0,
          12077441,
          19271312,
          0,
          0,
          1644755,
          15250000,
          0,
          0,
          0,
          0,
          0,
          0,
          0,
          0,
          0,
          10652498,
          2570000,
          11212294,
          17479,
          0,
          0,
          101332962,
          83557872,
          0,
          57469467,
          0,
          0,
          0,
          153083102,
          775398007,
          94073028,
          111858363,
          0,
          0,
          93617009,
          72778712,
          64088552,
          78874843,
          0,
          49797148,
          0,
          97837138,
          41227069,
          39363635,
          75902208,
          68233629,
          31672907,
          38105395,
          23978402,
          37170057,
          11,
          4884663,
          62076141,
          20000000,
          14782676,
          13700000,
          59520298,
          23430766,
          13110448,
          61619773,
          0,
          0,
          6413915,
          30000000,
          4069090,
          0,
          0,
          2832826,
          32935319,
          16017403,
          2807854,
          2200000,
          2945242,
          0,
          0,
          113857533,
          0,
          0,
          0,
          17000000,
          18535191,
          0,
          0,
          68700000,
          792910554,
          17500000,
          0,
          123509,
          0,
          0,
          9622846,
          0,
          225933435,
          0,
          163876815,
          85300000,
          90449929,
          118587880,
          103166989,
          139352633,
          91196419,
          57231524,
          52293982,
          50100000,
          50752337,
          183474602,
          41205099,
          59217789,
          40485039,
          37402877,
          136836156,
          44460850,
          36230219,
          57500000,
          64188367,
          33583175,
          33526835,
          104303851,
          25754284,
          32101000,
          32973937,
          30652890,
          0,
          29450919,
          30050028,
          29392418,
          34411240,
          38368909,
          25605015,
          33697647,
          143695338,
          20766616,
          52882018,
          24637469,
          0,
          42333295,
          0,
          0,
          0,
          0,
          17096053,
          66821036,
          85978266,
          0,
          0,
          16153593,
          0,
          48572000,
          28650575,
          15795189,
          15156200,
          21587700,
          20342161,
          0,
          0,
          0,
          35057696,
          17297244,
          0,
          58978653,
          0,
          0,
          12827813,
          10571408,
          28883511,
          9898412,
          0,
          8801940,
          6110000,
          0,
          32438988,
          0,
          9636289,
          6861102,
          23875127,
          6842058,
          0,
          9495408,
          0,
          0,
          7800000,
          33000000,
          2154696,
          21571189,
          0,
          7177143,
          10835752,
          4417580,
          0,
          0,
          3275585,
          3193102,
          98410061,
          5164404,
          0,
          0,
          0,
          0,
          40055439,
          439564,
          7587485,
          1759252,
          0,
          1631839,
          0,
          1969193,
          0,
          0,
          3665069,
          7022728,
          0,
          0,
          21786738,
          0,
          598645,
          1296184,
          42776760,
          0,
          0,
          0,
          0,
          1072602,
          0,
          0,
          295750,
          0,
          0,
          42145,
          126247,
          0,
          0,
          0,
          45779,
          0,
          0,
          0,
          140987,
          17472,
          9069,
          0,
          0,
          0,
          0,
          0,
          0,
          0,
          0,
          0,
          11,
          0,
          0,
          0,
          0,
          0,
          10000000,
          0,
          17164377,
          4386236,
          59827328,
          0,
          111584787,
          0,
          19839492,
          14144000,
          0,
          60000000,
          85582407,
          0,
          0,
          0,
          0,
          0,
          21817298,
          0,
          0,
          104931801,
          30859000,
          2995811,
          83304330,
          141195658,
          0,
          8220215,
          41590886,
          34573780,
          44196684,
          24538513,
          108782847,
          0,
          23936908,
          0,
          28780255,
          90400000,
          21510851,
          0,
          0,
          0,
          6126237,
          19125401,
          4777465,
          4350774,
          0,
          0,
          2955039,
          0,
          0,
          1053788,
          0,
          18663238,
          0,
          0,
          14348529,
          0,
          771499,
          140666,
          0,
          1046166,
          0,
          0,
          0,
          328203506,
          0,
          0,
          0,
          20374201,
          14373825,
          0,
          0,
          32222567,
          39462438,
          29174648,
          22456509,
          2500000,
          0,
          0,
          20138836,
          43528634,
          5271666,
          0,
          0,
          4440055,
          42345360,
          6108720,
          1997807,
          0,
          22889018,
          46000000,
          30000000,
          188126,
          0,
          213928762,
          76657000,
          38697217,
          5001655,
          286214286,
          69821334,
          100523181,
          52287414,
          82719885,
          0,
          43000000,
          27362712,
          0,
          39187783,
          0,
          26049082,
          0,
          0,
          0,
          81974493,
          18090181,
          22593409,
          18948425,
          17460020,
          29010817,
          34266564,
          16856124,
          12671300,
          10629321,
          0,
          25288872,
          74952305,
          8880705,
          8279017,
          10130000,
          0,
          0,
          0,
          25966555,
          5659286,
          18124262,
          0,
          2275557,
          0,
          6491240,
          0,
          92,
          589304,
          0,
          0,
          63464861,
          852872,
          458232,
          0,
          0,
          0,
          426224,
          0,
          3453043,
          0,
          0,
          143451,
          0,
          53086,
          553171,
          413454,
          2019009,
          0,
          0,
          2455831,
          0,
          22441323,
          0,
          882290,
          0,
          145793296,
          0,
          32392047,
          0,
          24793509,
          35619521,
          26096852,
          11588205,
          0,
          12633747,
          4245870,
          0,
          3347647,
          10848783,
          0,
          0,
          0,
          0,
          5634828,
          0,
          0,
          0,
          0,
          19000000,
          1333124,
          10329747,
          2400000,
          231411584,
          0,
          116019547,
          245066411,
          92921203,
          60722734,
          116700000,
          167221571,
          0,
          161777836,
          0,
          55447968,
          37710610,
          54600000,
          49084830,
          25405445,
          25000000,
          97572000,
          20256975,
          0,
          21268532,
          36433975,
          14702438,
          0,
          17986781,
          14011454,
          16829545,
          0,
          31430334,
          0,
          0,
          14618727,
          0,
          8373585,
          7292175,
          0,
          0,
          0,
          5,
          4720371,
          29385320,
          0,
          0,
          0,
          2062066,
          0,
          6038942,
          0,
          0,
          1246141,
          0,
          0,
          0,
          0,
          1429299,
          0,
          382946,
          523511,
          0,
          0,
          573335,
          453079,
          1310673,
          46488,
          0,
          30471,
          0,
          0,
          12400000,
          0,
          41410568,
          8900000,
          7993039,
          7000000,
          0,
          0,
          0,
          0,
          0,
          44287131,
          7103838,
          0,
          0,
          0,
          255273813,
          7,
          57504069,
          54215416,
          0,
          31899000,
          0,
          28451622,
          13368437,
          12376563,
          10,
          0,
          17693675,
          11850214,
          2025032,
          2401510,
          1548955,
          0,
          1521261,
          0,
          8159508,
          78371200,
          79384880,
          0,
          14237000,
          2122561,
          181813770,
          138530565,
          119114517,
          102308889,
          102272727,
          0,
          43656822,
          39846344,
          0,
          25059640,
          23341568,
          22168359,
          38275483,
          44703995,
          20400000,
          0,
          50244700,
          0,
          18197398,
          18814720,
          18750246,
          0,
          58000000,
          12000000,
          48027970,
          11642254,
          9206470,
          7518876,
          0,
          6852450,
          13231461,
          0,
          6670712,
          19560274,
          6230276,
          10409377,
          0,
          0,
          5483299,
          4398989,
          0,
          3283371,
          0,
          2944752,
          2025238,
          0,
          638641,
          2899975,
          0,
          0,
          869325,
          399611,
          0,
          0,
          1332231,
          0,
          0,
          0,
          69497,
          25,
          0,
          0,
          0,
          66351,
          0,
          0,
          0,
          2120439,
          3897799,
          32251,
          530048,
          0,
          6800000,
          0,
          27165581,
          0,
          76578641,
          0,
          7000000,
          126,
          18469680,
          531826,
          159616327,
          58972904,
          0,
          0,
          0,
          15700000,
          0,
          0,
          4865000,
          0,
          3031801,
          2466444,
          37295445,
          0,
          0,
          792,
          0,
          11502151,
          0,
          0,
          0,
          0,
          15699707,
          0,
          0,
          5000000,
          0,
          0,
          0,
          152925093,
          108286421,
          64282312,
          44107032,
          205703818,
          103590271,
          44793222,
          99067206,
          142817992,
          36000000,
          41833347,
          34872033,
          60378584,
          28200000,
          86362372,
          26010864,
          55198285,
          64110728,
          39723096,
          44030246,
          26888376,
          110000000,
          23198652,
          0,
          20659423,
          0,
          0,
          0,
          17273593,
          24804129,
          0,
          40100000,
          0,
          0,
          43884652,
          15000000,
          19905359,
          14000000,
          368744044,
          31724284,
          15116634,
          33616692,
          30039392,
          0,
          13269963,
          17768757,
          0,
          0,
          12232628,
          25562924,
          16174377,
          54418872,
          14056528,
          12200000,
          21164799,
          0,
          25,
          0,
          0,
          0,
          3432342,
          0,
          0,
          7230000,
          0,
          6538177,
          0,
          5321508,
          5476060,
          9760104,
          0,
          4074023,
          3263585,
          41424067,
          4040588,
          0,
          3049135,
          4842699,
          2614773,
          1980338,
          8203235,
          0,
          2450846,
          5129058,
          742898,
          3220371,
          0,
          846704,
          560069,
          0,
          0,
          0,
          0,
          5476793,
          0,
          0,
          0,
          0,
          98450062,
          782102,
          0,
          0,
          0,
          0,
          0,
          0,
          0,
          0,
          0,
          0,
          0,
          0,
          0,
          0,
          0,
          0,
          0,
          0,
          0,
          17872796,
          24475416,
          209696,
          80578934,
          0,
          3099314,
          0,
          0,
          0,
          8025872,
          11000000,
          10337387,
          0,
          0,
          0,
          0,
          0,
          0,
          0,
          0,
          146198896,
          58853106,
          254700832,
          27092880,
          10400000,
          13060843,
          7011317,
          7390108,
          0,
          0,
          0,
          10429707,
          1270522,
          0,
          0,
          0,
          744816,
          23803308,
          0,
          0,
          0,
          623528,
          0,
          3606395,
          0,
          108981275,
          0,
          0,
          32000000,
          0,
          0,
          6294161,
          0,
          0,
          41400000,
          0,
          0,
          0,
          0,
          32000000,
          62548947,
          125728258,
          0,
          30000000,
          119723856,
          38251425,
          36000000,
          44909486,
          187112,
          49800000,
          0,
          0,
          52425855,
          14400000,
          34705850,
          13008928,
          11744471,
          10000000,
          15179302,
          44349000,
          31584901,
          10229331,
          9000000,
          0,
          8200000,
          0,
          0,
          44000000,
          0,
          0,
          6000000,
          4630045,
          4300000,
          9304609,
          0,
          3468572,
          0,
          0,
          2426851,
          1919197,
          1104682,
          866999,
          0,
          0,
          1406224,
          0,
          0,
          0,
          641100,
          2365467,
          302204,
          354704,
          0,
          0,
          0,
          120000,
          0,
          0,
          318982,
          0,
          146402,
          33245,
          0,
          0,
          355688,
          25345000,
          0,
          4037782,
          0,
          0,
          8000000,
          0,
          0,
          0,
          0,
          0,
          0,
          28350000,
          23689877,
          400176459,
          0,
          14873,
          8000000,
          4270000,
          0,
          44462,
          2956000,
          0,
          13401952,
          44785053,
          257850122,
          83453539,
          0,
          28215918,
          27900000,
          14000000,
          5000000,
          13007551,
          12800000,
          12000000,
          12600000,
          40423945,
          0,
          9482579,
          6451628,
          33965843,
          0,
          5923044,
          0,
          0,
          0,
          4159678,
          0,
          113783,
          0,
          0,
          0,
          0,
          0,
          0,
          0,
          0,
          0,
          0,
          0,
          0,
          31063038,
          127392239,
          19504039,
          0,
          3830137,
          13092000,
          30641770,
          4000000,
          0,
          0,
          16800000,
          19294144,
          0,
          0,
          45000,
          7,
          28814580,
          33395426,
          8000000,
          2277396,
          0,
          5332926,
          658573,
          141000000,
          124881062,
          0,
          9644124,
          16491080,
          0,
          177512032,
          0,
          35564473,
          0,
          29999213,
          20966644,
          89328627,
          77712439,
          19184015,
          17570324,
          18999718,
          23144499,
          68411275,
          19472057,
          33300000,
          15369573,
          7900000,
          25000000,
          15938065,
          13000000,
          11718595,
          229094,
          0,
          0,
          10400000,
          10000000,
          9016377,
          9012000,
          0,
          11176469,
          0,
          7282851,
          6804016,
          0,
          10422387,
          28200000,
          0,
          4109095,
          0,
          4000000,
          0,
          0,
          0,
          0,
          3076820,
          3011195,
          4069826,
          9879971,
          2807390,
          0,
          1826705,
          14980005,
          0,
          748453,
          0,
          0,
          0,
          2357852,
          0,
          0,
          11947954,
          0,
          0,
          0,
          0,
          0,
          0,
          22000,
          0,
          3387000,
          0,
          0,
          0,
          0,
          0,
          0,
          0,
          3200000,
          0,
          0,
          0,
          0,
          0,
          0,
          0,
          5596708,
          5000000,
          0,
          0,
          0,
          103735,
          0,
          0,
          0,
          23563727,
          25000000,
          19170001,
          33754967,
          86273333,
          5364858,
          0,
          0,
          37799643,
          0,
          0,
          6600000,
          0,
          5363000,
          119500000,
          32980880,
          10700000,
          0,
          0,
          3166000,
          553198,
          0,
          0,
          7200000,
          0,
          60141683,
          33400000,
          34585416,
          14400000,
          12348905,
          10000000,
          32230907,
          0,
          26781723,
          5535405,
          0,
          0,
          0,
          0,
          3325038,
          9726954,
          6854611,
          0,
          0,
          0,
          71904,
          0,
          0,
          0,
          107559,
          324138,
          0,
          0,
          0,
          5731103,
          0,
          495303,
          0,
          8176544,
          0,
          6892000,
          0,
          565592,
          11000000,
          0,
          0,
          0,
          83320000,
          0,
          36690067,
          21930418,
          0,
          0,
          0,
          9132000,
          0,
          0,
          0,
          0,
          23650000,
          480811,
          0,
          3330,
          30448000,
          0,
          0,
          0,
          0,
          78898765,
          0,
          18344729,
          14674076,
          18016290,
          13129846,
          24600832,
          0,
          11540607,
          13101672,
          70000000,
          34522221,
          7600000,
          9172000,
          1477676,
          0,
          6003587,
          15992615,
          20908467,
          4601043,
          7800000,
          13831503,
          13885802,
          4000000,
          0,
          7871522,
          11122090,
          0,
          5967038,
          2801508,
          2506446,
          0,
          5179037,
          11125849,
          1672730,
          1431623,
          1477002,
          0,
          876302,
          653621,
          0,
          0,
          563706,
          390659,
          0,
          0,
          124494,
          0,
          120620,
          111731,
          0,
          187674,
          1100000,
          0,
          0,
          0,
          0,
          54207,
          0,
          622806,
          0,
          3983997,
          0,
          0,
          0,
          0,
          0,
          95000,
          0,
          0,
          11833696,
          0,
          0,
          0,
          0,
          0,
          0,
          0,
          0,
          0,
          0,
          0,
          0,
          0,
          0,
          0,
          0,
          0,
          0,
          0,
          0,
          19152480,
          864659,
          0,
          0,
          222000,
          2957978,
          0,
          0,
          67738090,
          0,
          8000000,
          9440272,
          0,
          21107746,
          8844595,
          0,
          841733,
          0,
          621951,
          0,
          0,
          6800000,
          0,
          0,
          0,
          0,
          0,
          7267585,
          150277,
          0,
          23311391,
          9700000,
          0,
          572809,
          1943649,
          0,
          4235151,
          0,
          7433101,
          30500000,
          5400000,
          0,
          6033999,
          2592808,
          0,
          0,
          0,
          4420000,
          0,
          0,
          0,
          0,
          22179430,
          11806119,
          9600000,
          7412216,
          11098131,
          10013424,
          0,
          7000000,
          0,
          2375097,
          97009150,
          2300000,
          0,
          0,
          712294,
          3566225,
          418961,
          416925,
          414404,
          0,
          373967,
          0,
          330048,
          0,
          8500000,
          0,
          173066,
          0,
          0,
          0,
          0,
          32000,
          0,
          0,
          1165882,
          0,
          0,
          0,
          0,
          0,
          1500000,
          0,
          0,
          0,
          0,
          184925486,
          0,
          2620000,
          0,
          0,
          0,
          0,
          0,
          0,
          3897569,
          0,
          0,
          0,
          639000,
          619042,
          1632,
          0,
          0,
          0,
          0,
          0,
          0,
          6000000,
          21722776,
          11000000,
          3412497,
          0,
          0,
          8500000,
          6000000,
          0,
          0,
          103911669,
          18492362,
          0,
          0,
          0,
          0,
          7000000,
          0,
          2861020,
          14661007,
          0,
          6000000,
          0,
          0,
          0,
          25000,
          0,
          0,
          0,
          0,
          0,
          2736000,
          0,
          0,
          2850263,
          0,
          0,
          0,
          18637690,
          0,
          1400000,
          0,
          0,
          0,
          0,
          4105187,
          0,
          0,
          10462500,
          0,
          0,
          0,
          117235147,
          0,
          37600000,
          62882090,
          28262574,
          17985893,
          59600000,
          18112929,
          14564027,
          23507567,
          10047674,
          10037390,
          16566240,
          13350369,
          101758490,
          40000000,
          9000000,
          46243000,
          7800000,
          0,
          6833445,
          0,
          9138338,
          0,
          5355847,
          0,
          5284309,
          3538446,
          3123963,
          0,
          0,
          2057193,
          0,
          1678874,
          1744858,
          0,
          0,
          852206,
          623791,
          0,
          0,
          0,
          464000,
          0,
          0,
          0,
          336472,
          0,
          444575,
          274661,
          0,
          0,
          0,
          0,
          0,
          0,
          0,
          0,
          14870,
          0,
          0,
          0,
          0,
          0,
          10018,
          0,
          7202,
          0,
          0,
          0,
          0,
          0,
          0,
          0,
          0,
          0,
          0,
          0,
          0,
          0,
          0,
          0,
          0,
          0,
          0,
          0,
          0,
          0,
          0,
          0,
          0,
          0,
          0,
          0,
          814666,
          0,
          0,
          0,
          0,
          9600000,
          30905,
          1185783,
          0,
          7022209,
          381420,
          0,
          17385830,
          0,
          267447150,
          0,
          819939,
          0,
          0,
          1243961,
          3094813,
          0,
          0,
          0,
          0,
          0,
          0,
          0,
          1001437,
          2816116,
          0,
          0,
          0,
          0,
          62852,
          0,
          0,
          1984662,
          0,
          0,
          140000000,
          0,
          0,
          4007792,
          0,
          171760,
          78396,
          0,
          0,
          0,
          0,
          0,
          8000000,
          7830611,
          0,
          1667192,
          0,
          0,
          4911725,
          10508,
          0,
          0,
          0,
          0,
          0,
          0,
          0,
          0,
          3202000,
          248000000,
          34505110,
          0,
          0,
          0,
          0,
          0,
          0,
          0,
          0,
          0,
          12299668,
          0,
          0,
          0,
          33456317,
          0,
          0,
          54667954,
          0,
          17000000,
          0,
          8679814,
          0,
          0,
          500000,
          0,
          0,
          845188,
          0,
          0,
          0,
          603943,
          0,
          0,
          0,
          0,
          343341,
          0,
          271841,
          0,
          0,
          0,
          98017,
          0,
          0,
          4242978,
          0,
          0,
          0,
          0,
          0,
          0,
          316472,
          0,
          0,
          0,
          0,
          0,
          0,
          0,
          0,
          0,
          0,
          0,
          0,
          0,
          0,
          773228,
          0,
          973525,
          0,
          0,
          2281000,
          0,
          0,
          0,
          0,
          46118097,
          258384,
          193355800,
          0,
          5028948,
          0,
          0,
          1162014,
          0,
          0,
          0,
          170000000,
          0,
          2451545,
          0,
          0,
          0,
          8394751,
          0,
          4358000,
          29400000,
          31081,
          0,
          1750211,
          0,
          0,
          0,
          1000000,
          246574,
          4500000,
          110197,
          7808524,
          1281176,
          16,
          0,
          0,
          0,
          0,
          0,
          0,
          0,
          0,
          2074000,
          0,
          40542,
          0,
          0,
          0,
          8000000,
          0,
          0,
          0,
          0,
          0,
          0,
          319285,
          12021272,
          4186931,
          0,
          0,
          0,
          0,
          0,
          0,
          501818,
          0,
          203,
          0,
          3542353,
          0,
          0,
          0,
          56825,
          0,
          0,
          0,
          0,
          0,
          0,
          0,
          0,
          0,
          0,
          0,
          0,
          0,
          22000000,
          0,
          0,
          2260712,
          0,
          111300,
          0,
          27000000,
          5000000,
          100000000,
          4505922,
          14500000,
          2200000,
          0,
          2295733,
          0,
          2611555,
          0,
          0,
          0,
          0,
          0,
          0,
          0,
          0,
          0,
          0,
          0,
          0,
          0,
          0,
          0,
          0,
          0,
          900000,
          469947,
          0,
          0,
          0,
          1776935,
          15200000,
          0,
          2891288,
          20710513,
          0,
          0,
          0,
          0,
          0,
          0,
          0,
          0,
          6706368,
          0,
          0,
          0,
          3200000,
          0,
          0,
          15861566,
          0,
          10178331,
          42664410,
          7000000,
          0,
          0,
          0,
          0,
          0,
          0,
          0,
          0,
          0,
          0,
          0,
          0,
          0,
          3221152,
          0,
          0,
          0,
          28575078,
          0,
          0,
          0,
          0,
          0,
          0,
          0,
          0,
          0,
          416498,
          0,
          0,
          0,
          0,
          0,
          600896,
          0,
          0,
          0,
          0,
          0,
          0,
          0,
          321952,
          0,
          0,
          0,
          0,
          0,
          10000,
          3151130,
          0,
          76901,
          0,
          0,
          0,
          0,
          0,
          0,
          0,
          0,
          0,
          0,
          0,
          0,
          6000000,
          0,
          0,
          0,
          99000,
          0,
          0,
          0,
          424760,
          0,
          2040920,
          0,
          0,
          0,
          0
         ],
         "yaxis": "y"
        }
       ],
       "layout": {
        "legend": {
         "tracegroupgap": 0
        },
        "template": {
         "data": {
          "bar": [
           {
            "error_x": {
             "color": "#2a3f5f"
            },
            "error_y": {
             "color": "#2a3f5f"
            },
            "marker": {
             "line": {
              "color": "#E5ECF6",
              "width": 0.5
             },
             "pattern": {
              "fillmode": "overlay",
              "size": 10,
              "solidity": 0.2
             }
            },
            "type": "bar"
           }
          ],
          "barpolar": [
           {
            "marker": {
             "line": {
              "color": "#E5ECF6",
              "width": 0.5
             },
             "pattern": {
              "fillmode": "overlay",
              "size": 10,
              "solidity": 0.2
             }
            },
            "type": "barpolar"
           }
          ],
          "carpet": [
           {
            "aaxis": {
             "endlinecolor": "#2a3f5f",
             "gridcolor": "white",
             "linecolor": "white",
             "minorgridcolor": "white",
             "startlinecolor": "#2a3f5f"
            },
            "baxis": {
             "endlinecolor": "#2a3f5f",
             "gridcolor": "white",
             "linecolor": "white",
             "minorgridcolor": "white",
             "startlinecolor": "#2a3f5f"
            },
            "type": "carpet"
           }
          ],
          "choropleth": [
           {
            "colorbar": {
             "outlinewidth": 0,
             "ticks": ""
            },
            "type": "choropleth"
           }
          ],
          "contour": [
           {
            "colorbar": {
             "outlinewidth": 0,
             "ticks": ""
            },
            "colorscale": [
             [
              0,
              "#0d0887"
             ],
             [
              0.1111111111111111,
              "#46039f"
             ],
             [
              0.2222222222222222,
              "#7201a8"
             ],
             [
              0.3333333333333333,
              "#9c179e"
             ],
             [
              0.4444444444444444,
              "#bd3786"
             ],
             [
              0.5555555555555556,
              "#d8576b"
             ],
             [
              0.6666666666666666,
              "#ed7953"
             ],
             [
              0.7777777777777778,
              "#fb9f3a"
             ],
             [
              0.8888888888888888,
              "#fdca26"
             ],
             [
              1,
              "#f0f921"
             ]
            ],
            "type": "contour"
           }
          ],
          "contourcarpet": [
           {
            "colorbar": {
             "outlinewidth": 0,
             "ticks": ""
            },
            "type": "contourcarpet"
           }
          ],
          "heatmap": [
           {
            "colorbar": {
             "outlinewidth": 0,
             "ticks": ""
            },
            "colorscale": [
             [
              0,
              "#0d0887"
             ],
             [
              0.1111111111111111,
              "#46039f"
             ],
             [
              0.2222222222222222,
              "#7201a8"
             ],
             [
              0.3333333333333333,
              "#9c179e"
             ],
             [
              0.4444444444444444,
              "#bd3786"
             ],
             [
              0.5555555555555556,
              "#d8576b"
             ],
             [
              0.6666666666666666,
              "#ed7953"
             ],
             [
              0.7777777777777778,
              "#fb9f3a"
             ],
             [
              0.8888888888888888,
              "#fdca26"
             ],
             [
              1,
              "#f0f921"
             ]
            ],
            "type": "heatmap"
           }
          ],
          "histogram": [
           {
            "marker": {
             "pattern": {
              "fillmode": "overlay",
              "size": 10,
              "solidity": 0.2
             }
            },
            "type": "histogram"
           }
          ],
          "histogram2d": [
           {
            "colorbar": {
             "outlinewidth": 0,
             "ticks": ""
            },
            "colorscale": [
             [
              0,
              "#0d0887"
             ],
             [
              0.1111111111111111,
              "#46039f"
             ],
             [
              0.2222222222222222,
              "#7201a8"
             ],
             [
              0.3333333333333333,
              "#9c179e"
             ],
             [
              0.4444444444444444,
              "#bd3786"
             ],
             [
              0.5555555555555556,
              "#d8576b"
             ],
             [
              0.6666666666666666,
              "#ed7953"
             ],
             [
              0.7777777777777778,
              "#fb9f3a"
             ],
             [
              0.8888888888888888,
              "#fdca26"
             ],
             [
              1,
              "#f0f921"
             ]
            ],
            "type": "histogram2d"
           }
          ],
          "histogram2dcontour": [
           {
            "colorbar": {
             "outlinewidth": 0,
             "ticks": ""
            },
            "colorscale": [
             [
              0,
              "#0d0887"
             ],
             [
              0.1111111111111111,
              "#46039f"
             ],
             [
              0.2222222222222222,
              "#7201a8"
             ],
             [
              0.3333333333333333,
              "#9c179e"
             ],
             [
              0.4444444444444444,
              "#bd3786"
             ],
             [
              0.5555555555555556,
              "#d8576b"
             ],
             [
              0.6666666666666666,
              "#ed7953"
             ],
             [
              0.7777777777777778,
              "#fb9f3a"
             ],
             [
              0.8888888888888888,
              "#fdca26"
             ],
             [
              1,
              "#f0f921"
             ]
            ],
            "type": "histogram2dcontour"
           }
          ],
          "mesh3d": [
           {
            "colorbar": {
             "outlinewidth": 0,
             "ticks": ""
            },
            "type": "mesh3d"
           }
          ],
          "parcoords": [
           {
            "line": {
             "colorbar": {
              "outlinewidth": 0,
              "ticks": ""
             }
            },
            "type": "parcoords"
           }
          ],
          "pie": [
           {
            "automargin": true,
            "type": "pie"
           }
          ],
          "scatter": [
           {
            "fillpattern": {
             "fillmode": "overlay",
             "size": 10,
             "solidity": 0.2
            },
            "type": "scatter"
           }
          ],
          "scatter3d": [
           {
            "line": {
             "colorbar": {
              "outlinewidth": 0,
              "ticks": ""
             }
            },
            "marker": {
             "colorbar": {
              "outlinewidth": 0,
              "ticks": ""
             }
            },
            "type": "scatter3d"
           }
          ],
          "scattercarpet": [
           {
            "marker": {
             "colorbar": {
              "outlinewidth": 0,
              "ticks": ""
             }
            },
            "type": "scattercarpet"
           }
          ],
          "scattergeo": [
           {
            "marker": {
             "colorbar": {
              "outlinewidth": 0,
              "ticks": ""
             }
            },
            "type": "scattergeo"
           }
          ],
          "scattergl": [
           {
            "marker": {
             "colorbar": {
              "outlinewidth": 0,
              "ticks": ""
             }
            },
            "type": "scattergl"
           }
          ],
          "scattermap": [
           {
            "marker": {
             "colorbar": {
              "outlinewidth": 0,
              "ticks": ""
             }
            },
            "type": "scattermap"
           }
          ],
          "scattermapbox": [
           {
            "marker": {
             "colorbar": {
              "outlinewidth": 0,
              "ticks": ""
             }
            },
            "type": "scattermapbox"
           }
          ],
          "scatterpolar": [
           {
            "marker": {
             "colorbar": {
              "outlinewidth": 0,
              "ticks": ""
             }
            },
            "type": "scatterpolar"
           }
          ],
          "scatterpolargl": [
           {
            "marker": {
             "colorbar": {
              "outlinewidth": 0,
              "ticks": ""
             }
            },
            "type": "scatterpolargl"
           }
          ],
          "scatterternary": [
           {
            "marker": {
             "colorbar": {
              "outlinewidth": 0,
              "ticks": ""
             }
            },
            "type": "scatterternary"
           }
          ],
          "surface": [
           {
            "colorbar": {
             "outlinewidth": 0,
             "ticks": ""
            },
            "colorscale": [
             [
              0,
              "#0d0887"
             ],
             [
              0.1111111111111111,
              "#46039f"
             ],
             [
              0.2222222222222222,
              "#7201a8"
             ],
             [
              0.3333333333333333,
              "#9c179e"
             ],
             [
              0.4444444444444444,
              "#bd3786"
             ],
             [
              0.5555555555555556,
              "#d8576b"
             ],
             [
              0.6666666666666666,
              "#ed7953"
             ],
             [
              0.7777777777777778,
              "#fb9f3a"
             ],
             [
              0.8888888888888888,
              "#fdca26"
             ],
             [
              1,
              "#f0f921"
             ]
            ],
            "type": "surface"
           }
          ],
          "table": [
           {
            "cells": {
             "fill": {
              "color": "#EBF0F8"
             },
             "line": {
              "color": "white"
             }
            },
            "header": {
             "fill": {
              "color": "#C8D4E3"
             },
             "line": {
              "color": "white"
             }
            },
            "type": "table"
           }
          ]
         },
         "layout": {
          "annotationdefaults": {
           "arrowcolor": "#2a3f5f",
           "arrowhead": 0,
           "arrowwidth": 1
          },
          "autotypenumbers": "strict",
          "coloraxis": {
           "colorbar": {
            "outlinewidth": 0,
            "ticks": ""
           }
          },
          "colorscale": {
           "diverging": [
            [
             0,
             "#8e0152"
            ],
            [
             0.1,
             "#c51b7d"
            ],
            [
             0.2,
             "#de77ae"
            ],
            [
             0.3,
             "#f1b6da"
            ],
            [
             0.4,
             "#fde0ef"
            ],
            [
             0.5,
             "#f7f7f7"
            ],
            [
             0.6,
             "#e6f5d0"
            ],
            [
             0.7,
             "#b8e186"
            ],
            [
             0.8,
             "#7fbc41"
            ],
            [
             0.9,
             "#4d9221"
            ],
            [
             1,
             "#276419"
            ]
           ],
           "sequential": [
            [
             0,
             "#0d0887"
            ],
            [
             0.1111111111111111,
             "#46039f"
            ],
            [
             0.2222222222222222,
             "#7201a8"
            ],
            [
             0.3333333333333333,
             "#9c179e"
            ],
            [
             0.4444444444444444,
             "#bd3786"
            ],
            [
             0.5555555555555556,
             "#d8576b"
            ],
            [
             0.6666666666666666,
             "#ed7953"
            ],
            [
             0.7777777777777778,
             "#fb9f3a"
            ],
            [
             0.8888888888888888,
             "#fdca26"
            ],
            [
             1,
             "#f0f921"
            ]
           ],
           "sequentialminus": [
            [
             0,
             "#0d0887"
            ],
            [
             0.1111111111111111,
             "#46039f"
            ],
            [
             0.2222222222222222,
             "#7201a8"
            ],
            [
             0.3333333333333333,
             "#9c179e"
            ],
            [
             0.4444444444444444,
             "#bd3786"
            ],
            [
             0.5555555555555556,
             "#d8576b"
            ],
            [
             0.6666666666666666,
             "#ed7953"
            ],
            [
             0.7777777777777778,
             "#fb9f3a"
            ],
            [
             0.8888888888888888,
             "#fdca26"
            ],
            [
             1,
             "#f0f921"
            ]
           ]
          },
          "colorway": [
           "#636efa",
           "#EF553B",
           "#00cc96",
           "#ab63fa",
           "#FFA15A",
           "#19d3f3",
           "#FF6692",
           "#B6E880",
           "#FF97FF",
           "#FECB52"
          ],
          "font": {
           "color": "#2a3f5f"
          },
          "geo": {
           "bgcolor": "white",
           "lakecolor": "white",
           "landcolor": "#E5ECF6",
           "showlakes": true,
           "showland": true,
           "subunitcolor": "white"
          },
          "hoverlabel": {
           "align": "left"
          },
          "hovermode": "closest",
          "mapbox": {
           "style": "light"
          },
          "paper_bgcolor": "white",
          "plot_bgcolor": "#E5ECF6",
          "polar": {
           "angularaxis": {
            "gridcolor": "white",
            "linecolor": "white",
            "ticks": ""
           },
           "bgcolor": "#E5ECF6",
           "radialaxis": {
            "gridcolor": "white",
            "linecolor": "white",
            "ticks": ""
           }
          },
          "scene": {
           "xaxis": {
            "backgroundcolor": "#E5ECF6",
            "gridcolor": "white",
            "gridwidth": 2,
            "linecolor": "white",
            "showbackground": true,
            "ticks": "",
            "zerolinecolor": "white"
           },
           "yaxis": {
            "backgroundcolor": "#E5ECF6",
            "gridcolor": "white",
            "gridwidth": 2,
            "linecolor": "white",
            "showbackground": true,
            "ticks": "",
            "zerolinecolor": "white"
           },
           "zaxis": {
            "backgroundcolor": "#E5ECF6",
            "gridcolor": "white",
            "gridwidth": 2,
            "linecolor": "white",
            "showbackground": true,
            "ticks": "",
            "zerolinecolor": "white"
           }
          },
          "shapedefaults": {
           "line": {
            "color": "#2a3f5f"
           }
          },
          "ternary": {
           "aaxis": {
            "gridcolor": "white",
            "linecolor": "white",
            "ticks": ""
           },
           "baxis": {
            "gridcolor": "white",
            "linecolor": "white",
            "ticks": ""
           },
           "bgcolor": "#E5ECF6",
           "caxis": {
            "gridcolor": "white",
            "linecolor": "white",
            "ticks": ""
           }
          },
          "title": {
           "x": 0.05
          },
          "xaxis": {
           "automargin": true,
           "gridcolor": "white",
           "linecolor": "white",
           "ticks": "",
           "title": {
            "standoff": 15
           },
           "zerolinecolor": "white",
           "zerolinewidth": 2
          },
          "yaxis": {
           "automargin": true,
           "gridcolor": "white",
           "linecolor": "white",
           "ticks": "",
           "title": {
            "standoff": 15
           },
           "zerolinecolor": "white",
           "zerolinewidth": 2
          }
         }
        },
        "title": {
         "text": "Budget vs Revenue"
        },
        "xaxis": {
         "anchor": "y",
         "domain": [
          0,
          1
         ],
         "title": {
          "text": "budget"
         }
        },
        "yaxis": {
         "anchor": "x",
         "domain": [
          0,
          1
         ],
         "title": {
          "text": "revenue"
         }
        }
       }
      }
     },
     "metadata": {},
     "output_type": "display_data"
    }
   ],
   "source": [
    "# Step 1: Create scatter plot\n",
    "fig_budget_rev = px.scatter(\n",
    "    df,\n",
    "    x='budget',\n",
    "    y='revenue',\n",
    "    hover_data=['title_x'],\n",
    "    title=\"Budget vs Revenue\",\n",
    "    labels={'title_x': 'Title'}\n",
    ")\n",
    "\n",
    "fig_budget_rev.show()"
   ]
  },
  {
   "cell_type": "code",
   "execution_count": null,
   "id": "1a1aabd1",
   "metadata": {},
   "outputs": [],
   "source": [
    "with open(\"../img/fig_budget_rev.pkl\", \"wb\") as f:\n",
    "    pickle.dump(fig_budget_rev, f)"
   ]
  },
  {
   "cell_type": "code",
   "execution_count": null,
   "id": "0293a4fa",
   "metadata": {},
   "outputs": [
    {
     "data": {
      "application/vnd.plotly.v1+json": {
       "config": {
        "plotlyServerURL": "https://plot.ly"
       },
       "data": [
        {
         "customdata": [
          [
           "Avatar"
          ],
          [
           "Pirates of the Caribbean: At World's End"
          ],
          [
           "Spectre"
          ],
          [
           "The Dark Knight Rises"
          ],
          [
           "John Carter"
          ],
          [
           "Spider-Man 3"
          ],
          [
           "Tangled"
          ],
          [
           "Avengers: Age of Ultron"
          ],
          [
           "Harry Potter and the Half-Blood Prince"
          ],
          [
           "Batman v Superman: Dawn of Justice"
          ],
          [
           "Superman Returns"
          ],
          [
           "Quantum of Solace"
          ],
          [
           "Pirates of the Caribbean: Dead Man's Chest"
          ],
          [
           "The Lone Ranger"
          ],
          [
           "Man of Steel"
          ],
          [
           "The Chronicles of Narnia: Prince Caspian"
          ],
          [
           "The Avengers"
          ],
          [
           "Pirates of the Caribbean: On Stranger Tides"
          ],
          [
           "Men in Black 3"
          ],
          [
           "The Hobbit: The Battle of the Five Armies"
          ],
          [
           "The Amazing Spider-Man"
          ],
          [
           "Robin Hood"
          ],
          [
           "The Hobbit: The Desolation of Smaug"
          ],
          [
           "The Golden Compass"
          ],
          [
           "King Kong"
          ],
          [
           "Titanic"
          ],
          [
           "Captain America: Civil War"
          ],
          [
           "Battleship"
          ],
          [
           "Jurassic World"
          ],
          [
           "Skyfall"
          ],
          [
           "Spider-Man 2"
          ],
          [
           "Iron Man 3"
          ],
          [
           "Alice in Wonderland"
          ],
          [
           "X-Men: The Last Stand"
          ],
          [
           "Monsters University"
          ],
          [
           "Transformers: Revenge of the Fallen"
          ],
          [
           "Transformers: Age of Extinction"
          ],
          [
           "Oz: The Great and Powerful"
          ],
          [
           "The Amazing Spider-Man 2"
          ],
          [
           "TRON: Legacy"
          ],
          [
           "Cars 2"
          ],
          [
           "Green Lantern"
          ],
          [
           "Toy Story 3"
          ],
          [
           "Terminator Salvation"
          ],
          [
           "Furious 7"
          ],
          [
           "World War Z"
          ],
          [
           "X-Men: Days of Future Past"
          ],
          [
           "Star Trek Into Darkness"
          ],
          [
           "Jack the Giant Slayer"
          ],
          [
           "The Great Gatsby"
          ],
          [
           "Prince of Persia: The Sands of Time"
          ],
          [
           "Pacific Rim"
          ],
          [
           "Transformers: Dark of the Moon"
          ],
          [
           "Indiana Jones and the Kingdom of the Crystal Skull"
          ],
          [
           "The Good Dinosaur"
          ],
          [
           "Brave"
          ],
          [
           "Star Trek Beyond"
          ],
          [
           "WALL·E"
          ],
          [
           "Rush Hour 3"
          ],
          [
           "2012"
          ],
          [
           "A Christmas Carol"
          ],
          [
           "Jupiter Ascending"
          ],
          [
           "The Legend of Tarzan"
          ],
          [
           "The Chronicles of Narnia: The Lion, the Witch and the Wardrobe"
          ],
          [
           "X-Men: Apocalypse"
          ],
          [
           "The Dark Knight"
          ],
          [
           "Up"
          ],
          [
           "Monsters vs Aliens"
          ],
          [
           "Iron Man"
          ],
          [
           "Hugo"
          ],
          [
           "Wild Wild West"
          ],
          [
           "The Mummy: Tomb of the Dragon Emperor"
          ],
          [
           "Suicide Squad"
          ],
          [
           "Evan Almighty"
          ],
          [
           "Edge of Tomorrow"
          ],
          [
           "Waterworld"
          ],
          [
           "G.I. Joe: The Rise of Cobra"
          ],
          [
           "Inside Out"
          ],
          [
           "The Jungle Book"
          ],
          [
           "Iron Man 2"
          ],
          [
           "Snow White and the Huntsman"
          ],
          [
           "Maleficent"
          ],
          [
           "Dawn of the Planet of the Apes"
          ],
          [
           "47 Ronin"
          ],
          [
           "Captain America: The Winter Soldier"
          ],
          [
           "Shrek Forever After"
          ],
          [
           "Tomorrowland"
          ],
          [
           "Big Hero 6"
          ],
          [
           "Wreck-It Ralph"
          ],
          [
           "The Polar Express"
          ],
          [
           "Independence Day: Resurgence"
          ],
          [
           "How to Train Your Dragon"
          ],
          [
           "Terminator 3: Rise of the Machines"
          ],
          [
           "Guardians of the Galaxy"
          ],
          [
           "Interstellar"
          ],
          [
           "Inception"
          ],
          [
           "Shin Godzilla"
          ],
          [
           "The Hobbit: An Unexpected Journey"
          ],
          [
           "The Fast and the Furious"
          ],
          [
           "The Curious Case of Benjamin Button"
          ],
          [
           "X-Men: First Class"
          ],
          [
           "The Hunger Games: Mockingjay - Part 2"
          ],
          [
           "The Sorcerer's Apprentice"
          ],
          [
           "Poseidon"
          ],
          [
           "Alice Through the Looking Glass"
          ],
          [
           "Shrek the Third"
          ],
          [
           "Warcraft"
          ],
          [
           "Terminator Genisys"
          ],
          [
           "The Chronicles of Narnia: The Voyage of the Dawn Treader"
          ],
          [
           "Pearl Harbor"
          ],
          [
           "Transformers"
          ],
          [
           "Alexander"
          ],
          [
           "Harry Potter and the Order of the Phoenix"
          ],
          [
           "Harry Potter and the Goblet of Fire"
          ],
          [
           "Hancock"
          ],
          [
           "I Am Legend"
          ],
          [
           "Charlie and the Chocolate Factory"
          ],
          [
           "Ratatouille"
          ],
          [
           "Batman Begins"
          ],
          [
           "Madagascar: Escape 2 Africa"
          ],
          [
           "Night at the Museum: Battle of the Smithsonian"
          ],
          [
           "X-Men Origins: Wolverine"
          ],
          [
           "The Matrix Revolutions"
          ],
          [
           "Frozen"
          ],
          [
           "The Matrix Reloaded"
          ],
          [
           "Thor: The Dark World"
          ],
          [
           "Mad Max: Fury Road"
          ],
          [
           "Angels & Demons"
          ],
          [
           "Thor"
          ],
          [
           "Bolt"
          ],
          [
           "G-Force"
          ],
          [
           "Wrath of the Titans"
          ],
          [
           "Dark Shadows"
          ],
          [
           "Mission: Impossible - Rogue Nation"
          ],
          [
           "Bee Movie"
          ],
          [
           "Kung Fu Panda 2"
          ],
          [
           "The Last Airbender"
          ],
          [
           "Mission: Impossible III"
          ],
          [
           "White House Down"
          ],
          [
           "Mars Needs Moms"
          ],
          [
           "Flushed Away"
          ],
          [
           "Pan"
          ],
          [
           "Mr. Peabody & Sherman"
          ],
          [
           "Troy"
          ],
          [
           "Madagascar 3: Europe's Most Wanted"
          ],
          [
           "Die Another Day"
          ],
          [
           "Ghostbusters"
          ],
          [
           "Armageddon"
          ],
          [
           "Men in Black II"
          ],
          [
           "Beowulf"
          ],
          [
           "Kung Fu Panda 3"
          ],
          [
           "Mission: Impossible - Ghost Protocol"
          ],
          [
           "Rise of the Guardians"
          ],
          [
           "Fun with Dick and Jane"
          ],
          [
           "The Last Samurai"
          ],
          [
           "Exodus: Gods and Kings"
          ],
          [
           "Star Trek"
          ],
          [
           "Spider-Man"
          ],
          [
           "How to Train Your Dragon 2"
          ],
          [
           "Gods of Egypt"
          ],
          [
           "Stealth"
          ],
          [
           "Watchmen"
          ],
          [
           "Lethal Weapon 4"
          ],
          [
           "Hulk"
          ],
          [
           "G.I. Joe: Retaliation"
          ],
          [
           "Sahara"
          ],
          [
           "Final Fantasy: The Spirits Within"
          ],
          [
           "Captain America: The First Avenger"
          ],
          [
           "The World Is Not Enough"
          ],
          [
           "Master and Commander: The Far Side of the World"
          ],
          [
           "The Twilight Saga: Breaking Dawn - Part 2"
          ],
          [
           "Happy Feet Two"
          ],
          [
           "The Incredible Hulk"
          ],
          [
           "The BFG"
          ],
          [
           "The Revenant"
          ],
          [
           "Turbo"
          ],
          [
           "Rango"
          ],
          [
           "Penguins of Madagascar"
          ],
          [
           "The Bourne Ultimatum"
          ],
          [
           "Kung Fu Panda"
          ],
          [
           "Ant-Man"
          ],
          [
           "The Hunger Games: Catching Fire"
          ],
          [
           "Home"
          ],
          [
           "War of the Worlds"
          ],
          [
           "Bad Boys II"
          ],
          [
           "Puss in Boots"
          ],
          [
           "Salt"
          ],
          [
           "Noah"
          ],
          [
           "The Adventures of Tintin"
          ],
          [
           "Harry Potter and the Prisoner of Azkaban"
          ],
          [
           "Australia"
          ],
          [
           "After Earth"
          ],
          [
           "Dinosaur"
          ],
          [
           "Night at the Museum: Secret of the Tomb"
          ],
          [
           "Megamind"
          ],
          [
           "Harry Potter and the Philosopher's Stone"
          ],
          [
           "R.I.P.D."
          ],
          [
           "Pirates of the Caribbean: The Curse of the Black Pearl"
          ],
          [
           "The Hunger Games: Mockingjay - Part 1"
          ],
          [
           "The Da Vinci Code"
          ],
          [
           "Rio 2"
          ],
          [
           "X2"
          ],
          [
           "Fast Five"
          ],
          [
           "Sherlock Holmes: A Game of Shadows"
          ],
          [
           "Clash of the Titans"
          ],
          [
           "Total Recall"
          ],
          [
           "The 13th Warrior"
          ],
          [
           "The Bourne Legacy"
          ],
          [
           "Batman & Robin"
          ],
          [
           "How the Grinch Stole Christmas"
          ],
          [
           "The Day After Tomorrow"
          ],
          [
           "Mission: Impossible II"
          ],
          [
           "The Perfect Storm"
          ],
          [
           "Fantastic 4: Rise of the Silver Surfer"
          ],
          [
           "Life of Pi"
          ],
          [
           "Ghost Rider"
          ],
          [
           "Jason Bourne"
          ],
          [
           "Charlie's Angels: Full Throttle"
          ],
          [
           "Prometheus"
          ],
          [
           "Stuart Little 2"
          ],
          [
           "Elysium"
          ],
          [
           "The Chronicles of Riddick"
          ],
          [
           "RoboCop"
          ],
          [
           "Speed Racer"
          ],
          [
           "How Do You Know"
          ],
          [
           "Knight and Day"
          ],
          [
           "Oblivion"
          ],
          [
           "Star Wars: Episode III - Revenge of the Sith"
          ],
          [
           "Star Wars: Episode II - Attack of the Clones"
          ],
          [
           "Monsters, Inc."
          ],
          [
           "The Wolverine"
          ],
          [
           "Star Wars: Episode I - The Phantom Menace"
          ],
          [
           "The Croods"
          ],
          [
           "Asterix at the Olympic Games"
          ],
          [
           "Windtalkers"
          ],
          [
           "The Huntsman: Winter's War"
          ],
          [
           "Teenage Mutant Ninja Turtles"
          ],
          [
           "Gravity"
          ],
          [
           "Dante's Peak"
          ],
          [
           "Teenage Mutant Ninja Turtles: Out of the Shadows"
          ],
          [
           "Fantastic Four"
          ],
          [
           "Night at the Museum"
          ],
          [
           "San Andreas"
          ],
          [
           "Tomorrow Never Dies"
          ],
          [
           "The Patriot"
          ],
          [
           "Ocean's Twelve"
          ],
          [
           "Mr. & Mrs. Smith"
          ],
          [
           "Insurgent"
          ],
          [
           "The Aviator"
          ],
          [
           "Gulliver's Travels"
          ],
          [
           "The Green Hornet"
          ],
          [
           "300: Rise of an Empire"
          ],
          [
           "The Smurfs"
          ],
          [
           "Home on the Range"
          ],
          [
           "Allegiant"
          ],
          [
           "Real Steel"
          ],
          [
           "The Smurfs 2"
          ],
          [
           "Speed 2: Cruise Control"
          ],
          [
           "Ender's Game"
          ],
          [
           "Live Free or Die Hard"
          ],
          [
           "The Lord of the Rings: The Fellowship of the Ring"
          ],
          [
           "Around the World in 80 Days"
          ],
          [
           "Ali"
          ],
          [
           "I, Robot"
          ],
          [
           "Kingdom of Heaven"
          ],
          [
           "Stuart Little"
          ],
          [
           "The Princess and the Frog"
          ],
          [
           "The Martian"
          ],
          [
           "The Island"
          ],
          [
           "Town & Country"
          ],
          [
           "Gone in Sixty Seconds"
          ],
          [
           "Gladiator"
          ],
          [
           "Minority Report"
          ],
          [
           "Harry Potter and the Chamber of Secrets"
          ],
          [
           "Casino Royale"
          ],
          [
           "Planet of the Apes"
          ],
          [
           "Terminator 2: Judgment Day"
          ],
          [
           "Public Enemies"
          ],
          [
           "American Gangster"
          ],
          [
           "True Lies"
          ],
          [
           "The Taking of Pelham 1 2 3"
          ],
          [
           "Little Fockers"
          ],
          [
           "The Other Guys"
          ],
          [
           "Eraser"
          ],
          [
           "Django Unchained"
          ],
          [
           "The Hunchback of Notre Dame"
          ],
          [
           "The Emperor's New Groove"
          ],
          [
           "The Expendables 2"
          ],
          [
           "National Treasure"
          ],
          [
           "Eragon"
          ],
          [
           "Where the Wild Things Are"
          ],
          [
           "Epic"
          ],
          [
           "The Tourist"
          ],
          [
           "End of Days"
          ],
          [
           "Blood Diamond"
          ],
          [
           "The Wolf of Wall Street"
          ],
          [
           "Batman Forever"
          ],
          [
           "Starship Troopers"
          ],
          [
           "Cloud Atlas"
          ],
          [
           "Legend of the Guardians: The Owls of Ga'Hoole"
          ],
          [
           "Catwoman"
          ],
          [
           "Hercules"
          ],
          [
           "Treasure Planet"
          ],
          [
           "Land of the Lost"
          ],
          [
           "The Expendables 3"
          ],
          [
           "Point Break"
          ],
          [
           "In the Heart of the Sea"
          ],
          [
           "The Adventures of Pluto Nash"
          ],
          [
           "Green Zone"
          ],
          [
           "The Peanuts Movie"
          ],
          [
           "The Spanish Prisoner"
          ],
          [
           "The Mummy Returns"
          ],
          [
           "Gangs of New York"
          ],
          [
           "The Flowers of War"
          ],
          [
           "Surf's Up"
          ],
          [
           "The Stepford Wives"
          ],
          [
           "Black Hawk Down"
          ],
          [
           "The Fifth Element"
          ],
          [
           "Sex and the City 2"
          ],
          [
           "The Road to El Dorado"
          ],
          [
           "Ice Age: Continental Drift"
          ],
          [
           "Cinderella"
          ],
          [
           "The Lovely Bones"
          ],
          [
           "Finding Nemo"
          ],
          [
           "The Lord of the Rings: The Return of the King"
          ],
          [
           "The Lord of the Rings: The Two Towers"
          ],
          [
           "Seventh Son"
          ],
          [
           "Lara Croft: Tomb Raider"
          ],
          [
           "Transcendence"
          ],
          [
           "Jurassic Park III"
          ],
          [
           "Rise of the Planet of the Apes"
          ],
          [
           "The Spiderwick Chronicles"
          ],
          [
           "A Good Day to Die Hard"
          ],
          [
           "The Alamo"
          ],
          [
           "The Incredibles"
          ],
          [
           "Cutthroat Island"
          ],
          [
           "Percy Jackson & the Olympians: The Lightning Thief"
          ],
          [
           "Men in Black"
          ],
          [
           "Toy Story 2"
          ],
          [
           "Unstoppable"
          ],
          [
           "Rush Hour 2"
          ],
          [
           "What Lies Beneath"
          ],
          [
           "Cloudy with a Chance of Meatballs"
          ],
          [
           "Ice Age: Dawn of the Dinosaurs"
          ],
          [
           "The Secret Life of Walter Mitty"
          ],
          [
           "Charlie's Angels"
          ],
          [
           "The Departed"
          ],
          [
           "Mulan"
          ],
          [
           "Tropic Thunder"
          ],
          [
           "The Girl with the Dragon Tattoo"
          ],
          [
           "Die Hard: With a Vengeance"
          ],
          [
           "Sherlock Holmes"
          ],
          [
           "Ben-Hur"
          ],
          [
           "Atlantis: The Lost Empire"
          ],
          [
           "Valkyrie"
          ],
          [
           "You Don't Mess with the Zohan"
          ],
          [
           "Pixels"
          ],
          [
           "A.I. Artificial Intelligence"
          ],
          [
           "The Haunted Mansion"
          ],
          [
           "Contact"
          ],
          [
           "Hollow Man"
          ],
          [
           "The Interpreter"
          ],
          [
           "Percy Jackson: Sea of Monsters"
          ],
          [
           "Lara Croft Tomb Raider: The Cradle of Life"
          ],
          [
           "Now You See Me 2"
          ],
          [
           "The Saint"
          ],
          [
           "Spy Game"
          ],
          [
           "Mission to Mars"
          ],
          [
           "Rio"
          ],
          [
           "Bicentennial Man"
          ],
          [
           "The Devil's Own"
          ],
          [
           "K-19: The Widowmaker"
          ],
          [
           "Conan the Barbarian"
          ],
          [
           "Cinderella Man"
          ],
          [
           "The Nutcracker: The Untold Story"
          ],
          [
           "Seabiscuit"
          ],
          [
           "Twister"
          ],
          [
           "Cast Away"
          ],
          [
           "Happy Feet"
          ],
          [
           "The Bourne Supremacy"
          ],
          [
           "Air Force One"
          ],
          [
           "Ocean's Eleven"
          ],
          [
           "The Three Musketeers"
          ],
          [
           "Hotel Transylvania"
          ],
          [
           "Enchanted"
          ],
          [
           "Safe House"
          ],
          [
           "102 Dalmatians"
          ],
          [
           "Tower Heist"
          ],
          [
           "The Holiday"
          ],
          [
           "Enemy of the State"
          ],
          [
           "It's Complicated"
          ],
          [
           "Ocean's Thirteen"
          ],
          [
           "Open Season"
          ],
          [
           "Divergent"
          ],
          [
           "Enemy at the Gates"
          ],
          [
           "The Rundown"
          ],
          [
           "Last Action Hero"
          ],
          [
           "Memoirs of a Geisha"
          ],
          [
           "The Fast and the Furious: Tokyo Drift"
          ],
          [
           "Meet Joe Black"
          ],
          [
           "Collateral Damage"
          ],
          [
           "Mirror Mirror"
          ],
          [
           "Scott Pilgrim vs. the World"
          ],
          [
           "The Core"
          ],
          [
           "Nutty Professor II: The Klumps"
          ],
          [
           "Scooby-Doo"
          ],
          [
           "Dredd"
          ],
          [
           "Click"
          ],
          [
           "Creepshow"
          ],
          [
           "Cats & Dogs 2 : The Revenge of Kitty Galore"
          ],
          [
           "Jumper"
          ],
          [
           "Hellboy II: The Golden Army"
          ],
          [
           "Zodiac"
          ],
          [
           "The 6th Day"
          ],
          [
           "Bruce Almighty"
          ],
          [
           "The Expendables"
          ],
          [
           "Mission: Impossible"
          ],
          [
           "The Hunger Games"
          ],
          [
           "The Hangover Part II"
          ],
          [
           "Batman Returns"
          ],
          [
           "Over the Hedge"
          ],
          [
           "Lilo & Stitch"
          ],
          [
           "Charlotte's Web"
          ],
          [
           "Deep Impact"
          ],
          [
           "The Longest Yard"
          ],
          [
           "Alvin and the Chipmunks: Chipwrecked"
          ],
          [
           "Grown Ups 2"
          ],
          [
           "Get Smart"
          ],
          [
           "Something's Gotta Give"
          ],
          [
           "Shutter Island"
          ],
          [
           "Four Christmases"
          ],
          [
           "Robots"
          ],
          [
           "Face/Off"
          ],
          [
           "Bedtime Stories"
          ],
          [
           "Road to Perdition"
          ],
          [
           "Just Go with It"
          ],
          [
           "Con Air"
          ],
          [
           "Eagle Eye"
          ],
          [
           "Cold Mountain"
          ],
          [
           "The Book of Eli"
          ],
          [
           "Flubber"
          ],
          [
           "The Haunting"
          ],
          [
           "Space Jam"
          ],
          [
           "The Day the Earth Stood Still"
          ],
          [
           "Conspiracy Theory"
          ],
          [
           "Fury"
          ],
          [
           "Six Days Seven Nights"
          ],
          [
           "Yogi Bear"
          ],
          [
           "Spirit: Stallion of the Cimarron"
          ],
          [
           "Zookeeper"
          ],
          [
           "Lost in Space"
          ],
          [
           "The Manchurian Candidate"
          ],
          [
           "Hotel Transylvania 2"
          ],
          [
           "Fantasia 2000"
          ],
          [
           "The Time Machine"
          ],
          [
           "Swordfish"
          ],
          [
           "The Legend of Zorro"
          ],
          [
           "What Dreams May Come"
          ],
          [
           "The Brothers Grimm"
          ],
          [
           "Mars Attacks!"
          ],
          [
           "Surrogates"
          ],
          [
           "Thirteen Days"
          ],
          [
           "Daylight"
          ],
          [
           "Walking With Dinosaurs"
          ],
          [
           "Battlefield Earth"
          ],
          [
           "Looney Tunes: Back in Action"
          ],
          [
           "Nine"
          ],
          [
           "Timeline"
          ],
          [
           "The Postman"
          ],
          [
           "Babe: Pig in the City"
          ],
          [
           "The Last Witch Hunter"
          ],
          [
           "Red Planet"
          ],
          [
           "Arthur and the Invisibles"
          ],
          [
           "A Sound of Thunder"
          ],
          [
           "Pompeii"
          ],
          [
           "A Beautiful Mind"
          ],
          [
           "The Lion King"
          ],
          [
           "Journey 2: The Mysterious Island"
          ],
          [
           "Cloudy with a Chance of Meatballs 2"
          ],
          [
           "Red Dragon"
          ],
          [
           "Hidalgo"
          ],
          [
           "Jack and Jill"
          ],
          [
           "2 Fast 2 Furious"
          ],
          [
           "The Little Prince"
          ],
          [
           "The Invasion"
          ],
          [
           "The Adventures of Rocky & Bullwinkle"
          ],
          [
           "The Secret Life of Pets"
          ],
          [
           "The League of Extraordinary Gentlemen"
          ],
          [
           "Despicable Me 2"
          ],
          [
           "Independence Day"
          ],
          [
           "The Lost World: Jurassic Park"
          ],
          [
           "Madagascar"
          ],
          [
           "Children of Men"
          ],
          [
           "X-Men"
          ],
          [
           "Wanted"
          ],
          [
           "The Rock"
          ],
          [
           "Ice Age: The Meltdown"
          ],
          [
           "50 First Dates"
          ],
          [
           "Hairspray"
          ],
          [
           "Exorcist: The Beginning"
          ],
          [
           "Now You See Me"
          ],
          [
           "Grown Ups"
          ],
          [
           "The Terminal"
          ],
          [
           "Hotel for Dogs"
          ],
          [
           "Vertical Limit"
          ],
          [
           "Charlie Wilson's War"
          ],
          [
           "Shark Tale"
          ],
          [
           "Dreamgirls"
          ],
          [
           "Be Cool"
          ],
          [
           "Munich"
          ],
          [
           "Tears of the Sun"
          ],
          [
           "Killers"
          ],
          [
           "The Man from U.N.C.L.E."
          ],
          [
           "Spanglish"
          ],
          [
           "Monster House"
          ],
          [
           "Bandits"
          ],
          [
           "First Knight"
          ],
          [
           "Immortals"
          ],
          [
           "Hostage"
          ],
          [
           "Titan A.E."
          ],
          [
           "Hollywood Homicide"
          ],
          [
           "Soldier"
          ],
          [
           "Monkeybone"
          ],
          [
           "Flight of the Phoenix"
          ],
          [
           "Unbreakable"
          ],
          [
           "Minions"
          ],
          [
           "Sucker Punch"
          ],
          [
           "Snake Eyes"
          ],
          [
           "Sphere"
          ],
          [
           "The Angry Birds Movie"
          ],
          [
           "Fool's Gold"
          ],
          [
           "Funny People"
          ],
          [
           "The Kingdom"
          ],
          [
           "Talladega Nights: The Ballad of Ricky Bobby"
          ],
          [
           "Dr. Dolittle 2"
          ],
          [
           "Braveheart"
          ],
          [
           "Jarhead"
          ],
          [
           "The Simpsons Movie"
          ],
          [
           "The Majestic"
          ],
          [
           "Driven"
          ],
          [
           "Two Brothers"
          ],
          [
           "The Village"
          ],
          [
           "Doctor Dolittle"
          ],
          [
           "Signs"
          ],
          [
           "Shrek 2"
          ],
          [
           "Cars"
          ],
          [
           "Runaway Bride"
          ],
          [
           "xXx"
          ],
          [
           "The SpongeBob Movie: Sponge Out of Water"
          ],
          [
           "Ransom"
          ],
          [
           "Inglourious Basterds"
          ],
          [
           "Hook"
          ],
          [
           "Die Hard 2"
          ],
          [
           "S.W.A.T."
          ],
          [
           "Vanilla Sky"
          ],
          [
           "Lady in the Water"
          ],
          [
           "AVP: Alien vs. Predator"
          ],
          [
           "Alvin and the Chipmunks: The Squeakquel"
          ],
          [
           "We Were Soldiers"
          ],
          [
           "Olympus Has Fallen"
          ],
          [
           "Star Trek: Insurrection"
          ],
          [
           "Battle: Los Angeles"
          ],
          [
           "Big Fish"
          ],
          [
           "War Horse"
          ],
          [
           "The Monuments Men"
          ],
          [
           "The Abyss"
          ],
          [
           "Wall Street: Money Never Sleeps"
          ],
          [
           "Dracula Untold"
          ],
          [
           "The Siege"
          ],
          [
           "Stardust"
          ],
          [
           "Seven Years in Tibet"
          ],
          [
           "The Dilemma"
          ],
          [
           "Bad Company"
          ],
          [
           "Doom"
          ],
          [
           "I Spy"
          ],
          [
           "Underworld: Awakening"
          ],
          [
           "Rock of Ages"
          ],
          [
           "Hart's War"
          ],
          [
           "Killer Elite"
          ],
          [
           "Ballistic: Ecks vs. Sever"
          ],
          [
           "Hard Rain"
          ],
          [
           "Osmosis Jones"
          ],
          [
           "Legends of Oz: Dorothy's Return"
          ],
          [
           "Blackhat"
          ],
          [
           "Sky Captain and the World of Tomorrow"
          ],
          [
           "Basic Instinct 2"
          ],
          [
           "Escape Plan"
          ],
          [
           "The Legend of Hercules"
          ],
          [
           "The Sum of All Fears"
          ],
          [
           "The Twilight Saga: Eclipse"
          ],
          [
           "The Score"
          ],
          [
           "Despicable Me"
          ],
          [
           "Money Train"
          ],
          [
           "Ted 2"
          ],
          [
           "Agora"
          ],
          [
           "Mystery Men"
          ],
          [
           "Hall Pass"
          ],
          [
           "The Insider"
          ],
          [
           "The Finest Hours"
          ],
          [
           "Body of Lies"
          ],
          [
           "Dinner for Schmucks"
          ],
          [
           "Abraham Lincoln: Vampire Hunter"
          ],
          [
           "Entrapment"
          ],
          [
           "The X Files"
          ],
          [
           "The Last Legion"
          ],
          [
           "Saving Private Ryan"
          ],
          [
           "Need for Speed"
          ],
          [
           "What Women Want"
          ],
          [
           "Ice Age"
          ],
          [
           "Dreamcatcher"
          ],
          [
           "Lincoln"
          ],
          [
           "The Matrix"
          ],
          [
           "Apollo 13"
          ],
          [
           "The Santa Clause 2"
          ],
          [
           "Les Misérables"
          ],
          [
           "You've Got Mail"
          ],
          [
           "Step Brothers"
          ],
          [
           "The Mask of Zorro"
          ],
          [
           "Due Date"
          ],
          [
           "Unbroken"
          ],
          [
           "Space Cowboys"
          ],
          [
           "Cliffhanger"
          ],
          [
           "Broken Arrow"
          ],
          [
           "The Kid"
          ],
          [
           "World Trade Center"
          ],
          [
           "The Dictator"
          ],
          [
           "Eyes Wide Shut"
          ],
          [
           "Annie"
          ],
          [
           "Focus"
          ],
          [
           "This Means War"
          ],
          [
           "Blade: Trinity"
          ],
          [
           "Red Dawn"
          ],
          [
           "Resident Evil: Retribution"
          ],
          [
           "Death Race"
          ],
          [
           "The Long Kiss Goodnight"
          ],
          [
           "Zathura: A Space Adventure"
          ],
          [
           "Fight Club"
          ],
          [
           "We Are Marshall"
          ],
          [
           "Hudson Hawk"
          ],
          [
           "I, Frankenstein"
          ],
          [
           "Oliver Twist"
          ],
          [
           "Elektra"
          ],
          [
           "Sin City: A Dame to Kill For"
          ],
          [
           "Random Hearts"
          ],
          [
           "Everest"
          ],
          [
           "Perfume: The Story of a Murderer"
          ],
          [
           "Austin Powers in Goldmember"
          ],
          [
           "Astro Boy"
          ],
          [
           "Jurassic Park"
          ],
          [
           "Wyatt Earp"
          ],
          [
           "Clear and Present Danger"
          ],
          [
           "Dragon Blade"
          ],
          [
           "Little Man"
          ],
          [
           "U-571"
          ],
          [
           "The American President"
          ],
          [
           "The Love Guru"
          ],
          [
           "3000 Miles to Graceland"
          ],
          [
           "The Hateful Eight"
          ],
          [
           "Hop"
          ],
          [
           "300"
          ],
          [
           "Meet the Fockers"
          ],
          [
           "Marley & Me"
          ],
          [
           "The Green Mile"
          ],
          [
           "Chicken Little"
          ],
          [
           "Gone Girl"
          ],
          [
           "The Bourne Identity"
          ],
          [
           "GoldenEye"
          ],
          [
           "The General's Daughter"
          ],
          [
           "The Truman Show"
          ],
          [
           "The Prince of Egypt"
          ],
          [
           "Daddy Day Care"
          ],
          [
           "2 Guns"
          ],
          [
           "Cats & Dogs"
          ],
          [
           "The Italian Job"
          ],
          [
           "Two Weeks Notice"
          ],
          [
           "Antz"
          ],
          [
           "Couples Retreat"
          ],
          [
           "Days of Thunder"
          ],
          [
           "Cheaper by the Dozen 2"
          ],
          [
           "Maze Runner: The Scorch Trials"
          ],
          [
           "Eat Pray Love"
          ],
          [
           "RED"
          ],
          [
           "Any Given Sunday"
          ],
          [
           "The Horse Whisperer"
          ],
          [
           "Collateral"
          ],
          [
           "The Scorpion King"
          ],
          [
           "Ladder 49"
          ],
          [
           "Jack Reacher"
          ],
          [
           "Deep Blue Sea"
          ],
          [
           "Contagion"
          ],
          [
           "Coraline"
          ],
          [
           "The Happening"
          ],
          [
           "Man on Fire"
          ],
          [
           "The Shaggy Dog"
          ],
          [
           "Starsky & Hutch"
          ],
          [
           "Jingle All the Way"
          ],
          [
           "Hellboy"
          ],
          [
           "A Civil Action"
          ],
          [
           "ParaNorman"
          ],
          [
           "The Jackal"
          ],
          [
           "Paycheck"
          ],
          [
           "The Tale of Despereaux"
          ],
          [
           "Under Siege 2: Dark Territory"
          ],
          [
           "Jack Ryan: Shadow Recruit"
          ],
          [
           "Joy"
          ],
          [
           "London Has Fallen"
          ],
          [
           "Alien: Resurrection"
          ],
          [
           "Shooter"
          ],
          [
           "The Boxtrolls"
          ],
          [
           "Practical Magic"
          ],
          [
           "The Lego Movie"
          ],
          [
           "Reign of Fire"
          ],
          [
           "Gangster Squad"
          ],
          [
           "Year One"
          ],
          [
           "Invictus"
          ],
          [
           "State of Play"
          ],
          [
           "Duplicity"
          ],
          [
           "My Favorite Martian"
          ],
          [
           "The Sentinel"
          ],
          [
           "Planet 51"
          ],
          [
           "Star Trek: Nemesis"
          ],
          [
           "Intolerable Cruelty"
          ],
          [
           "Edge of Darkness"
          ],
          [
           "The Relic"
          ],
          [
           "Analyze That"
          ],
          [
           "Righteous Kill"
          ],
          [
           "The Soloist"
          ],
          [
           "The Legend of Bagger Vance"
          ],
          [
           "Almost Famous"
          ],
          [
           "xXx: State of the Union"
          ],
          [
           "Priest"
          ],
          [
           "Sinbad: Legend of the Seven Seas"
          ],
          [
           "Event Horizon"
          ],
          [
           "Dragonfly"
          ],
          [
           "The Black Dahlia"
          ],
          [
           "Flyboys"
          ],
          [
           "The Last Castle"
          ],
          [
           "Supernova"
          ],
          [
           "Winter's Tale"
          ],
          [
           "The Mortal Instruments: City of Bones"
          ],
          [
           "Meet Dave"
          ],
          [
           "Dark Water"
          ],
          [
           "Inkheart"
          ],
          [
           "The Spirit"
          ],
          [
           "Mortdecai"
          ],
          [
           "The Monkey King 2"
          ],
          [
           "The Great Raid"
          ],
          [
           "Deadpool"
          ],
          [
           "American Sniper"
          ],
          [
           "Goosebumps"
          ],
          [
           "Just Like Heaven"
          ],
          [
           "The Flintstones in Viva Rock Vegas"
          ],
          [
           "Rambo III"
          ],
          [
           "Leatherheads"
          ],
          [
           "Did You Hear About the Morgans?"
          ],
          [
           "The Internship"
          ],
          [
           "Resident Evil: Afterlife"
          ],
          [
           "Red Tails"
          ],
          [
           "The Devil's Advocate"
          ],
          [
           "That's My Boy"
          ],
          [
           "DragonHeart"
          ],
          [
           "After the Sunset"
          ],
          [
           "Ghost Rider: Spirit of Vengeance"
          ],
          [
           "Captain Corelli's Mandolin"
          ],
          [
           "The Pacifier"
          ],
          [
           "Walking Tall"
          ],
          [
           "Forrest Gump"
          ],
          [
           "Alvin and the Chipmunks"
          ],
          [
           "Meet the Parents"
          ],
          [
           "Pocahontas"
          ],
          [
           "Superman"
          ],
          [
           "The Nutty Professor"
          ],
          [
           "Hitch"
          ],
          [
           "American Wedding"
          ],
          [
           "Captain Phillips"
          ],
          [
           "Date Night"
          ],
          [
           "Casper"
          ],
          [
           "The Equalizer"
          ],
          [
           "Maid in Manhattan"
          ],
          [
           "Crimson Tide"
          ],
          [
           "The Pursuit of Happyness"
          ],
          [
           "Flightplan"
          ],
          [
           "Disclosure"
          ],
          [
           "City of Angels"
          ],
          [
           "Kill Bill: Vol. 1"
          ],
          [
           "Kill Bill: Vol. 2"
          ],
          [
           "Tango & Cash"
          ],
          [
           "Death Becomes Her"
          ],
          [
           "Shanghai Noon"
          ],
          [
           "Executive Decision"
          ],
          [
           "Mr. Popper's Penguins"
          ],
          [
           "The Forbidden Kingdom"
          ],
          [
           "Free Birds"
          ],
          [
           "Alien³"
          ],
          [
           "Evita"
          ],
          [
           "Ronin"
          ],
          [
           "The Ghost and the Darkness"
          ],
          [
           "Paddington"
          ],
          [
           "The Watch"
          ],
          [
           "The Hunted"
          ],
          [
           "Stuck on You"
          ],
          [
           "The Pirates! In an Adventure with Scientists!"
          ],
          [
           "Changeling"
          ],
          [
           "Chain Reaction"
          ],
          [
           "The Fan"
          ],
          [
           "The Phantom of the Opera"
          ],
          [
           "Elizabeth: The Golden Age"
          ],
          [
           "Æon Flux"
          ],
          [
           "Gods and Generals"
          ],
          [
           "Turbulence"
          ],
          [
           "Muppets Most Wanted"
          ],
          [
           "Thunderbirds"
          ],
          [
           "Burlesque"
          ],
          [
           "Lolita"
          ],
          [
           "D-Tox"
          ],
          [
           "Blade II"
          ],
          [
           "Seven Pounds"
          ],
          [
           "Bullet to the Head"
          ],
          [
           "The Godfather: Part III"
          ],
          [
           "Elizabethtown"
          ],
          [
           "You, Me and Dupree"
          ],
          [
           "Superman II"
          ],
          [
           "Gigli"
          ],
          [
           "All the King's Men"
          ],
          [
           "Shaft"
          ],
          [
           "Anastasia"
          ],
          [
           "Moulin Rouge!"
          ],
          [
           "Domestic Disturbance"
          ],
          [
           "Black Mass"
          ],
          [
           "Flags of Our Fathers"
          ],
          [
           "Law Abiding Citizen"
          ],
          [
           "Grindhouse"
          ],
          [
           "Catch Me If You Can"
          ],
          [
           "Zero Dark Thirty"
          ],
          [
           "The Break-Up"
          ],
          [
           "Mamma Mia!"
          ],
          [
           "Valentine's Day"
          ],
          [
           "The Dukes of Hazzard"
          ],
          [
           "The Thin Red Line"
          ],
          [
           "The Change-Up"
          ],
          [
           "Man on the Moon"
          ],
          [
           "Casino"
          ],
          [
           "From Paris with Love"
          ],
          [
           "Me, Myself & Irene"
          ],
          [
           "Barnyard"
          ],
          [
           "The Twilight Saga: New Moon"
          ],
          [
           "Shrek"
          ],
          [
           "The Adjustment Bureau"
          ],
          [
           "Robin Hood: Prince of Thieves"
          ],
          [
           "Jerry Maguire"
          ],
          [
           "Ted"
          ],
          [
           "As Good as It Gets"
          ],
          [
           "Patch Adams"
          ],
          [
           "Anchorman 2: The Legend Continues"
          ],
          [
           "Mr. Deeds"
          ],
          [
           "Super 8"
          ],
          [
           "Erin Brockovich"
          ],
          [
           "How to Lose a Guy in 10 Days"
          ],
          [
           "22 Jump Street"
          ],
          [
           "Interview with the Vampire"
          ],
          [
           "Yes Man"
          ],
          [
           "Central Intelligence"
          ],
          [
           "Daddy's Home"
          ],
          [
           "Into the Woods"
          ],
          [
           "Inside Man"
          ],
          [
           "Payback"
          ],
          [
           "Congo"
          ],
          [
           "We Bought a Zoo"
          ],
          [
           "Knowing"
          ],
          [
           "Failure to Launch"
          ],
          [
           "The Ring Two"
          ],
          [
           "Crazy, Stupid, Love."
          ],
          [
           "Garfield"
          ],
          [
           "Moneyball"
          ],
          [
           "Outbreak"
          ],
          [
           "Non-Stop"
          ],
          [
           "Race to Witch Mountain"
          ],
          [
           "V for Vendetta"
          ],
          [
           "Shanghai Knights"
          ],
          [
           "Curious George"
          ],
          [
           "Herbie Fully Loaded"
          ],
          [
           "Don't Say a Word"
          ],
          [
           "Hansel & Gretel: Witch Hunters"
          ],
          [
           "Unfaithful"
          ],
          [
           "I Am Number Four"
          ],
          [
           "Syriana"
          ],
          [
           "13 Hours: The Secret Soldiers of Benghazi"
          ],
          [
           "The Book of Life"
          ],
          [
           "Firewall"
          ],
          [
           "Absolute Power"
          ],
          [
           "G.I. Jane"
          ],
          [
           "The Game"
          ],
          [
           "Silent Hill"
          ],
          [
           "American Reunion"
          ],
          [
           "The Negotiator"
          ],
          [
           "Into the Storm"
          ],
          [
           "Beverly Hills Cop III"
          ],
          [
           "Gremlins 2: The New Batch"
          ],
          [
           "The Judge"
          ],
          [
           "Resident Evil: Apocalypse"
          ],
          [
           "Bridget Jones: The Edge of Reason"
          ],
          [
           "Out of Time"
          ],
          [
           "On Deadly Ground"
          ],
          [
           "The Adventures of Sharkboy and Lavagirl"
          ],
          [
           "The Beach"
          ],
          [
           "Raising Helen"
          ],
          [
           "Ninja Assassin"
          ],
          [
           "Striptease"
          ],
          [
           "Marmaduke"
          ],
          [
           "Hereafter"
          ],
          [
           "Murder by Numbers"
          ],
          [
           "Assassins"
          ],
          [
           "Hannibal Rising"
          ],
          [
           "The Story of Us"
          ],
          [
           "The Host"
          ],
          [
           "Basic"
          ],
          [
           "Blood Work"
          ],
          [
           "The International"
          ],
          [
           "Escape from L.A."
          ],
          [
           "The Iron Giant"
          ],
          [
           "The Life Aquatic with Steve Zissou"
          ],
          [
           "Free State of Jones"
          ],
          [
           "The Life of David Gale"
          ],
          [
           "Run All Night"
          ],
          [
           "Eastern Promises"
          ],
          [
           "Into the Blue"
          ],
          [
           "The Messenger: The Story of Joan of Arc"
          ],
          [
           "Your Highness"
          ],
          [
           "Dream House"
          ],
          [
           "Mad City"
          ],
          [
           "Baby's Day Out"
          ],
          [
           "The Scarlet Letter"
          ],
          [
           "Fair Game"
          ],
          [
           "Domino"
          ],
          [
           "Jade"
          ],
          [
           "Gamer"
          ],
          [
           "Beautiful Creatures"
          ],
          [
           "Zoolander 2"
          ],
          [
           "The Big Bounce"
          ],
          [
           "Drive Angry"
          ],
          [
           "Street Fighter: The Legend of Chun-Li"
          ],
          [
           "The One"
          ],
          [
           "The Adventures of Ford Fairlane"
          ],
          [
           "The Boat That Rocked"
          ],
          [
           "Traffic"
          ],
          [
           "Indiana Jones and the Last Crusade"
          ],
          [
           "Chappie"
          ],
          [
           "The Bone Collector"
          ],
          [
           "Panic Room"
          ],
          [
           "Three Kings"
          ],
          [
           "Child 44"
          ],
          [
           "Rat Race"
          ],
          [
           "K-PAX"
          ],
          [
           "Bedazzled"
          ],
          [
           "The Cotton Club"
          ],
          [
           "3:10 to Yuma"
          ],
          [
           "Taken 3"
          ],
          [
           "Out of Sight"
          ],
          [
           "The Cable Guy"
          ],
          [
           "Dick Tracy"
          ],
          [
           "The Thomas Crown Affair"
          ],
          [
           "Riding in Cars with Boys"
          ],
          [
           "First Blood"
          ],
          [
           "Happily N'Ever After"
          ],
          [
           "Mary Reilly"
          ],
          [
           "My Best Friend's Wedding"
          ],
          [
           "Insomnia"
          ],
          [
           "Star Trek: First Contact"
          ],
          [
           "Jonah Hex"
          ],
          [
           "Courage Under Fire"
          ],
          [
           "Liar Liar"
          ],
          [
           "The Infiltrator"
          ],
          [
           "Inchon"
          ],
          [
           "The Flintstones"
          ],
          [
           "Taken 2"
          ],
          [
           "Scary Movie 3"
          ],
          [
           "Miss Congeniality"
          ],
          [
           "Journey to the Center of the Earth"
          ],
          [
           "The Princess Diaries 2: Royal Engagement"
          ],
          [
           "The Pelican Brief"
          ],
          [
           "The Client"
          ],
          [
           "The Bucket List"
          ],
          [
           "Patriot Games"
          ],
          [
           "Monster-in-Law"
          ],
          [
           "Prisoners"
          ],
          [
           "Training Day"
          ],
          [
           "Galaxy Quest"
          ],
          [
           "Scary Movie 2"
          ],
          [
           "The Muppets"
          ],
          [
           "Blade"
          ],
          [
           "Coach Carter"
          ],
          [
           "Changing Lanes"
          ],
          [
           "Anaconda"
          ],
          [
           "Coyote Ugly"
          ],
          [
           "Love Actually"
          ],
          [
           "A Bug's Life"
          ],
          [
           "From Hell"
          ],
          [
           "The Specialist"
          ],
          [
           "Tin Cup"
          ],
          [
           "Kicking & Screaming"
          ],
          [
           "The Hitchhiker's Guide to the Galaxy"
          ],
          [
           "Resident Evil: Extinction"
          ],
          [
           "Blended"
          ],
          [
           "Last Holiday"
          ],
          [
           "Savages"
          ],
          [
           "Cellular"
          ],
          [
           "Johnny English"
          ],
          [
           "The Ant Bully"
          ],
          [
           "Dune"
          ],
          [
           "Revolutionary Road"
          ],
          [
           "16 Blocks"
          ],
          [
           "Babylon A.D."
          ],
          [
           "Aliens in the Attic"
          ],
          [
           "The Pledge"
          ],
          [
           "The Producers"
          ],
          [
           "The Phantom"
          ],
          [
           "Nixon"
          ],
          [
           "The Ghost Writer"
          ],
          [
           "Deep Rising"
          ],
          [
           "Miracle at St. Anna"
          ],
          [
           "Bangkok Dangerous"
          ],
          [
           "Big Trouble"
          ],
          [
           "Love in the Time of Cholera"
          ],
          [
           "Shadow Conspiracy"
          ],
          [
           "Johnny English Reborn"
          ],
          [
           "Foodfight!"
          ],
          [
           "Argo"
          ],
          [
           "The Fugitive"
          ],
          [
           "The Bounty Hunter"
          ],
          [
           "Sleepers"
          ],
          [
           "Rambo: First Blood Part II"
          ],
          [
           "Pinocchio"
          ],
          [
           "Heaven's Gate"
          ],
          [
           "Underworld: Evolution"
          ],
          [
           "Victor Frankenstein"
          ],
          [
           "Finding Forrester"
          ],
          [
           "Unleashed"
          ],
          [
           "The Sweetest Thing"
          ],
          [
           "The Firm"
          ],
          [
           "Charlie St. Cloud"
          ],
          [
           "The Mechanic"
          ],
          [
           "21 Jump Street"
          ],
          [
           "Notting Hill"
          ],
          [
           "Chicken Run"
          ],
          [
           "Along Came Polly"
          ],
          [
           "Boomerang"
          ],
          [
           "The Heat"
          ],
          [
           "Cleopatra"
          ],
          [
           "High Crimes"
          ],
          [
           "The Mothman Prophecies"
          ],
          [
           "Licence to Kill"
          ],
          [
           "Red Riding Hood"
          ],
          [
           "15 Minutes"
          ],
          [
           "Super Mario Bros."
          ],
          [
           "Lord of War"
          ],
          [
           "Hero"
          ],
          [
           "One for the Money"
          ],
          [
           "The Interview"
          ],
          [
           "The Warrior's Way"
          ],
          [
           "Micmacs"
          ],
          [
           "8 Mile"
          ],
          [
           "A Knight's Tale"
          ],
          [
           "The Sixth Sense"
          ],
          [
           "Man on a Ledge"
          ],
          [
           "The Big Year"
          ],
          [
           "The Karate Kid"
          ],
          [
           "American Hustle"
          ],
          [
           "The Proposal"
          ],
          [
           "Double Jeopardy"
          ],
          [
           "Back to the Future Part II"
          ],
          [
           "Lucy"
          ],
          [
           "Fifty Shades of Grey"
          ],
          [
           "Spy Kids 3-D: Game Over"
          ],
          [
           "A Time to Kill"
          ],
          [
           "Cheaper by the Dozen"
          ],
          [
           "Lone Survivor"
          ],
          [
           "A League of Their Own"
          ],
          [
           "The Conjuring 2"
          ],
          [
           "The Social Network"
          ],
          [
           "He's Just Not That Into You"
          ],
          [
           "Scary Movie 4"
          ],
          [
           "Scream 3"
          ],
          [
           "Back to the Future Part III"
          ],
          [
           "Get Hard"
          ],
          [
           "Dracula"
          ],
          [
           "Julie & Julia"
          ],
          [
           "42"
          ],
          [
           "The Talented Mr. Ripley"
          ],
          [
           "Dumb and Dumber To"
          ],
          [
           "Eight Below"
          ],
          [
           "The Intern"
          ],
          [
           "Ride Along 2"
          ],
          [
           "The Last of the Mohicans"
          ],
          [
           "Ray"
          ],
          [
           "Sin City"
          ],
          [
           "Vantage Point"
          ],
          [
           "I Love You, Man"
          ],
          [
           "Shallow Hal"
          ],
          [
           "JFK"
          ],
          [
           "Big Momma's House 2"
          ],
          [
           "The Mexican"
          ],
          [
           "17 Again"
          ],
          [
           "The Other Woman"
          ],
          [
           "The Final Destination"
          ],
          [
           "Bridge of Spies"
          ],
          [
           "Behind Enemy Lines"
          ],
          [
           "Get Him to the Greek"
          ],
          [
           "Shall We Dance?"
          ],
          [
           "Small Soldiers"
          ],
          [
           "Spawn"
          ],
          [
           "The Count of Monte Cristo"
          ],
          [
           "The Lincoln Lawyer"
          ],
          [
           "Unknown"
          ],
          [
           "The Prestige"
          ],
          [
           "Horrible Bosses 2"
          ],
          [
           "Escape from Planet Earth"
          ],
          [
           "Apocalypto"
          ],
          [
           "The Living Daylights"
          ],
          [
           "Predators"
          ],
          [
           "Secret Window"
          ],
          [
           "The Lake House"
          ],
          [
           "The Skeleton Key"
          ],
          [
           "Made of Honor"
          ],
          [
           "Jersey Boys"
          ],
          [
           "The Rainmaker"
          ],
          [
           "Gothika"
          ],
          [
           "Amistad"
          ],
          [
           "Aliens vs Predator: Requiem"
          ],
          [
           "Music and Lyrics"
          ],
          [
           "Paul"
          ],
          [
           "The Guilt Trip"
          ],
          [
           "Scream 4"
          ],
          [
           "8MM"
          ],
          [
           "The Doors"
          ],
          [
           "Sex Tape"
          ],
          [
           "Hanging Up"
          ],
          [
           "Final Destination 5"
          ],
          [
           "Pay It Forward"
          ],
          [
           "Fever Pitch"
          ],
          [
           "The Shadow"
          ],
          [
           "Extremely Loud & Incredibly Close"
          ],
          [
           "Morning Glory"
          ],
          [
           "Get Rich or Die Tryin'"
          ],
          [
           "The Art of War"
          ],
          [
           "Rent"
          ],
          [
           "The Out-of-Towners"
          ],
          [
           "The Island of Dr. Moreau"
          ],
          [
           "The Musketeer"
          ],
          [
           "Sweet November"
          ],
          [
           "The Reaping"
          ],
          [
           "Mean Streets"
          ],
          [
           "Renaissance Man"
          ],
          [
           "Colombiana"
          ],
          [
           "Quest for Camelot"
          ],
          [
           "City By The Sea"
          ],
          [
           "Torque"
          ],
          [
           "Showgirls"
          ],
          [
           "Marie Antoinette"
          ],
          [
           "Get Carter"
          ],
          [
           "The Impossible"
          ],
          [
           "Ishtar"
          ],
          [
           "Fantastic Mr. Fox"
          ],
          [
           "Life or Something Like It"
          ],
          [
           "Memoirs of an Invisible Man"
          ],
          [
           "Amélie"
          ],
          [
           "Alfie"
          ],
          [
           "Big Miracle"
          ],
          [
           "The Deep End of the Ocean"
          ],
          [
           "FearDotCom"
          ],
          [
           "Cirque du Freak: The Vampire's Assistant"
          ],
          [
           "Duplex"
          ],
          [
           "Universal Soldier: The Return"
          ],
          [
           "Pandorum"
          ],
          [
           "Extreme Ops"
          ],
          [
           "Sunshine"
          ],
          [
           "A Thousand Words"
          ],
          [
           "The Gunman"
          ],
          [
           "Stormbreaker"
          ],
          [
           "Disturbia"
          ],
          [
           "Hackers"
          ],
          [
           "Snowpiercer"
          ],
          [
           "The Crow"
          ],
          [
           "Baahubali: The Beginning"
          ],
          [
           "The Time Traveler's Wife"
          ],
          [
           "Frankenweenie"
          ],
          [
           "Serenity"
          ],
          [
           "Against the Ropes"
          ],
          [
           "Superman III"
          ],
          [
           "Grudge Match"
          ],
          [
           "Red Cliff"
          ],
          [
           "Sweet Home Alabama"
          ],
          [
           "The Ugly Truth"
          ],
          [
           "Spy Kids 2: The Island of Lost Dreams"
          ],
          [
           "Star Trek: Generations"
          ],
          [
           "The Grandmaster"
          ],
          [
           "Water for Elephants"
          ],
          [
           "The Hurricane"
          ],
          [
           "Enough"
          ],
          [
           "Paul Blart: Mall Cop 2"
          ],
          [
           "Angel Eyes"
          ],
          [
           "The Ninth Gate"
          ],
          [
           "Extreme Measures"
          ],
          [
           "Rock Star"
          ],
          [
           "Precious"
          ],
          [
           "White Squall"
          ],
          [
           "The Thing"
          ],
          [
           "Riddick"
          ],
          [
           "Switchback"
          ],
          [
           "City of Ember"
          ],
          [
           "The Master"
          ],
          [
           "Virgin Territory"
          ],
          [
           "The Express"
          ],
          [
           "The 5th Wave"
          ],
          [
           "Creed"
          ],
          [
           "The Town"
          ],
          [
           "What to Expect When You're Expecting"
          ],
          [
           "Burn After Reading"
          ],
          [
           "Nim's Island"
          ],
          [
           "Rush"
          ],
          [
           "Magnolia"
          ],
          [
           "Cop Out"
          ],
          [
           "How to Be Single"
          ],
          [
           "Dolphin Tale"
          ],
          [
           "Twilight"
          ],
          [
           "John Q"
          ],
          [
           "Blue Streak"
          ],
          [
           "We're the Millers"
          ],
          [
           "The Inhabited Island"
          ],
          [
           "Breakdown"
          ],
          [
           "Never Say Never Again"
          ],
          [
           "Hot Tub Time Machine"
          ],
          [
           "Dolphin Tale 2"
          ],
          [
           "Reindeer Games"
          ],
          [
           "A Man Apart"
          ],
          [
           "Aloha"
          ],
          [
           "The Rite"
          ],
          [
           "Gattaca"
          ],
          [
           "Isn't She Great"
          ],
          [
           "Space Chimps"
          ],
          [
           "The Hangover"
          ],
          [
           "Ip Man 3"
          ],
          [
           "Austin Powers: The Spy Who Shagged Me"
          ],
          [
           "Batman"
          ],
          [
           "Lethal Weapon 3"
          ],
          [
           "The Blind Side"
          ],
          [
           "Spy Kids"
          ],
          [
           "Horrible Bosses"
          ],
          [
           "True Grit"
          ],
          [
           "The Devil Wears Prada"
          ],
          [
           "Star Trek: The Motion Picture"
          ],
          [
           "Identity Thief"
          ],
          [
           "Cape Fear"
          ],
          [
           "21"
          ],
          [
           "Trainwreck"
          ],
          [
           "Guess Who"
          ],
          [
           "The English Patient"
          ],
          [
           "L.A. Confidential"
          ],
          [
           "Sky High"
          ],
          [
           "Species"
          ],
          [
           "A Nightmare on Elm Street"
          ],
          [
           "The Cell"
          ],
          [
           "Secretariat"
          ],
          [
           "TMNT"
          ],
          [
           "Radio"
          ],
          [
           "Friends with Benefits"
          ],
          [
           "Neighbors 2: Sorority Rising"
          ],
          [
           "Saving Mr. Banks"
          ],
          [
           "Malcolm X"
          ],
          [
           "This Is 40"
          ],
          [
           "Old Dogs"
          ],
          [
           "Underworld: Rise of the Lycans"
          ],
          [
           "License to Wed"
          ],
          [
           "Must Love Dogs"
          ],
          [
           "Donnie Brasco"
          ],
          [
           "Resident Evil"
          ],
          [
           "Poltergeist"
          ],
          [
           "Max Payne"
          ],
          [
           "In Time"
          ],
          [
           "The Back-Up Plan"
          ],
          [
           "Something Borrowed"
          ],
          [
           "The Bad News Bears"
          ],
          [
           "Street Fighter"
          ],
          [
           "The Pianist"
          ],
          [
           "House of Wax"
          ],
          [
           "Closer"
          ],
          [
           "J. Edgar"
          ],
          [
           "Mirrors"
          ],
          [
           "Queen of the Damned"
          ],
          [
           "Predator 2"
          ],
          [
           "Untraceable"
          ],
          [
           "Blast from the Past"
          ],
          [
           "Flash Gordon"
          ],
          [
           "Jersey Girl"
          ],
          [
           "Alex Cross"
          ],
          [
           "Midnight in the Garden of Good and Evil"
          ],
          [
           "Heist"
          ],
          [
           "Nanny McPhee and the Big Bang"
          ],
          [
           "The X Files: I Want to Believe"
          ],
          [
           "Ella Enchanted"
          ],
          [
           "Concussion"
          ],
          [
           "Abduction"
          ],
          [
           "Valiant"
          ],
          [
           "Superhero Movie"
          ],
          [
           "Broken City"
          ],
          [
           "Cursed"
          ],
          [
           "Premium Rush"
          ],
          [
           "Hot Pursuit"
          ],
          [
           "The Four Feathers"
          ],
          [
           "Parker"
          ],
          [
           "Wimbledon"
          ],
          [
           "Furry Vengeance"
          ],
          [
           "Krull"
          ],
          [
           "Lions for Lambs"
          ],
          [
           "Walk Hard: The Dewey Cox Story"
          ],
          [
           "American Outlaws"
          ],
          [
           "The Young Victoria"
          ],
          [
           "Whiteout"
          ],
          [
           "The Tree of Life"
          ],
          [
           "Sabotage"
          ],
          [
           "The Order"
          ],
          [
           "Punisher: War Zone"
          ],
          [
           "Zoom"
          ],
          [
           "The Walk"
          ],
          [
           "A Good Year"
          ],
          [
           "Radio Flyer"
          ],
          [
           "Femme Fatale"
          ],
          [
           "The Horseman on the Roof"
          ],
          [
           "Ride with the Devil"
          ],
          [
           "Bandidas"
          ],
          [
           "The Maze Runner"
          ],
          [
           "Unfinished Business"
          ],
          [
           "The Age of Innocence"
          ],
          [
           "The Fountain"
          ],
          [
           "Chill Factor"
          ],
          [
           "Stolen"
          ],
          [
           "Ponyo"
          ],
          [
           "The Longest Ride"
          ],
          [
           "The Astronaut's Wife"
          ],
          [
           "Mandela: Long Walk to Freedom"
          ],
          [
           "Reds"
          ],
          [
           "A Few Good Men"
          ],
          [
           "Exit Wounds"
          ],
          [
           "Big Momma's House"
          ],
          [
           "The Darkest Hour"
          ],
          [
           "Step Up Revolution"
          ],
          [
           "Snakes on a Plane"
          ],
          [
           "The Punisher"
          ],
          [
           "Goal!: The Dream Begins"
          ],
          [
           "Safe"
          ],
          [
           "Return of the Jedi"
          ],
          [
           "Doomsday"
          ],
          [
           "The Reader"
          ],
          [
           "Wanderlust"
          ],
          [
           "Elf"
          ],
          [
           "Phenomenon"
          ],
          [
           "Nacho Libre"
          ],
          [
           "Bridesmaids"
          ],
          [
           "This Is the End"
          ],
          [
           "Stigmata"
          ],
          [
           "Men of Honor"
          ],
          [
           "Takers"
          ],
          [
           "The Big Wedding"
          ],
          [
           "Big Mommas: Like Father, Like Son"
          ],
          [
           "Source Code"
          ],
          [
           "Alive"
          ],
          [
           "The Number 23"
          ],
          [
           "The Young and Prodigious T.S. Spivet"
          ],
          [
           "1941"
          ],
          [
           "A History of Violence"
          ],
          [
           "Transporter 2"
          ],
          [
           "The Quick and the Dead"
          ],
          [
           "Laws of Attraction"
          ],
          [
           "Repo Men"
          ],
          [
           "Dragon Wars: D-War"
          ],
          [
           "The Incredible Burt Wonderstone"
          ],
          [
           "Cats Don't Dance"
          ],
          [
           "The Good German"
          ],
          [
           "Apocalypse Now"
          ],
          [
           "Going the Distance"
          ],
          [
           "Criminal"
          ],
          [
           "Out of Africa"
          ],
          [
           "Flight"
          ],
          [
           "Moonraker"
          ],
          [
           "The Grand Budapest Hotel"
          ],
          [
           "Hearts in Atlantis"
          ],
          [
           "Arachnophobia"
          ],
          [
           "Frequency"
          ],
          [
           "Vacation"
          ],
          [
           "Get Shorty"
          ],
          [
           "Chicago"
          ],
          [
           "Big Daddy"
          ],
          [
           "American Pie 2"
          ],
          [
           "Toy Story"
          ],
          [
           "Speed"
          ],
          [
           "The Vow"
          ],
          [
           "Extraordinary Measures"
          ],
          [
           "Remember the Titans"
          ],
          [
           "The Hunt for Red October"
          ],
          [
           "The Butler"
          ],
          [
           "DodgeBall: A True Underdog Story"
          ],
          [
           "The Addams Family"
          ],
          [
           "Ace Ventura: When Nature Calls"
          ],
          [
           "The Princess Diaries"
          ],
          [
           "The First Wives Club"
          ],
          [
           "Se7en"
          ],
          [
           "District 9"
          ],
          [
           "The SpongeBob SquarePants Movie"
          ],
          [
           "Mystic River"
          ],
          [
           "Million Dollar Baby"
          ],
          [
           "Analyze This"
          ],
          [
           "The Notebook"
          ],
          [
           "27 Dresses"
          ],
          [
           "Hannah Montana: The Movie"
          ],
          [
           "Rugrats in Paris: The Movie"
          ],
          [
           "The Prince of Tides"
          ],
          [
           "Legends of the Fall"
          ],
          [
           "Up in the Air"
          ],
          [
           "About Schmidt"
          ],
          [
           "Warm Bodies"
          ],
          [
           "Looper"
          ],
          [
           "Babe"
          ],
          [
           "Hope Springs"
          ],
          [
           "Forgetting Sarah Marshall"
          ],
          [
           "Four Brothers"
          ],
          [
           "Baby Mama"
          ],
          [
           "Bride Wars"
          ],
          [
           "Without a Paddle"
          ],
          [
           "13 Going on 30"
          ],
          [
           "Midnight in Paris"
          ],
          [
           "Blow"
          ],
          [
           "Message in a Bottle"
          ],
          [
           "Star Trek V: The Final Frontier"
          ],
          [
           "The Naked Gun 33⅓: The Final Insult"
          ],
          [
           "A View to a Kill"
          ],
          [
           "The Curse of the Were-Rabbit"
          ],
          [
           "P.S. I Love You"
          ],
          [
           "Racing Stripes"
          ],
          [
           "Atonement"
          ],
          [
           "Black Rain"
          ],
          [
           "The Three Stooges"
          ],
          [
           "Corpse Bride"
          ],
          [
           "Sicario"
          ],
          [
           "Southpaw"
          ],
          [
           "Drag Me to Hell"
          ],
          [
           "The Age of Adaline"
          ],
          [
           "Step Up 3D"
          ],
          [
           "Blue Crush"
          ],
          [
           "Stranger Than Fiction"
          ],
          [
           "30 Days of Night"
          ],
          [
           "The Cabin in the Woods"
          ],
          [
           "Meet the Spartans"
          ],
          [
           "Midnight Run"
          ],
          [
           "The Running Man"
          ],
          [
           "Little Shop of Horrors"
          ],
          [
           "Hanna"
          ],
          [
           "Mortal Kombat: Annihilation"
          ],
          [
           "Larry Crowne"
          ],
          [
           "Carrie"
          ],
          [
           "Take the Lead"
          ],
          [
           "Gridiron Gang"
          ],
          [
           "9"
          ],
          [
           "Side Effects"
          ],
          [
           "Winnie the Pooh"
          ],
          [
           "Dumb and Dumberer: When Harry Met Lloyd"
          ],
          [
           "Bulworth"
          ],
          [
           "Virtuosity"
          ],
          [
           "Sanctum"
          ],
          [
           "Little Black Book"
          ],
          [
           "The Five-Year Engagement"
          ],
          [
           "Mr. 3000"
          ],
          [
           "The Next Three Days"
          ],
          [
           "Ultraviolet"
          ],
          [
           "Assault on Precinct 13"
          ],
          [
           "The Replacement Killers"
          ],
          [
           "Fled"
          ],
          [
           "Love & Other Drugs"
          ],
          [
           "88 Minutes"
          ],
          [
           "North Country"
          ],
          [
           "The Whole Ten Yards"
          ],
          [
           "Howard the Duck"
          ],
          [
           "Pride and Glory"
          ],
          [
           "The Cave"
          ],
          [
           "Alex & Emma"
          ],
          [
           "Wicker Park"
          ],
          [
           "Fright Night"
          ],
          [
           "The New World"
          ],
          [
           "Godsend"
          ],
          [
           "Chasing Liberty"
          ],
          [
           "Hoodwinked Too! Hood VS. Evil"
          ],
          [
           "An Unfinished Life"
          ],
          [
           "The Imaginarium of Doctor Parnassus"
          ],
          [
           "Barney's Version"
          ],
          [
           "Runner Runner"
          ],
          [
           "Antitrust"
          ],
          [
           "Glory"
          ],
          [
           "Miss Potter"
          ],
          [
           "DOA: Dead or Alive"
          ],
          [
           "The Assassination of Jesse James by the Coward Robert Ford"
          ],
          [
           "1911"
          ],
          [
           "Machine Gun Preacher"
          ],
          [
           "Sausage Party"
          ],
          [
           "Pitch Perfect 2"
          ],
          [
           "Walk the Line"
          ],
          [
           "Keeping the Faith"
          ],
          [
           "Confessions of a Dangerous Mind"
          ],
          [
           "Serving Sara"
          ],
          [
           "The Boss"
          ],
          [
           "Seed of Chucky"
          ],
          [
           "The Jacket"
          ],
          [
           "Aladdin"
          ],
          [
           "Straight Outta Compton"
          ],
          [
           "Indiana Jones and the Temple of Doom"
          ],
          [
           "The Rugrats Movie"
          ],
          [
           "Along Came a Spider"
          ],
          [
           "Florence Foster Jenkins"
          ],
          [
           "Once Upon a Time in Mexico"
          ],
          [
           "Die Hard"
          ],
          [
           "Role Models"
          ],
          [
           "The Big Short"
          ],
          [
           "Miracle"
          ],
          [
           "Dawn of the Dead"
          ],
          [
           "The Wedding Planner"
          ],
          [
           "Space Pirate Captain Harlock"
          ],
          [
           "The Royal Tenenbaums"
          ],
          [
           "Identity"
          ],
          [
           "Last Vegas"
          ],
          [
           "For Your Eyes Only"
          ],
          [
           "Serendipity"
          ],
          [
           "Timecop"
          ],
          [
           "Zoolander"
          ],
          [
           "Safe Haven"
          ],
          [
           "Hocus Pocus"
          ],
          [
           "No Reservations"
          ],
          [
           "Kick-Ass"
          ],
          [
           "30 Minutes or Less"
          ],
          [
           "Dracula 2000"
          ],
          [
           "Alexander and the Terrible, Horrible, No Good, Very Bad Day"
          ],
          [
           "Pride & Prejudice"
          ],
          [
           "Blade Runner"
          ],
          [
           "Rob Roy"
          ],
          [
           "3 Days to Kill"
          ],
          [
           "We Own the Night"
          ],
          [
           "Winged Migration"
          ],
          [
           "Just My Luck"
          ],
          [
           "Mystery, Alaska"
          ],
          [
           "The Spy Next Door"
          ],
          [
           "A Simple Wish"
          ],
          [
           "Ghosts of Mars"
          ],
          [
           "Our Brand Is Crisis"
          ],
          [
           "Pride and Prejudice and Zombies"
          ],
          [
           "Kundun"
          ],
          [
           "How to Lose Friends & Alienate People"
          ],
          [
           "Kick-Ass 2"
          ],
          [
           "Alatriste"
          ],
          [
           "Brick Mansions"
          ],
          [
           "Octopussy"
          ],
          [
           "Knocked Up"
          ],
          [
           "My Sister's Keeper"
          ],
          [
           "Welcome Home Roscoe Jenkins"
          ],
          [
           "A Passage to India"
          ],
          [
           "Notes on a Scandal"
          ],
          [
           "Rendition"
          ],
          [
           "Star Trek VI: The Undiscovered Country"
          ],
          [
           "Kiss the Girls"
          ],
          [
           "The Blues Brothers"
          ],
          [
           "The Sisterhood of the Traveling Pants 2"
          ],
          [
           "About a Boy"
          ],
          [
           "Lake Placid"
          ],
          [
           "Lucky Number Slevin"
          ],
          [
           "The Right Stuff"
          ],
          [
           "Anonymous"
          ],
          [
           "The NeverEnding Story"
          ],
          [
           "Dark City"
          ],
          [
           "Return to Oz"
          ],
          [
           "The Newton Boys"
          ],
          [
           "Case 39"
          ],
          [
           "Suspect Zero"
          ],
          [
           "Spy Kids: All the Time in the World"
          ],
          [
           "Money Monster"
          ],
          [
           "The 51st State"
          ],
          [
           "Mindhunters"
          ],
          [
           "What Just Happened"
          ],
          [
           "Paul Blart: Mall Cop"
          ],
          [
           "Freaky Friday"
          ],
          [
           "The 40 Year Old Virgin"
          ],
          [
           "Shakespeare in Love"
          ],
          [
           "A Walk Among the Tombstones"
          ],
          [
           "Kindergarten Cop"
          ],
          [
           "Pineapple Express"
          ],
          [
           "Ever After: A Cinderella Story"
          ],
          [
           "Open Range"
          ],
          [
           "Flatliners"
          ],
          [
           "A Bridge Too Far"
          ],
          [
           "Red Eye"
          ],
          [
           "Final Destination 2"
          ],
          [
           "O Brother, Where Art Thou?"
          ],
          [
           "Legion"
          ],
          [
           "Pain & Gain"
          ],
          [
           "Clockstoppers"
          ],
          [
           "Brothers"
          ],
          [
           "Agent Cody Banks 2: Destination London"
          ],
          [
           "New Year's Eve"
          ],
          [
           "Original Sin"
          ],
          [
           "The Raven"
          ],
          [
           "Welcome to Mooseport"
          ],
          [
           "Highlander: The Final Dimension"
          ],
          [
           "Flipper"
          ],
          [
           "Self/less"
          ],
          [
           "The Constant Gardener"
          ],
          [
           "The Passion of the Christ"
          ],
          [
           "Mrs. Doubtfire"
          ],
          [
           "Rain Man"
          ],
          [
           "Gran Torino"
          ],
          [
           "W."
          ],
          [
           "Taken"
          ],
          [
           "The Best of Me"
          ],
          [
           "The Bodyguard"
          ],
          [
           "Schindler's List"
          ],
          [
           "The Help"
          ],
          [
           "The Fifth Estate"
          ],
          [
           "Freddy vs. Jason"
          ],
          [
           "Jimmy Neutron: Boy Genius"
          ],
          [
           "Cloverfield"
          ],
          [
           "Teenage Mutant Ninja Turtles II: The Secret of the Ooze"
          ],
          [
           "The Untouchables"
          ],
          [
           "No Country for Old Men"
          ],
          [
           "Ride Along"
          ],
          [
           "Bridget Jones's Diary"
          ],
          [
           "Chocolat"
          ],
          [
           "Legally Blonde 2: Red, White & Blonde"
          ],
          [
           "Parental Guidance"
          ],
          [
           "No Strings Attached"
          ],
          [
           "Tombstone"
          ],
          [
           "Romeo Must Die"
          ],
          [
           "The Omen"
          ],
          [
           "Final Destination 3"
          ],
          [
           "The Lucky One"
          ],
          [
           "Bridge to Terabithia"
          ],
          [
           "Finding Neverland"
          ],
          [
           "The Grey"
          ],
          [
           "Hide and Seek"
          ],
          [
           "Anchorman: The Legend of Ron Burgundy"
          ],
          [
           "GoodFellas"
          ],
          [
           "Agent Cody Banks"
          ],
          [
           "Nanny McPhee"
          ],
          [
           "Scarface"
          ],
          [
           "The Last Emperor"
          ],
          [
           "Contraband"
          ],
          [
           "There Will Be Blood"
          ],
          [
           "Undercover Brother"
          ],
          [
           "The Sisterhood of the Traveling Pants"
          ],
          [
           "Kiss of the Dragon"
          ],
          [
           "The House Bunny"
          ],
          [
           "Beauty Shop"
          ],
          [
           "Million Dollar Arm"
          ],
          [
           "The Giver"
          ],
          [
           "Jeepers Creepers 2"
          ],
          [
           "Good Luck Chuck"
          ],
          [
           "Cradle 2 the Grave"
          ],
          [
           "The Hours"
          ],
          [
           "She's the Man"
          ],
          [
           "Mr. Bean's Holiday"
          ],
          [
           "Anacondas: The Hunt for the Blood Orchid"
          ],
          [
           "Blood Ties"
          ],
          [
           "August Rush"
          ],
          [
           "Elizabeth"
          ],
          [
           "Bride of Chucky"
          ],
          [
           "Tora! Tora! Tora!"
          ],
          [
           "Spice World"
          ],
          [
           "The Sitter"
          ],
          [
           "The Shawshank Redemption"
          ],
          [
           "Crocodile Dundee in Los Angeles"
          ],
          [
           "Kingpin"
          ],
          [
           "The Gambler"
          ],
          [
           "August: Osage County"
          ],
          [
           "Ice Princess"
          ],
          [
           "A Lot Like Love"
          ],
          [
           "Eddie the Eagle"
          ],
          [
           "He Got Game"
          ],
          [
           "Don Juan DeMarco"
          ],
          [
           "Dear John"
          ],
          [
           "The Losers"
          ],
          [
           "Don't Be Afraid of the Dark"
          ],
          [
           "War"
          ],
          [
           "Punch-Drunk Love"
          ],
          [
           "EuroTrip"
          ],
          [
           "The Greatest Game Ever Played"
          ],
          [
           "The Box"
          ],
          [
           "The Next Best Thing"
          ],
          [
           "My Soul to Take"
          ],
          [
           "The Girl Next Door"
          ],
          [
           "Maximum Risk"
          ],
          [
           "Legend"
          ],
          [
           "Shark Night"
          ],
          [
           "Angela's Ashes"
          ],
          [
           "Draft Day"
          ],
          [
           "The Conspirator"
          ],
          [
           "Lords of Dogtown"
          ],
          [
           "The 33"
          ],
          [
           "Big Trouble in Little China"
          ],
          [
           "Warrior"
          ],
          [
           "Michael Collins"
          ],
          [
           "Stop-Loss"
          ],
          [
           "Abandon"
          ],
          [
           "Brokedown Palace"
          ],
          [
           "The Possession"
          ],
          [
           "Mrs. Winterbourne"
          ],
          [
           "Straw Dogs"
          ],
          [
           "The Hoax"
          ],
          [
           "The Road"
          ],
          [
           "Sheena"
          ],
          [
           "Tank Girl"
          ],
          [
           "Blindness"
          ],
          [
           "BloodRayne"
          ],
          [
           "Carnage"
          ],
          [
           "Without Limits"
          ],
          [
           "Me and Orson Welles"
          ],
          [
           "The Best Offer"
          ],
          [
           "The Bad Lieutenant: Port of Call - New Orleans"
          ],
          [
           "Little White Lies"
          ],
          [
           "Space Dogs"
          ],
          [
           "The Counselor"
          ],
          [
           "Waterloo"
          ],
          [
           "Dangerous Liaisons"
          ],
          [
           "On the Road"
          ],
          [
           "Star Trek IV: The Voyage Home"
          ],
          [
           "Rocky Balboa"
          ],
          [
           "Scream 2"
          ],
          [
           "Jane Got a Gun"
          ],
          [
           "Think Like a Man Too"
          ],
          [
           "The Whole Nine Yards"
          ],
          [
           "Footloose"
          ],
          [
           "Old School"
          ],
          [
           "The Fisher King"
          ],
          [
           "I Still Know What You Did Last Summer"
          ],
          [
           "Return to Me"
          ],
          [
           "Zack and Miri Make a Porno"
          ],
          [
           "The Men Who Stare at Goats"
          ],
          [
           "Win a Date with Tad Hamilton!"
          ],
          [
           "Muppets from Space"
          ],
          [
           "The Wiz"
          ],
          [
           "Ready to Rumble"
          ],
          [
           "Play It to the Bone"
          ],
          [
           "I Don't Know How She Does It"
          ],
          [
           "Piranha 3D"
          ],
          [
           "Meet the Deedles"
          ],
          [
           "The Thief and the Cobbler"
          ],
          [
           "Faster"
          ],
          [
           "Howl's Moving Castle"
          ],
          [
           "Zombieland"
          ],
          [
           "The Waterboy"
          ],
          [
           "The Empire Strikes Back"
          ],
          [
           "Bad Boys"
          ],
          [
           "The Naked Gun 2½: The Smell of Fear"
          ],
          [
           "Final Destination"
          ],
          [
           "The Ides of March"
          ],
          [
           "Pitch Black"
          ],
          [
           "Her"
          ],
          [
           "Joy Ride"
          ],
          [
           "The Adventurer: The Curse of the Midas Box"
          ],
          [
           "Anywhere But Here"
          ],
          [
           "Haywire"
          ],
          [
           "Jaws: The Revenge"
          ],
          [
           "The End of the Affair"
          ],
          [
           "Harley Davidson and the Marlboro Man"
          ],
          [
           "In the Valley of Elah"
          ],
          [
           "Cheri"
          ],
          [
           "Vanity Fair"
          ],
          [
           "Bodyguards and Assassins"
          ],
          [
           "1408"
          ],
          [
           "Spaceballs"
          ],
          [
           "The Water Diviner"
          ],
          [
           "Ghost"
          ],
          [
           "There's Something About Mary"
          ],
          [
           "The Santa Clause"
          ],
          [
           "The Rookie"
          ],
          [
           "The Game Plan"
          ],
          [
           "The Bridges of Madison County"
          ],
          [
           "The Animal"
          ],
          [
           "Gandhi"
          ],
          [
           "The Hundred-Foot Journey"
          ],
          [
           "The Net"
          ],
          [
           "I Am Sam"
          ],
          [
           "Son of God"
          ],
          [
           "Underworld"
          ],
          [
           "Derailed"
          ],
          [
           "The Informant!"
          ],
          [
           "Deuce Bigalow: European Gigolo"
          ],
          [
           "Delivery Man"
          ],
          [
           "Saving Silverman"
          ],
          [
           "Diary of a Wimpy Kid: Dog Days"
          ],
          [
           "Jay and Silent Bob Strike Back"
          ],
          [
           "The Glass House"
          ],
          [
           "Hail, Caesar!"
          ],
          [
           "Homefront"
          ],
          [
           "The Little Vampire"
          ],
          [
           "RoboCop 3"
          ],
          [
           "The Transporter Refueled"
          ],
          [
           "Black Book"
          ],
          [
           "Joyeux Noël"
          ],
          [
           "Hit & Run"
          ],
          [
           "Before I Go to Sleep"
          ],
          [
           "Sorcerer"
          ],
          [
           "Stone"
          ],
          [
           "Out of the Furnace"
          ],
          [
           "Michael Clayton"
          ],
          [
           "Underdogs"
          ],
          [
           "To Rome with Love"
          ],
          [
           "Firefox"
          ],
          [
           "Death at a Funeral"
          ],
          [
           "Teenage Mutant Ninja Turtles III"
          ],
          [
           "Hardball"
          ],
          [
           "Silver Linings Playbook"
          ],
          [
           "Freedom Writers"
          ],
          [
           "The Transporter"
          ],
          [
           "Never Back Down"
          ],
          [
           "The Rage: Carrie 2"
          ],
          [
           "Away We Go"
          ],
          [
           "Swing Vote"
          ],
          [
           "Moonlight Mile"
          ],
          [
           "The Beaver"
          ],
          [
           "The Best Little Whorehouse in Texas"
          ],
          [
           "eXistenZ"
          ],
          [
           "Raiders of the Lost Ark"
          ],
          [
           "Home Alone 2: Lost in New York"
          ],
          [
           "Close Encounters of the Third Kind"
          ],
          [
           "Pulse"
          ],
          [
           "Beverly Hills Cop II"
          ],
          [
           "Bringing Down the House"
          ],
          [
           "The Silence of the Lambs"
          ],
          [
           "Wayne's World"
          ],
          [
           "Jackass 3D"
          ],
          [
           "Jaws 2"
          ],
          [
           "Beverly Hills Chihuahua"
          ],
          [
           "The Conjuring"
          ],
          [
           "Are We There Yet?"
          ],
          [
           "Tammy"
          ],
          [
           "School of Rock"
          ],
          [
           "Mortal Kombat"
          ],
          [
           "White Chicks"
          ],
          [
           "The Descendants"
          ],
          [
           "12 Years a Slave"
          ],
          [
           "Drumline"
          ],
          [
           "Why Did I Get Married Too?"
          ],
          [
           "Edward Scissorhands"
          ],
          [
           "Me Before You"
          ],
          [
           "The French Connection"
          ],
          [
           "Bad Moms"
          ],
          [
           "Date Movie"
          ],
          [
           "Return to Never Land"
          ],
          [
           "Selma"
          ],
          [
           "The Jungle Book 2"
          ],
          [
           "Boogeyman"
          ],
          [
           "Premonition"
          ],
          [
           "The Tigger Movie"
          ],
          [
           "Orphan"
          ],
          [
           "Max"
          ],
          [
           "Epic Movie"
          ],
          [
           "Spotlight"
          ],
          [
           "Lakeview Terrace"
          ],
          [
           "The Grudge 2"
          ],
          [
           "How Stella Got Her Groove Back"
          ],
          [
           "Man of the Year"
          ],
          [
           "The Black Hole"
          ],
          [
           "The American"
          ],
          [
           "Selena"
          ],
          [
           "Vampires Suck"
          ],
          [
           "Babel"
          ],
          [
           "This Is Where I Leave You"
          ],
          [
           "Doubt"
          ],
          [
           "Team America: World Police"
          ],
          [
           "Texas Chainsaw 3D"
          ],
          [
           "Scary Movie 5"
          ],
          [
           "Paint Your Wagon"
          ],
          [
           "Milk"
          ],
          [
           "Risen"
          ],
          [
           "Ghost Ship"
          ],
          [
           "A Very Harold & Kumar Christmas"
          ],
          [
           "Wild Things"
          ],
          [
           "The Debt"
          ],
          [
           "High Fidelity"
          ],
          [
           "The Bank Job"
          ],
          [
           "Eternal Sunshine of the Spotless Mind"
          ],
          [
           "You Again"
          ],
          [
           "Street Kings"
          ],
          [
           "The World's End"
          ],
          [
           "Daybreakers"
          ],
          [
           "She's Out of My League"
          ],
          [
           "Monte Carlo"
          ],
          [
           "Stay Alive"
          ],
          [
           "Alpha and Omega"
          ],
          [
           "The Covenant"
          ],
          [
           "Shorts"
          ],
          [
           "To Die For"
          ],
          [
           "Nerve"
          ],
          [
           "Appaloosa"
          ],
          [
           "Psycho"
          ],
          [
           "My Best Friend's Girl"
          ],
          [
           "Endless Love"
          ],
          [
           "Under the Rainbow"
          ],
          [
           "Ladyhawke"
          ],
          [
           "Simon Birch"
          ],
          [
           "Reign Over Me"
          ],
          [
           "Into the Wild"
          ],
          [
           "School for Scoundrels"
          ],
          [
           "Silent Hill: Revelation 3D"
          ],
          [
           "From Dusk Till Dawn"
          ],
          [
           "Kung Fu Hustle"
          ],
          [
           "The Kite Runner"
          ],
          [
           "21 Grams"
          ],
          [
           "Paparazzi"
          ],
          [
           "A Guy Thing"
          ],
          [
           "Capitalism: A Love Story"
          ],
          [
           "The Greatest Story Ever Told"
          ],
          [
           "Secret in Their Eyes"
          ],
          [
           "Disaster Movie"
          ],
          [
           "Armored"
          ],
          [
           "The Man Who Knew Too Little"
          ],
          [
           "What's Your Number?"
          ],
          [
           "Lockout"
          ],
          [
           "Crank: High Voltage"
          ],
          [
           "One Night with the King"
          ],
          [
           "The Quiet American"
          ],
          [
           "The Weather Man"
          ],
          [
           "Undisputed"
          ],
          [
           "12 Rounds"
          ],
          [
           "Let Me In"
          ],
          [
           "Triple 9"
          ],
          [
           "Deconstructing Harry"
          ],
          [
           "Burnt"
          ],
          [
           "Death Sentence"
          ],
          [
           "Code Name: The Cleaner"
          ],
          [
           "Connie and Carla"
          ],
          [
           "Sweet Charity"
          ],
          [
           "Inherent Vice"
          ],
          [
           "Battle of the Year"
          ],
          [
           "An American Carol"
          ],
          [
           "Machete Kills"
          ],
          [
           "Little Boy"
          ],
          [
           "A Dangerous Method"
          ],
          [
           "A Scanner Darkly"
          ],
          [
           "Alone in the Dark"
          ],
          [
           "Bandslam"
          ],
          [
           "A Most Violent Year"
          ],
          [
           "I'm Not There."
          ],
          [
           "The Cold Light of Day"
          ],
          [
           "The Brothers Bloom"
          ],
          [
           "Princess Mononoke"
          ],
          [
           "The Proposition"
          ],
          [
           "Marci X"
          ],
          [
           "Equilibrium"
          ],
          [
           "The Children of Huang Shi"
          ],
          [
           "By the Sea"
          ],
          [
           "Rapa Nui"
          ],
          [
           "Dylan Dog: Dead of Night"
          ],
          [
           "The Tempest"
          ],
          [
           "The Frozen Ground"
          ],
          [
           "Dances with Wolves"
          ],
          [
           "Bad Teacher"
          ],
          [
           "Sea of Love"
          ],
          [
           "A Cinderella Story"
          ],
          [
           "Scream"
          ],
          [
           "The Shining"
          ],
          [
           "Back to the Future"
          ],
          [
           "House on Haunted Hill"
          ],
          [
           "The Switch"
          ],
          [
           "Just Married"
          ],
          [
           "The Devil's Double"
          ],
          [
           "The Crazies"
          ],
          [
           "Spirited Away"
          ],
          [
           "The Bounty"
          ],
          [
           "Sex Drive"
          ],
          [
           "Leap Year"
          ],
          [
           "The Fall of the Roman Empire"
          ],
          [
           "Take Me Home Tonight"
          ],
          [
           "The Nutcracker"
          ],
          [
           "The Amityville Horror"
          ],
          [
           "Adaptation."
          ],
          [
           "Land of the Dead"
          ],
          [
           "Fear and Loathing in Las Vegas"
          ],
          [
           "The Invention of Lying"
          ],
          [
           "Neighbors"
          ],
          [
           "The Mask"
          ],
          [
           "Big"
          ],
          [
           "Borat: Cultural Learnings of America for Make Benefit Glorious Nation of Kazakhstan"
          ],
          [
           "Legally Blonde"
          ],
          [
           "Star Trek III: The Search for Spock"
          ],
          [
           "The Exorcism of Emily Rose"
          ],
          [
           "Deuce Bigalow: Male Gigolo"
          ],
          [
           "Left Behind"
          ],
          [
           "Barbershop 2:  Back in Business"
          ],
          [
           "Bad Santa"
          ],
          [
           "Austin Powers: International Man of Mystery"
          ],
          [
           "My Big Fat Greek Wedding 2"
          ],
          [
           "Diary of a Wimpy Kid: Rodrick Rules"
          ],
          [
           "Predator"
          ],
          [
           "Amadeus"
          ],
          [
           "Mean Girls"
          ],
          [
           "Gosford Park"
          ],
          [
           "Peggy Sue Got Married"
          ],
          [
           "Birdman"
          ],
          [
           "Blue Jasmine"
          ],
          [
           "United 93"
          ],
          [
           "Honey"
          ],
          [
           "The Fog"
          ],
          [
           "Soul Surfer"
          ],
          [
           "Catch-22"
          ],
          [
           "Conan the Destroyer"
          ],
          [
           "Raging Bull"
          ],
          [
           "Love Happens"
          ],
          [
           "127 Hours"
          ],
          [
           "Center Stage"
          ],
          [
           "Love the Coopers"
          ],
          [
           "Catch That Kid"
          ],
          [
           "Steve Jobs"
          ],
          [
           "The Legend of the Lone Ranger"
          ],
          [
           "The Tailor of Panama"
          ],
          [
           "Blow Out"
          ],
          [
           "Getaway"
          ],
          [
           "The Ice Storm"
          ],
          [
           "And So It Goes"
          ],
          [
           "Nine 1/2 Weeks"
          ],
          [
           "Dragonslayer"
          ],
          [
           "Ed Wood"
          ],
          [
           "Labor Day"
          ],
          [
           "Mongol: The Rise of Genghis Khan"
          ],
          [
           "RockNRolla"
          ],
          [
           "Mao's Last Dancer"
          ],
          [
           "Midnight Special"
          ],
          [
           "The Railway Man"
          ],
          [
           "The Wraith"
          ],
          [
           "Salton Sea"
          ],
          [
           "Metallica: Through the Never"
          ],
          [
           "The Informers"
          ],
          [
           "Carlos"
          ],
          [
           "Day of the Dead"
          ],
          [
           "Renaissance"
          ],
          [
           "Red Sonja"
          ],
          [
           "Red Lights"
          ],
          [
           "Superbad"
          ],
          [
           "Step Up 2: The Streets"
          ],
          [
           "Hoodwinked!"
          ],
          [
           "Hotel Rwanda"
          ],
          [
           "Hitman"
          ],
          [
           "Black Nativity"
          ],
          [
           "The Prince"
          ],
          [
           "Aliens"
          ],
          [
           "My Fair Lady"
          ],
          [
           "I Know What You Did Last Summer"
          ],
          [
           "Let's Be Cops"
          ],
          [
           "Sideways"
          ],
          [
           "Beerfest"
          ],
          [
           "Halloween"
          ],
          [
           "The Best Man Holiday"
          ],
          [
           "Smokin' Aces"
          ],
          [
           "Saw: The Final Chapter"
          ],
          [
           "A Night at the Roxbury"
          ],
          [
           "Beastly"
          ],
          [
           "The Hills Have Eyes"
          ],
          [
           "ATL"
          ],
          [
           "Pitch Perfect"
          ],
          [
           "Summer Catch"
          ],
          [
           "Brooklyn's Finest"
          ],
          [
           "55 Days at Peking"
          ],
          [
           "Evil Dead"
          ],
          [
           "My Life in Ruins"
          ],
          [
           "American Dreamz"
          ],
          [
           "Superman IV: The Quest for Peace"
          ],
          [
           "Running Scared"
          ],
          [
           "The Illusionist"
          ],
          [
           "Roar"
          ],
          [
           "Veronica Guerin"
          ],
          [
           "Escobar: Paradise Lost"
          ],
          [
           "Southland Tales"
          ],
          [
           "Damnation Alley"
          ],
          [
           "The Apparition"
          ],
          [
           "Fur: An Imaginary Portrait of Diane Arbus"
          ],
          [
           "Wall Street"
          ],
          [
           "Sense and Sensibility"
          ],
          [
           "Becoming Jane"
          ],
          [
           "Sydney White"
          ],
          [
           "House of Sand and Fog"
          ],
          [
           "Dead Poets Society"
          ],
          [
           "Dumb and Dumber"
          ],
          [
           "When Harry Met Sally..."
          ],
          [
           "The Verdict"
          ],
          [
           "Road Trip"
          ],
          [
           "The Artist"
          ],
          [
           "The Unborn"
          ],
          [
           "Moonrise Kingdom"
          ],
          [
           "The Young Messiah"
          ],
          [
           "Pan's Labyrinth"
          ],
          [
           "Baby Boy"
          ],
          [
           "The Roommate"
          ],
          [
           "Joe Dirt"
          ],
          [
           "Double Impact"
          ],
          [
           "Hot Fuzz"
          ],
          [
           "The Women"
          ],
          [
           "Vicky Cristina Barcelona"
          ],
          [
           "Boys and Girls"
          ],
          [
           "Jennifer's Body"
          ],
          [
           "Drowning Mona"
          ],
          [
           "My Stepmother is an Alien"
          ],
          [
           "Philadelphia"
          ],
          [
           "The Thirteenth Floor"
          ],
          [
           "The Cookout"
          ],
          [
           "Detroit Rock City"
          ],
          [
           "Highlander"
          ],
          [
           "Things We Lost in the Fire"
          ],
          [
           "Steel"
          ],
          [
           "The Immigrant"
          ],
          [
           "Trance"
          ],
          [
           "Soul Plane"
          ],
          [
           "Welcome to the Sticks"
          ],
          [
           "Enter the Void"
          ],
          [
           "Hachi: A Dog's Tale"
          ],
          [
           "The Homesman"
          ],
          [
           "Slow Burn"
          ],
          [
           "Beverly Hills Cop"
          ],
          [
           "Home Alone"
          ],
          [
           "Tootsie"
          ],
          [
           "Top Gun"
          ],
          [
           "Crouching Tiger, Hidden Dragon"
          ],
          [
           "American Beauty"
          ],
          [
           "The King's Speech"
          ],
          [
           "Twins"
          ],
          [
           "The Yellow Handkerchief"
          ],
          [
           "The Color Purple"
          ],
          [
           "Tidal Wave"
          ],
          [
           "The Imitation Game"
          ],
          [
           "Coal Miner's Daughter"
          ],
          [
           "Diary of a Wimpy Kid"
          ],
          [
           "Mama"
          ],
          [
           "National Lampoon's Vacation"
          ],
          [
           "Bad Grandpa"
          ],
          [
           "The Queen"
          ],
          [
           "Beetlejuice"
          ],
          [
           "Why Did I Get Married?"
          ],
          [
           "The Woman in Black"
          ],
          [
           "When a Stranger Calls"
          ],
          [
           "Big Fat Liar"
          ],
          [
           "The Deer Hunter"
          ],
          [
           "Wag the Dog"
          ],
          [
           "The Lizzie McGuire Movie"
          ],
          [
           "Snitch"
          ],
          [
           "Krampus"
          ],
          [
           "The Faculty"
          ],
          [
           "Cop Land"
          ],
          [
           "Not Another Teen Movie"
          ],
          [
           "End of Watch"
          ],
          [
           "The Skulls"
          ],
          [
           "The Theory of Everything"
          ],
          [
           "Where the Heart Is"
          ],
          [
           "Lawrence of Arabia"
          ],
          [
           "Halloween II"
          ],
          [
           "Wild"
          ],
          [
           "The Last House on the Left"
          ],
          [
           "The Wedding Date"
          ],
          [
           "Halloween: Resurrection"
          ],
          [
           "The Princess Bride"
          ],
          [
           "The Great Debaters"
          ],
          [
           "Drive"
          ],
          [
           "Confessions of a Teenage Drama Queen"
          ],
          [
           "The Object of My Affection"
          ],
          [
           "28 Weeks Later"
          ],
          [
           "When the Game Stands Tall"
          ],
          [
           "Because of Winn-Dixie"
          ],
          [
           "Love & Basketball"
          ],
          [
           "All About Steve"
          ],
          [
           "The Craft"
          ],
          [
           "Match Point"
          ],
          [
           "The Remains of the Day"
          ],
          [
           "Boogie Nights"
          ],
          [
           "Flicka"
          ],
          [
           "Urban Legends: Final Cut"
          ],
          [
           "The Marine"
          ],
          [
           "Keanu"
          ],
          [
           "Country Strong"
          ],
          [
           "Disturbing Behavior"
          ],
          [
           "The Place Beyond the Pines"
          ],
          [
           "The November Man"
          ],
          [
           "The Hurt Locker"
          ],
          [
           "Firestarter"
          ],
          [
           "Killing Them Softly"
          ],
          [
           "A Most Wanted Man"
          ],
          [
           "U2 3D"
          ],
          [
           "Highlander: Endgame"
          ],
          [
           "One Day"
          ],
          [
           "Whip It"
          ],
          [
           "Knockaround Guys"
          ],
          [
           "The Man with the Iron Fists"
          ],
          [
           "Home Fries"
          ],
          [
           "Raise Your Voice"
          ],
          [
           "The Big Lebowski"
          ],
          [
           "Black Snake Moan"
          ],
          [
           "Dark Blue"
          ],
          [
           "A Mighty Heart"
          ],
          [
           "Whatever It Takes"
          ],
          [
           "Boat Trip"
          ],
          [
           "In Bruges"
          ],
          [
           "The Rocker"
          ],
          [
           "Post Grad"
          ],
          [
           "Promised Land"
          ],
          [
           "Whatever Works"
          ],
          [
           "The In Crowd"
          ],
          [
           "The Three Burials of Melquiades Estrada"
          ],
          [
           "Kiss Kiss Bang Bang"
          ],
          [
           "Idle Hands"
          ],
          [
           "Mulholland Drive"
          ],
          [
           "Never Let Me Go"
          ],
          [
           "Transsiberian"
          ],
          [
           "Funny Games"
          ],
          [
           "Metropolis"
          ],
          [
           "District B13"
          ],
          [
           "Things to Do in Denver When You're Dead"
          ],
          [
           "The Assassin"
          ],
          [
           "Ong Bak 2"
          ],
          [
           "Centurion"
          ],
          [
           "Silent Trigger"
          ],
          [
           "The Midnight Meat Train"
          ],
          [
           "All The Queen's Men"
          ],
          [
           "The Good Night"
          ],
          [
           "Khumba"
          ],
          [
           "Groundhog Day"
          ],
          [
           "Magic Mike XXL"
          ],
          [
           "Romeo + Juliet"
          ],
          [
           "Sarah's Key"
          ],
          [
           "Unforgiven"
          ],
          [
           "Manderlay"
          ],
          [
           "Slumdog Millionaire"
          ],
          [
           "Fatal Attraction"
          ],
          [
           "Pretty Woman"
          ],
          [
           "Born on the Fourth of July"
          ],
          [
           "Cool Runnings"
          ],
          [
           "My Bloody Valentine"
          ],
          [
           "Stomp the Yard"
          ],
          [
           "The Spy Who Loved Me"
          ],
          [
           "Urban Legend"
          ],
          [
           "White Fang"
          ],
          [
           "The Iron Lady"
          ],
          [
           "Poetic Justice"
          ],
          [
           "All About the Benjamins"
          ],
          [
           "Vampire in Brooklyn"
          ],
          [
           "Exorcist II: The Heretic"
          ],
          [
           "A Perfect Getaway"
          ],
          [
           "Our Family Wedding"
          ],
          [
           "Tea with Mussolini"
          ],
          [
           "I Think I Love My Wife"
          ],
          [
           "Jason X"
          ],
          [
           "Head Over Heels"
          ],
          [
           "Fun Size"
          ],
          [
           "The Diving Bell and the Butterfly"
          ],
          [
           "Little Children"
          ],
          [
           "Gossip"
          ],
          [
           "Jefferson in Paris"
          ],
          [
           "Margaret"
          ],
          [
           "Flipped"
          ],
          [
           "Brokeback Mountain"
          ],
          [
           "Far from Heaven"
          ],
          [
           "Hot Tub Time Machine 2"
          ],
          [
           "Quills"
          ],
          [
           "Seven Psychopaths"
          ],
          [
           "Downfall"
          ],
          [
           "The Sea Inside"
          ],
          [
           "Under the Skin"
          ],
          [
           "Good Morning, Vietnam"
          ],
          [
           "The Last Godfather"
          ],
          [
           "Justin Bieber: Never Say Never"
          ],
          [
           "Black Swan"
          ],
          [
           "The Godfather: Part II"
          ],
          [
           "Save the Last Dance"
          ],
          [
           "A Nightmare on Elm Street 4: The Dream Master"
          ],
          [
           "Miracles from Heaven"
          ],
          [
           "Dude, Where’s My Car?"
          ],
          [
           "Young Guns"
          ],
          [
           "St. Vincent"
          ],
          [
           "About Last Night"
          ],
          [
           "10 Things I Hate About You"
          ],
          [
           "The Shallows"
          ],
          [
           "The Butterfly Effect"
          ],
          [
           "Baby Geniuses"
          ],
          [
           "The Big Hit"
          ],
          [
           "Child's Play 2"
          ],
          [
           "No Good Deed"
          ],
          [
           "The Mist"
          ],
          [
           "Ex Machina"
          ],
          [
           "Being John Malkovich"
          ],
          [
           "Earth to Echo"
          ],
          [
           "Crazy/Beautiful"
          ],
          [
           "Letters from Iwo Jima"
          ],
          [
           "The Astronaut Farmer"
          ],
          [
           "Woo"
          ],
          [
           "Room"
          ],
          [
           "Serial Mom"
          ],
          [
           "Dick"
          ],
          [
           "54"
          ],
          [
           "21 & Over"
          ],
          [
           "Paris, je t'aime"
          ],
          [
           "Admission"
          ],
          [
           "Chloe"
          ],
          [
           "Faithful"
          ],
          [
           "Find Me Guilty"
          ],
          [
           "The Perks of Being a Wallflower"
          ],
          [
           "Excessive Force"
          ],
          [
           "Infamous"
          ],
          [
           "The Vatican Tapes"
          ],
          [
           "Attack the Block"
          ],
          [
           "In the Land of Blood and Honey"
          ],
          [
           "The Call"
          ],
          [
           "I Love You Phillip Morris"
          ],
          [
           "Quest for Fire"
          ],
          [
           "Antwone Fisher"
          ],
          [
           "True Romance"
          ],
          [
           "Glengarry Glen Ross"
          ],
          [
           "Sorority Row"
          ],
          [
           "Lars and the Real Girl"
          ],
          [
           "The Boy in the Striped Pyjamas"
          ],
          [
           "Dancer in the Dark"
          ],
          [
           "The Funeral"
          ],
          [
           "Solitary Man"
          ],
          [
           "Machete"
          ],
          [
           "Casino Jack"
          ],
          [
           "The Land Before Time"
          ],
          [
           "The Perfect Game"
          ],
          [
           "The Exorcist"
          ],
          [
           "Jaws"
          ],
          [
           "American Pie"
          ],
          [
           "Ernest & Celestine"
          ],
          [
           "The Golden Child"
          ],
          [
           "Think Like a Man"
          ],
          [
           "Barbershop"
          ],
          [
           "Star Trek II: The Wrath of Khan"
          ],
          [
           "Ace Ventura: Pet Detective"
          ],
          [
           "WarGames"
          ],
          [
           "Witness"
          ],
          [
           "Act of Valor"
          ],
          [
           "Step Up"
          ],
          [
           "Jackie Brown"
          ],
          [
           "Harold & Kumar Escape from Guantanamo Bay"
          ],
          [
           "Chronicle"
          ],
          [
           "Yentl"
          ],
          [
           "Time Bandits"
          ],
          [
           "Crossroads"
          ],
          [
           "Project X"
          ],
          [
           "Patton"
          ],
          [
           "One Hour Photo"
          ],
          [
           "Quarantine"
          ],
          [
           "The Eye"
          ],
          [
           "Johnson Family Vacation"
          ],
          [
           "How High"
          ],
          [
           "Frida"
          ],
          [
           "Katy Perry: Part of Me"
          ],
          [
           "The Fault in Our Stars"
          ],
          [
           "Rounders"
          ],
          [
           "Prophecy"
          ],
          [
           "Stir of Echoes"
          ],
          [
           "Philomena"
          ],
          [
           "Aquamarine"
          ],
          [
           "Paper Towns"
          ],
          [
           "Nebraska"
          ],
          [
           "Max Keeble's Big Move"
          ],
          [
           "Young Adult"
          ],
          [
           "Crank"
          ],
          [
           "Living Out Loud"
          ],
          [
           "Das Boot"
          ],
          [
           "Arbitrage"
          ],
          [
           "Project Almanac"
          ],
          [
           "Fortress"
          ],
          [
           "For Your Consideration"
          ],
          [
           "Running with Scissors"
          ],
          [
           "From Justin to Kelly"
          ],
          [
           "Girl 6"
          ],
          [
           "In the Cut"
          ],
          [
           "Two Lovers"
          ],
          [
           "The Host"
          ],
          [
           "The Great Beauty"
          ],
          [
           "Stoker"
          ],
          [
           "2046"
          ],
          [
           "Ondine"
          ],
          [
           "Brother"
          ],
          [
           "City of Life and Death"
          ],
          [
           "Legend of a Rabbit"
          ],
          [
           "Space Battleship Yamato"
          ],
          [
           "5 Days of War"
          ],
          [
           "Heaven is for Real"
          ],
          [
           "Snatch"
          ],
          [
           "Pet Sematary"
          ],
          [
           "Gremlins"
          ],
          [
           "Star Wars"
          ],
          [
           "Dirty Grandpa"
          ],
          [
           "Doctor Zhivago"
          ],
          [
           "The Fighter"
          ],
          [
           "Jackass Number Two"
          ],
          [
           "My Cousin Vinny"
          ],
          [
           "If I Stay"
          ],
          [
           "Major League"
          ],
          [
           "Phone Booth"
          ],
          [
           "A Walk to Remember"
          ],
          [
           "Dead Man Walking"
          ],
          [
           "Cruel Intentions"
          ],
          [
           "Saw VI"
          ],
          [
           "History of the World: Part I"
          ],
          [
           "The Secret Life of Bees"
          ],
          [
           "Corky Romano"
          ],
          [
           "Raising Cain"
          ],
          [
           "F.I.S.T."
          ],
          [
           "Invaders from Mars"
          ],
          [
           "Brooklyn"
          ],
          [
           "Barry Lyndon"
          ],
          [
           "Out Cold"
          ],
          [
           "The Ladies Man"
          ],
          [
           "Quartet"
          ],
          [
           "Tomcats"
          ],
          [
           "Frailty"
          ],
          [
           "Woman in Gold"
          ],
          [
           "Slackers"
          ],
          [
           "What's Eating Gilbert Grape"
          ],
          [
           "The Visual Bible: The Gospel of John"
          ],
          [
           "The Perez Family"
          ],
          [
           "Inside Llewyn Davis"
          ],
          [
           "Return to the Blue Lagoon"
          ],
          [
           "The Molly Maguires"
          ],
          [
           "Saw V"
          ],
          [
           "Kabhi Alvida Naa Kehna"
          ],
          [
           "An Ideal Husband"
          ],
          [
           "2001: A Space Odyssey"
          ],
          [
           "E.T. the Extra-Terrestrial"
          ],
          [
           "In the Land of Women"
          ],
          [
           "There Goes My Baby"
          ],
          [
           "For Greater Glory - The True Story of Cristiada"
          ],
          [
           "Good Will Hunting"
          ],
          [
           "Saw III"
          ],
          [
           "Stripes"
          ],
          [
           "Bring It On"
          ],
          [
           "The Purge: Election Year"
          ],
          [
           "She's All That"
          ],
          [
           "Saw IV"
          ],
          [
           "White Noise"
          ],
          [
           "Madea's Family Reunion"
          ],
          [
           "The Color of Money"
          ],
          [
           "The Longest Day"
          ],
          [
           "The Mighty Ducks"
          ],
          [
           "The Grudge"
          ],
          [
           "Happy Gilmore"
          ],
          [
           "Jeepers Creepers"
          ],
          [
           "Bill & Ted's Excellent Adventure"
          ],
          [
           "Oliver!"
          ],
          [
           "The Best Exotic Marigold Hotel"
          ],
          [
           "Recess: School's Out"
          ],
          [
           "Mad Max Beyond Thunderdome"
          ],
          [
           "Commando"
          ],
          [
           "The Boy"
          ],
          [
           "Devil"
          ],
          [
           "Friday After Next"
          ],
          [
           "Insidious: Chapter 3"
          ],
          [
           "The Last Dragon"
          ],
          [
           "The Lawnmower Man"
          ],
          [
           "Nick and Norah's Infinite Playlist"
          ],
          [
           "Dogma"
          ],
          [
           "Twilight Zone: The Movie"
          ],
          [
           "Road House"
          ],
          [
           "A Low Down Dirty Shame"
          ],
          [
           "Swimfan"
          ],
          [
           "Employee of the Month"
          ],
          [
           "Can't Hardly Wait"
          ],
          [
           "The Outsiders"
          ],
          [
           "Pete's Dragon"
          ],
          [
           "The Dead Zone"
          ],
          [
           "Sinister 2"
          ],
          [
           "Sparkle"
          ],
          [
           "The Fourth Kind"
          ],
          [
           "Rushmore"
          ],
          [
           "Skyline"
          ],
          [
           "The Second Best Exotic Marigold Hotel"
          ],
          [
           "Mo' Better Blues"
          ],
          [
           "Tremors"
          ],
          [
           "Wrong Turn"
          ],
          [
           "The Long Riders"
          ],
          [
           "The Corruptor"
          ],
          [
           "Mud"
          ],
          [
           "Reno 911!: Miami"
          ],
          [
           "My Week with Marilyn"
          ],
          [
           "The Matador"
          ],
          [
           "The Gift"
          ],
          [
           "Office Space"
          ],
          [
           "Drop Dead Gorgeous"
          ],
          [
           "Big Eyes"
          ],
          [
           "Very Bad Things"
          ],
          [
           "Body Double"
          ],
          [
           "MacGruber"
          ],
          [
           "Movie 43"
          ],
          [
           "Seeking a Friend for the End of the World"
          ],
          [
           "American History X"
          ],
          [
           "The Red Violin"
          ],
          [
           "Bad Words"
          ],
          [
           "Run, Fatboy, Run"
          ],
          [
           "Heartbeeps"
          ],
          [
           "Black or White"
          ],
          [
           "Rescue Dawn"
          ],
          [
           "Danny Collins"
          ],
          [
           "Jeff, Who Lives at Home"
          ],
          [
           "Romeo Is Bleeding"
          ],
          [
           "The Limey"
          ],
          [
           "Crash"
          ],
          [
           "The House of Mirth"
          ],
          [
           "The Forest"
          ],
          [
           "Sphinx"
          ],
          [
           "While We're Young"
          ],
          [
           "A Better Life"
          ],
          [
           "Gun Shy"
          ],
          [
           "The Iceman"
          ],
          [
           "Killer Joe"
          ],
          [
           "The Joneses"
          ],
          [
           "My Blueberry Nights"
          ],
          [
           "Swept Away"
          ],
          [
           "War, Inc."
          ],
          [
           "Coriolanus"
          ],
          [
           "World's Greatest Dad"
          ],
          [
           "An Alan Smithee Film: Burn, Hollywood, Burn"
          ],
          [
           "Strangerland"
          ],
          [
           "Janky Promoters"
          ],
          [
           "Of Horses and Men"
          ],
          [
           "Nurse 3-D"
          ],
          [
           "Adventureland"
          ],
          [
           "The Lost City"
          ],
          [
           "Next Friday"
          ],
          [
           "You Only Live Twice"
          ],
          [
           "Amour"
          ],
          [
           "Poltergeist III"
          ],
          [
           "It's a Mad, Mad, Mad, Mad World"
          ],
          [
           "Volver"
          ],
          [
           "Melancholia"
          ],
          [
           "Alien"
          ],
          [
           "The Texas Chain Saw Massacre"
          ],
          [
           "The Runaways"
          ],
          [
           "Fiddler on the Roof"
          ],
          [
           "Thunderball"
          ],
          [
           "Loose Cannons"
          ],
          [
           "Set It Off"
          ],
          [
           "The Best Man"
          ],
          [
           "Child's Play"
          ],
          [
           "Sicko"
          ],
          [
           "The Purge: Anarchy"
          ],
          [
           "Harold & Kumar Go to White Castle"
          ],
          [
           "Boiler Room"
          ],
          [
           "Trading Places"
          ],
          [
           "Black Christmas"
          ],
          [
           "The Way of the Gun"
          ],
          [
           "Igby Goes Down"
          ],
          [
           "PCU"
          ],
          [
           "Gracie"
          ],
          [
           "Glee: The Concert Movie"
          ],
          [
           "Barbecue"
          ],
          [
           "Princess Kaiulani"
          ],
          [
           "Opal Dream"
          ],
          [
           "Undiscovered"
          ],
          [
           "Crocodile Dundee"
          ],
          [
           "Awake"
          ],
          [
           "The Lost Boys"
          ],
          [
           "Crazy Heart"
          ],
          [
           "The Rose"
          ],
          [
           "Baggage Claim"
          ],
          [
           "Barbarella"
          ],
          [
           "The Namesake"
          ],
          [
           "The DUFF"
          ],
          [
           "Glitter"
          ],
          [
           "Bright Star"
          ],
          [
           "My Name Is Khan"
          ],
          [
           "All Is Lost"
          ],
          [
           "Limbo"
          ],
          [
           "The Wind That Shakes the Barley"
          ],
          [
           "Yeh Jawaani Hai Deewani"
          ],
          [
           "Quo Vadis"
          ],
          [
           "Pulp Fiction"
          ],
          [
           "Nightcrawler"
          ],
          [
           "Club Dread"
          ],
          [
           "The Sound of Music"
          ],
          [
           "Splash"
          ],
          [
           "Little Miss Sunshine"
          ],
          [
           "Stand by Me"
          ],
          [
           "28 Days Later"
          ],
          [
           "Escape from Alcatraz"
          ],
          [
           "Brown Sugar"
          ],
          [
           "50/50"
          ],
          [
           "That Awkward Moment"
          ],
          [
           "On Her Majesty's Secret Service"
          ],
          [
           "New Nightmare"
          ],
          [
           "Drive Me Crazy"
          ],
          [
           "Akeelah and the Bee"
          ],
          [
           "Half Baked"
          ],
          [
           "New in Town"
          ],
          [
           "American Psycho"
          ],
          [
           "The Good Girl"
          ],
          [
           "Bon Cop Bad Cop"
          ],
          [
           "The Boondock Saints II: All Saints Day"
          ],
          [
           "Easy A"
          ],
          [
           "Shadow of the Vampire"
          ],
          [
           "Prom"
          ],
          [
           "Anomalisa"
          ],
          [
           "Another Year"
          ],
          [
           "Showdown in Little Tokyo"
          ],
          [
           "It's Kind of a Funny Story"
          ],
          [
           "Prefontaine"
          ],
          [
           "Begin Again"
          ],
          [
           "Down in the Valley"
          ],
          [
           "Brooklyn Rules"
          ],
          [
           "Fido"
          ],
          [
           "Wild Target"
          ],
          [
           "10th & Wolf"
          ],
          [
           "Aloft"
          ],
          [
           "Akira"
          ],
          [
           "The Death and Life of Bobby Z"
          ],
          [
           "The Rocket: The Legend of Rocket Richard"
          ],
          [
           "Swimming Pool"
          ],
          [
           "Driving Miss Daisy"
          ],
          [
           "Rumble in the Bronx"
          ],
          [
           "Thank You for Smoking"
          ],
          [
           "Hostel: Part II"
          ],
          [
           "An Education"
          ],
          [
           "Shopgirl"
          ],
          [
           "Narc"
          ],
          [
           "Men with Brooms"
          ],
          [
           "The Work and the Glory"
          ],
          [
           "Extract"
          ],
          [
           "Albert Nobbs"
          ],
          [
           "The Wave"
          ],
          [
           "The Neon Demon"
          ],
          [
           "Harry Brown"
          ],
          [
           "Juno"
          ],
          [
           "Diamonds Are Forever"
          ],
          [
           "The Godfather"
          ],
          [
           "Flashdance"
          ],
          [
           "(500) Days of Summer"
          ],
          [
           "The Piano"
          ],
          [
           "Magic Mike"
          ],
          [
           "Live and Let Die"
          ],
          [
           "Jumping the Broom"
          ],
          [
           "Good Night, and Good Luck."
          ],
          [
           "Capote"
          ],
          [
           "Desperado"
          ],
          [
           "Logan's Run"
          ],
          [
           "The Man with the Golden Gun"
          ],
          [
           "Action Jackson"
          ],
          [
           "Devil's Due"
          ],
          [
           "Flirting with Disaster"
          ],
          [
           "Dope"
          ],
          [
           "In Too Deep"
          ],
          [
           "House of 1000 Corpses"
          ],
          [
           "A Serious Man"
          ],
          [
           "Beyond the Lights"
          ],
          [
           "The Last Temptation of Christ"
          ],
          [
           "Outside Providence"
          ],
          [
           "Split Second"
          ],
          [
           "The Other Side of Heaven"
          ],
          [
           "Veer-Zaara"
          ],
          [
           "Auto Focus"
          ],
          [
           "We Need to Talk About Kevin"
          ],
          [
           "Losin' It"
          ],
          [
           "I Hope They Serve Beer in Hell"
          ],
          [
           "Hesher"
          ],
          [
           "Freeheld"
          ],
          [
           "The Extra Man"
          ],
          [
           "Hard to Be a God"
          ],
          [
           "Ca$h"
          ],
          [
           "The Boondock Saints"
          ],
          [
           "The Snow Queen"
          ],
          [
           "Stargate: The Ark of Truth"
          ],
          [
           "Dazed and Confused"
          ],
          [
           "House at the End of the Street"
          ],
          [
           "Incendies"
          ],
          [
           "Annabelle"
          ],
          [
           "Bran Nue Dae"
          ],
          [
           "Boyz n the Hood"
          ],
          [
           "La Bamba"
          ],
          [
           "Dressed to Kill"
          ],
          [
           "Go"
          ],
          [
           "Friends with Money"
          ],
          [
           "The Andromeda Strain"
          ],
          [
           "Shame"
          ],
          [
           "Layer Cake"
          ],
          [
           "The Work and the Glory II: American Zion"
          ],
          [
           "The East"
          ],
          [
           "A Home at the End of the World"
          ],
          [
           "The Messenger"
          ],
          [
           "The Terminator"
          ],
          [
           "Good bye, Lenin!"
          ],
          [
           "The Return of the Living Dead"
          ],
          [
           "Mallrats"
          ],
          [
           "Grease"
          ],
          [
           "Platoon"
          ],
          [
           "Fahrenheit 9/11"
          ],
          [
           "Butch Cassidy and the Sundance Kid"
          ],
          [
           "Mary Poppins"
          ],
          [
           "West Side Story"
          ],
          [
           "Caddyshack"
          ],
          [
           "The Wood"
          ],
          [
           "The Usual Suspects"
          ],
          [
           "A Nightmare on Elm Street 5: The Dream Child"
          ],
          [
           "National Lampoon’s Van Wilder"
          ],
          [
           "The Wrestler"
          ],
          [
           "Duel in the Sun"
          ],
          [
           "Escape from New York"
          ],
          [
           "Daddy Day Camp"
          ],
          [
           "Mr. Nice Guy"
          ],
          [
           "A Mighty Wind"
          ],
          [
           "Sliding Doors"
          ],
          [
           "Tales from the Hood"
          ],
          [
           "The Last King of Scotland"
          ],
          [
           "Halloween 5: The Revenge of Michael Myers"
          ],
          [
           "Bernie"
          ],
          [
           "Dolphins and Whales: Tribes of the Ocean"
          ],
          [
           "200 Cigarettes"
          ],
          [
           "The Words"
          ],
          [
           "City Island"
          ],
          [
           "The Guard"
          ],
          [
           "College"
          ],
          [
           "The Virgin Suicides"
          ],
          [
           "Wish I Was Here"
          ],
          [
           "Simply Irresistible"
          ],
          [
           "Only the Strong"
          ],
          [
           "Shattered Glass"
          ],
          [
           "Novocaine"
          ],
          [
           "The Wild Bunch"
          ],
          [
           "The Wackness"
          ],
          [
           "Beastmaster 2: Through the Portal of Time"
          ],
          [
           "The 5th Quarter"
          ],
          [
           "Snow Flower and the Secret Fan"
          ],
          [
           "Surfer, Dude"
          ],
          [
           "Deadfall"
          ],
          [
           "Videodrome"
          ],
          [
           "The Spanish Apartment"
          ],
          [
           "Song One"
          ],
          [
           "Winter in Wartime"
          ],
          [
           "The Train"
          ],
          [
           "The Protector"
          ],
          [
           "Bend It Like Beckham"
          ],
          [
           "Crossover"
          ],
          [
           "[REC]²"
          ],
          [
           "The Sting"
          ],
          [
           "Chariots of Fire"
          ],
          [
           "High Plains Drifter"
          ],
          [
           "Galaxina"
          ],
          [
           "Mambo Italiano"
          ],
          [
           "Wonderland"
          ],
          [
           "Do the Right Thing"
          ],
          [
           "Rang De Basanti"
          ],
          [
           "Miss Julie"
          ],
          [
           "Saw II"
          ],
          [
           "10 Cloverfield Lane"
          ],
          [
           "Jackass: The Movie"
          ],
          [
           "Lights Out"
          ],
          [
           "Paranormal Activity 3"
          ],
          [
           "Ouija"
          ],
          [
           "A Nightmare on Elm Street 3: Dream Warriors"
          ],
          [
           "Instructions Not Included"
          ],
          [
           "Paranormal Activity 4"
          ],
          [
           "The Robe"
          ],
          [
           "The Return of the Pink Panther"
          ],
          [
           "Freddy's Dead: The Final Nightmare"
          ],
          [
           "Monster"
          ],
          [
           "20,000 Leagues Under the Sea"
          ],
          [
           "Paranormal Activity: The Marked Ones"
          ],
          [
           "The Elephant Man"
          ],
          [
           "Dallas Buyers Club"
          ],
          [
           "The Lazarus Effect"
          ],
          [
           "Memento"
          ],
          [
           "Oculus"
          ],
          [
           "Clerks II"
          ],
          [
           "Billy Elliot"
          ],
          [
           "The Way Way Back"
          ],
          [
           "The Man from Snowy River"
          ],
          [
           "Our Idiot Brother"
          ],
          [
           "Race"
          ],
          [
           "As Above, So Below"
          ],
          [
           "Still Alice"
          ],
          [
           "The Egyptian"
          ],
          [
           "Nighthawks"
          ],
          [
           "Friday the 13th Part VIII: Jason Takes Manhattan"
          ],
          [
           "My Big Fat Greek Wedding"
          ],
          [
           "Spring Breakers"
          ],
          [
           "Halloween: The Curse of Michael Myers"
          ],
          [
           "Y Tu Mamá También"
          ],
          [
           "Shaun of the Dead"
          ],
          [
           "Lone Star"
          ],
          [
           "Halloween 4: The Return of Michael Myers"
          ],
          [
           "Lone Wolf McQuade"
          ],
          [
           "Apollo 18"
          ],
          [
           "Sunshine Cleaning"
          ],
          [
           "No Escape"
          ],
          [
           "Solomon and Sheba"
          ],
          [
           "Fifty Shades of Black"
          ],
          [
           "A Farewell to Arms"
          ],
          [
           "The Barbarian Invasions"
          ],
          [
           "Force 10 from Navarone"
          ],
          [
           "Once Upon a Time in the West"
          ],
          [
           "Made"
          ],
          [
           "Moon"
          ],
          [
           "Sea Rex 3D: Journey to a Prehistoric World"
          ],
          [
           "The Sweet Hereafter"
          ],
          [
           "Of Gods and Men"
          ],
          [
           "Bottle Shock"
          ],
          [
           "Heavenly Creatures"
          ],
          [
           "90 Minutes in Heaven"
          ],
          [
           "Everything Must Go"
          ],
          [
           "Zero Effect"
          ],
          [
           "The Machinist"
          ],
          [
           "Kill the Messenger"
          ],
          [
           "Rabbit Hole"
          ],
          [
           "Party Monster"
          ],
          [
           "Green Room"
          ],
          [
           "Atlas Shrugged Part III: Who is John Galt?"
          ],
          [
           "Bottle Rocket"
          ],
          [
           "Tucker and Dale vs Evil"
          ],
          [
           "The Visit"
          ],
          [
           "Redacted"
          ],
          [
           "Soul Kitchen"
          ],
          [
           "Sling Blade"
          ],
          [
           "The Awakening"
          ],
          [
           "Hostel"
          ],
          [
           "Take Shelter"
          ],
          [
           "The Texas Chainsaw Massacre 2"
          ],
          [
           "Pat Garrett & Billy the Kid"
          ],
          [
           "Only God Forgives"
          ],
          [
           "Police Academy"
          ],
          [
           "The Blue Lagoon"
          ],
          [
           "Four Weddings and a Funeral"
          ],
          [
           "Fast Times at Ridgemont High"
          ],
          [
           "Moby Dick"
          ],
          [
           "25th Hour"
          ],
          [
           "Bound"
          ],
          [
           "Requiem for a Dream"
          ],
          [
           "Moms' Night Out"
          ],
          [
           "Donnie Darko"
          ],
          [
           "Life During Wartime"
          ],
          [
           "After.Life"
          ],
          [
           "One Flew Over the Cuckoo's Nest"
          ],
          [
           "Airlift"
          ],
          [
           "The Sweeney"
          ],
          [
           "Whale Rider"
          ],
          [
           "Night Watch"
          ],
          [
           "The Crying Game"
          ],
          [
           "Porky's"
          ],
          [
           "Night of the Living Dead"
          ],
          [
           "Lost in Translation"
          ],
          [
           "Annie Hall"
          ],
          [
           "The Greatest Show on Earth"
          ],
          [
           "Monster's Ball"
          ],
          [
           "Maggie"
          ],
          [
           "Leaving Las Vegas"
          ],
          [
           "The Boy Next Door"
          ],
          [
           "Trapeze"
          ],
          [
           "The Kids Are All Right"
          ],
          [
           "They Live"
          ],
          [
           "The Great Escape"
          ],
          [
           "The Last Exorcism Part II"
          ],
          [
           "Boyhood"
          ],
          [
           "Scoop"
          ],
          [
           "The Wash"
          ],
          [
           "3 Strikes"
          ],
          [
           "The Misfits"
          ],
          [
           "Topaz"
          ],
          [
           "Let's Go to Prison"
          ],
          [
           "Four Rooms"
          ],
          [
           "Secretary"
          ],
          [
           "Talk Radio"
          ],
          [
           "You Kill Me"
          ],
          [
           "Red State"
          ],
          [
           "Mirrormask"
          ],
          [
           "Joe"
          ],
          [
           "Shooting Fish"
          ],
          [
           "Prison"
          ],
          [
           "Trust"
          ],
          [
           "Adore"
          ],
          [
           "Mondays in the Sun"
          ],
          [
           "Stake Land"
          ],
          [
           "Another Happy Day"
          ],
          [
           "A Lonely Place to Die"
          ],
          [
           "Hell's Angels"
          ],
          [
           "A Man for All Seasons"
          ],
          [
           "Network"
          ],
          [
           "Gone with the Wind"
          ],
          [
           "Major Dundee"
          ],
          [
           "Annie Get Your Gun"
          ],
          [
           "Four Lions"
          ],
          [
           "Defendor"
          ],
          [
           "The Pirate"
          ],
          [
           "The History Boys"
          ],
          [
           "Midnight Cowboy"
          ],
          [
           "The Full Monty"
          ],
          [
           "Airplane!"
          ],
          [
           "Friday"
          ],
          [
           "Menace II Society"
          ],
          [
           "Creepshow 2"
          ],
          [
           "The Ballad of Cable Hogue"
          ],
          [
           "In Cold Blood"
          ],
          [
           "The Nun's Story"
          ],
          [
           "Harper"
          ],
          [
           "Frenzy"
          ],
          [
           "The Witch"
          ],
          [
           "She's the One"
          ],
          [
           "Gods and Monsters"
          ],
          [
           "The Secret in Their Eyes"
          ],
          [
           "Evil Dead II"
          ],
          [
           "Troll Hunter"
          ],
          [
           "Winter Passing"
          ],
          [
           "High Anxiety"
          ],
          [
           "March of the Penguins"
          ],
          [
           "Margin Call"
          ],
          [
           "Choke"
          ],
          [
           "Whiplash"
          ],
          [
           "City of God"
          ],
          [
           "Human Traffic"
          ],
          [
           "The Hunt"
          ],
          [
           "The Opposite Sex"
          ],
          [
           "Dreaming of Joseph Lees"
          ],
          [
           "Rosemary's Baby"
          ],
          [
           "The Man Who Shot Liberty Valance"
          ],
          [
           "Beginners"
          ],
          [
           "Animal House"
          ],
          [
           "Goldfinger"
          ],
          [
           "It's a Wonderful Life"
          ],
          [
           "Trainspotting"
          ],
          [
           "Paranormal Activity 2"
          ],
          [
           "Bowling for Columbine"
          ],
          [
           "A Nightmare on Elm Street Part 2: Freddy's Revenge"
          ],
          [
           "A Room with a View"
          ],
          [
           "The Purge"
          ],
          [
           "Sinister"
          ],
          [
           "Martin Lawrence Live: Runteldat"
          ],
          [
           "Cat on a Hot Tin Roof"
          ],
          [
           "Beneath the Planet of the Apes"
          ],
          [
           "Air Bud"
          ],
          [
           "Pokémon: Spell of the Unknown"
          ],
          [
           "Friday the 13th Part VI: Jason Lives"
          ],
          [
           "The Bridge on the River Kwai"
          ],
          [
           "Spaced Invaders"
          ],
          [
           "Family Plot"
          ],
          [
           "The Apartment"
          ],
          [
           "Jason Goes to Hell: The Final Friday"
          ],
          [
           "Torn Curtain"
          ],
          [
           "Dave Chappelle's Block Party"
          ],
          [
           "Elmer Gantry"
          ],
          [
           "Judgment at Nuremberg"
          ],
          [
           "Red River"
          ],
          [
           "Before Midnight"
          ],
          [
           "Phantasm II"
          ],
          [
           "Woman Thou Art Loosed"
          ],
          [
           "East Is East"
          ],
          [
           "Kama Sutra - A Tale of Love"
          ],
          [
           "Willy Wonka & the Chocolate Factory"
          ],
          [
           "Jawbreaker"
          ],
          [
           "Basquiat"
          ],
          [
           "Tsotsi"
          ],
          [
           "Happiness"
          ],
          [
           "Tusk"
          ],
          [
           "Oldboy"
          ],
          [
           "Hobo with a Shotgun"
          ],
          [
           "Fish Tank"
          ],
          [
           "Bachelorette"
          ],
          [
           "The Divide"
          ],
          [
           "Demonic"
          ],
          [
           "Point Blank"
          ],
          [
           "Central Station"
          ],
          [
           "Pocketful of Miracles"
          ],
          [
           "Freakonomics"
          ],
          [
           "Hustle & Flow"
          ],
          [
           "Some Like It Hot"
          ],
          [
           "Friday the 13th Part VII: The New Blood"
          ],
          [
           "The Wizard of Oz"
          ],
          [
           "Young Frankenstein"
          ],
          [
           "Diary of the Dead"
          ],
          [
           "The Black Stallion"
          ],
          [
           "Donovan's Reef"
          ],
          [
           "A Guy Named Joe"
          ],
          [
           "Blazing Saddles"
          ],
          [
           "Friday the 13th: The Final Chapter"
          ],
          [
           "Ida"
          ],
          [
           "Riding Giants"
          ],
          [
           "Timecrimes"
          ],
          [
           "Singin' in the Rain"
          ],
          [
           "A Haunted House"
          ],
          [
           "2016: Obama's America"
          ],
          [
           "Halloween III: Season of the Witch"
          ],
          [
           "Escape from the Planet of the Apes"
          ],
          [
           "Hud"
          ],
          [
           "Garden State"
          ],
          [
           "Before Sunrise"
          ],
          [
           "Robot & Frank"
          ],
          [
           "The Spectacular Now"
          ],
          [
           "Eye of the Dolphin"
          ],
          [
           "Sleep Dealer"
          ],
          [
           "Super"
          ],
          [
           "Get on the Bus"
          ],
          [
           "Idiocracy"
          ],
          [
           "This Is England"
          ],
          [
           "Bathing Beauty"
          ],
          [
           "Show Boat"
          ],
          [
           "Fantasia"
          ],
          [
           "Friday the 13th Part III"
          ],
          [
           "Friday the 13th: A New Beginning"
          ],
          [
           "The Valley of Decision"
          ],
          [
           "The Best Years of Our Lives"
          ],
          [
           "Mi America"
          ],
          [
           "[REC]"
          ],
          [
           "From Russia with Love"
          ],
          [
           "Sleeper"
          ],
          [
           "It Follows"
          ],
          [
           "Everything You Always Wanted to Know About Sex *But Were Afraid to Ask"
          ],
          [
           "To Kill a Mockingbird"
          ],
          [
           "Mad Max 2: The Road Warrior"
          ],
          [
           "Boys Don't Cry"
          ],
          [
           "Silent House"
          ],
          [
           "The Lives of Others"
          ],
          [
           "Courageous"
          ],
          [
           "The Hustler"
          ],
          [
           "Boom Town"
          ],
          [
           "The Triplets of Belleville"
          ],
          [
           "Before Sunset"
          ],
          [
           "Amores perros"
          ],
          [
           "Thirteen"
          ],
          [
           "Gentleman's Agreement"
          ],
          [
           "Winter's Bone"
          ],
          [
           "Alexander's Ragtime Band"
          ],
          [
           "Inside Job"
          ],
          [
           "We Are Your Friends"
          ],
          [
           "Harsh Times"
          ],
          [
           "Captive"
          ],
          [
           "Full Frontal"
          ],
          [
           "Shortbus"
          ],
          [
           "Waltz with Bashir"
          ],
          [
           "The Book of Mormon Movie, Volume 1: The Journey"
          ],
          [
           "No End in Sight"
          ],
          [
           "The Diary of a Teenage Girl"
          ],
          [
           "Inside Deep Throat"
          ],
          [
           "The Virginity Hit"
          ],
          [
           "Subway"
          ],
          [
           "Six-String Samurai"
          ],
          [
           "It's All Gone Pete Tong"
          ],
          [
           "Saint John of Las Vegas"
          ],
          [
           "Stonewall"
          ],
          [
           "Roadside Romeo"
          ],
          [
           "Return of the Living Dead 3"
          ],
          [
           "Sherrybaby"
          ],
          [
           "Stitches"
          ],
          [
           "Bananas"
          ],
          [
           "Buried"
          ],
          [
           "The Last Exorcism"
          ],
          [
           "A Streetcar Named Desire"
          ],
          [
           "Dr. Strangelove or: How I Learned to Stop Worrying and Love the Bomb"
          ],
          [
           "Beasts of the Southern Wild"
          ],
          [
           "Battle for the Planet of the Apes"
          ],
          [
           "Higher Ground"
          ],
          [
           "Hang 'em High"
          ],
          [
           "Run Lola Run"
          ],
          [
           "May"
          ],
          [
           "Conquest of the Planet of the Apes"
          ],
          [
           "I Spit on Your Grave"
          ],
          [
           "Happy, Texas"
          ],
          [
           "The Lunchbox"
          ],
          [
           "You Can't Take It With You"
          ],
          [
           "From Here to Eternity"
          ],
          [
           "She Wore a Yellow Ribbon"
          ],
          [
           "The Conversation"
          ],
          [
           "Waitress"
          ],
          [
           "Bloodsport"
          ],
          [
           "Mr. Smith Goes to Washington"
          ],
          [
           "Kids"
          ],
          [
           "The Squid and the Whale"
          ],
          [
           "Kissing Jessica Stein"
          ],
          [
           "Spellbound"
          ],
          [
           "Buffalo '66"
          ],
          [
           "Insidious"
          ],
          [
           "Repo Man"
          ],
          [
           "The Ballad of Jack and Rose"
          ],
          [
           "The To Do List"
          ],
          [
           "Killing Zoe"
          ],
          [
           "The Believer"
          ],
          [
           "Session 9"
          ],
          [
           "Modern Times"
          ],
          [
           "My Name Is Bruce"
          ],
          [
           "Pontypool"
          ],
          [
           "The Lords of Salem"
          ],
          [
           "Snow White and the Seven Dwarfs"
          ],
          [
           "Shalako"
          ],
          [
           "Lock, Stock and Two Smoking Barrels"
          ],
          [
           "Journey from the Fall"
          ],
          [
           "Rebecca"
          ],
          [
           "Friday the 13th Part 2"
          ],
          [
           "The Lost Weekend"
          ],
          [
           "C.H.U.D."
          ],
          [
           "Niagara"
          ],
          [
           "How Green Was My Valley"
          ],
          [
           "Saw"
          ],
          [
           "Super Troopers"
          ],
          [
           "The Trouble with Harry"
          ],
          [
           "Home Run"
          ],
          [
           "Reservoir Dogs"
          ],
          [
           "The Good, the Bad and the Ugly"
          ],
          [
           "Pink Ribbons, Inc."
          ],
          [
           "The Charge of the Light Brigade"
          ],
          [
           "Airborne"
          ],
          [
           "Waiting..."
          ],
          [
           "From a Whisper to a Scream"
          ],
          [
           "The Raid"
          ],
          [
           "Casablanca"
          ],
          [
           "Rocky"
          ],
          [
           "Tom Jones"
          ],
          [
           "Unfriended"
          ],
          [
           "Taxi Driver"
          ],
          [
           "The Howling"
          ],
          [
           "Dr. No"
          ],
          [
           "Hellraiser"
          ],
          [
           "God's Not Dead 2"
          ],
          [
           "Cry_Wolf"
          ],
          [
           "Godzilla 2000"
          ],
          [
           "Blue Valentine"
          ],
          [
           "Transamerica"
          ],
          [
           "The Devil Inside"
          ],
          [
           "Beyond the Valley of the Dolls"
          ],
          [
           "Love Me Tender"
          ],
          [
           "An Inconvenient Truth"
          ],
          [
           "Sands of Iwo Jima"
          ],
          [
           "The Green Inferno"
          ],
          [
           "The Sessions"
          ],
          [
           "Two Girls and a Guy"
          ],
          [
           "Who Killed the Electric Car?"
          ],
          [
           "The Broken Hearts Club: A Romantic Comedy"
          ],
          [
           "Brigham City"
          ],
          [
           "Fiza"
          ],
          [
           "Blue Car"
          ],
          [
           "The Act of Killing"
          ],
          [
           "Taxi to the Dark Side"
          ],
          [
           "Alone With Her"
          ],
          [
           "Special"
          ],
          [
           "Charly"
          ],
          [
           "On the Waterfront"
          ],
          [
           "L!fe Happens"
          ],
          [
           "4 Months, 3 Weeks and 2 Days"
          ],
          [
           "Hard Candy"
          ],
          [
           "The Quiet"
          ],
          [
           "Bambi"
          ],
          [
           "Latter Days"
          ],
          [
           "For a Good Time, Call..."
          ],
          [
           "Ruby in Paradise"
          ],
          [
           "Raising Victor Vargas"
          ],
          [
           "The Mudge Boy"
          ],
          [
           "Dead Snow"
          ],
          [
           "American Graffiti"
          ],
          [
           "Safety Not Guaranteed"
          ],
          [
           "Kill List"
          ],
          [
           "The Innkeepers"
          ],
          [
           "High Noon"
          ],
          [
           "Hoop Dreams"
          ],
          [
           "L.I.E."
          ],
          [
           "Half Nelson"
          ],
          [
           "Naturally Native"
          ],
          [
           "Top Hat"
          ],
          [
           "The Blair Witch Project"
          ],
          [
           "Woodstock"
          ],
          [
           "A Hard Day's Night"
          ],
          [
           "Fireproof"
          ],
          [
           "Open Water"
          ],
          [
           "Kingdom of the Spiders"
          ],
          [
           "The Station Agent"
          ],
          [
           "Beyond the Mat"
          ],
          [
           "Sholem Aleichem: Laughing In The Darkness"
          ],
          [
           "Mean Creek"
          ],
          [
           "Seven Samurai"
          ],
          [
           "Rubber"
          ],
          [
           "Monsters"
          ],
          [
           "Conversations with Other Women"
          ],
          [
           "42nd Street"
          ],
          [
           "Napoleon Dynamite"
          ],
          [
           "Paranormal Activity"
          ],
          [
           "Monty Python and the Holy Grail"
          ],
          [
           "Tarnation"
          ],
          [
           "What Happens in Vegas"
          ],
          [
           "My Beautiful Laundrette"
          ],
          [
           "Intolerance"
          ],
          [
           "The Broadway Melody"
          ],
          [
           "The Evil Dead"
          ],
          [
           "Maniac"
          ],
          [
           "Murderball"
          ],
          [
           "12 Angry Men"
          ],
          [
           "It Happened One Night"
          ],
          [
           "Tupac: Resurrection"
          ],
          [
           "Tumbleweeds"
          ],
          [
           "The Prophecy"
          ],
          [
           "Ayurveda: Art of Being"
          ],
          [
           "First Love, Last Rites"
          ],
          [
           "Death Race 2000"
          ],
          [
           "Chasing Amy"
          ],
          [
           "Lovely & Amazing"
          ],
          [
           "Cube"
          ],
          [
           "I Married a Strange Person!"
          ],
          [
           "Like Crazy"
          ],
          [
           "The Canyons"
          ],
          [
           "The Big Parade"
          ],
          [
           "Bronson"
          ],
          [
           "Burn"
          ],
          [
           "The Stewardesses"
          ],
          [
           "The Beast from 20,000 Fathoms"
          ],
          [
           "Mad Max"
          ],
          [
           "Swingers"
          ],
          [
           "A Fistful of Dollars"
          ],
          [
           "She Done Him Wrong"
          ],
          [
           "The Grace Card"
          ],
          [
           "Children of Heaven"
          ],
          [
           "Weekend"
          ],
          [
           "Another Earth"
          ],
          [
           "Sweet Sweetback's Baadasssss Song"
          ],
          [
           "Tadpole"
          ],
          [
           "Once"
          ],
          [
           "Roger & Me"
          ],
          [
           "Your Sister's Sister"
          ],
          [
           "The Birth of a Nation"
          ],
          [
           "Facing the Giants"
          ],
          [
           "The Gallows"
          ],
          [
           "Eraserhead"
          ],
          [
           "Pi"
          ],
          [
           "Super Size Me"
          ],
          [
           "Tiny Furniture"
          ],
          [
           "The Signal"
          ],
          [
           "Down Terrace"
          ],
          [
           "Clerks"
          ],
          [
           "Pink Flamingos"
          ],
          [
           "Cure"
          ],
          [
           "Primer"
          ],
          [
           "El Mariachi"
          ]
         ],
         "hovertemplate": "log_budget=%{x}<br>log_revenue=%{y}<br>title_x=%{customdata[0]}<extra></extra>",
         "legendgroup": "",
         "marker": {
          "color": "#636efa",
          "symbol": "circle"
         },
         "mode": "markers",
         "name": "",
         "showlegend": false,
         "type": "scattergl",
         "x": {
          "bdata": "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",
          "dtype": "f8"
         },
         "xaxis": "x",
         "y": {
          "bdata": "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",
          "dtype": "f8"
         },
         "yaxis": "y"
        }
       ],
       "layout": {
        "legend": {
         "tracegroupgap": 0
        },
        "template": {
         "data": {
          "bar": [
           {
            "error_x": {
             "color": "#2a3f5f"
            },
            "error_y": {
             "color": "#2a3f5f"
            },
            "marker": {
             "line": {
              "color": "#E5ECF6",
              "width": 0.5
             },
             "pattern": {
              "fillmode": "overlay",
              "size": 10,
              "solidity": 0.2
             }
            },
            "type": "bar"
           }
          ],
          "barpolar": [
           {
            "marker": {
             "line": {
              "color": "#E5ECF6",
              "width": 0.5
             },
             "pattern": {
              "fillmode": "overlay",
              "size": 10,
              "solidity": 0.2
             }
            },
            "type": "barpolar"
           }
          ],
          "carpet": [
           {
            "aaxis": {
             "endlinecolor": "#2a3f5f",
             "gridcolor": "white",
             "linecolor": "white",
             "minorgridcolor": "white",
             "startlinecolor": "#2a3f5f"
            },
            "baxis": {
             "endlinecolor": "#2a3f5f",
             "gridcolor": "white",
             "linecolor": "white",
             "minorgridcolor": "white",
             "startlinecolor": "#2a3f5f"
            },
            "type": "carpet"
           }
          ],
          "choropleth": [
           {
            "colorbar": {
             "outlinewidth": 0,
             "ticks": ""
            },
            "type": "choropleth"
           }
          ],
          "contour": [
           {
            "colorbar": {
             "outlinewidth": 0,
             "ticks": ""
            },
            "colorscale": [
             [
              0,
              "#0d0887"
             ],
             [
              0.1111111111111111,
              "#46039f"
             ],
             [
              0.2222222222222222,
              "#7201a8"
             ],
             [
              0.3333333333333333,
              "#9c179e"
             ],
             [
              0.4444444444444444,
              "#bd3786"
             ],
             [
              0.5555555555555556,
              "#d8576b"
             ],
             [
              0.6666666666666666,
              "#ed7953"
             ],
             [
              0.7777777777777778,
              "#fb9f3a"
             ],
             [
              0.8888888888888888,
              "#fdca26"
             ],
             [
              1,
              "#f0f921"
             ]
            ],
            "type": "contour"
           }
          ],
          "contourcarpet": [
           {
            "colorbar": {
             "outlinewidth": 0,
             "ticks": ""
            },
            "type": "contourcarpet"
           }
          ],
          "heatmap": [
           {
            "colorbar": {
             "outlinewidth": 0,
             "ticks": ""
            },
            "colorscale": [
             [
              0,
              "#0d0887"
             ],
             [
              0.1111111111111111,
              "#46039f"
             ],
             [
              0.2222222222222222,
              "#7201a8"
             ],
             [
              0.3333333333333333,
              "#9c179e"
             ],
             [
              0.4444444444444444,
              "#bd3786"
             ],
             [
              0.5555555555555556,
              "#d8576b"
             ],
             [
              0.6666666666666666,
              "#ed7953"
             ],
             [
              0.7777777777777778,
              "#fb9f3a"
             ],
             [
              0.8888888888888888,
              "#fdca26"
             ],
             [
              1,
              "#f0f921"
             ]
            ],
            "type": "heatmap"
           }
          ],
          "histogram": [
           {
            "marker": {
             "pattern": {
              "fillmode": "overlay",
              "size": 10,
              "solidity": 0.2
             }
            },
            "type": "histogram"
           }
          ],
          "histogram2d": [
           {
            "colorbar": {
             "outlinewidth": 0,
             "ticks": ""
            },
            "colorscale": [
             [
              0,
              "#0d0887"
             ],
             [
              0.1111111111111111,
              "#46039f"
             ],
             [
              0.2222222222222222,
              "#7201a8"
             ],
             [
              0.3333333333333333,
              "#9c179e"
             ],
             [
              0.4444444444444444,
              "#bd3786"
             ],
             [
              0.5555555555555556,
              "#d8576b"
             ],
             [
              0.6666666666666666,
              "#ed7953"
             ],
             [
              0.7777777777777778,
              "#fb9f3a"
             ],
             [
              0.8888888888888888,
              "#fdca26"
             ],
             [
              1,
              "#f0f921"
             ]
            ],
            "type": "histogram2d"
           }
          ],
          "histogram2dcontour": [
           {
            "colorbar": {
             "outlinewidth": 0,
             "ticks": ""
            },
            "colorscale": [
             [
              0,
              "#0d0887"
             ],
             [
              0.1111111111111111,
              "#46039f"
             ],
             [
              0.2222222222222222,
              "#7201a8"
             ],
             [
              0.3333333333333333,
              "#9c179e"
             ],
             [
              0.4444444444444444,
              "#bd3786"
             ],
             [
              0.5555555555555556,
              "#d8576b"
             ],
             [
              0.6666666666666666,
              "#ed7953"
             ],
             [
              0.7777777777777778,
              "#fb9f3a"
             ],
             [
              0.8888888888888888,
              "#fdca26"
             ],
             [
              1,
              "#f0f921"
             ]
            ],
            "type": "histogram2dcontour"
           }
          ],
          "mesh3d": [
           {
            "colorbar": {
             "outlinewidth": 0,
             "ticks": ""
            },
            "type": "mesh3d"
           }
          ],
          "parcoords": [
           {
            "line": {
             "colorbar": {
              "outlinewidth": 0,
              "ticks": ""
             }
            },
            "type": "parcoords"
           }
          ],
          "pie": [
           {
            "automargin": true,
            "type": "pie"
           }
          ],
          "scatter": [
           {
            "fillpattern": {
             "fillmode": "overlay",
             "size": 10,
             "solidity": 0.2
            },
            "type": "scatter"
           }
          ],
          "scatter3d": [
           {
            "line": {
             "colorbar": {
              "outlinewidth": 0,
              "ticks": ""
             }
            },
            "marker": {
             "colorbar": {
              "outlinewidth": 0,
              "ticks": ""
             }
            },
            "type": "scatter3d"
           }
          ],
          "scattercarpet": [
           {
            "marker": {
             "colorbar": {
              "outlinewidth": 0,
              "ticks": ""
             }
            },
            "type": "scattercarpet"
           }
          ],
          "scattergeo": [
           {
            "marker": {
             "colorbar": {
              "outlinewidth": 0,
              "ticks": ""
             }
            },
            "type": "scattergeo"
           }
          ],
          "scattergl": [
           {
            "marker": {
             "colorbar": {
              "outlinewidth": 0,
              "ticks": ""
             }
            },
            "type": "scattergl"
           }
          ],
          "scattermap": [
           {
            "marker": {
             "colorbar": {
              "outlinewidth": 0,
              "ticks": ""
             }
            },
            "type": "scattermap"
           }
          ],
          "scattermapbox": [
           {
            "marker": {
             "colorbar": {
              "outlinewidth": 0,
              "ticks": ""
             }
            },
            "type": "scattermapbox"
           }
          ],
          "scatterpolar": [
           {
            "marker": {
             "colorbar": {
              "outlinewidth": 0,
              "ticks": ""
             }
            },
            "type": "scatterpolar"
           }
          ],
          "scatterpolargl": [
           {
            "marker": {
             "colorbar": {
              "outlinewidth": 0,
              "ticks": ""
             }
            },
            "type": "scatterpolargl"
           }
          ],
          "scatterternary": [
           {
            "marker": {
             "colorbar": {
              "outlinewidth": 0,
              "ticks": ""
             }
            },
            "type": "scatterternary"
           }
          ],
          "surface": [
           {
            "colorbar": {
             "outlinewidth": 0,
             "ticks": ""
            },
            "colorscale": [
             [
              0,
              "#0d0887"
             ],
             [
              0.1111111111111111,
              "#46039f"
             ],
             [
              0.2222222222222222,
              "#7201a8"
             ],
             [
              0.3333333333333333,
              "#9c179e"
             ],
             [
              0.4444444444444444,
              "#bd3786"
             ],
             [
              0.5555555555555556,
              "#d8576b"
             ],
             [
              0.6666666666666666,
              "#ed7953"
             ],
             [
              0.7777777777777778,
              "#fb9f3a"
             ],
             [
              0.8888888888888888,
              "#fdca26"
             ],
             [
              1,
              "#f0f921"
             ]
            ],
            "type": "surface"
           }
          ],
          "table": [
           {
            "cells": {
             "fill": {
              "color": "#EBF0F8"
             },
             "line": {
              "color": "white"
             }
            },
            "header": {
             "fill": {
              "color": "#C8D4E3"
             },
             "line": {
              "color": "white"
             }
            },
            "type": "table"
           }
          ]
         },
         "layout": {
          "annotationdefaults": {
           "arrowcolor": "#2a3f5f",
           "arrowhead": 0,
           "arrowwidth": 1
          },
          "autotypenumbers": "strict",
          "coloraxis": {
           "colorbar": {
            "outlinewidth": 0,
            "ticks": ""
           }
          },
          "colorscale": {
           "diverging": [
            [
             0,
             "#8e0152"
            ],
            [
             0.1,
             "#c51b7d"
            ],
            [
             0.2,
             "#de77ae"
            ],
            [
             0.3,
             "#f1b6da"
            ],
            [
             0.4,
             "#fde0ef"
            ],
            [
             0.5,
             "#f7f7f7"
            ],
            [
             0.6,
             "#e6f5d0"
            ],
            [
             0.7,
             "#b8e186"
            ],
            [
             0.8,
             "#7fbc41"
            ],
            [
             0.9,
             "#4d9221"
            ],
            [
             1,
             "#276419"
            ]
           ],
           "sequential": [
            [
             0,
             "#0d0887"
            ],
            [
             0.1111111111111111,
             "#46039f"
            ],
            [
             0.2222222222222222,
             "#7201a8"
            ],
            [
             0.3333333333333333,
             "#9c179e"
            ],
            [
             0.4444444444444444,
             "#bd3786"
            ],
            [
             0.5555555555555556,
             "#d8576b"
            ],
            [
             0.6666666666666666,
             "#ed7953"
            ],
            [
             0.7777777777777778,
             "#fb9f3a"
            ],
            [
             0.8888888888888888,
             "#fdca26"
            ],
            [
             1,
             "#f0f921"
            ]
           ],
           "sequentialminus": [
            [
             0,
             "#0d0887"
            ],
            [
             0.1111111111111111,
             "#46039f"
            ],
            [
             0.2222222222222222,
             "#7201a8"
            ],
            [
             0.3333333333333333,
             "#9c179e"
            ],
            [
             0.4444444444444444,
             "#bd3786"
            ],
            [
             0.5555555555555556,
             "#d8576b"
            ],
            [
             0.6666666666666666,
             "#ed7953"
            ],
            [
             0.7777777777777778,
             "#fb9f3a"
            ],
            [
             0.8888888888888888,
             "#fdca26"
            ],
            [
             1,
             "#f0f921"
            ]
           ]
          },
          "colorway": [
           "#636efa",
           "#EF553B",
           "#00cc96",
           "#ab63fa",
           "#FFA15A",
           "#19d3f3",
           "#FF6692",
           "#B6E880",
           "#FF97FF",
           "#FECB52"
          ],
          "font": {
           "color": "#2a3f5f"
          },
          "geo": {
           "bgcolor": "white",
           "lakecolor": "white",
           "landcolor": "#E5ECF6",
           "showlakes": true,
           "showland": true,
           "subunitcolor": "white"
          },
          "hoverlabel": {
           "align": "left"
          },
          "hovermode": "closest",
          "mapbox": {
           "style": "light"
          },
          "paper_bgcolor": "white",
          "plot_bgcolor": "#E5ECF6",
          "polar": {
           "angularaxis": {
            "gridcolor": "white",
            "linecolor": "white",
            "ticks": ""
           },
           "bgcolor": "#E5ECF6",
           "radialaxis": {
            "gridcolor": "white",
            "linecolor": "white",
            "ticks": ""
           }
          },
          "scene": {
           "xaxis": {
            "backgroundcolor": "#E5ECF6",
            "gridcolor": "white",
            "gridwidth": 2,
            "linecolor": "white",
            "showbackground": true,
            "ticks": "",
            "zerolinecolor": "white"
           },
           "yaxis": {
            "backgroundcolor": "#E5ECF6",
            "gridcolor": "white",
            "gridwidth": 2,
            "linecolor": "white",
            "showbackground": true,
            "ticks": "",
            "zerolinecolor": "white"
           },
           "zaxis": {
            "backgroundcolor": "#E5ECF6",
            "gridcolor": "white",
            "gridwidth": 2,
            "linecolor": "white",
            "showbackground": true,
            "ticks": "",
            "zerolinecolor": "white"
           }
          },
          "shapedefaults": {
           "line": {
            "color": "#2a3f5f"
           }
          },
          "ternary": {
           "aaxis": {
            "gridcolor": "white",
            "linecolor": "white",
            "ticks": ""
           },
           "baxis": {
            "gridcolor": "white",
            "linecolor": "white",
            "ticks": ""
           },
           "bgcolor": "#E5ECF6",
           "caxis": {
            "gridcolor": "white",
            "linecolor": "white",
            "ticks": ""
           }
          },
          "title": {
           "x": 0.05
          },
          "xaxis": {
           "automargin": true,
           "gridcolor": "white",
           "linecolor": "white",
           "ticks": "",
           "title": {
            "standoff": 15
           },
           "zerolinecolor": "white",
           "zerolinewidth": 2
          },
          "yaxis": {
           "automargin": true,
           "gridcolor": "white",
           "linecolor": "white",
           "ticks": "",
           "title": {
            "standoff": 15
           },
           "zerolinecolor": "white",
           "zerolinewidth": 2
          }
         }
        },
        "title": {
         "text": "Log-Scaled Budget vs Revenue"
        },
        "xaxis": {
         "anchor": "y",
         "domain": [
          0,
          1
         ],
         "title": {
          "text": "log_budget"
         }
        },
        "yaxis": {
         "anchor": "x",
         "domain": [
          0,
          1
         ],
         "title": {
          "text": "log_revenue"
         }
        }
       }
      }
     },
     "metadata": {},
     "output_type": "display_data"
    }
   ],
   "source": [
    "\n",
    "# Step 1: Filter out rows where budget or revenue is <= 0\n",
    "df_log = df[(df['budget'] > 0) & (df['revenue'] > 0)].copy()\n",
    "\n",
    "# Step 2: Apply log transformation\n",
    "df_log['log_budget'] = np.log1p(df_log['budget'])\n",
    "df_log['log_revenue'] = np.log1p(df_log['revenue'])\n",
    "\n",
    "fig_log_budget_rev = px.scatter(\n",
    "    df_log,\n",
    "    x='log_budget',\n",
    "    y='log_revenue',\n",
    "    hover_data=['title_x'],\n",
    "    title=\"Log-Scaled Budget vs Revenue\"\n",
    ")\n",
    "\n",
    "fig_log_budget_rev.show()\n"
   ]
  },
  {
   "cell_type": "code",
   "execution_count": 29,
   "id": "5a0bb00a",
   "metadata": {},
   "outputs": [],
   "source": [
    "with open(\"../img/fig_log_budget_rev.pkl\", \"wb\") as f:\n",
    "    pickle.dump(fig_log_budget_rev, f)"
   ]
  },
  {
   "cell_type": "markdown",
   "id": "1c19eac2",
   "metadata": {},
   "source": [
    "# Movies per Year"
   ]
  },
  {
   "cell_type": "code",
   "execution_count": 59,
   "id": "106ae37f",
   "metadata": {},
   "outputs": [
    {
     "data": {
      "application/vnd.plotly.v1+json": {
       "config": {
        "plotlyServerURL": "https://plot.ly"
       },
       "data": [
        {
         "hovertemplate": "Year=%{x}<br>Movie Count=%{y}<extra></extra>",
         "legendgroup": "",
         "line": {
          "color": "#636efa",
          "dash": "solid"
         },
         "marker": {
          "symbol": "circle"
         },
         "mode": "lines",
         "name": "",
         "orientation": "v",
         "showlegend": false,
         "type": "scatter",
         "x": {
          "bdata": "fAcAAIUHAACHBwAAiQcAAIoHAACMBwAAjQcAAI4HAACPBwAAkAcAAJEHAACSBwAAkwcAAJQHAACVBwAAlgcAAJgHAACZBwAAmgcAAJsHAACcBwAAnQcAAJ4HAACfBwAAoAcAAKEHAACiBwAAowcAAKQHAAClBwAApgcAAKcHAACoBwAAqQcAAKoHAACrBwAArAcAAK0HAACuBwAArwcAALAHAACxBwAAsgcAALMHAAC0BwAAtQcAALYHAAC3BwAAuAcAALkHAAC6BwAAuwcAALwHAAC9BwAAvgcAAL8HAADABwAAwQcAAMIHAADDBwAAxAcAAMUHAADGBwAAxwcAAMgHAADJBwAAygcAAMsHAADMBwAAzQcAAM4HAADPBwAA0AcAANEHAADSBwAA0wcAANQHAADVBwAA1gcAANcHAADYBwAA2QcAANoHAADbBwAA3AcAAN0HAADeBwAA3wcAAOAHAADhBwAA",
          "dtype": "i4"
         },
         "xaxis": "x",
         "y": {
          "bdata": "AQABAAEAAgABAAEAAgABAAEAAgACAAIAAwAFAAEAAgACAAQAAwADAAMAAgABAAMABAAEAAQAAgADAAIAAQADAAMABQAHAAgACgAIAAYABAAKAAoADAAKAAkACQAIAAYACQAQAA4AEAAWACEAGAAXABwAHAAaAB8AHwAgAB0AHgAiAC8ANwBGAGEAcACFAKsApgC3AMsAqQDMANkA7QDDAOMA9wDhAN8A0ADnAO4A2ABoAAEA",
          "dtype": "i2"
         },
         "yaxis": "y"
        }
       ],
       "layout": {
        "legend": {
         "tracegroupgap": 0
        },
        "template": {
         "data": {
          "bar": [
           {
            "error_x": {
             "color": "#2a3f5f"
            },
            "error_y": {
             "color": "#2a3f5f"
            },
            "marker": {
             "line": {
              "color": "#E5ECF6",
              "width": 0.5
             },
             "pattern": {
              "fillmode": "overlay",
              "size": 10,
              "solidity": 0.2
             }
            },
            "type": "bar"
           }
          ],
          "barpolar": [
           {
            "marker": {
             "line": {
              "color": "#E5ECF6",
              "width": 0.5
             },
             "pattern": {
              "fillmode": "overlay",
              "size": 10,
              "solidity": 0.2
             }
            },
            "type": "barpolar"
           }
          ],
          "carpet": [
           {
            "aaxis": {
             "endlinecolor": "#2a3f5f",
             "gridcolor": "white",
             "linecolor": "white",
             "minorgridcolor": "white",
             "startlinecolor": "#2a3f5f"
            },
            "baxis": {
             "endlinecolor": "#2a3f5f",
             "gridcolor": "white",
             "linecolor": "white",
             "minorgridcolor": "white",
             "startlinecolor": "#2a3f5f"
            },
            "type": "carpet"
           }
          ],
          "choropleth": [
           {
            "colorbar": {
             "outlinewidth": 0,
             "ticks": ""
            },
            "type": "choropleth"
           }
          ],
          "contour": [
           {
            "colorbar": {
             "outlinewidth": 0,
             "ticks": ""
            },
            "colorscale": [
             [
              0,
              "#0d0887"
             ],
             [
              0.1111111111111111,
              "#46039f"
             ],
             [
              0.2222222222222222,
              "#7201a8"
             ],
             [
              0.3333333333333333,
              "#9c179e"
             ],
             [
              0.4444444444444444,
              "#bd3786"
             ],
             [
              0.5555555555555556,
              "#d8576b"
             ],
             [
              0.6666666666666666,
              "#ed7953"
             ],
             [
              0.7777777777777778,
              "#fb9f3a"
             ],
             [
              0.8888888888888888,
              "#fdca26"
             ],
             [
              1,
              "#f0f921"
             ]
            ],
            "type": "contour"
           }
          ],
          "contourcarpet": [
           {
            "colorbar": {
             "outlinewidth": 0,
             "ticks": ""
            },
            "type": "contourcarpet"
           }
          ],
          "heatmap": [
           {
            "colorbar": {
             "outlinewidth": 0,
             "ticks": ""
            },
            "colorscale": [
             [
              0,
              "#0d0887"
             ],
             [
              0.1111111111111111,
              "#46039f"
             ],
             [
              0.2222222222222222,
              "#7201a8"
             ],
             [
              0.3333333333333333,
              "#9c179e"
             ],
             [
              0.4444444444444444,
              "#bd3786"
             ],
             [
              0.5555555555555556,
              "#d8576b"
             ],
             [
              0.6666666666666666,
              "#ed7953"
             ],
             [
              0.7777777777777778,
              "#fb9f3a"
             ],
             [
              0.8888888888888888,
              "#fdca26"
             ],
             [
              1,
              "#f0f921"
             ]
            ],
            "type": "heatmap"
           }
          ],
          "histogram": [
           {
            "marker": {
             "pattern": {
              "fillmode": "overlay",
              "size": 10,
              "solidity": 0.2
             }
            },
            "type": "histogram"
           }
          ],
          "histogram2d": [
           {
            "colorbar": {
             "outlinewidth": 0,
             "ticks": ""
            },
            "colorscale": [
             [
              0,
              "#0d0887"
             ],
             [
              0.1111111111111111,
              "#46039f"
             ],
             [
              0.2222222222222222,
              "#7201a8"
             ],
             [
              0.3333333333333333,
              "#9c179e"
             ],
             [
              0.4444444444444444,
              "#bd3786"
             ],
             [
              0.5555555555555556,
              "#d8576b"
             ],
             [
              0.6666666666666666,
              "#ed7953"
             ],
             [
              0.7777777777777778,
              "#fb9f3a"
             ],
             [
              0.8888888888888888,
              "#fdca26"
             ],
             [
              1,
              "#f0f921"
             ]
            ],
            "type": "histogram2d"
           }
          ],
          "histogram2dcontour": [
           {
            "colorbar": {
             "outlinewidth": 0,
             "ticks": ""
            },
            "colorscale": [
             [
              0,
              "#0d0887"
             ],
             [
              0.1111111111111111,
              "#46039f"
             ],
             [
              0.2222222222222222,
              "#7201a8"
             ],
             [
              0.3333333333333333,
              "#9c179e"
             ],
             [
              0.4444444444444444,
              "#bd3786"
             ],
             [
              0.5555555555555556,
              "#d8576b"
             ],
             [
              0.6666666666666666,
              "#ed7953"
             ],
             [
              0.7777777777777778,
              "#fb9f3a"
             ],
             [
              0.8888888888888888,
              "#fdca26"
             ],
             [
              1,
              "#f0f921"
             ]
            ],
            "type": "histogram2dcontour"
           }
          ],
          "mesh3d": [
           {
            "colorbar": {
             "outlinewidth": 0,
             "ticks": ""
            },
            "type": "mesh3d"
           }
          ],
          "parcoords": [
           {
            "line": {
             "colorbar": {
              "outlinewidth": 0,
              "ticks": ""
             }
            },
            "type": "parcoords"
           }
          ],
          "pie": [
           {
            "automargin": true,
            "type": "pie"
           }
          ],
          "scatter": [
           {
            "fillpattern": {
             "fillmode": "overlay",
             "size": 10,
             "solidity": 0.2
            },
            "type": "scatter"
           }
          ],
          "scatter3d": [
           {
            "line": {
             "colorbar": {
              "outlinewidth": 0,
              "ticks": ""
             }
            },
            "marker": {
             "colorbar": {
              "outlinewidth": 0,
              "ticks": ""
             }
            },
            "type": "scatter3d"
           }
          ],
          "scattercarpet": [
           {
            "marker": {
             "colorbar": {
              "outlinewidth": 0,
              "ticks": ""
             }
            },
            "type": "scattercarpet"
           }
          ],
          "scattergeo": [
           {
            "marker": {
             "colorbar": {
              "outlinewidth": 0,
              "ticks": ""
             }
            },
            "type": "scattergeo"
           }
          ],
          "scattergl": [
           {
            "marker": {
             "colorbar": {
              "outlinewidth": 0,
              "ticks": ""
             }
            },
            "type": "scattergl"
           }
          ],
          "scattermap": [
           {
            "marker": {
             "colorbar": {
              "outlinewidth": 0,
              "ticks": ""
             }
            },
            "type": "scattermap"
           }
          ],
          "scattermapbox": [
           {
            "marker": {
             "colorbar": {
              "outlinewidth": 0,
              "ticks": ""
             }
            },
            "type": "scattermapbox"
           }
          ],
          "scatterpolar": [
           {
            "marker": {
             "colorbar": {
              "outlinewidth": 0,
              "ticks": ""
             }
            },
            "type": "scatterpolar"
           }
          ],
          "scatterpolargl": [
           {
            "marker": {
             "colorbar": {
              "outlinewidth": 0,
              "ticks": ""
             }
            },
            "type": "scatterpolargl"
           }
          ],
          "scatterternary": [
           {
            "marker": {
             "colorbar": {
              "outlinewidth": 0,
              "ticks": ""
             }
            },
            "type": "scatterternary"
           }
          ],
          "surface": [
           {
            "colorbar": {
             "outlinewidth": 0,
             "ticks": ""
            },
            "colorscale": [
             [
              0,
              "#0d0887"
             ],
             [
              0.1111111111111111,
              "#46039f"
             ],
             [
              0.2222222222222222,
              "#7201a8"
             ],
             [
              0.3333333333333333,
              "#9c179e"
             ],
             [
              0.4444444444444444,
              "#bd3786"
             ],
             [
              0.5555555555555556,
              "#d8576b"
             ],
             [
              0.6666666666666666,
              "#ed7953"
             ],
             [
              0.7777777777777778,
              "#fb9f3a"
             ],
             [
              0.8888888888888888,
              "#fdca26"
             ],
             [
              1,
              "#f0f921"
             ]
            ],
            "type": "surface"
           }
          ],
          "table": [
           {
            "cells": {
             "fill": {
              "color": "#EBF0F8"
             },
             "line": {
              "color": "white"
             }
            },
            "header": {
             "fill": {
              "color": "#C8D4E3"
             },
             "line": {
              "color": "white"
             }
            },
            "type": "table"
           }
          ]
         },
         "layout": {
          "annotationdefaults": {
           "arrowcolor": "#2a3f5f",
           "arrowhead": 0,
           "arrowwidth": 1
          },
          "autotypenumbers": "strict",
          "coloraxis": {
           "colorbar": {
            "outlinewidth": 0,
            "ticks": ""
           }
          },
          "colorscale": {
           "diverging": [
            [
             0,
             "#8e0152"
            ],
            [
             0.1,
             "#c51b7d"
            ],
            [
             0.2,
             "#de77ae"
            ],
            [
             0.3,
             "#f1b6da"
            ],
            [
             0.4,
             "#fde0ef"
            ],
            [
             0.5,
             "#f7f7f7"
            ],
            [
             0.6,
             "#e6f5d0"
            ],
            [
             0.7,
             "#b8e186"
            ],
            [
             0.8,
             "#7fbc41"
            ],
            [
             0.9,
             "#4d9221"
            ],
            [
             1,
             "#276419"
            ]
           ],
           "sequential": [
            [
             0,
             "#0d0887"
            ],
            [
             0.1111111111111111,
             "#46039f"
            ],
            [
             0.2222222222222222,
             "#7201a8"
            ],
            [
             0.3333333333333333,
             "#9c179e"
            ],
            [
             0.4444444444444444,
             "#bd3786"
            ],
            [
             0.5555555555555556,
             "#d8576b"
            ],
            [
             0.6666666666666666,
             "#ed7953"
            ],
            [
             0.7777777777777778,
             "#fb9f3a"
            ],
            [
             0.8888888888888888,
             "#fdca26"
            ],
            [
             1,
             "#f0f921"
            ]
           ],
           "sequentialminus": [
            [
             0,
             "#0d0887"
            ],
            [
             0.1111111111111111,
             "#46039f"
            ],
            [
             0.2222222222222222,
             "#7201a8"
            ],
            [
             0.3333333333333333,
             "#9c179e"
            ],
            [
             0.4444444444444444,
             "#bd3786"
            ],
            [
             0.5555555555555556,
             "#d8576b"
            ],
            [
             0.6666666666666666,
             "#ed7953"
            ],
            [
             0.7777777777777778,
             "#fb9f3a"
            ],
            [
             0.8888888888888888,
             "#fdca26"
            ],
            [
             1,
             "#f0f921"
            ]
           ]
          },
          "colorway": [
           "#636efa",
           "#EF553B",
           "#00cc96",
           "#ab63fa",
           "#FFA15A",
           "#19d3f3",
           "#FF6692",
           "#B6E880",
           "#FF97FF",
           "#FECB52"
          ],
          "font": {
           "color": "#2a3f5f"
          },
          "geo": {
           "bgcolor": "white",
           "lakecolor": "white",
           "landcolor": "#E5ECF6",
           "showlakes": true,
           "showland": true,
           "subunitcolor": "white"
          },
          "hoverlabel": {
           "align": "left"
          },
          "hovermode": "closest",
          "mapbox": {
           "style": "light"
          },
          "paper_bgcolor": "white",
          "plot_bgcolor": "#E5ECF6",
          "polar": {
           "angularaxis": {
            "gridcolor": "white",
            "linecolor": "white",
            "ticks": ""
           },
           "bgcolor": "#E5ECF6",
           "radialaxis": {
            "gridcolor": "white",
            "linecolor": "white",
            "ticks": ""
           }
          },
          "scene": {
           "xaxis": {
            "backgroundcolor": "#E5ECF6",
            "gridcolor": "white",
            "gridwidth": 2,
            "linecolor": "white",
            "showbackground": true,
            "ticks": "",
            "zerolinecolor": "white"
           },
           "yaxis": {
            "backgroundcolor": "#E5ECF6",
            "gridcolor": "white",
            "gridwidth": 2,
            "linecolor": "white",
            "showbackground": true,
            "ticks": "",
            "zerolinecolor": "white"
           },
           "zaxis": {
            "backgroundcolor": "#E5ECF6",
            "gridcolor": "white",
            "gridwidth": 2,
            "linecolor": "white",
            "showbackground": true,
            "ticks": "",
            "zerolinecolor": "white"
           }
          },
          "shapedefaults": {
           "line": {
            "color": "#2a3f5f"
           }
          },
          "ternary": {
           "aaxis": {
            "gridcolor": "white",
            "linecolor": "white",
            "ticks": ""
           },
           "baxis": {
            "gridcolor": "white",
            "linecolor": "white",
            "ticks": ""
           },
           "bgcolor": "#E5ECF6",
           "caxis": {
            "gridcolor": "white",
            "linecolor": "white",
            "ticks": ""
           }
          },
          "title": {
           "x": 0.05
          },
          "xaxis": {
           "automargin": true,
           "gridcolor": "white",
           "linecolor": "white",
           "ticks": "",
           "title": {
            "standoff": 15
           },
           "zerolinecolor": "white",
           "zerolinewidth": 2
          },
          "yaxis": {
           "automargin": true,
           "gridcolor": "white",
           "linecolor": "white",
           "ticks": "",
           "title": {
            "standoff": 15
           },
           "zerolinecolor": "white",
           "zerolinewidth": 2
          }
         }
        },
        "title": {
         "text": "Number of Movies Released per Year"
        },
        "xaxis": {
         "anchor": "y",
         "domain": [
          0,
          1
         ],
         "title": {
          "text": "Year"
         }
        },
        "yaxis": {
         "anchor": "x",
         "domain": [
          0,
          1
         ],
         "title": {
          "text": "Movie Count"
         }
        }
       }
      }
     },
     "metadata": {},
     "output_type": "display_data"
    }
   ],
   "source": [
    "df['release_year'] = pd.to_datetime(df['release_date']).dt.year\n",
    "yearly_counts = df['release_year'].value_counts().sort_index()\n",
    "\n",
    "fig_movie_per_year = px.line(\n",
    "    x=yearly_counts.index,\n",
    "    y=yearly_counts.values,\n",
    "    labels={'x': 'Year', 'y': 'Movie Count'},\n",
    "    title=\"Number of Movies Released per Year\"\n",
    ")\n",
    "\n",
    "fig_movie_per_year.show()"
   ]
  },
  {
   "cell_type": "code",
   "execution_count": 60,
   "id": "b28e864b",
   "metadata": {},
   "outputs": [],
   "source": [
    "with open(\"../img/fig_movie_per_year.pkl\", \"wb\") as f:\n",
    "    pickle.dump(fig_movie_per_year, f)\n"
   ]
  },
  {
   "cell_type": "markdown",
   "id": "394d9e38",
   "metadata": {},
   "source": [
    "# Choropleth Map: Movies by Country"
   ]
  },
  {
   "cell_type": "code",
   "execution_count": 12,
   "id": "88567f3d",
   "metadata": {},
   "outputs": [],
   "source": [
    "\n",
    "# Extract all country names\n",
    "all_countries = [country['name']\n",
    "                 for row in df['production_countries'].apply(eval)\n",
    "                 for country in row]\n",
    "\n",
    "# Count appearances\n",
    "country_counts = Counter(all_countries)\n",
    "country_df = pd.DataFrame(country_counts.items(), columns=['Country', 'Count'])\n"
   ]
  },
  {
   "cell_type": "code",
   "execution_count": 61,
   "id": "3b7e46df",
   "metadata": {},
   "outputs": [
    {
     "data": {
      "application/vnd.plotly.v1+json": {
       "config": {
        "plotlyServerURL": "https://plot.ly"
       },
       "data": [
        {
         "coloraxis": "coloraxis",
         "geo": "geo",
         "hovertemplate": "<b>%{hovertext}</b><br><br>Country=%{location}<br>Count=%{z}<extra></extra>",
         "hovertext": [
          "United States of America",
          "United Kingdom",
          "Jamaica",
          "Bahamas",
          "Dominica",
          "Czech Republic",
          "Poland",
          "Slovenia",
          "New Zealand",
          "Germany",
          "China",
          "Canada",
          "Italy",
          "Japan",
          "Malta",
          "Australia",
          "France",
          "Belgium",
          "India",
          "Netherlands",
          "Spain",
          "United Arab Emirates",
          "Hong Kong",
          "Taiwan",
          "Ireland",
          "Morocco",
          "Hungary",
          "Singapore",
          "Norway",
          "Sweden",
          "South Africa",
          "Russia",
          "Romania",
          "Mexico",
          "Monaco",
          "Switzerland",
          "Pakistan",
          "Malaysia",
          "Finland",
          "Iceland",
          "Denmark",
          "Tunisia",
          "Philippines",
          "Bulgaria",
          "South Korea",
          "Brazil",
          "Peru",
          "Luxembourg",
          "Bosnia and Herzegovina",
          "Kazakhstan",
          "Portugal",
          "Aruba",
          "Libyan Arab Jamahiriya",
          "Serbia",
          "Ukraine",
          "Chile",
          "Argentina",
          "Panama",
          "Austria",
          "Greece",
          "Lithuania",
          "Cambodia",
          "Thailand",
          "Slovakia",
          "Israel",
          "Fiji",
          "Serbia and Montenegro",
          "Turkey",
          "Nigeria",
          "Cyprus",
          "Jordan",
          "Bolivia",
          "Ecuador",
          "Colombia",
          "Egypt",
          "Bhutan",
          "Lebanon",
          "Kyrgyz Republic",
          "Algeria",
          "Indonesia",
          "Guyana",
          "Iran",
          "Guadaloupe",
          "Afghanistan",
          "Angola",
          "Dominican Republic",
          "Cameroon",
          "Kenya"
         ],
         "locationmode": "country names",
         "locations": [
          "United States of America",
          "United Kingdom",
          "Jamaica",
          "Bahamas",
          "Dominica",
          "Czech Republic",
          "Poland",
          "Slovenia",
          "New Zealand",
          "Germany",
          "China",
          "Canada",
          "Italy",
          "Japan",
          "Malta",
          "Australia",
          "France",
          "Belgium",
          "India",
          "Netherlands",
          "Spain",
          "United Arab Emirates",
          "Hong Kong",
          "Taiwan",
          "Ireland",
          "Morocco",
          "Hungary",
          "Singapore",
          "Norway",
          "Sweden",
          "South Africa",
          "Russia",
          "Romania",
          "Mexico",
          "Monaco",
          "Switzerland",
          "Pakistan",
          "Malaysia",
          "Finland",
          "Iceland",
          "Denmark",
          "Tunisia",
          "Philippines",
          "Bulgaria",
          "South Korea",
          "Brazil",
          "Peru",
          "Luxembourg",
          "Bosnia and Herzegovina",
          "Kazakhstan",
          "Portugal",
          "Aruba",
          "Libyan Arab Jamahiriya",
          "Serbia",
          "Ukraine",
          "Chile",
          "Argentina",
          "Panama",
          "Austria",
          "Greece",
          "Lithuania",
          "Cambodia",
          "Thailand",
          "Slovakia",
          "Israel",
          "Fiji",
          "Serbia and Montenegro",
          "Turkey",
          "Nigeria",
          "Cyprus",
          "Jordan",
          "Bolivia",
          "Ecuador",
          "Colombia",
          "Egypt",
          "Bhutan",
          "Lebanon",
          "Kyrgyz Republic",
          "Algeria",
          "Indonesia",
          "Guyana",
          "Iran",
          "Guadaloupe",
          "Afghanistan",
          "Angola",
          "Dominican Republic",
          "Cameroon",
          "Kenya"
         ],
         "name": "",
         "type": "choropleth",
         "z": {
          "bdata": "dA98AgIABAABABgABgACABwARAE7AAUBSAA6AAQAbgAyARkANgASAEcADgAwAAUAJQAEAA0AAgAOABMAFAATAAwAHgABABMAAwACAAUABgAUAAEAAQAEABIADQACAAsAAQACAAEAAQABAAEAAQACAAkAAQAGAAMAAQABAAYAAgAGAAEAAQABAAEAAQABAAEAAQACAAEAAQABAAEAAQABAAEABAABAAEAAQABAAEAAQA=",
          "dtype": "i2"
         }
        }
       ],
       "layout": {
        "coloraxis": {
         "colorbar": {
          "title": {
           "text": "Count"
          }
         },
         "colorscale": [
          [
           0,
           "#440154"
          ],
          [
           0.1111111111111111,
           "#482878"
          ],
          [
           0.2222222222222222,
           "#3e4989"
          ],
          [
           0.3333333333333333,
           "#31688e"
          ],
          [
           0.4444444444444444,
           "#26828e"
          ],
          [
           0.5555555555555556,
           "#1f9e89"
          ],
          [
           0.6666666666666666,
           "#35b779"
          ],
          [
           0.7777777777777778,
           "#6ece58"
          ],
          [
           0.8888888888888888,
           "#b5de2b"
          ],
          [
           1,
           "#fde725"
          ]
         ]
        },
        "geo": {
         "center": {},
         "domain": {
          "x": [
           0,
           1
          ],
          "y": [
           0,
           1
          ]
         }
        },
        "legend": {
         "tracegroupgap": 0
        },
        "template": {
         "data": {
          "bar": [
           {
            "error_x": {
             "color": "#2a3f5f"
            },
            "error_y": {
             "color": "#2a3f5f"
            },
            "marker": {
             "line": {
              "color": "#E5ECF6",
              "width": 0.5
             },
             "pattern": {
              "fillmode": "overlay",
              "size": 10,
              "solidity": 0.2
             }
            },
            "type": "bar"
           }
          ],
          "barpolar": [
           {
            "marker": {
             "line": {
              "color": "#E5ECF6",
              "width": 0.5
             },
             "pattern": {
              "fillmode": "overlay",
              "size": 10,
              "solidity": 0.2
             }
            },
            "type": "barpolar"
           }
          ],
          "carpet": [
           {
            "aaxis": {
             "endlinecolor": "#2a3f5f",
             "gridcolor": "white",
             "linecolor": "white",
             "minorgridcolor": "white",
             "startlinecolor": "#2a3f5f"
            },
            "baxis": {
             "endlinecolor": "#2a3f5f",
             "gridcolor": "white",
             "linecolor": "white",
             "minorgridcolor": "white",
             "startlinecolor": "#2a3f5f"
            },
            "type": "carpet"
           }
          ],
          "choropleth": [
           {
            "colorbar": {
             "outlinewidth": 0,
             "ticks": ""
            },
            "type": "choropleth"
           }
          ],
          "contour": [
           {
            "colorbar": {
             "outlinewidth": 0,
             "ticks": ""
            },
            "colorscale": [
             [
              0,
              "#0d0887"
             ],
             [
              0.1111111111111111,
              "#46039f"
             ],
             [
              0.2222222222222222,
              "#7201a8"
             ],
             [
              0.3333333333333333,
              "#9c179e"
             ],
             [
              0.4444444444444444,
              "#bd3786"
             ],
             [
              0.5555555555555556,
              "#d8576b"
             ],
             [
              0.6666666666666666,
              "#ed7953"
             ],
             [
              0.7777777777777778,
              "#fb9f3a"
             ],
             [
              0.8888888888888888,
              "#fdca26"
             ],
             [
              1,
              "#f0f921"
             ]
            ],
            "type": "contour"
           }
          ],
          "contourcarpet": [
           {
            "colorbar": {
             "outlinewidth": 0,
             "ticks": ""
            },
            "type": "contourcarpet"
           }
          ],
          "heatmap": [
           {
            "colorbar": {
             "outlinewidth": 0,
             "ticks": ""
            },
            "colorscale": [
             [
              0,
              "#0d0887"
             ],
             [
              0.1111111111111111,
              "#46039f"
             ],
             [
              0.2222222222222222,
              "#7201a8"
             ],
             [
              0.3333333333333333,
              "#9c179e"
             ],
             [
              0.4444444444444444,
              "#bd3786"
             ],
             [
              0.5555555555555556,
              "#d8576b"
             ],
             [
              0.6666666666666666,
              "#ed7953"
             ],
             [
              0.7777777777777778,
              "#fb9f3a"
             ],
             [
              0.8888888888888888,
              "#fdca26"
             ],
             [
              1,
              "#f0f921"
             ]
            ],
            "type": "heatmap"
           }
          ],
          "histogram": [
           {
            "marker": {
             "pattern": {
              "fillmode": "overlay",
              "size": 10,
              "solidity": 0.2
             }
            },
            "type": "histogram"
           }
          ],
          "histogram2d": [
           {
            "colorbar": {
             "outlinewidth": 0,
             "ticks": ""
            },
            "colorscale": [
             [
              0,
              "#0d0887"
             ],
             [
              0.1111111111111111,
              "#46039f"
             ],
             [
              0.2222222222222222,
              "#7201a8"
             ],
             [
              0.3333333333333333,
              "#9c179e"
             ],
             [
              0.4444444444444444,
              "#bd3786"
             ],
             [
              0.5555555555555556,
              "#d8576b"
             ],
             [
              0.6666666666666666,
              "#ed7953"
             ],
             [
              0.7777777777777778,
              "#fb9f3a"
             ],
             [
              0.8888888888888888,
              "#fdca26"
             ],
             [
              1,
              "#f0f921"
             ]
            ],
            "type": "histogram2d"
           }
          ],
          "histogram2dcontour": [
           {
            "colorbar": {
             "outlinewidth": 0,
             "ticks": ""
            },
            "colorscale": [
             [
              0,
              "#0d0887"
             ],
             [
              0.1111111111111111,
              "#46039f"
             ],
             [
              0.2222222222222222,
              "#7201a8"
             ],
             [
              0.3333333333333333,
              "#9c179e"
             ],
             [
              0.4444444444444444,
              "#bd3786"
             ],
             [
              0.5555555555555556,
              "#d8576b"
             ],
             [
              0.6666666666666666,
              "#ed7953"
             ],
             [
              0.7777777777777778,
              "#fb9f3a"
             ],
             [
              0.8888888888888888,
              "#fdca26"
             ],
             [
              1,
              "#f0f921"
             ]
            ],
            "type": "histogram2dcontour"
           }
          ],
          "mesh3d": [
           {
            "colorbar": {
             "outlinewidth": 0,
             "ticks": ""
            },
            "type": "mesh3d"
           }
          ],
          "parcoords": [
           {
            "line": {
             "colorbar": {
              "outlinewidth": 0,
              "ticks": ""
             }
            },
            "type": "parcoords"
           }
          ],
          "pie": [
           {
            "automargin": true,
            "type": "pie"
           }
          ],
          "scatter": [
           {
            "fillpattern": {
             "fillmode": "overlay",
             "size": 10,
             "solidity": 0.2
            },
            "type": "scatter"
           }
          ],
          "scatter3d": [
           {
            "line": {
             "colorbar": {
              "outlinewidth": 0,
              "ticks": ""
             }
            },
            "marker": {
             "colorbar": {
              "outlinewidth": 0,
              "ticks": ""
             }
            },
            "type": "scatter3d"
           }
          ],
          "scattercarpet": [
           {
            "marker": {
             "colorbar": {
              "outlinewidth": 0,
              "ticks": ""
             }
            },
            "type": "scattercarpet"
           }
          ],
          "scattergeo": [
           {
            "marker": {
             "colorbar": {
              "outlinewidth": 0,
              "ticks": ""
             }
            },
            "type": "scattergeo"
           }
          ],
          "scattergl": [
           {
            "marker": {
             "colorbar": {
              "outlinewidth": 0,
              "ticks": ""
             }
            },
            "type": "scattergl"
           }
          ],
          "scattermap": [
           {
            "marker": {
             "colorbar": {
              "outlinewidth": 0,
              "ticks": ""
             }
            },
            "type": "scattermap"
           }
          ],
          "scattermapbox": [
           {
            "marker": {
             "colorbar": {
              "outlinewidth": 0,
              "ticks": ""
             }
            },
            "type": "scattermapbox"
           }
          ],
          "scatterpolar": [
           {
            "marker": {
             "colorbar": {
              "outlinewidth": 0,
              "ticks": ""
             }
            },
            "type": "scatterpolar"
           }
          ],
          "scatterpolargl": [
           {
            "marker": {
             "colorbar": {
              "outlinewidth": 0,
              "ticks": ""
             }
            },
            "type": "scatterpolargl"
           }
          ],
          "scatterternary": [
           {
            "marker": {
             "colorbar": {
              "outlinewidth": 0,
              "ticks": ""
             }
            },
            "type": "scatterternary"
           }
          ],
          "surface": [
           {
            "colorbar": {
             "outlinewidth": 0,
             "ticks": ""
            },
            "colorscale": [
             [
              0,
              "#0d0887"
             ],
             [
              0.1111111111111111,
              "#46039f"
             ],
             [
              0.2222222222222222,
              "#7201a8"
             ],
             [
              0.3333333333333333,
              "#9c179e"
             ],
             [
              0.4444444444444444,
              "#bd3786"
             ],
             [
              0.5555555555555556,
              "#d8576b"
             ],
             [
              0.6666666666666666,
              "#ed7953"
             ],
             [
              0.7777777777777778,
              "#fb9f3a"
             ],
             [
              0.8888888888888888,
              "#fdca26"
             ],
             [
              1,
              "#f0f921"
             ]
            ],
            "type": "surface"
           }
          ],
          "table": [
           {
            "cells": {
             "fill": {
              "color": "#EBF0F8"
             },
             "line": {
              "color": "white"
             }
            },
            "header": {
             "fill": {
              "color": "#C8D4E3"
             },
             "line": {
              "color": "white"
             }
            },
            "type": "table"
           }
          ]
         },
         "layout": {
          "annotationdefaults": {
           "arrowcolor": "#2a3f5f",
           "arrowhead": 0,
           "arrowwidth": 1
          },
          "autotypenumbers": "strict",
          "coloraxis": {
           "colorbar": {
            "outlinewidth": 0,
            "ticks": ""
           }
          },
          "colorscale": {
           "diverging": [
            [
             0,
             "#8e0152"
            ],
            [
             0.1,
             "#c51b7d"
            ],
            [
             0.2,
             "#de77ae"
            ],
            [
             0.3,
             "#f1b6da"
            ],
            [
             0.4,
             "#fde0ef"
            ],
            [
             0.5,
             "#f7f7f7"
            ],
            [
             0.6,
             "#e6f5d0"
            ],
            [
             0.7,
             "#b8e186"
            ],
            [
             0.8,
             "#7fbc41"
            ],
            [
             0.9,
             "#4d9221"
            ],
            [
             1,
             "#276419"
            ]
           ],
           "sequential": [
            [
             0,
             "#0d0887"
            ],
            [
             0.1111111111111111,
             "#46039f"
            ],
            [
             0.2222222222222222,
             "#7201a8"
            ],
            [
             0.3333333333333333,
             "#9c179e"
            ],
            [
             0.4444444444444444,
             "#bd3786"
            ],
            [
             0.5555555555555556,
             "#d8576b"
            ],
            [
             0.6666666666666666,
             "#ed7953"
            ],
            [
             0.7777777777777778,
             "#fb9f3a"
            ],
            [
             0.8888888888888888,
             "#fdca26"
            ],
            [
             1,
             "#f0f921"
            ]
           ],
           "sequentialminus": [
            [
             0,
             "#0d0887"
            ],
            [
             0.1111111111111111,
             "#46039f"
            ],
            [
             0.2222222222222222,
             "#7201a8"
            ],
            [
             0.3333333333333333,
             "#9c179e"
            ],
            [
             0.4444444444444444,
             "#bd3786"
            ],
            [
             0.5555555555555556,
             "#d8576b"
            ],
            [
             0.6666666666666666,
             "#ed7953"
            ],
            [
             0.7777777777777778,
             "#fb9f3a"
            ],
            [
             0.8888888888888888,
             "#fdca26"
            ],
            [
             1,
             "#f0f921"
            ]
           ]
          },
          "colorway": [
           "#636efa",
           "#EF553B",
           "#00cc96",
           "#ab63fa",
           "#FFA15A",
           "#19d3f3",
           "#FF6692",
           "#B6E880",
           "#FF97FF",
           "#FECB52"
          ],
          "font": {
           "color": "#2a3f5f"
          },
          "geo": {
           "bgcolor": "white",
           "lakecolor": "white",
           "landcolor": "#E5ECF6",
           "showlakes": true,
           "showland": true,
           "subunitcolor": "white"
          },
          "hoverlabel": {
           "align": "left"
          },
          "hovermode": "closest",
          "mapbox": {
           "style": "light"
          },
          "paper_bgcolor": "white",
          "plot_bgcolor": "#E5ECF6",
          "polar": {
           "angularaxis": {
            "gridcolor": "white",
            "linecolor": "white",
            "ticks": ""
           },
           "bgcolor": "#E5ECF6",
           "radialaxis": {
            "gridcolor": "white",
            "linecolor": "white",
            "ticks": ""
           }
          },
          "scene": {
           "xaxis": {
            "backgroundcolor": "#E5ECF6",
            "gridcolor": "white",
            "gridwidth": 2,
            "linecolor": "white",
            "showbackground": true,
            "ticks": "",
            "zerolinecolor": "white"
           },
           "yaxis": {
            "backgroundcolor": "#E5ECF6",
            "gridcolor": "white",
            "gridwidth": 2,
            "linecolor": "white",
            "showbackground": true,
            "ticks": "",
            "zerolinecolor": "white"
           },
           "zaxis": {
            "backgroundcolor": "#E5ECF6",
            "gridcolor": "white",
            "gridwidth": 2,
            "linecolor": "white",
            "showbackground": true,
            "ticks": "",
            "zerolinecolor": "white"
           }
          },
          "shapedefaults": {
           "line": {
            "color": "#2a3f5f"
           }
          },
          "ternary": {
           "aaxis": {
            "gridcolor": "white",
            "linecolor": "white",
            "ticks": ""
           },
           "baxis": {
            "gridcolor": "white",
            "linecolor": "white",
            "ticks": ""
           },
           "bgcolor": "#E5ECF6",
           "caxis": {
            "gridcolor": "white",
            "linecolor": "white",
            "ticks": ""
           }
          },
          "title": {
           "x": 0.05
          },
          "xaxis": {
           "automargin": true,
           "gridcolor": "white",
           "linecolor": "white",
           "ticks": "",
           "title": {
            "standoff": 15
           },
           "zerolinecolor": "white",
           "zerolinewidth": 2
          },
          "yaxis": {
           "automargin": true,
           "gridcolor": "white",
           "linecolor": "white",
           "ticks": "",
           "title": {
            "standoff": 15
           },
           "zerolinecolor": "white",
           "zerolinewidth": 2
          }
         }
        },
        "title": {
         "text": "Number of Movies Produced by Country"
        }
       }
      }
     },
     "metadata": {},
     "output_type": "display_data"
    }
   ],
   "source": [
    "fig_movies_country = px.choropleth(\n",
    "    country_df,\n",
    "    locations=\"Country\",\n",
    "    locationmode=\"country names\",\n",
    "    color=\"Count\",\n",
    "    hover_name=\"Country\",\n",
    "    color_continuous_scale=\"viridis\",\n",
    "    title=\"Number of Movies Produced by Country\"\n",
    ")\n",
    "fig_movies_country.show()\n"
   ]
  },
  {
   "cell_type": "code",
   "execution_count": 62,
   "id": "2c113711",
   "metadata": {},
   "outputs": [],
   "source": [
    "with open(\"../img/fig_movies_country.pkl\", \"wb\") as f:\n",
    "    pickle.dump(fig_movies_country, f)\n",
    "\n"
   ]
  },
  {
   "cell_type": "markdown",
   "id": "67a5b618",
   "metadata": {},
   "source": [
    "# Treemap: Movies by Genre"
   ]
  },
  {
   "cell_type": "code",
   "execution_count": 14,
   "id": "ec1879f7",
   "metadata": {},
   "outputs": [],
   "source": [
    "# Flatten all genres\n",
    "all_genres = [genre for row in df['genre_names'].apply(eval) for genre in row]\n",
    "genre_counts = Counter(all_genres)\n",
    "genre_df = pd.DataFrame(genre_counts.items(), columns=['Genre', 'Count'])\n"
   ]
  },
  {
   "cell_type": "code",
   "execution_count": 63,
   "id": "2c5ce422",
   "metadata": {},
   "outputs": [
    {
     "data": {
      "application/vnd.plotly.v1+json": {
       "config": {
        "plotlyServerURL": "https://plot.ly"
       },
       "data": [
        {
         "branchvalues": "total",
         "domain": {
          "x": [
           0,
           1
          ],
          "y": [
           0,
           1
          ]
         },
         "hovertemplate": "labels=%{label}<br>Count=%{value}<br>parent=%{parent}<br>id=%{id}<extra></extra>",
         "ids": [
          "Drama",
          "Comedy",
          "Thriller",
          "Action",
          "Romance",
          "Adventure",
          "Crime",
          "Science Fiction",
          "Horror",
          "Family",
          "Fantasy",
          "Mystery",
          "Animation",
          "History",
          "Music",
          "War",
          "Documentary",
          "Western",
          "Foreign",
          "TV Movie"
         ],
         "labels": [
          "Drama",
          "Comedy",
          "Thriller",
          "Action",
          "Romance",
          "Adventure",
          "Crime",
          "Science Fiction",
          "Horror",
          "Family",
          "Fantasy",
          "Mystery",
          "Animation",
          "History",
          "Music",
          "War",
          "Documentary",
          "Western",
          "Foreign",
          "TV Movie"
         ],
         "name": "",
         "parents": [
          "",
          "",
          "",
          "",
          "",
          "",
          "",
          "",
          "",
          "",
          "",
          "",
          "",
          "",
          "",
          "",
          "",
          "",
          "",
          ""
         ],
         "type": "treemap",
         "values": {
          "bdata": "AAAAAADyoUAAAAAAAOiaQAAAAAAA6JNAAAAAAAAIkkAAAAAAAPCLQAAAAAAAsIhAAAAAAADAhUAAAAAAALiAQAAAAAAAOIBAAAAAAAAIgEAAAAAAAIB6QAAAAAAAwHVAAAAAAABAbUAAAAAAAKBoQAAAAAAAIGdAAAAAAAAAYkAAAAAAAIBbQAAAAAAAgFRAAAAAAAAAQUAAAAAAAAAgQA==",
          "dtype": "f8"
         }
        }
       ],
       "layout": {
        "legend": {
         "tracegroupgap": 0
        },
        "template": {
         "data": {
          "bar": [
           {
            "error_x": {
             "color": "#2a3f5f"
            },
            "error_y": {
             "color": "#2a3f5f"
            },
            "marker": {
             "line": {
              "color": "#E5ECF6",
              "width": 0.5
             },
             "pattern": {
              "fillmode": "overlay",
              "size": 10,
              "solidity": 0.2
             }
            },
            "type": "bar"
           }
          ],
          "barpolar": [
           {
            "marker": {
             "line": {
              "color": "#E5ECF6",
              "width": 0.5
             },
             "pattern": {
              "fillmode": "overlay",
              "size": 10,
              "solidity": 0.2
             }
            },
            "type": "barpolar"
           }
          ],
          "carpet": [
           {
            "aaxis": {
             "endlinecolor": "#2a3f5f",
             "gridcolor": "white",
             "linecolor": "white",
             "minorgridcolor": "white",
             "startlinecolor": "#2a3f5f"
            },
            "baxis": {
             "endlinecolor": "#2a3f5f",
             "gridcolor": "white",
             "linecolor": "white",
             "minorgridcolor": "white",
             "startlinecolor": "#2a3f5f"
            },
            "type": "carpet"
           }
          ],
          "choropleth": [
           {
            "colorbar": {
             "outlinewidth": 0,
             "ticks": ""
            },
            "type": "choropleth"
           }
          ],
          "contour": [
           {
            "colorbar": {
             "outlinewidth": 0,
             "ticks": ""
            },
            "colorscale": [
             [
              0,
              "#0d0887"
             ],
             [
              0.1111111111111111,
              "#46039f"
             ],
             [
              0.2222222222222222,
              "#7201a8"
             ],
             [
              0.3333333333333333,
              "#9c179e"
             ],
             [
              0.4444444444444444,
              "#bd3786"
             ],
             [
              0.5555555555555556,
              "#d8576b"
             ],
             [
              0.6666666666666666,
              "#ed7953"
             ],
             [
              0.7777777777777778,
              "#fb9f3a"
             ],
             [
              0.8888888888888888,
              "#fdca26"
             ],
             [
              1,
              "#f0f921"
             ]
            ],
            "type": "contour"
           }
          ],
          "contourcarpet": [
           {
            "colorbar": {
             "outlinewidth": 0,
             "ticks": ""
            },
            "type": "contourcarpet"
           }
          ],
          "heatmap": [
           {
            "colorbar": {
             "outlinewidth": 0,
             "ticks": ""
            },
            "colorscale": [
             [
              0,
              "#0d0887"
             ],
             [
              0.1111111111111111,
              "#46039f"
             ],
             [
              0.2222222222222222,
              "#7201a8"
             ],
             [
              0.3333333333333333,
              "#9c179e"
             ],
             [
              0.4444444444444444,
              "#bd3786"
             ],
             [
              0.5555555555555556,
              "#d8576b"
             ],
             [
              0.6666666666666666,
              "#ed7953"
             ],
             [
              0.7777777777777778,
              "#fb9f3a"
             ],
             [
              0.8888888888888888,
              "#fdca26"
             ],
             [
              1,
              "#f0f921"
             ]
            ],
            "type": "heatmap"
           }
          ],
          "histogram": [
           {
            "marker": {
             "pattern": {
              "fillmode": "overlay",
              "size": 10,
              "solidity": 0.2
             }
            },
            "type": "histogram"
           }
          ],
          "histogram2d": [
           {
            "colorbar": {
             "outlinewidth": 0,
             "ticks": ""
            },
            "colorscale": [
             [
              0,
              "#0d0887"
             ],
             [
              0.1111111111111111,
              "#46039f"
             ],
             [
              0.2222222222222222,
              "#7201a8"
             ],
             [
              0.3333333333333333,
              "#9c179e"
             ],
             [
              0.4444444444444444,
              "#bd3786"
             ],
             [
              0.5555555555555556,
              "#d8576b"
             ],
             [
              0.6666666666666666,
              "#ed7953"
             ],
             [
              0.7777777777777778,
              "#fb9f3a"
             ],
             [
              0.8888888888888888,
              "#fdca26"
             ],
             [
              1,
              "#f0f921"
             ]
            ],
            "type": "histogram2d"
           }
          ],
          "histogram2dcontour": [
           {
            "colorbar": {
             "outlinewidth": 0,
             "ticks": ""
            },
            "colorscale": [
             [
              0,
              "#0d0887"
             ],
             [
              0.1111111111111111,
              "#46039f"
             ],
             [
              0.2222222222222222,
              "#7201a8"
             ],
             [
              0.3333333333333333,
              "#9c179e"
             ],
             [
              0.4444444444444444,
              "#bd3786"
             ],
             [
              0.5555555555555556,
              "#d8576b"
             ],
             [
              0.6666666666666666,
              "#ed7953"
             ],
             [
              0.7777777777777778,
              "#fb9f3a"
             ],
             [
              0.8888888888888888,
              "#fdca26"
             ],
             [
              1,
              "#f0f921"
             ]
            ],
            "type": "histogram2dcontour"
           }
          ],
          "mesh3d": [
           {
            "colorbar": {
             "outlinewidth": 0,
             "ticks": ""
            },
            "type": "mesh3d"
           }
          ],
          "parcoords": [
           {
            "line": {
             "colorbar": {
              "outlinewidth": 0,
              "ticks": ""
             }
            },
            "type": "parcoords"
           }
          ],
          "pie": [
           {
            "automargin": true,
            "type": "pie"
           }
          ],
          "scatter": [
           {
            "fillpattern": {
             "fillmode": "overlay",
             "size": 10,
             "solidity": 0.2
            },
            "type": "scatter"
           }
          ],
          "scatter3d": [
           {
            "line": {
             "colorbar": {
              "outlinewidth": 0,
              "ticks": ""
             }
            },
            "marker": {
             "colorbar": {
              "outlinewidth": 0,
              "ticks": ""
             }
            },
            "type": "scatter3d"
           }
          ],
          "scattercarpet": [
           {
            "marker": {
             "colorbar": {
              "outlinewidth": 0,
              "ticks": ""
             }
            },
            "type": "scattercarpet"
           }
          ],
          "scattergeo": [
           {
            "marker": {
             "colorbar": {
              "outlinewidth": 0,
              "ticks": ""
             }
            },
            "type": "scattergeo"
           }
          ],
          "scattergl": [
           {
            "marker": {
             "colorbar": {
              "outlinewidth": 0,
              "ticks": ""
             }
            },
            "type": "scattergl"
           }
          ],
          "scattermap": [
           {
            "marker": {
             "colorbar": {
              "outlinewidth": 0,
              "ticks": ""
             }
            },
            "type": "scattermap"
           }
          ],
          "scattermapbox": [
           {
            "marker": {
             "colorbar": {
              "outlinewidth": 0,
              "ticks": ""
             }
            },
            "type": "scattermapbox"
           }
          ],
          "scatterpolar": [
           {
            "marker": {
             "colorbar": {
              "outlinewidth": 0,
              "ticks": ""
             }
            },
            "type": "scatterpolar"
           }
          ],
          "scatterpolargl": [
           {
            "marker": {
             "colorbar": {
              "outlinewidth": 0,
              "ticks": ""
             }
            },
            "type": "scatterpolargl"
           }
          ],
          "scatterternary": [
           {
            "marker": {
             "colorbar": {
              "outlinewidth": 0,
              "ticks": ""
             }
            },
            "type": "scatterternary"
           }
          ],
          "surface": [
           {
            "colorbar": {
             "outlinewidth": 0,
             "ticks": ""
            },
            "colorscale": [
             [
              0,
              "#0d0887"
             ],
             [
              0.1111111111111111,
              "#46039f"
             ],
             [
              0.2222222222222222,
              "#7201a8"
             ],
             [
              0.3333333333333333,
              "#9c179e"
             ],
             [
              0.4444444444444444,
              "#bd3786"
             ],
             [
              0.5555555555555556,
              "#d8576b"
             ],
             [
              0.6666666666666666,
              "#ed7953"
             ],
             [
              0.7777777777777778,
              "#fb9f3a"
             ],
             [
              0.8888888888888888,
              "#fdca26"
             ],
             [
              1,
              "#f0f921"
             ]
            ],
            "type": "surface"
           }
          ],
          "table": [
           {
            "cells": {
             "fill": {
              "color": "#EBF0F8"
             },
             "line": {
              "color": "white"
             }
            },
            "header": {
             "fill": {
              "color": "#C8D4E3"
             },
             "line": {
              "color": "white"
             }
            },
            "type": "table"
           }
          ]
         },
         "layout": {
          "annotationdefaults": {
           "arrowcolor": "#2a3f5f",
           "arrowhead": 0,
           "arrowwidth": 1
          },
          "autotypenumbers": "strict",
          "coloraxis": {
           "colorbar": {
            "outlinewidth": 0,
            "ticks": ""
           }
          },
          "colorscale": {
           "diverging": [
            [
             0,
             "#8e0152"
            ],
            [
             0.1,
             "#c51b7d"
            ],
            [
             0.2,
             "#de77ae"
            ],
            [
             0.3,
             "#f1b6da"
            ],
            [
             0.4,
             "#fde0ef"
            ],
            [
             0.5,
             "#f7f7f7"
            ],
            [
             0.6,
             "#e6f5d0"
            ],
            [
             0.7,
             "#b8e186"
            ],
            [
             0.8,
             "#7fbc41"
            ],
            [
             0.9,
             "#4d9221"
            ],
            [
             1,
             "#276419"
            ]
           ],
           "sequential": [
            [
             0,
             "#0d0887"
            ],
            [
             0.1111111111111111,
             "#46039f"
            ],
            [
             0.2222222222222222,
             "#7201a8"
            ],
            [
             0.3333333333333333,
             "#9c179e"
            ],
            [
             0.4444444444444444,
             "#bd3786"
            ],
            [
             0.5555555555555556,
             "#d8576b"
            ],
            [
             0.6666666666666666,
             "#ed7953"
            ],
            [
             0.7777777777777778,
             "#fb9f3a"
            ],
            [
             0.8888888888888888,
             "#fdca26"
            ],
            [
             1,
             "#f0f921"
            ]
           ],
           "sequentialminus": [
            [
             0,
             "#0d0887"
            ],
            [
             0.1111111111111111,
             "#46039f"
            ],
            [
             0.2222222222222222,
             "#7201a8"
            ],
            [
             0.3333333333333333,
             "#9c179e"
            ],
            [
             0.4444444444444444,
             "#bd3786"
            ],
            [
             0.5555555555555556,
             "#d8576b"
            ],
            [
             0.6666666666666666,
             "#ed7953"
            ],
            [
             0.7777777777777778,
             "#fb9f3a"
            ],
            [
             0.8888888888888888,
             "#fdca26"
            ],
            [
             1,
             "#f0f921"
            ]
           ]
          },
          "colorway": [
           "#636efa",
           "#EF553B",
           "#00cc96",
           "#ab63fa",
           "#FFA15A",
           "#19d3f3",
           "#FF6692",
           "#B6E880",
           "#FF97FF",
           "#FECB52"
          ],
          "font": {
           "color": "#2a3f5f"
          },
          "geo": {
           "bgcolor": "white",
           "lakecolor": "white",
           "landcolor": "#E5ECF6",
           "showlakes": true,
           "showland": true,
           "subunitcolor": "white"
          },
          "hoverlabel": {
           "align": "left"
          },
          "hovermode": "closest",
          "mapbox": {
           "style": "light"
          },
          "paper_bgcolor": "white",
          "plot_bgcolor": "#E5ECF6",
          "polar": {
           "angularaxis": {
            "gridcolor": "white",
            "linecolor": "white",
            "ticks": ""
           },
           "bgcolor": "#E5ECF6",
           "radialaxis": {
            "gridcolor": "white",
            "linecolor": "white",
            "ticks": ""
           }
          },
          "scene": {
           "xaxis": {
            "backgroundcolor": "#E5ECF6",
            "gridcolor": "white",
            "gridwidth": 2,
            "linecolor": "white",
            "showbackground": true,
            "ticks": "",
            "zerolinecolor": "white"
           },
           "yaxis": {
            "backgroundcolor": "#E5ECF6",
            "gridcolor": "white",
            "gridwidth": 2,
            "linecolor": "white",
            "showbackground": true,
            "ticks": "",
            "zerolinecolor": "white"
           },
           "zaxis": {
            "backgroundcolor": "#E5ECF6",
            "gridcolor": "white",
            "gridwidth": 2,
            "linecolor": "white",
            "showbackground": true,
            "ticks": "",
            "zerolinecolor": "white"
           }
          },
          "shapedefaults": {
           "line": {
            "color": "#2a3f5f"
           }
          },
          "ternary": {
           "aaxis": {
            "gridcolor": "white",
            "linecolor": "white",
            "ticks": ""
           },
           "baxis": {
            "gridcolor": "white",
            "linecolor": "white",
            "ticks": ""
           },
           "bgcolor": "#E5ECF6",
           "caxis": {
            "gridcolor": "white",
            "linecolor": "white",
            "ticks": ""
           }
          },
          "title": {
           "x": 0.05
          },
          "xaxis": {
           "automargin": true,
           "gridcolor": "white",
           "linecolor": "white",
           "ticks": "",
           "title": {
            "standoff": 15
           },
           "zerolinecolor": "white",
           "zerolinewidth": 2
          },
          "yaxis": {
           "automargin": true,
           "gridcolor": "white",
           "linecolor": "white",
           "ticks": "",
           "title": {
            "standoff": 15
           },
           "zerolinecolor": "white",
           "zerolinewidth": 2
          }
         }
        },
        "title": {
         "text": "Distribution of Movies by Genre"
        }
       }
      }
     },
     "metadata": {},
     "output_type": "display_data"
    }
   ],
   "source": [
    "fig_movies_genres = px.treemap(genre_df,\n",
    "                 path=['Genre'],\n",
    "                 values='Count',\n",
    "                 title='Distribution of Movies by Genre')\n",
    "\n",
    "fig_movies_genres.show()\n"
   ]
  },
  {
   "cell_type": "code",
   "execution_count": 64,
   "id": "5d0b9fbf",
   "metadata": {},
   "outputs": [],
   "source": [
    "with open(\"../img/fig_movies_genres.pkl\", \"wb\") as f:\n",
    "    pickle.dump(fig_movies_genres, f)"
   ]
  },
  {
   "cell_type": "markdown",
   "id": "dbc0ba11",
   "metadata": {},
   "source": [
    "# Donut Chart: Distribution of Languages"
   ]
  },
  {
   "cell_type": "code",
   "execution_count": 16,
   "id": "79250c54",
   "metadata": {},
   "outputs": [],
   "source": [
    "# Extract all spoken language names\n",
    "all_languages = [lang['name']\n",
    "                 for row in df['spoken_languages'].apply(eval)\n",
    "                 for lang in row]\n",
    "\n",
    "from collections import Counter\n",
    "language_counts = Counter(all_languages)\n",
    "language_df = pd.DataFrame(language_counts.items(), columns=['Language', 'Count'])\n",
    "language_df = language_df.sort_values('Count', ascending=False)\n"
   ]
  },
  {
   "cell_type": "code",
   "execution_count": 65,
   "id": "a7a2df5d",
   "metadata": {},
   "outputs": [
    {
     "data": {
      "application/vnd.plotly.v1+json": {
       "config": {
        "plotlyServerURL": "https://plot.ly"
       },
       "data": [
        {
         "domain": {
          "x": [
           0,
           1
          ],
          "y": [
           0,
           1
          ]
         },
         "hole": 0.4,
         "hovertemplate": "Language=%{label}<br>Count=%{value}<extra></extra>",
         "labels": [
          "English",
          "Français",
          "Español",
          "Deutsch",
          "Italiano",
          "Pусский",
          "普通话",
          "日本語",
          "Português",
          "العربية"
         ],
         "legendgroup": "",
         "name": "",
         "showlegend": true,
         "textinfo": "percent+label",
         "textposition": "inside",
         "type": "pie",
         "values": {
          "bdata": "hRG1AV8BBgG8ALkAawBhAEQAQwA=",
          "dtype": "i2"
         }
        }
       ],
       "layout": {
        "legend": {
         "tracegroupgap": 0
        },
        "template": {
         "data": {
          "bar": [
           {
            "error_x": {
             "color": "#2a3f5f"
            },
            "error_y": {
             "color": "#2a3f5f"
            },
            "marker": {
             "line": {
              "color": "#E5ECF6",
              "width": 0.5
             },
             "pattern": {
              "fillmode": "overlay",
              "size": 10,
              "solidity": 0.2
             }
            },
            "type": "bar"
           }
          ],
          "barpolar": [
           {
            "marker": {
             "line": {
              "color": "#E5ECF6",
              "width": 0.5
             },
             "pattern": {
              "fillmode": "overlay",
              "size": 10,
              "solidity": 0.2
             }
            },
            "type": "barpolar"
           }
          ],
          "carpet": [
           {
            "aaxis": {
             "endlinecolor": "#2a3f5f",
             "gridcolor": "white",
             "linecolor": "white",
             "minorgridcolor": "white",
             "startlinecolor": "#2a3f5f"
            },
            "baxis": {
             "endlinecolor": "#2a3f5f",
             "gridcolor": "white",
             "linecolor": "white",
             "minorgridcolor": "white",
             "startlinecolor": "#2a3f5f"
            },
            "type": "carpet"
           }
          ],
          "choropleth": [
           {
            "colorbar": {
             "outlinewidth": 0,
             "ticks": ""
            },
            "type": "choropleth"
           }
          ],
          "contour": [
           {
            "colorbar": {
             "outlinewidth": 0,
             "ticks": ""
            },
            "colorscale": [
             [
              0,
              "#0d0887"
             ],
             [
              0.1111111111111111,
              "#46039f"
             ],
             [
              0.2222222222222222,
              "#7201a8"
             ],
             [
              0.3333333333333333,
              "#9c179e"
             ],
             [
              0.4444444444444444,
              "#bd3786"
             ],
             [
              0.5555555555555556,
              "#d8576b"
             ],
             [
              0.6666666666666666,
              "#ed7953"
             ],
             [
              0.7777777777777778,
              "#fb9f3a"
             ],
             [
              0.8888888888888888,
              "#fdca26"
             ],
             [
              1,
              "#f0f921"
             ]
            ],
            "type": "contour"
           }
          ],
          "contourcarpet": [
           {
            "colorbar": {
             "outlinewidth": 0,
             "ticks": ""
            },
            "type": "contourcarpet"
           }
          ],
          "heatmap": [
           {
            "colorbar": {
             "outlinewidth": 0,
             "ticks": ""
            },
            "colorscale": [
             [
              0,
              "#0d0887"
             ],
             [
              0.1111111111111111,
              "#46039f"
             ],
             [
              0.2222222222222222,
              "#7201a8"
             ],
             [
              0.3333333333333333,
              "#9c179e"
             ],
             [
              0.4444444444444444,
              "#bd3786"
             ],
             [
              0.5555555555555556,
              "#d8576b"
             ],
             [
              0.6666666666666666,
              "#ed7953"
             ],
             [
              0.7777777777777778,
              "#fb9f3a"
             ],
             [
              0.8888888888888888,
              "#fdca26"
             ],
             [
              1,
              "#f0f921"
             ]
            ],
            "type": "heatmap"
           }
          ],
          "histogram": [
           {
            "marker": {
             "pattern": {
              "fillmode": "overlay",
              "size": 10,
              "solidity": 0.2
             }
            },
            "type": "histogram"
           }
          ],
          "histogram2d": [
           {
            "colorbar": {
             "outlinewidth": 0,
             "ticks": ""
            },
            "colorscale": [
             [
              0,
              "#0d0887"
             ],
             [
              0.1111111111111111,
              "#46039f"
             ],
             [
              0.2222222222222222,
              "#7201a8"
             ],
             [
              0.3333333333333333,
              "#9c179e"
             ],
             [
              0.4444444444444444,
              "#bd3786"
             ],
             [
              0.5555555555555556,
              "#d8576b"
             ],
             [
              0.6666666666666666,
              "#ed7953"
             ],
             [
              0.7777777777777778,
              "#fb9f3a"
             ],
             [
              0.8888888888888888,
              "#fdca26"
             ],
             [
              1,
              "#f0f921"
             ]
            ],
            "type": "histogram2d"
           }
          ],
          "histogram2dcontour": [
           {
            "colorbar": {
             "outlinewidth": 0,
             "ticks": ""
            },
            "colorscale": [
             [
              0,
              "#0d0887"
             ],
             [
              0.1111111111111111,
              "#46039f"
             ],
             [
              0.2222222222222222,
              "#7201a8"
             ],
             [
              0.3333333333333333,
              "#9c179e"
             ],
             [
              0.4444444444444444,
              "#bd3786"
             ],
             [
              0.5555555555555556,
              "#d8576b"
             ],
             [
              0.6666666666666666,
              "#ed7953"
             ],
             [
              0.7777777777777778,
              "#fb9f3a"
             ],
             [
              0.8888888888888888,
              "#fdca26"
             ],
             [
              1,
              "#f0f921"
             ]
            ],
            "type": "histogram2dcontour"
           }
          ],
          "mesh3d": [
           {
            "colorbar": {
             "outlinewidth": 0,
             "ticks": ""
            },
            "type": "mesh3d"
           }
          ],
          "parcoords": [
           {
            "line": {
             "colorbar": {
              "outlinewidth": 0,
              "ticks": ""
             }
            },
            "type": "parcoords"
           }
          ],
          "pie": [
           {
            "automargin": true,
            "type": "pie"
           }
          ],
          "scatter": [
           {
            "fillpattern": {
             "fillmode": "overlay",
             "size": 10,
             "solidity": 0.2
            },
            "type": "scatter"
           }
          ],
          "scatter3d": [
           {
            "line": {
             "colorbar": {
              "outlinewidth": 0,
              "ticks": ""
             }
            },
            "marker": {
             "colorbar": {
              "outlinewidth": 0,
              "ticks": ""
             }
            },
            "type": "scatter3d"
           }
          ],
          "scattercarpet": [
           {
            "marker": {
             "colorbar": {
              "outlinewidth": 0,
              "ticks": ""
             }
            },
            "type": "scattercarpet"
           }
          ],
          "scattergeo": [
           {
            "marker": {
             "colorbar": {
              "outlinewidth": 0,
              "ticks": ""
             }
            },
            "type": "scattergeo"
           }
          ],
          "scattergl": [
           {
            "marker": {
             "colorbar": {
              "outlinewidth": 0,
              "ticks": ""
             }
            },
            "type": "scattergl"
           }
          ],
          "scattermap": [
           {
            "marker": {
             "colorbar": {
              "outlinewidth": 0,
              "ticks": ""
             }
            },
            "type": "scattermap"
           }
          ],
          "scattermapbox": [
           {
            "marker": {
             "colorbar": {
              "outlinewidth": 0,
              "ticks": ""
             }
            },
            "type": "scattermapbox"
           }
          ],
          "scatterpolar": [
           {
            "marker": {
             "colorbar": {
              "outlinewidth": 0,
              "ticks": ""
             }
            },
            "type": "scatterpolar"
           }
          ],
          "scatterpolargl": [
           {
            "marker": {
             "colorbar": {
              "outlinewidth": 0,
              "ticks": ""
             }
            },
            "type": "scatterpolargl"
           }
          ],
          "scatterternary": [
           {
            "marker": {
             "colorbar": {
              "outlinewidth": 0,
              "ticks": ""
             }
            },
            "type": "scatterternary"
           }
          ],
          "surface": [
           {
            "colorbar": {
             "outlinewidth": 0,
             "ticks": ""
            },
            "colorscale": [
             [
              0,
              "#0d0887"
             ],
             [
              0.1111111111111111,
              "#46039f"
             ],
             [
              0.2222222222222222,
              "#7201a8"
             ],
             [
              0.3333333333333333,
              "#9c179e"
             ],
             [
              0.4444444444444444,
              "#bd3786"
             ],
             [
              0.5555555555555556,
              "#d8576b"
             ],
             [
              0.6666666666666666,
              "#ed7953"
             ],
             [
              0.7777777777777778,
              "#fb9f3a"
             ],
             [
              0.8888888888888888,
              "#fdca26"
             ],
             [
              1,
              "#f0f921"
             ]
            ],
            "type": "surface"
           }
          ],
          "table": [
           {
            "cells": {
             "fill": {
              "color": "#EBF0F8"
             },
             "line": {
              "color": "white"
             }
            },
            "header": {
             "fill": {
              "color": "#C8D4E3"
             },
             "line": {
              "color": "white"
             }
            },
            "type": "table"
           }
          ]
         },
         "layout": {
          "annotationdefaults": {
           "arrowcolor": "#2a3f5f",
           "arrowhead": 0,
           "arrowwidth": 1
          },
          "autotypenumbers": "strict",
          "coloraxis": {
           "colorbar": {
            "outlinewidth": 0,
            "ticks": ""
           }
          },
          "colorscale": {
           "diverging": [
            [
             0,
             "#8e0152"
            ],
            [
             0.1,
             "#c51b7d"
            ],
            [
             0.2,
             "#de77ae"
            ],
            [
             0.3,
             "#f1b6da"
            ],
            [
             0.4,
             "#fde0ef"
            ],
            [
             0.5,
             "#f7f7f7"
            ],
            [
             0.6,
             "#e6f5d0"
            ],
            [
             0.7,
             "#b8e186"
            ],
            [
             0.8,
             "#7fbc41"
            ],
            [
             0.9,
             "#4d9221"
            ],
            [
             1,
             "#276419"
            ]
           ],
           "sequential": [
            [
             0,
             "#0d0887"
            ],
            [
             0.1111111111111111,
             "#46039f"
            ],
            [
             0.2222222222222222,
             "#7201a8"
            ],
            [
             0.3333333333333333,
             "#9c179e"
            ],
            [
             0.4444444444444444,
             "#bd3786"
            ],
            [
             0.5555555555555556,
             "#d8576b"
            ],
            [
             0.6666666666666666,
             "#ed7953"
            ],
            [
             0.7777777777777778,
             "#fb9f3a"
            ],
            [
             0.8888888888888888,
             "#fdca26"
            ],
            [
             1,
             "#f0f921"
            ]
           ],
           "sequentialminus": [
            [
             0,
             "#0d0887"
            ],
            [
             0.1111111111111111,
             "#46039f"
            ],
            [
             0.2222222222222222,
             "#7201a8"
            ],
            [
             0.3333333333333333,
             "#9c179e"
            ],
            [
             0.4444444444444444,
             "#bd3786"
            ],
            [
             0.5555555555555556,
             "#d8576b"
            ],
            [
             0.6666666666666666,
             "#ed7953"
            ],
            [
             0.7777777777777778,
             "#fb9f3a"
            ],
            [
             0.8888888888888888,
             "#fdca26"
            ],
            [
             1,
             "#f0f921"
            ]
           ]
          },
          "colorway": [
           "#636efa",
           "#EF553B",
           "#00cc96",
           "#ab63fa",
           "#FFA15A",
           "#19d3f3",
           "#FF6692",
           "#B6E880",
           "#FF97FF",
           "#FECB52"
          ],
          "font": {
           "color": "#2a3f5f"
          },
          "geo": {
           "bgcolor": "white",
           "lakecolor": "white",
           "landcolor": "#E5ECF6",
           "showlakes": true,
           "showland": true,
           "subunitcolor": "white"
          },
          "hoverlabel": {
           "align": "left"
          },
          "hovermode": "closest",
          "mapbox": {
           "style": "light"
          },
          "paper_bgcolor": "white",
          "plot_bgcolor": "#E5ECF6",
          "polar": {
           "angularaxis": {
            "gridcolor": "white",
            "linecolor": "white",
            "ticks": ""
           },
           "bgcolor": "#E5ECF6",
           "radialaxis": {
            "gridcolor": "white",
            "linecolor": "white",
            "ticks": ""
           }
          },
          "scene": {
           "xaxis": {
            "backgroundcolor": "#E5ECF6",
            "gridcolor": "white",
            "gridwidth": 2,
            "linecolor": "white",
            "showbackground": true,
            "ticks": "",
            "zerolinecolor": "white"
           },
           "yaxis": {
            "backgroundcolor": "#E5ECF6",
            "gridcolor": "white",
            "gridwidth": 2,
            "linecolor": "white",
            "showbackground": true,
            "ticks": "",
            "zerolinecolor": "white"
           },
           "zaxis": {
            "backgroundcolor": "#E5ECF6",
            "gridcolor": "white",
            "gridwidth": 2,
            "linecolor": "white",
            "showbackground": true,
            "ticks": "",
            "zerolinecolor": "white"
           }
          },
          "shapedefaults": {
           "line": {
            "color": "#2a3f5f"
           }
          },
          "ternary": {
           "aaxis": {
            "gridcolor": "white",
            "linecolor": "white",
            "ticks": ""
           },
           "baxis": {
            "gridcolor": "white",
            "linecolor": "white",
            "ticks": ""
           },
           "bgcolor": "#E5ECF6",
           "caxis": {
            "gridcolor": "white",
            "linecolor": "white",
            "ticks": ""
           }
          },
          "title": {
           "x": 0.05
          },
          "xaxis": {
           "automargin": true,
           "gridcolor": "white",
           "linecolor": "white",
           "ticks": "",
           "title": {
            "standoff": 15
           },
           "zerolinecolor": "white",
           "zerolinewidth": 2
          },
          "yaxis": {
           "automargin": true,
           "gridcolor": "white",
           "linecolor": "white",
           "ticks": "",
           "title": {
            "standoff": 15
           },
           "zerolinecolor": "white",
           "zerolinewidth": 2
          }
         }
        },
        "title": {
         "text": "Top 10 Spoken Languages in Movies"
        }
       }
      }
     },
     "metadata": {},
     "output_type": "display_data"
    }
   ],
   "source": [
    "import plotly.express as px\n",
    "\n",
    "fig_top10_lang = px.pie(language_df.head(10),  # show top 10 languages\n",
    "             names='Language',\n",
    "             values='Count',\n",
    "             hole=0.4,\n",
    "             title='Top 10 Spoken Languages in Movies')\n",
    "\n",
    "fig_top10_lang.update_traces(textposition='inside', textinfo='percent+label')\n",
    "fig_top10_lang.show()\n"
   ]
  },
  {
   "cell_type": "code",
   "execution_count": 67,
   "id": "2da5a4a1",
   "metadata": {},
   "outputs": [],
   "source": [
    "import pickle\n",
    "with open(\"../img/fig_languages.pkl\", \"wb\") as f:\n",
    "    pickle.dump(fig_top10_lang, f)\n"
   ]
  },
  {
   "cell_type": "markdown",
   "id": "6eab3e80",
   "metadata": {},
   "source": [
    "#  Sunburst Chart: Genre + Subgenre "
   ]
  },
  {
   "cell_type": "code",
   "execution_count": 69,
   "id": "68df09cf",
   "metadata": {},
   "outputs": [],
   "source": [
    "#  Create Multi-Genre Pairs (Simulated Combo)\n",
    "from itertools import combinations\n",
    "\n",
    "# Generate pairs of genres for movies with 2+ genres\n",
    "def genre_pairs(genre_list):\n",
    "    genres = eval(genre_list)\n",
    "    return [tuple(sorted(pair)) for pair in combinations(genres, 2)] if len(genres) > 1 else []\n",
    "\n",
    "pairs = df['genre_names'].apply(genre_pairs)\n",
    "flat_pairs = [pair for sublist in pairs for pair in sublist]\n",
    "\n",
    "pair_counts = Counter(flat_pairs)\n",
    "pair_df = pd.DataFrame(pair_counts.items(), columns=['Pair', 'Count'])\n",
    "pair_df[['Genre1', 'Genre2']] = pd.DataFrame(pair_df['Pair'].tolist(), index=pair_df.index)\n",
    "\n",
    "top_n = 8\n",
    "\n",
    "top_languages = language_df.head(top_n).copy()\n",
    "other_count = language_df['Count'][top_n:].sum()\n"
   ]
  },
  {
   "cell_type": "code",
   "execution_count": 70,
   "id": "ef9e7185",
   "metadata": {},
   "outputs": [
    {
     "data": {
      "application/vnd.plotly.v1+json": {
       "config": {
        "plotlyServerURL": "https://plot.ly"
       },
       "data": [
        {
         "hovertemplate": "Count=%{x}<br>Language=%{y}<extra></extra>",
         "legendgroup": "",
         "marker": {
          "color": "#636efa",
          "pattern": {
           "shape": ""
          }
         },
         "name": "",
         "orientation": "h",
         "showlegend": false,
         "textposition": "auto",
         "type": "bar",
         "x": {
          "bdata": "hRG1AV8BBgG8ALkAawBhAEQAQwA=",
          "dtype": "i2"
         },
         "xaxis": "x",
         "y": [
          "English",
          "Français",
          "Español",
          "Deutsch",
          "Italiano",
          "Pусский",
          "普通话",
          "日本語",
          "Português",
          "العربية"
         ],
         "yaxis": "y"
        }
       ],
       "layout": {
        "barmode": "relative",
        "legend": {
         "tracegroupgap": 0
        },
        "template": {
         "data": {
          "bar": [
           {
            "error_x": {
             "color": "#2a3f5f"
            },
            "error_y": {
             "color": "#2a3f5f"
            },
            "marker": {
             "line": {
              "color": "#E5ECF6",
              "width": 0.5
             },
             "pattern": {
              "fillmode": "overlay",
              "size": 10,
              "solidity": 0.2
             }
            },
            "type": "bar"
           }
          ],
          "barpolar": [
           {
            "marker": {
             "line": {
              "color": "#E5ECF6",
              "width": 0.5
             },
             "pattern": {
              "fillmode": "overlay",
              "size": 10,
              "solidity": 0.2
             }
            },
            "type": "barpolar"
           }
          ],
          "carpet": [
           {
            "aaxis": {
             "endlinecolor": "#2a3f5f",
             "gridcolor": "white",
             "linecolor": "white",
             "minorgridcolor": "white",
             "startlinecolor": "#2a3f5f"
            },
            "baxis": {
             "endlinecolor": "#2a3f5f",
             "gridcolor": "white",
             "linecolor": "white",
             "minorgridcolor": "white",
             "startlinecolor": "#2a3f5f"
            },
            "type": "carpet"
           }
          ],
          "choropleth": [
           {
            "colorbar": {
             "outlinewidth": 0,
             "ticks": ""
            },
            "type": "choropleth"
           }
          ],
          "contour": [
           {
            "colorbar": {
             "outlinewidth": 0,
             "ticks": ""
            },
            "colorscale": [
             [
              0,
              "#0d0887"
             ],
             [
              0.1111111111111111,
              "#46039f"
             ],
             [
              0.2222222222222222,
              "#7201a8"
             ],
             [
              0.3333333333333333,
              "#9c179e"
             ],
             [
              0.4444444444444444,
              "#bd3786"
             ],
             [
              0.5555555555555556,
              "#d8576b"
             ],
             [
              0.6666666666666666,
              "#ed7953"
             ],
             [
              0.7777777777777778,
              "#fb9f3a"
             ],
             [
              0.8888888888888888,
              "#fdca26"
             ],
             [
              1,
              "#f0f921"
             ]
            ],
            "type": "contour"
           }
          ],
          "contourcarpet": [
           {
            "colorbar": {
             "outlinewidth": 0,
             "ticks": ""
            },
            "type": "contourcarpet"
           }
          ],
          "heatmap": [
           {
            "colorbar": {
             "outlinewidth": 0,
             "ticks": ""
            },
            "colorscale": [
             [
              0,
              "#0d0887"
             ],
             [
              0.1111111111111111,
              "#46039f"
             ],
             [
              0.2222222222222222,
              "#7201a8"
             ],
             [
              0.3333333333333333,
              "#9c179e"
             ],
             [
              0.4444444444444444,
              "#bd3786"
             ],
             [
              0.5555555555555556,
              "#d8576b"
             ],
             [
              0.6666666666666666,
              "#ed7953"
             ],
             [
              0.7777777777777778,
              "#fb9f3a"
             ],
             [
              0.8888888888888888,
              "#fdca26"
             ],
             [
              1,
              "#f0f921"
             ]
            ],
            "type": "heatmap"
           }
          ],
          "histogram": [
           {
            "marker": {
             "pattern": {
              "fillmode": "overlay",
              "size": 10,
              "solidity": 0.2
             }
            },
            "type": "histogram"
           }
          ],
          "histogram2d": [
           {
            "colorbar": {
             "outlinewidth": 0,
             "ticks": ""
            },
            "colorscale": [
             [
              0,
              "#0d0887"
             ],
             [
              0.1111111111111111,
              "#46039f"
             ],
             [
              0.2222222222222222,
              "#7201a8"
             ],
             [
              0.3333333333333333,
              "#9c179e"
             ],
             [
              0.4444444444444444,
              "#bd3786"
             ],
             [
              0.5555555555555556,
              "#d8576b"
             ],
             [
              0.6666666666666666,
              "#ed7953"
             ],
             [
              0.7777777777777778,
              "#fb9f3a"
             ],
             [
              0.8888888888888888,
              "#fdca26"
             ],
             [
              1,
              "#f0f921"
             ]
            ],
            "type": "histogram2d"
           }
          ],
          "histogram2dcontour": [
           {
            "colorbar": {
             "outlinewidth": 0,
             "ticks": ""
            },
            "colorscale": [
             [
              0,
              "#0d0887"
             ],
             [
              0.1111111111111111,
              "#46039f"
             ],
             [
              0.2222222222222222,
              "#7201a8"
             ],
             [
              0.3333333333333333,
              "#9c179e"
             ],
             [
              0.4444444444444444,
              "#bd3786"
             ],
             [
              0.5555555555555556,
              "#d8576b"
             ],
             [
              0.6666666666666666,
              "#ed7953"
             ],
             [
              0.7777777777777778,
              "#fb9f3a"
             ],
             [
              0.8888888888888888,
              "#fdca26"
             ],
             [
              1,
              "#f0f921"
             ]
            ],
            "type": "histogram2dcontour"
           }
          ],
          "mesh3d": [
           {
            "colorbar": {
             "outlinewidth": 0,
             "ticks": ""
            },
            "type": "mesh3d"
           }
          ],
          "parcoords": [
           {
            "line": {
             "colorbar": {
              "outlinewidth": 0,
              "ticks": ""
             }
            },
            "type": "parcoords"
           }
          ],
          "pie": [
           {
            "automargin": true,
            "type": "pie"
           }
          ],
          "scatter": [
           {
            "fillpattern": {
             "fillmode": "overlay",
             "size": 10,
             "solidity": 0.2
            },
            "type": "scatter"
           }
          ],
          "scatter3d": [
           {
            "line": {
             "colorbar": {
              "outlinewidth": 0,
              "ticks": ""
             }
            },
            "marker": {
             "colorbar": {
              "outlinewidth": 0,
              "ticks": ""
             }
            },
            "type": "scatter3d"
           }
          ],
          "scattercarpet": [
           {
            "marker": {
             "colorbar": {
              "outlinewidth": 0,
              "ticks": ""
             }
            },
            "type": "scattercarpet"
           }
          ],
          "scattergeo": [
           {
            "marker": {
             "colorbar": {
              "outlinewidth": 0,
              "ticks": ""
             }
            },
            "type": "scattergeo"
           }
          ],
          "scattergl": [
           {
            "marker": {
             "colorbar": {
              "outlinewidth": 0,
              "ticks": ""
             }
            },
            "type": "scattergl"
           }
          ],
          "scattermap": [
           {
            "marker": {
             "colorbar": {
              "outlinewidth": 0,
              "ticks": ""
             }
            },
            "type": "scattermap"
           }
          ],
          "scattermapbox": [
           {
            "marker": {
             "colorbar": {
              "outlinewidth": 0,
              "ticks": ""
             }
            },
            "type": "scattermapbox"
           }
          ],
          "scatterpolar": [
           {
            "marker": {
             "colorbar": {
              "outlinewidth": 0,
              "ticks": ""
             }
            },
            "type": "scatterpolar"
           }
          ],
          "scatterpolargl": [
           {
            "marker": {
             "colorbar": {
              "outlinewidth": 0,
              "ticks": ""
             }
            },
            "type": "scatterpolargl"
           }
          ],
          "scatterternary": [
           {
            "marker": {
             "colorbar": {
              "outlinewidth": 0,
              "ticks": ""
             }
            },
            "type": "scatterternary"
           }
          ],
          "surface": [
           {
            "colorbar": {
             "outlinewidth": 0,
             "ticks": ""
            },
            "colorscale": [
             [
              0,
              "#0d0887"
             ],
             [
              0.1111111111111111,
              "#46039f"
             ],
             [
              0.2222222222222222,
              "#7201a8"
             ],
             [
              0.3333333333333333,
              "#9c179e"
             ],
             [
              0.4444444444444444,
              "#bd3786"
             ],
             [
              0.5555555555555556,
              "#d8576b"
             ],
             [
              0.6666666666666666,
              "#ed7953"
             ],
             [
              0.7777777777777778,
              "#fb9f3a"
             ],
             [
              0.8888888888888888,
              "#fdca26"
             ],
             [
              1,
              "#f0f921"
             ]
            ],
            "type": "surface"
           }
          ],
          "table": [
           {
            "cells": {
             "fill": {
              "color": "#EBF0F8"
             },
             "line": {
              "color": "white"
             }
            },
            "header": {
             "fill": {
              "color": "#C8D4E3"
             },
             "line": {
              "color": "white"
             }
            },
            "type": "table"
           }
          ]
         },
         "layout": {
          "annotationdefaults": {
           "arrowcolor": "#2a3f5f",
           "arrowhead": 0,
           "arrowwidth": 1
          },
          "autotypenumbers": "strict",
          "coloraxis": {
           "colorbar": {
            "outlinewidth": 0,
            "ticks": ""
           }
          },
          "colorscale": {
           "diverging": [
            [
             0,
             "#8e0152"
            ],
            [
             0.1,
             "#c51b7d"
            ],
            [
             0.2,
             "#de77ae"
            ],
            [
             0.3,
             "#f1b6da"
            ],
            [
             0.4,
             "#fde0ef"
            ],
            [
             0.5,
             "#f7f7f7"
            ],
            [
             0.6,
             "#e6f5d0"
            ],
            [
             0.7,
             "#b8e186"
            ],
            [
             0.8,
             "#7fbc41"
            ],
            [
             0.9,
             "#4d9221"
            ],
            [
             1,
             "#276419"
            ]
           ],
           "sequential": [
            [
             0,
             "#0d0887"
            ],
            [
             0.1111111111111111,
             "#46039f"
            ],
            [
             0.2222222222222222,
             "#7201a8"
            ],
            [
             0.3333333333333333,
             "#9c179e"
            ],
            [
             0.4444444444444444,
             "#bd3786"
            ],
            [
             0.5555555555555556,
             "#d8576b"
            ],
            [
             0.6666666666666666,
             "#ed7953"
            ],
            [
             0.7777777777777778,
             "#fb9f3a"
            ],
            [
             0.8888888888888888,
             "#fdca26"
            ],
            [
             1,
             "#f0f921"
            ]
           ],
           "sequentialminus": [
            [
             0,
             "#0d0887"
            ],
            [
             0.1111111111111111,
             "#46039f"
            ],
            [
             0.2222222222222222,
             "#7201a8"
            ],
            [
             0.3333333333333333,
             "#9c179e"
            ],
            [
             0.4444444444444444,
             "#bd3786"
            ],
            [
             0.5555555555555556,
             "#d8576b"
            ],
            [
             0.6666666666666666,
             "#ed7953"
            ],
            [
             0.7777777777777778,
             "#fb9f3a"
            ],
            [
             0.8888888888888888,
             "#fdca26"
            ],
            [
             1,
             "#f0f921"
            ]
           ]
          },
          "colorway": [
           "#636efa",
           "#EF553B",
           "#00cc96",
           "#ab63fa",
           "#FFA15A",
           "#19d3f3",
           "#FF6692",
           "#B6E880",
           "#FF97FF",
           "#FECB52"
          ],
          "font": {
           "color": "#2a3f5f"
          },
          "geo": {
           "bgcolor": "white",
           "lakecolor": "white",
           "landcolor": "#E5ECF6",
           "showlakes": true,
           "showland": true,
           "subunitcolor": "white"
          },
          "hoverlabel": {
           "align": "left"
          },
          "hovermode": "closest",
          "mapbox": {
           "style": "light"
          },
          "paper_bgcolor": "white",
          "plot_bgcolor": "#E5ECF6",
          "polar": {
           "angularaxis": {
            "gridcolor": "white",
            "linecolor": "white",
            "ticks": ""
           },
           "bgcolor": "#E5ECF6",
           "radialaxis": {
            "gridcolor": "white",
            "linecolor": "white",
            "ticks": ""
           }
          },
          "scene": {
           "xaxis": {
            "backgroundcolor": "#E5ECF6",
            "gridcolor": "white",
            "gridwidth": 2,
            "linecolor": "white",
            "showbackground": true,
            "ticks": "",
            "zerolinecolor": "white"
           },
           "yaxis": {
            "backgroundcolor": "#E5ECF6",
            "gridcolor": "white",
            "gridwidth": 2,
            "linecolor": "white",
            "showbackground": true,
            "ticks": "",
            "zerolinecolor": "white"
           },
           "zaxis": {
            "backgroundcolor": "#E5ECF6",
            "gridcolor": "white",
            "gridwidth": 2,
            "linecolor": "white",
            "showbackground": true,
            "ticks": "",
            "zerolinecolor": "white"
           }
          },
          "shapedefaults": {
           "line": {
            "color": "#2a3f5f"
           }
          },
          "ternary": {
           "aaxis": {
            "gridcolor": "white",
            "linecolor": "white",
            "ticks": ""
           },
           "baxis": {
            "gridcolor": "white",
            "linecolor": "white",
            "ticks": ""
           },
           "bgcolor": "#E5ECF6",
           "caxis": {
            "gridcolor": "white",
            "linecolor": "white",
            "ticks": ""
           }
          },
          "title": {
           "x": 0.05
          },
          "xaxis": {
           "automargin": true,
           "gridcolor": "white",
           "linecolor": "white",
           "ticks": "",
           "title": {
            "standoff": 15
           },
           "zerolinecolor": "white",
           "zerolinewidth": 2
          },
          "yaxis": {
           "automargin": true,
           "gridcolor": "white",
           "linecolor": "white",
           "ticks": "",
           "title": {
            "standoff": 15
           },
           "zerolinecolor": "white",
           "zerolinewidth": 2
          }
         }
        },
        "title": {
         "text": "Top 10 Spoken Languages in Movies"
        },
        "xaxis": {
         "anchor": "y",
         "domain": [
          0,
          1
         ],
         "title": {
          "text": "Count"
         }
        },
        "yaxis": {
         "anchor": "x",
         "autorange": "reversed",
         "domain": [
          0,
          1
         ],
         "title": {
          "text": "Language"
         }
        }
       }
      }
     },
     "metadata": {},
     "output_type": "display_data"
    }
   ],
   "source": [
    "fig_spoken_lang = px.bar(language_df.head(10),\n",
    "             x='Count',\n",
    "             y='Language',\n",
    "             orientation='h',\n",
    "             title='Top 10 Spoken Languages in Movies')\n",
    "\n",
    "fig_spoken_lang.update_layout(yaxis=dict(autorange='reversed'))\n",
    "fig_spoken_lang.show()\n"
   ]
  },
  {
   "cell_type": "code",
   "execution_count": 71,
   "id": "f40f709c",
   "metadata": {},
   "outputs": [],
   "source": [
    "import pickle\n",
    "with open(\"../img/fig_spoken_languages.pkl\", \"wb\") as f:\n",
    "    pickle.dump(fig_spoken_lang, f)\n"
   ]
  }
 ],
 "metadata": {
  "kernelspec": {
   "display_name": "venv",
   "language": "python",
   "name": "python3"
  },
  "language_info": {
   "codemirror_mode": {
    "name": "ipython",
    "version": 3
   },
   "file_extension": ".py",
   "mimetype": "text/x-python",
   "name": "python",
   "nbconvert_exporter": "python",
   "pygments_lexer": "ipython3",
   "version": "3.13.3"
  }
 },
 "nbformat": 4,
 "nbformat_minor": 5
}
